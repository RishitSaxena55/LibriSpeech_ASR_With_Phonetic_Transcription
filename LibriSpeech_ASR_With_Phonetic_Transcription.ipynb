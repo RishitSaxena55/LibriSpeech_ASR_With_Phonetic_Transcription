{
  "nbformat": 4,
  "nbformat_minor": 0,
  "metadata": {
    "colab": {
      "provenance": []
    },
    "kernelspec": {
      "name": "python3",
      "display_name": "Python 3"
    },
    "language_info": {
      "name": "python"
    }
  },
  "cells": [
    {
      "cell_type": "code",
      "execution_count": 1,
      "metadata": {
        "colab": {
          "base_uri": "https://localhost:8080/"
        },
        "id": "bDG8U1DbTN_w",
        "outputId": "eceffc0e-b2e7-403b-b7b7-c1a291d6c7e8"
      },
      "outputs": [
        {
          "output_type": "stream",
          "name": "stdout",
          "text": [
            "\u001b[?25l   \u001b[90m━━━━━━━━━━━━━━━━━━━━━━━━━━━━━━━━━━━━━━━━\u001b[0m \u001b[32m0.0/161.7 kB\u001b[0m \u001b[31m?\u001b[0m eta \u001b[36m-:--:--\u001b[0m\r\u001b[2K   \u001b[90m━━━━━━━━━━━━━━━━━━━━━━━━━━━━━━━━━━━━━━━━\u001b[0m \u001b[32m161.7/161.7 kB\u001b[0m \u001b[31m10.7 MB/s\u001b[0m eta \u001b[36m0:00:00\u001b[0m\n",
            "\u001b[?25h\u001b[?25l   \u001b[90m━━━━━━━━━━━━━━━━━━━━━━━━━━━━━━━━━━━━━━━━\u001b[0m \u001b[32m0.0/3.1 MB\u001b[0m \u001b[31m?\u001b[0m eta \u001b[36m-:--:--\u001b[0m\r\u001b[2K   \u001b[91m━━━━━━━━━━━━━━━━━━━━━━━\u001b[0m\u001b[90m╺\u001b[0m\u001b[90m━━━━━━━━━━━━━━━━\u001b[0m \u001b[32m1.8/3.1 MB\u001b[0m \u001b[31m53.4 MB/s\u001b[0m eta \u001b[36m0:00:01\u001b[0m\r\u001b[2K   \u001b[90m━━━━━━━━━━━━━━━━━━━━━━━━━━━━━━━━━━━━━━━━\u001b[0m \u001b[32m3.1/3.1 MB\u001b[0m \u001b[31m47.5 MB/s\u001b[0m eta \u001b[36m0:00:00\u001b[0m\n",
            "\u001b[?25h"
          ]
        }
      ],
      "source": [
        "!pip install torchinfo --quiet\n",
        "!pip install python-Levenshtein --quiet"
      ]
    },
    {
      "cell_type": "code",
      "source": [
        "import torch\n",
        "import random\n",
        "import numpy as np\n",
        "import pandas as pd\n",
        "\n",
        "import torch.nn as nn\n",
        "import torch.nn.functional as f\n",
        "from torchinfo import summary\n",
        "from torch.utils.data import Dataset, DataLoader\n",
        "from torch.nn.utils.rnn import pad_sequence, pack_padded_sequence, pad_packed_sequence\n",
        "import wandb\n",
        "import torchaudio.transforms as tat\n",
        "from torchaudio.models.decoder import cuda_ctc_decoder\n",
        "import Levenshtein\n",
        "\n",
        "from sklearn.metrics import accuracy_score\n",
        "import gc\n",
        "\n",
        "import glob\n",
        "\n",
        "import zipfile\n",
        "from tqdm.auto import tqdm\n",
        "import os\n",
        "import datetime\n",
        "\n",
        "import warnings\n",
        "warnings.filterwarnings('ignore')\n",
        "\n",
        "device = 'cuda' if torch.cuda.is_available() else 'cpu'\n",
        "print(\"Device: \", device)"
      ],
      "metadata": {
        "colab": {
          "base_uri": "https://localhost:8080/"
        },
        "id": "8zZkF6oLTpTR",
        "outputId": "0ef92211-3d7f-4bd0-fa88-b73155dd992c"
      },
      "execution_count": 2,
      "outputs": [
        {
          "output_type": "stream",
          "name": "stdout",
          "text": [
            "Device:  cuda\n"
          ]
        }
      ]
    },
    {
      "cell_type": "code",
      "source": [
        "!pip install --upgrade --force-reinstall --no-deps kaggle==1.5.8 -q\n",
        "!mkdir /root/.kaggle\n",
        "\n",
        "with open(\"/root/.kaggle/kaggle.json\", \"w+\") as f:\n",
        "    f.write('{\"username\":\"rishitsaxena55\",\"key\":\"0d69850c02f093d6a44b1f2d7ad52c4c\"}') # TODO: Put your kaggle username & key here\n",
        "\n",
        "!chmod 600 /root/.kaggle/kaggle.json"
      ],
      "metadata": {
        "colab": {
          "base_uri": "https://localhost:8080/"
        },
        "id": "M6vNa4YZVqUH",
        "outputId": "cebd8ffe-30fd-4802-de98-60cc9caeeb8f"
      },
      "execution_count": 3,
      "outputs": [
        {
          "output_type": "stream",
          "name": "stdout",
          "text": [
            "\u001b[?25l     \u001b[90m━━━━━━━━━━━━━━━━━━━━━━━━━━━━━━━━━━━━━━━━\u001b[0m \u001b[32m0.0/59.2 kB\u001b[0m \u001b[31m?\u001b[0m eta \u001b[36m-:--:--\u001b[0m\r\u001b[2K     \u001b[90m━━━━━━━━━━━━━━━━━━━━━━━━━━━━━━━━━━━━━━━━\u001b[0m \u001b[32m59.2/59.2 kB\u001b[0m \u001b[31m4.7 MB/s\u001b[0m eta \u001b[36m0:00:00\u001b[0m\n",
            "\u001b[?25h  Preparing metadata (setup.py) ... \u001b[?25l\u001b[?25hdone\n",
            "  Building wheel for kaggle (setup.py) ... \u001b[?25l\u001b[?25hdone\n"
          ]
        }
      ]
    },
    {
      "cell_type": "code",
      "source": [
        "!kaggle competitions download -c hw3p2asr-s24 # Download Data"
      ],
      "metadata": {
        "colab": {
          "base_uri": "https://localhost:8080/"
        },
        "id": "k8O7e5eyVw45",
        "outputId": "b41f3f80-62f2-466d-fbc9-6e0ae5508c21"
      },
      "execution_count": 4,
      "outputs": [
        {
          "output_type": "stream",
          "name": "stdout",
          "text": [
            "Downloading hw3p2asr-s24.zip to /content\n",
            "100% 3.74G/3.74G [01:37<00:00, 42.9MB/s]\n",
            "100% 3.74G/3.74G [01:37<00:00, 41.0MB/s]\n"
          ]
        }
      ]
    },
    {
      "cell_type": "code",
      "source": [
        "!unzip -q hw3p2asr-s24.zip"
      ],
      "metadata": {
        "id": "ydFmp-DiV0Fz"
      },
      "execution_count": 5,
      "outputs": []
    },
    {
      "cell_type": "code",
      "source": [
        "!ls"
      ],
      "metadata": {
        "colab": {
          "base_uri": "https://localhost:8080/"
        },
        "id": "0OGXfws8WI1R",
        "outputId": "d02f8658-458b-4aa1-82c2-7792cfbfa387"
      },
      "execution_count": 6,
      "outputs": [
        {
          "output_type": "stream",
          "name": "stdout",
          "text": [
            "11-785-s24-hw3p2  hw3p2asr-s24.zip  sample_data\n"
          ]
        }
      ]
    },
    {
      "cell_type": "code",
      "source": [
        "from google.colab import drive\n",
        "drive.mount('/content/gdrive')"
      ],
      "metadata": {
        "id": "EZ9gbb1qWKdb",
        "colab": {
          "base_uri": "https://localhost:8080/"
        },
        "outputId": "82b02835-265f-47e0-c50d-2775bc921a19"
      },
      "execution_count": 7,
      "outputs": [
        {
          "output_type": "stream",
          "name": "stdout",
          "text": [
            "Mounted at /content/gdrive\n"
          ]
        }
      ]
    },
    {
      "cell_type": "code",
      "source": [
        "!ls"
      ],
      "metadata": {
        "colab": {
          "base_uri": "https://localhost:8080/"
        },
        "id": "Ry4RFoKJOIlt",
        "outputId": "4f4f0581-942a-4f7c-e3b7-e6782c5165bc"
      },
      "execution_count": 8,
      "outputs": [
        {
          "output_type": "stream",
          "name": "stdout",
          "text": [
            "11-785-s24-hw3p2  gdrive  hw3p2asr-s24.zip  sample_data\n"
          ]
        }
      ]
    },
    {
      "cell_type": "code",
      "source": [
        "CMUdict_ARPAbet = {\n",
        "    \"\" : \" \",\n",
        "    \"[SIL]\": \"-\", \"NG\": \"G\", \"F\" : \"f\", \"M\" : \"m\", \"AE\": \"@\",\n",
        "    \"R\"    : \"r\", \"UW\": \"u\", \"N\" : \"n\", \"IY\": \"i\", \"AW\": \"W\",\n",
        "    \"V\"    : \"v\", \"UH\": \"U\", \"OW\": \"o\", \"AA\": \"a\", \"ER\": \"R\",\n",
        "    \"HH\"   : \"h\", \"Z\" : \"z\", \"K\" : \"k\", \"CH\": \"C\", \"W\" : \"w\",\n",
        "    \"EY\"   : \"e\", \"ZH\": \"Z\", \"T\" : \"t\", \"EH\": \"E\", \"Y\" : \"y\",\n",
        "    \"AH\"   : \"A\", \"B\" : \"b\", \"P\" : \"p\", \"TH\": \"T\", \"DH\": \"D\",\n",
        "    \"AO\"   : \"c\", \"G\" : \"g\", \"L\" : \"l\", \"JH\": \"j\", \"OY\": \"O\",\n",
        "    \"SH\"   : \"S\", \"D\" : \"d\", \"AY\": \"Y\", \"S\" : \"s\", \"IH\": \"I\",\n",
        "    \"[SOS]\": \"[SOS]\", \"[EOS]\": \"[EOS]\"\n",
        "}\n",
        "\n",
        "CMUdict = list(CMUdict_ARPAbet.keys())\n",
        "ARPAbet = list(CMUdict_ARPAbet.values())\n",
        "\n",
        "\n",
        "PHONEMES = CMUdict[:-2]\n",
        "LABELS = ARPAbet[:-2]"
      ],
      "metadata": {
        "id": "zQxQtomIWRG8"
      },
      "execution_count": 9,
      "outputs": []
    },
    {
      "cell_type": "code",
      "source": [
        "mfcc_dummy = np.load(\"/content/11-785-s24-hw3p2/test-clean/mfcc/1089-134686-0000.npy\")"
      ],
      "metadata": {
        "id": "Mm5mmD358IVW"
      },
      "execution_count": 10,
      "outputs": []
    },
    {
      "cell_type": "code",
      "source": [
        "mfcc_dummy.shape"
      ],
      "metadata": {
        "colab": {
          "base_uri": "https://localhost:8080/"
        },
        "id": "IqsU6E7V8M6d",
        "outputId": "26d2f1c0-5610-4e89-d7b3-5f8cdcf20b53"
      },
      "execution_count": 11,
      "outputs": [
        {
          "output_type": "execute_result",
          "data": {
            "text/plain": [
              "(1039, 27)"
            ]
          },
          "metadata": {},
          "execution_count": 11
        }
      ]
    },
    {
      "cell_type": "code",
      "source": [
        "transcript_dummy = np.load(\"/content/11-785-s24-hw3p2/dev-clean/transcript/1272-128104-0000.npy\")"
      ],
      "metadata": {
        "id": "FrLE0xTH-q_V"
      },
      "execution_count": 12,
      "outputs": []
    },
    {
      "cell_type": "code",
      "source": [
        "print(type(transcript_dummy[1:-1]))"
      ],
      "metadata": {
        "colab": {
          "base_uri": "https://localhost:8080/"
        },
        "id": "hakT9cGh-13b",
        "outputId": "ac3a2989-0160-458f-af05-305f4598b538"
      },
      "execution_count": 13,
      "outputs": [
        {
          "output_type": "stream",
          "name": "stdout",
          "text": [
            "<class 'numpy.ndarray'>\n"
          ]
        }
      ]
    },
    {
      "cell_type": "code",
      "source": [
        "class AudioDataset(Dataset):\n",
        "  def __init__(self, root, phonemes):\n",
        "    self.phonemes = phonemes\n",
        "    self.mfcc_dir = os.path.join(root, 'mfcc')\n",
        "    self.transcript_dir = os.path.join(root, 'transcript')\n",
        "\n",
        "    mfcc_names = sorted(os.listdir(self.mfcc_dir))\n",
        "    transcript_names = sorted(os.listdir(self.transcript_dir))\n",
        "\n",
        "    assert len(mfcc_names) == len(transcript_names)\n",
        "\n",
        "    self.mfccs, self.transcripts = [], []\n",
        "\n",
        "    for i in range(len(mfcc_names)):\n",
        "      mfcc = np.load(os.path.join(self.mfcc_dir, mfcc_names[i]))\n",
        "      mfcc = (mfcc - np.mean(mfcc, axis=0)) / np.std(mfcc, axis=0)\n",
        "      transcript = np.load(os.path.join(self.transcript_dir, transcript_names[i]))\n",
        "\n",
        "      if transcript[0] == \"[SOS]\":\n",
        "        transcript = transcript[1:]\n",
        "      if transcript[-1] == \"[EOS]\":\n",
        "        transcript = transcript[:-1]\n",
        "\n",
        "      self.mfccs.append(mfcc)\n",
        "      self.transcripts.append(transcript)\n",
        "\n",
        "    self.length = len(self.mfccs)\n",
        "\n",
        "    phoneme_map = {phoneme: i for i, phoneme in enumerate(phonemes)}\n",
        "\n",
        "    self.transcripts = [[phoneme_map[p] for p in transcript] for transcript in self.transcripts]\n",
        "\n",
        "  def __len__(self):\n",
        "    return self.length\n",
        "\n",
        "  def __getitem__(self, ind):\n",
        "    mfcc = torch.FloatTensor(self.mfccs[ind])\n",
        "    transcript = torch.Tensor(self.transcripts[ind])\n",
        "\n",
        "    return mfcc, transcript\n",
        "\n",
        "  def collate_fn(self, batch):\n",
        "    batched_mfccs, batched_transcripts = zip(*batch)\n",
        "\n",
        "    mfccs_lens = [mfcc.shape[0] for mfcc in batched_mfccs]\n",
        "    transcripts_lens = [transcript.shape[0] for transcript in batched_transcripts]\n",
        "\n",
        "    padded_batched_mfccs = pad_sequence(batched_mfccs, batch_first=True)\n",
        "    padded_batched_transcripts = pad_sequence(batched_transcripts, batch_first=True)\n",
        "\n",
        "    time_mask = tat.TimeMasking(time_mask_param=100, iid_masks=True, p=0.8)\n",
        "    time_masked_padded_batched_mfccs = time_mask(torch.Tensor(padded_batched_mfccs))\n",
        "\n",
        "    freq_mask = tat.FrequencyMasking(freq_mask_param=4, iid_masks=True)\n",
        "    time_freq_masked_padded_batched_mfccs = freq_mask(torch.Tensor(time_masked_padded_batched_mfccs))\n",
        "\n",
        "    return time_freq_masked_padded_batched_mfccs, padded_batched_transcripts, torch.IntTensor(mfccs_lens), torch.IntTensor(transcripts_lens)\n"
      ],
      "metadata": {
        "id": "CqepBPSdWtEK"
      },
      "execution_count": 14,
      "outputs": []
    },
    {
      "cell_type": "code",
      "source": [
        "class AudioDatasetVal(Dataset):\n",
        "  def __init__(self, root, phonemes):\n",
        "    self.phonemes = phonemes\n",
        "    self.mfcc_dir = os.path.join(root, 'mfcc')\n",
        "    self.transcript_dir = os.path.join(root, 'transcript')\n",
        "\n",
        "    mfcc_names = sorted(os.listdir(self.mfcc_dir))\n",
        "    transcript_names = sorted(os.listdir(self.transcript_dir))\n",
        "\n",
        "    assert len(mfcc_names) == len(transcript_names)\n",
        "\n",
        "    self.mfccs, self.transcripts = [], []\n",
        "\n",
        "    for i in range(len(mfcc_names)):\n",
        "      mfcc = np.load(os.path.join(self.mfcc_dir, mfcc_names[i]))\n",
        "      mfcc = (mfcc - np.mean(mfcc, axis=0)) / np.std(mfcc, axis=0)\n",
        "      transcript = np.load(os.path.join(self.transcript_dir, transcript_names[i]))\n",
        "\n",
        "      if transcript[0] == \"[SOS]\":\n",
        "        transcript = transcript[1:]\n",
        "      if transcript[-1] == \"[EOS]\":\n",
        "        transcript = transcript[:-1]\n",
        "\n",
        "      self.mfccs.append(mfcc)\n",
        "      self.transcripts.append(transcript)\n",
        "\n",
        "    self.length = len(self.mfccs)\n",
        "\n",
        "    phoneme_map = {phoneme: i for i, phoneme in enumerate(phonemes)}\n",
        "\n",
        "    self.transcripts = [[phoneme_map[p] for p in transcript] for transcript in self.transcripts]\n",
        "\n",
        "  def __len__(self):\n",
        "    return self.length\n",
        "\n",
        "  def __getitem__(self, ind):\n",
        "    mfcc = torch.FloatTensor(self.mfccs[ind])\n",
        "    transcript = torch.Tensor(self.transcripts[ind])\n",
        "\n",
        "    return mfcc, transcript\n",
        "\n",
        "  def collate_fn(self, batch):\n",
        "    batched_mfccs, batched_transcripts = zip(*batch)\n",
        "\n",
        "    mfccs_lens = [mfcc.shape[0] for mfcc in batched_mfccs]\n",
        "    transcripts_lens = [transcript.shape[0] for transcript in batched_transcripts]\n",
        "\n",
        "    padded_batched_mfccs = pad_sequence(batched_mfccs, batch_first=True)\n",
        "    padded_batched_transcripts = pad_sequence(batched_transcripts, batch_first=True)\n",
        "\n",
        "    return padded_batched_mfccs, padded_batched_transcripts, torch.IntTensor(mfccs_lens), torch.IntTensor(transcripts_lens)\n"
      ],
      "metadata": {
        "id": "Xthju7GvUItL"
      },
      "execution_count": 15,
      "outputs": []
    },
    {
      "cell_type": "code",
      "source": [
        "class AudioDatasetTest(Dataset):\n",
        "  def __init__(self, root):\n",
        "    self.mfcc_dir = os.path.join(root, 'mfcc')\n",
        "\n",
        "    mfcc_names = sorted(os.listdir(self.mfcc_dir))\n",
        "\n",
        "    self.mfccs = []\n",
        "\n",
        "    for i in range(len(mfcc_names)):\n",
        "      mfcc = np.load(os.path.join(self.mfcc_dir, mfcc_names[i]))\n",
        "      mfcc = (mfcc - np.mean(mfcc, axis=0)) / np.std(mfcc, axis=0)\n",
        "      self.mfccs.append(mfcc)\n",
        "\n",
        "    self.length = len(self.mfccs)\n",
        "\n",
        "  def __len__(self):\n",
        "    return self.length\n",
        "\n",
        "  def __getitem__(self, ind):\n",
        "    mfcc = torch.FloatTensor(self.mfccs[ind])\n",
        "    return mfcc\n",
        "\n",
        "  def collate_fn(self, batch):\n",
        "    batched_mfccs = batch\n",
        "\n",
        "    mfccs_lens = [mfcc.shape[0] for mfcc in batched_mfccs]\n",
        "\n",
        "    padded_batched_mfccs = pad_sequence(batched_mfccs, batch_first=True)\n",
        "\n",
        "    return padded_batched_mfccs, torch.IntTensor(mfccs_lens)\n"
      ],
      "metadata": {
        "id": "FuxI19yUUpQ8"
      },
      "execution_count": 16,
      "outputs": []
    },
    {
      "cell_type": "code",
      "source": [
        "root = \"/content/11-785-s24-hw3p2\"\n",
        "\n",
        "config = {\n",
        "    \"beam_width\":5,\n",
        "    \"lr\": 2e-3,\n",
        "    \"epochs\": 50,\n",
        "    \"batch_size\": 64,\n",
        "    \"dropout\": 0.2,\n",
        "    \"finetune_epochs\": 10\n",
        "}"
      ],
      "metadata": {
        "id": "LU6A-uovVRcX"
      },
      "execution_count": 117,
      "outputs": []
    },
    {
      "cell_type": "code",
      "source": [
        "import gc\n",
        "gc.collect()"
      ],
      "metadata": {
        "colab": {
          "base_uri": "https://localhost:8080/"
        },
        "id": "CWmJ8d4zVujI",
        "outputId": "e9bf5f90-d80a-457f-cde7-81ef26d6b0ca"
      },
      "execution_count": 18,
      "outputs": [
        {
          "output_type": "execute_result",
          "data": {
            "text/plain": [
              "0"
            ]
          },
          "metadata": {},
          "execution_count": 18
        }
      ]
    },
    {
      "cell_type": "code",
      "source": [
        "train_dir = \"/content/11-785-s24-hw3p2/train-clean-100\"\n",
        "val_dir = \"/content/11-785-s24-hw3p2/dev-clean\"\n",
        "test_dir = \"/content/11-785-s24-hw3p2/test-clean\""
      ],
      "metadata": {
        "id": "-bAhDyZUVyM6"
      },
      "execution_count": 19,
      "outputs": []
    },
    {
      "cell_type": "code",
      "source": [
        "train_dataset = AudioDataset(train_dir, PHONEMES)\n",
        "val_dataset = AudioDatasetVal(val_dir, PHONEMES)\n",
        "test_dataset = AudioDatasetTest(test_dir)"
      ],
      "metadata": {
        "id": "y3vJ3KbMV7r8"
      },
      "execution_count": 20,
      "outputs": []
    },
    {
      "cell_type": "code",
      "source": [
        "train_loader = DataLoader(train_dataset, batch_size = config['batch_size'], shuffle=True, collate_fn = train_dataset.collate_fn, num_workers=4, pin_memory=True)\n",
        "val_loader = DataLoader(val_dataset, batch_size = config['batch_size'], shuffle=False, collate_fn = val_dataset.collate_fn, num_workers=2, pin_memory=True)\n",
        "test_loader = DataLoader(test_dataset, batch_size = config['batch_size'], shuffle=False, collate_fn = test_dataset.collate_fn, num_workers=2, pin_memory=True)"
      ],
      "metadata": {
        "id": "zlKGvZtAWpmk"
      },
      "execution_count": 21,
      "outputs": []
    },
    {
      "cell_type": "code",
      "source": [
        "print(\"Batch size: \", config['batch_size'])\n",
        "print(\"Train dataset samples = {}, batches = {}\".format(train_dataset.__len__(), len(train_loader)))\n",
        "print(\"Val dataset samples = {}, batches = {}\".format(val_dataset.__len__(), len(val_loader)))\n",
        "print(\"Test dataset samples = {}, batches = {}\".format(test_dataset.__len__(), len(test_loader)))"
      ],
      "metadata": {
        "colab": {
          "base_uri": "https://localhost:8080/"
        },
        "id": "XnwuOKWyZG_c",
        "outputId": "e70a3f36-e12c-49b6-f51c-08cb5854a63d"
      },
      "execution_count": 22,
      "outputs": [
        {
          "output_type": "stream",
          "name": "stdout",
          "text": [
            "Batch size:  64\n",
            "Train dataset samples = 28539, batches = 446\n",
            "Val dataset samples = 2703, batches = 43\n",
            "Test dataset samples = 2620, batches = 41\n"
          ]
        }
      ]
    },
    {
      "cell_type": "code",
      "source": [
        "for data in train_loader:\n",
        "  x, y, lx, ly= data\n",
        "  print(x.shape, y.shape, lx.shape, ly.shape)\n",
        "  break"
      ],
      "metadata": {
        "colab": {
          "base_uri": "https://localhost:8080/"
        },
        "id": "gemzwOgeZphO",
        "outputId": "0b718aa0-8190-43d5-8b54-68ef0193847e"
      },
      "execution_count": 120,
      "outputs": [
        {
          "output_type": "stream",
          "name": "stdout",
          "text": [
            "torch.Size([64, 1654, 27]) torch.Size([64, 180]) torch.Size([64]) torch.Size([64])\n"
          ]
        }
      ]
    },
    {
      "cell_type": "code",
      "source": [
        "torch.cuda.empty_cache()\n",
        "\n",
        "class PermuteBlock(torch.nn.Module):\n",
        "  def forward(self, x):\n",
        "    return x.transpose(1, 2)"
      ],
      "metadata": {
        "id": "TTQP2634adoh"
      },
      "execution_count": 121,
      "outputs": []
    },
    {
      "cell_type": "code",
      "source": [
        "class pBLSTM(torch.nn.Module):\n",
        "  def __init__(self, input_size, hidden_size):\n",
        "    super(pBLSTM, self).__init__()\n",
        "\n",
        "    self.blstm1 = nn.LSTM(input_size*2, hidden_size, batch_first=True, bidirectional=True, dropout=0.2)\n",
        "\n",
        "  def forward(self, x_packed):\n",
        "    x_unpacked, lens_unpacked = pad_packed_sequence(x_packed, batch_first=True)\n",
        "\n",
        "    x_reshaped, x_lens_reshaped = self.trunc_reshape(x_unpacked, lens_unpacked)\n",
        "\n",
        "    x_packed = pack_padded_sequence(x_reshaped, x_lens_reshaped, enforce_sorted=False, batch_first=True)\n",
        "\n",
        "    out, _ = self.blstm1(x_packed)\n",
        "\n",
        "    return out\n",
        "\n",
        "  def trunc_reshape(self, x, x_lens):\n",
        "    T = x.shape[1]\n",
        "    if T % 2 != 0:\n",
        "      x = x[:, :-1, :]\n",
        "      x_lens = x_lens - 1\n",
        "\n",
        "    B, T, F = x.shape\n",
        "\n",
        "    x = torch.reshape(x, (B, T//2, F*2))\n",
        "    x_lens = torch.clamp(x_lens // 2, min=1)\n",
        "\n",
        "    return x, x_lens\n"
      ],
      "metadata": {
        "id": "kM9V82cob5Ya"
      },
      "execution_count": 122,
      "outputs": []
    },
    {
      "cell_type": "code",
      "source": [
        "class LockedDropout(nn.Module):\n",
        "    \"\"\" LockedDropout applies the same dropout mask to every time step.\n",
        "\n",
        "    **Thank you** to Sales Force for their initial implementation of :class:`WeightDrop`. Here is\n",
        "    their `License\n",
        "    <https://github.com/salesforce/awd-lstm-lm/blob/master/LICENSE>`__.\n",
        "\n",
        "    Args:\n",
        "        p (float): Probability of an element in the dropout mask to be zeroed.\n",
        "    \"\"\"\n",
        "\n",
        "    def __init__(self, p=0.5):\n",
        "        self.p = p\n",
        "        super().__init__()\n",
        "\n",
        "    def forward(self, x):\n",
        "        \"\"\"\n",
        "        Args:\n",
        "            x (:class:`torch.FloatTensor` [sequence length, batch size, rnn hidden size]): Input to\n",
        "                apply dropout too.\n",
        "        \"\"\"\n",
        "        if not self.training or not self.p:\n",
        "            return x\n",
        "        x = x.clone()\n",
        "        mask = x.new_empty(1, x.size(1), x.size(2), requires_grad=False).bernoulli_(1 - self.p)\n",
        "        mask = mask.div_(1 - self.p)\n",
        "        mask = mask.expand_as(x)\n",
        "        return x * mask\n",
        "\n",
        "\n",
        "    def __repr__(self):\n",
        "        return self.__class__.__name__ + '(' \\\n",
        "            + 'p=' + str(self.p) + ')'"
      ],
      "metadata": {
        "id": "64kGmc9Ea4zT"
      },
      "execution_count": 123,
      "outputs": []
    },
    {
      "cell_type": "code",
      "source": [
        "class Unpack(torch.nn.Module):\n",
        "  def __init__(self):\n",
        "    super().__init__()\n",
        "\n",
        "  def forward(self, x_packed):\n",
        "    x_unpacked, x_lens = pad_packed_sequence(x_packed, batch_first=True)\n",
        "\n",
        "    return x_unpacked, x_lens\n"
      ],
      "metadata": {
        "id": "ySDBOB3_lI-4"
      },
      "execution_count": 124,
      "outputs": []
    },
    {
      "cell_type": "code",
      "source": [
        "class Pack(torch.nn.Module):\n",
        "  def __init__(self):\n",
        "    super().__init__()\n",
        "\n",
        "  def forward(self, x, x_lens):\n",
        "    x_packed = pack_padded_sequence(x, x_lens, enforce_sorted=False, batch_first=True)\n",
        "\n",
        "    return x_packed"
      ],
      "metadata": {
        "id": "W9EeeE5cmF4m"
      },
      "execution_count": 125,
      "outputs": []
    },
    {
      "cell_type": "code",
      "source": [
        "class Encoder(torch.nn.Module):\n",
        "  def __init__(self, input_size, encoder_hidden_size):\n",
        "    super(Encoder, self).__init__()\n",
        "\n",
        "    self.permute = PermuteBlock()\n",
        "    self.embedding = nn.Conv1d(input_size, 128, kernel_size=3, padding=1, stride=1)\n",
        "\n",
        "    self.pBLSTMs = torch.nn.Sequential(\n",
        "        pBLSTM(128, encoder_hidden_size),\n",
        "        pBLSTM(2*encoder_hidden_size, encoder_hidden_size),\n",
        "    )\n",
        "\n",
        "    self.locked_dropout = LockedDropout()\n",
        "\n",
        "    self.pack = Pack()\n",
        "    self.unpack = Unpack()\n",
        "\n",
        "    self._init_weights()\n",
        "\n",
        "  def forward(self, x, x_lens):\n",
        "    x = self.permute(x)\n",
        "    x = self.embedding(x)\n",
        "    x = self.permute(x)\n",
        "\n",
        "    for layer in self.pBLSTMs:\n",
        "      x = self.pack(x, x_lens)\n",
        "      x = layer(x)\n",
        "      x, x_lens = self.unpack(x)\n",
        "      x = self.permute(x)\n",
        "      x = self.locked_dropout(x)\n",
        "      x = self.permute(x)\n",
        "\n",
        "    encoder_outputs, encoder_lens = (x, x_lens)\n",
        "\n",
        "    return encoder_outputs, encoder_lens\n",
        "\n",
        "  def _init_weights(self):\n",
        "    for m in self.modules():\n",
        "      if isinstance(m, nn.Conv1d):\n",
        "        nn.init.xavier_normal_(m.weight)\n"
      ],
      "metadata": {
        "id": "DGDfKHQXIXlV"
      },
      "execution_count": 126,
      "outputs": []
    },
    {
      "cell_type": "code",
      "source": [
        "class Decoder(torch.nn.Module):\n",
        "  def __init__(self, embed_size, output_size=41):\n",
        "    super().__init__()\n",
        "\n",
        "    self.mlp = nn.Sequential(\n",
        "        PermuteBlock(), nn.BatchNorm1d(2*embed_size), PermuteBlock(),\n",
        "        torch.nn.Linear(2*embed_size, 256),\n",
        "        PermuteBlock(), nn.BatchNorm1d(256), PermuteBlock(),\n",
        "        torch.nn.GELU(),\n",
        "        torch.nn.Dropout(p=0.15),\n",
        "        torch.nn.Linear(256, 256),\n",
        "        PermuteBlock(), nn.BatchNorm1d(256), PermuteBlock(),\n",
        "        torch.nn.GELU(),\n",
        "        torch.nn.Dropout(p=0.15),\n",
        "        torch.nn.Linear(256, 256),\n",
        "        PermuteBlock(), nn.BatchNorm1d(256), PermuteBlock(),\n",
        "        torch.nn.GELU(),\n",
        "        torch.nn.Dropout(p=0.15),\n",
        "        torch.nn.Linear(256, 256),\n",
        "        PermuteBlock(), nn.BatchNorm1d(256), PermuteBlock(),\n",
        "        torch.nn.GELU(),\n",
        "        torch.nn.Dropout(p=0.15),\n",
        "        torch.nn.Linear(256, 128),\n",
        "        PermuteBlock(), nn.BatchNorm1d(128), PermuteBlock(),\n",
        "        torch.nn.GELU(),\n",
        "        torch.nn.Dropout(p=0.15),\n",
        "        torch.nn.Linear(128, 128),\n",
        "        PermuteBlock(), nn.BatchNorm1d(128), PermuteBlock(),\n",
        "        torch.nn.GELU(),\n",
        "        torch.nn.Linear(128, 64),\n",
        "        PermuteBlock(), nn.BatchNorm1d(64), PermuteBlock(),\n",
        "        torch.nn.GELU(),\n",
        "        torch.nn.Linear(64, 128),\n",
        "        PermuteBlock(), nn.BatchNorm1d(128), PermuteBlock(),\n",
        "        torch.nn.GELU(),\n",
        "        torch.nn.Linear(128, 64),\n",
        "        PermuteBlock(), nn.BatchNorm1d(64), PermuteBlock(),\n",
        "        torch.nn.GELU(),\n",
        "        torch.nn.Linear(64, output_size)\n",
        "    )\n",
        "\n",
        "    self.softmax = nn.LogSoftmax(dim=2)\n",
        "\n",
        "    self._init_weights()\n",
        "\n",
        "  def forward(self, encoder_out):\n",
        "    out = self.mlp(encoder_out)\n",
        "    out = self.softmax(out)\n",
        "\n",
        "    return out\n",
        "\n",
        "  def _init_weights(self):\n",
        "    for m in self.modules():\n",
        "      if isinstance(m, nn.Linear):\n",
        "        nn.init.kaiming_normal_(m.weight)\n"
      ],
      "metadata": {
        "id": "N19kXu50TbM3"
      },
      "execution_count": 127,
      "outputs": []
    },
    {
      "cell_type": "code",
      "source": [
        "class ASRModel(torch.nn.Module):\n",
        "  def __init__(self, input_size, embed_size=192, output_size=len(PHONEMES)):\n",
        "    super().__init__()\n",
        "\n",
        "    self.encoder = Encoder(input_size, embed_size)\n",
        "    self.decoder = Decoder(embed_size, output_size)\n",
        "\n",
        "  def forward(self, x, x_lens):\n",
        "    encoder_out, encoder_lens = self.encoder(x, x_lens)\n",
        "    decoder_out = self.decoder(encoder_out)\n",
        "\n",
        "    return decoder_out, encoder_lens\n"
      ],
      "metadata": {
        "id": "LOvUeo0vYpdw"
      },
      "execution_count": 128,
      "outputs": []
    },
    {
      "cell_type": "code",
      "source": [
        "IN_SIZE = 27\n",
        "EMBED_SIZE = 192\n",
        "OUT_SIZE = len(PHONEMES)"
      ],
      "metadata": {
        "id": "oH7sgChBep6h"
      },
      "execution_count": 129,
      "outputs": []
    },
    {
      "cell_type": "code",
      "source": [
        "model = ASRModel(input_size = IN_SIZE,\n",
        "                 embed_size = EMBED_SIZE,\n",
        "                 output_size = OUT_SIZE\n",
        ").to(device)\n",
        "print(model)"
      ],
      "metadata": {
        "colab": {
          "base_uri": "https://localhost:8080/"
        },
        "id": "2F3LqO17dvbw",
        "outputId": "eb964c6a-9971-4e4a-f1dd-325cbbda8c06"
      },
      "execution_count": 130,
      "outputs": [
        {
          "output_type": "stream",
          "name": "stdout",
          "text": [
            "ASRModel(\n",
            "  (encoder): Encoder(\n",
            "    (permute): PermuteBlock()\n",
            "    (embedding): Conv1d(27, 128, kernel_size=(3,), stride=(1,), padding=(1,))\n",
            "    (pBLSTMs): Sequential(\n",
            "      (0): pBLSTM(\n",
            "        (blstm1): LSTM(256, 192, batch_first=True, dropout=0.2, bidirectional=True)\n",
            "      )\n",
            "      (1): pBLSTM(\n",
            "        (blstm1): LSTM(768, 192, batch_first=True, dropout=0.2, bidirectional=True)\n",
            "      )\n",
            "    )\n",
            "    (locked_dropout): LockedDropout(p=0.5)\n",
            "    (pack): Pack()\n",
            "    (unpack): Unpack()\n",
            "  )\n",
            "  (decoder): Decoder(\n",
            "    (mlp): Sequential(\n",
            "      (0): PermuteBlock()\n",
            "      (1): BatchNorm1d(384, eps=1e-05, momentum=0.1, affine=True, track_running_stats=True)\n",
            "      (2): PermuteBlock()\n",
            "      (3): Linear(in_features=384, out_features=256, bias=True)\n",
            "      (4): PermuteBlock()\n",
            "      (5): BatchNorm1d(256, eps=1e-05, momentum=0.1, affine=True, track_running_stats=True)\n",
            "      (6): PermuteBlock()\n",
            "      (7): GELU(approximate='none')\n",
            "      (8): Dropout(p=0.15, inplace=False)\n",
            "      (9): Linear(in_features=256, out_features=256, bias=True)\n",
            "      (10): PermuteBlock()\n",
            "      (11): BatchNorm1d(256, eps=1e-05, momentum=0.1, affine=True, track_running_stats=True)\n",
            "      (12): PermuteBlock()\n",
            "      (13): GELU(approximate='none')\n",
            "      (14): Dropout(p=0.15, inplace=False)\n",
            "      (15): Linear(in_features=256, out_features=256, bias=True)\n",
            "      (16): PermuteBlock()\n",
            "      (17): BatchNorm1d(256, eps=1e-05, momentum=0.1, affine=True, track_running_stats=True)\n",
            "      (18): PermuteBlock()\n",
            "      (19): GELU(approximate='none')\n",
            "      (20): Dropout(p=0.15, inplace=False)\n",
            "      (21): Linear(in_features=256, out_features=256, bias=True)\n",
            "      (22): PermuteBlock()\n",
            "      (23): BatchNorm1d(256, eps=1e-05, momentum=0.1, affine=True, track_running_stats=True)\n",
            "      (24): PermuteBlock()\n",
            "      (25): GELU(approximate='none')\n",
            "      (26): Dropout(p=0.15, inplace=False)\n",
            "      (27): Linear(in_features=256, out_features=128, bias=True)\n",
            "      (28): PermuteBlock()\n",
            "      (29): BatchNorm1d(128, eps=1e-05, momentum=0.1, affine=True, track_running_stats=True)\n",
            "      (30): PermuteBlock()\n",
            "      (31): GELU(approximate='none')\n",
            "      (32): Dropout(p=0.15, inplace=False)\n",
            "      (33): Linear(in_features=128, out_features=128, bias=True)\n",
            "      (34): PermuteBlock()\n",
            "      (35): BatchNorm1d(128, eps=1e-05, momentum=0.1, affine=True, track_running_stats=True)\n",
            "      (36): PermuteBlock()\n",
            "      (37): GELU(approximate='none')\n",
            "      (38): Linear(in_features=128, out_features=64, bias=True)\n",
            "      (39): PermuteBlock()\n",
            "      (40): BatchNorm1d(64, eps=1e-05, momentum=0.1, affine=True, track_running_stats=True)\n",
            "      (41): PermuteBlock()\n",
            "      (42): GELU(approximate='none')\n",
            "      (43): Linear(in_features=64, out_features=128, bias=True)\n",
            "      (44): PermuteBlock()\n",
            "      (45): BatchNorm1d(128, eps=1e-05, momentum=0.1, affine=True, track_running_stats=True)\n",
            "      (46): PermuteBlock()\n",
            "      (47): GELU(approximate='none')\n",
            "      (48): Linear(in_features=128, out_features=64, bias=True)\n",
            "      (49): PermuteBlock()\n",
            "      (50): BatchNorm1d(64, eps=1e-05, momentum=0.1, affine=True, track_running_stats=True)\n",
            "      (51): PermuteBlock()\n",
            "      (52): GELU(approximate='none')\n",
            "      (53): Linear(in_features=64, out_features=41, bias=True)\n",
            "    )\n",
            "    (softmax): LogSoftmax(dim=2)\n",
            "  )\n",
            ")\n"
          ]
        }
      ]
    },
    {
      "cell_type": "code",
      "source": [
        "summary(model, input_data=(x.to(device), lx))"
      ],
      "metadata": {
        "colab": {
          "base_uri": "https://localhost:8080/"
        },
        "id": "y1E13E0BfE3c",
        "outputId": "32b80b45-9a7b-4903-9201-c37f03f59e65"
      },
      "execution_count": 131,
      "outputs": [
        {
          "output_type": "execute_result",
          "data": {
            "text/plain": [
              "==========================================================================================\n",
              "Layer (type:depth-idx)                   Output Shape              Param #\n",
              "==========================================================================================\n",
              "ASRModel                                 [64, 413, 41]             --\n",
              "├─Encoder: 1-1                           [64, 413, 384]            --\n",
              "│    └─PermuteBlock: 2-1                 [64, 27, 1654]            --\n",
              "│    └─Conv1d: 2-2                       [64, 128, 1654]           10,496\n",
              "│    └─PermuteBlock: 2-3                 [64, 1654, 128]           --\n",
              "│    └─Pack: 2-4                         [75825, 128]              --\n",
              "│    └─Sequential: 2-11                  --                        (recursive)\n",
              "│    │    └─pBLSTM: 3-1                  [37898, 384]              691,200\n",
              "│    └─Unpack: 2-6                       [64, 827, 384]            --\n",
              "│    └─PermuteBlock: 2-7                 [64, 384, 827]            --\n",
              "│    └─LockedDropout: 2-8                [64, 384, 827]            --\n",
              "│    └─PermuteBlock: 2-9                 [64, 827, 384]            --\n",
              "│    └─Pack: 2-10                        [37898, 384]              --\n",
              "│    └─Sequential: 2-11                  --                        (recursive)\n",
              "│    │    └─pBLSTM: 3-2                  [18903, 384]              1,477,632\n",
              "│    └─Unpack: 2-12                      [64, 413, 384]            --\n",
              "│    └─PermuteBlock: 2-13                [64, 384, 413]            --\n",
              "│    └─LockedDropout: 2-14               [64, 384, 413]            --\n",
              "│    └─PermuteBlock: 2-15                [64, 413, 384]            --\n",
              "├─Decoder: 1-2                           [64, 413, 41]             --\n",
              "│    └─Sequential: 2-16                  [64, 413, 41]             --\n",
              "│    │    └─PermuteBlock: 3-3            [64, 384, 413]            --\n",
              "│    │    └─BatchNorm1d: 3-4             [64, 384, 413]            768\n",
              "│    │    └─PermuteBlock: 3-5            [64, 413, 384]            --\n",
              "│    │    └─Linear: 3-6                  [64, 413, 256]            98,560\n",
              "│    │    └─PermuteBlock: 3-7            [64, 256, 413]            --\n",
              "│    │    └─BatchNorm1d: 3-8             [64, 256, 413]            512\n",
              "│    │    └─PermuteBlock: 3-9            [64, 413, 256]            --\n",
              "│    │    └─GELU: 3-10                   [64, 413, 256]            --\n",
              "│    │    └─Dropout: 3-11                [64, 413, 256]            --\n",
              "│    │    └─Linear: 3-12                 [64, 413, 256]            65,792\n",
              "│    │    └─PermuteBlock: 3-13           [64, 256, 413]            --\n",
              "│    │    └─BatchNorm1d: 3-14            [64, 256, 413]            512\n",
              "│    │    └─PermuteBlock: 3-15           [64, 413, 256]            --\n",
              "│    │    └─GELU: 3-16                   [64, 413, 256]            --\n",
              "│    │    └─Dropout: 3-17                [64, 413, 256]            --\n",
              "│    │    └─Linear: 3-18                 [64, 413, 256]            65,792\n",
              "│    │    └─PermuteBlock: 3-19           [64, 256, 413]            --\n",
              "│    │    └─BatchNorm1d: 3-20            [64, 256, 413]            512\n",
              "│    │    └─PermuteBlock: 3-21           [64, 413, 256]            --\n",
              "│    │    └─GELU: 3-22                   [64, 413, 256]            --\n",
              "│    │    └─Dropout: 3-23                [64, 413, 256]            --\n",
              "│    │    └─Linear: 3-24                 [64, 413, 256]            65,792\n",
              "│    │    └─PermuteBlock: 3-25           [64, 256, 413]            --\n",
              "│    │    └─BatchNorm1d: 3-26            [64, 256, 413]            512\n",
              "│    │    └─PermuteBlock: 3-27           [64, 413, 256]            --\n",
              "│    │    └─GELU: 3-28                   [64, 413, 256]            --\n",
              "│    │    └─Dropout: 3-29                [64, 413, 256]            --\n",
              "│    │    └─Linear: 3-30                 [64, 413, 128]            32,896\n",
              "│    │    └─PermuteBlock: 3-31           [64, 128, 413]            --\n",
              "│    │    └─BatchNorm1d: 3-32            [64, 128, 413]            256\n",
              "│    │    └─PermuteBlock: 3-33           [64, 413, 128]            --\n",
              "│    │    └─GELU: 3-34                   [64, 413, 128]            --\n",
              "│    │    └─Dropout: 3-35                [64, 413, 128]            --\n",
              "│    │    └─Linear: 3-36                 [64, 413, 128]            16,512\n",
              "│    │    └─PermuteBlock: 3-37           [64, 128, 413]            --\n",
              "│    │    └─BatchNorm1d: 3-38            [64, 128, 413]            256\n",
              "│    │    └─PermuteBlock: 3-39           [64, 413, 128]            --\n",
              "│    │    └─GELU: 3-40                   [64, 413, 128]            --\n",
              "│    │    └─Linear: 3-41                 [64, 413, 64]             8,256\n",
              "│    │    └─PermuteBlock: 3-42           [64, 64, 413]             --\n",
              "│    │    └─BatchNorm1d: 3-43            [64, 64, 413]             128\n",
              "│    │    └─PermuteBlock: 3-44           [64, 413, 64]             --\n",
              "│    │    └─GELU: 3-45                   [64, 413, 64]             --\n",
              "│    │    └─Linear: 3-46                 [64, 413, 128]            8,320\n",
              "│    │    └─PermuteBlock: 3-47           [64, 128, 413]            --\n",
              "│    │    └─BatchNorm1d: 3-48            [64, 128, 413]            256\n",
              "│    │    └─PermuteBlock: 3-49           [64, 413, 128]            --\n",
              "│    │    └─GELU: 3-50                   [64, 413, 128]            --\n",
              "│    │    └─Linear: 3-51                 [64, 413, 64]             8,256\n",
              "│    │    └─PermuteBlock: 3-52           [64, 64, 413]             --\n",
              "│    │    └─BatchNorm1d: 3-53            [64, 64, 413]             128\n",
              "│    │    └─PermuteBlock: 3-54           [64, 413, 64]             --\n",
              "│    │    └─GELU: 3-55                   [64, 413, 64]             --\n",
              "│    │    └─Linear: 3-56                 [64, 413, 41]             2,665\n",
              "│    └─LogSoftmax: 2-17                  [64, 413, 41]             --\n",
              "==========================================================================================\n",
              "Total params: 2,556,009\n",
              "Trainable params: 2,556,009\n",
              "Non-trainable params: 0\n",
              "Total mult-adds (Units.TERABYTES): 20.79\n",
              "==========================================================================================\n",
              "Input size (MB): 11.43\n",
              "Forward/backward pass size (MB): 1022.35\n",
              "Params size (MB): 10.22\n",
              "Estimated Total Size (MB): 1044.01\n",
              "=========================================================================================="
            ]
          },
          "metadata": {},
          "execution_count": 131
        }
      ]
    },
    {
      "cell_type": "code",
      "source": [
        "print(config)"
      ],
      "metadata": {
        "colab": {
          "base_uri": "https://localhost:8080/"
        },
        "id": "LvO5a0bjsz2D",
        "outputId": "a706335b-e1ef-4887-f017-53ccea9df683"
      },
      "execution_count": 132,
      "outputs": [
        {
          "output_type": "stream",
          "name": "stdout",
          "text": [
            "{'beam_width': 5, 'lr': 0.002, 'epochs': 50, 'batch_size': 64, 'dropout': 0.2, 'finetune_epochs': 10}\n"
          ]
        }
      ]
    },
    {
      "cell_type": "code",
      "source": [
        "criterion = nn.CTCLoss()\n",
        "optimizer = torch.optim.AdamW(model.parameters(), lr=config['lr'])\n",
        "\n",
        "decoder = cuda_ctc_decoder(tokens=PHONEMES, nbest=1, beam_size=config['beam_width'])\n",
        "\n",
        "scheduler = torch.optim.lr_scheduler.ReduceLROnPlateau(optimizer)\n",
        "\n",
        "scaler = torch.cuda.amp.GradScaler()"
      ],
      "metadata": {
        "id": "ejrXw-jJfy3g"
      },
      "execution_count": 133,
      "outputs": []
    },
    {
      "cell_type": "code",
      "source": [
        "def decode_prediction(output, output_lens, decoder, PHONEME_MAP= LABELS):\n",
        "  output = output.contiguous()\n",
        "  output_lens = output_lens.to(torch.int32).contiguous()\n",
        "  results = decoder(output, output_lens)\n",
        "\n",
        "  pred_strings = []\n",
        "\n",
        "  for i in range(output_lens.shape[0]):\n",
        "    pred_strings.append(\" \".join([PHONEME_MAP[token] for token in results[i][0].tokens]))\n",
        "\n",
        "  return pred_strings\n",
        "\n"
      ],
      "metadata": {
        "id": "dEGBrNw9taDv"
      },
      "execution_count": 134,
      "outputs": []
    },
    {
      "cell_type": "code",
      "source": [
        "def calculate_levenshtein(output, label, output_lens, label_lens, decoder, PHONEME_MAP=LABELS):\n",
        "  dist = 0\n",
        "  batch_size = label.shape[0]\n",
        "\n",
        "  pred_strings = decode_prediction(output, output_lens, decoder, PHONEME_MAP)\n",
        "\n",
        "  for i in range(batch_size):\n",
        "    pred_string = pred_strings[i]\n",
        "    label_string = \" \".join([PHONEME_MAP[int(token)] for token in label[i][:int(label_lens[i])].tolist()])\n",
        "\n",
        "    dist += Levenshtein.distance(pred_string, label_string)\n",
        "\n",
        "  dist /= batch_size\n",
        "\n",
        "  return dist\n"
      ],
      "metadata": {
        "id": "mF2vIU6rycPG"
      },
      "execution_count": 135,
      "outputs": []
    },
    {
      "cell_type": "code",
      "source": [
        "model.eval()\n",
        "\n",
        "for i, data in enumerate(val_loader, 0):\n",
        "  x, y, lx, ly = data\n",
        "  x, y = x.to(device), y.to(device)\n",
        "  #lx, ly = lx.to(device), ly.to(device)\n",
        "\n",
        "  h, lh = model(x, lx)\n",
        "  print(h.shape)\n",
        "  h = torch.permute(h, (1, 0, 2))\n",
        "  print(h.shape, y.shape)\n",
        "\n",
        "  loss = criterion(h, y, lh, ly)\n",
        "  print(loss)\n",
        "\n",
        "  print(calculate_levenshtein(torch.permute(h, (1, 0, 2)), y, lh.to(device), ly, decoder, LABELS))\n",
        "\n",
        "  del x, y, lx, ly, h, lh, loss\n",
        "  torch.cuda.empty_cache()\n",
        "\n",
        "  break"
      ],
      "metadata": {
        "colab": {
          "base_uri": "https://localhost:8080/"
        },
        "id": "DgwaKV8x0Ol2",
        "outputId": "423077e5-90c9-4c4b-f94a-825f766188ca"
      },
      "execution_count": 143,
      "outputs": [
        {
          "output_type": "stream",
          "name": "stdout",
          "text": [
            "torch.Size([64, 734, 41])\n",
            "torch.Size([734, 64, 41]) torch.Size([64, 265])\n",
            "tensor(0.6430, device='cuda:0', grad_fn=<MeanBackward0>)\n",
            "15.6875\n"
          ]
        }
      ]
    },
    {
      "cell_type": "code",
      "source": [
        "import wandb\n",
        "wandb.login(key=\"39e9c89279f6d046c7bae725e099c70ddf0fd98f\")"
      ],
      "metadata": {
        "colab": {
          "base_uri": "https://localhost:8080/"
        },
        "id": "U_J4LPH81nNh",
        "outputId": "c20ac7e0-fc64-40d4-f87e-960d20492e62"
      },
      "execution_count": 40,
      "outputs": [
        {
          "output_type": "stream",
          "name": "stderr",
          "text": [
            "\u001b[34m\u001b[1mwandb\u001b[0m: \u001b[33mWARNING\u001b[0m If you're specifying your api key in code, ensure this code is not shared publicly.\n",
            "\u001b[34m\u001b[1mwandb\u001b[0m: \u001b[33mWARNING\u001b[0m Consider setting the WANDB_API_KEY environment variable, or running `wandb login` from the command line.\n",
            "\u001b[34m\u001b[1mwandb\u001b[0m: No netrc file found, creating one.\n",
            "\u001b[34m\u001b[1mwandb\u001b[0m: Appending key for api.wandb.ai to your netrc file: /root/.netrc\n",
            "\u001b[34m\u001b[1mwandb\u001b[0m: Currently logged in as: \u001b[33mrishitsaxena55\u001b[0m (\u001b[33mrishitsaxena55-indian-institute-of-technology\u001b[0m) to \u001b[32mhttps://api.wandb.ai\u001b[0m. Use \u001b[1m`wandb login --relogin`\u001b[0m to force relogin\n"
          ]
        },
        {
          "output_type": "execute_result",
          "data": {
            "text/plain": [
              "True"
            ]
          },
          "metadata": {},
          "execution_count": 40
        }
      ]
    },
    {
      "cell_type": "code",
      "source": [
        "run = wandb.init(\n",
        "    name = \"early-submission\", ## Wandb creates random run names if you skip this field\n",
        "    #reinit = True, ### Allows reinitalizing runs when you re-run this cell\n",
        "    id = \"rbborunl\", ### Insert specific run id here if you want to resume a previous run\n",
        "    resume = \"must\", ### You need this to resume previous runs, but comment out reinit = True when using this\n",
        "    project = \"hw3p2-ablations\", ### Project should be created in your wandb account\n",
        "    config = config ### Wandb Config for your run\n",
        ")"
      ],
      "metadata": {
        "colab": {
          "base_uri": "https://localhost:8080/",
          "height": 388
        },
        "id": "f1TwWIJ-3d40",
        "outputId": "5a1e577c-abd8-4616-ef44-fdb32de6552d"
      },
      "execution_count": null,
      "outputs": [
        {
          "output_type": "display_data",
          "data": {
            "text/plain": [
              "<IPython.core.display.HTML object>"
            ],
            "text/html": [
              "Finishing previous runs because reinit is set to 'default'."
            ]
          },
          "metadata": {}
        },
        {
          "output_type": "display_data",
          "data": {
            "text/plain": [
              "<IPython.core.display.HTML object>"
            ],
            "text/html": []
          },
          "metadata": {}
        },
        {
          "output_type": "display_data",
          "data": {
            "text/plain": [
              "<IPython.core.display.HTML object>"
            ],
            "text/html": [
              "<br>    <style><br>        .wandb-row {<br>            display: flex;<br>            flex-direction: row;<br>            flex-wrap: wrap;<br>            justify-content: flex-start;<br>            width: 100%;<br>        }<br>        .wandb-col {<br>            display: flex;<br>            flex-direction: column;<br>            flex-basis: 100%;<br>            flex: 1;<br>            padding: 10px;<br>        }<br>    </style><br><div class=\"wandb-row\"><div class=\"wandb-col\"><h3>Run summary:</h3><br/><table class=\"wandb\"><tr><td>lr</td><td>0.01</td></tr><tr><td>train_loss</td><td>3.00393</td></tr><tr><td>valid_dist</td><td>125.91095</td></tr><tr><td>valid_loss</td><td>2.8879</td></tr></table><br/></div></div>"
            ]
          },
          "metadata": {}
        },
        {
          "output_type": "display_data",
          "data": {
            "text/plain": [
              "<IPython.core.display.HTML object>"
            ],
            "text/html": [
              " View run <strong style=\"color:#cdcd00\">early-submission</strong> at: <a href='https://wandb.ai/rishitsaxena55-indian-institute-of-technology/hw3p2-ablations/runs/rbborunl' target=\"_blank\">https://wandb.ai/rishitsaxena55-indian-institute-of-technology/hw3p2-ablations/runs/rbborunl</a><br> View project at: <a href='https://wandb.ai/rishitsaxena55-indian-institute-of-technology/hw3p2-ablations' target=\"_blank\">https://wandb.ai/rishitsaxena55-indian-institute-of-technology/hw3p2-ablations</a><br>Synced 5 W&B file(s), 0 media file(s), 0 artifact file(s) and 0 other file(s)"
            ]
          },
          "metadata": {}
        },
        {
          "output_type": "display_data",
          "data": {
            "text/plain": [
              "<IPython.core.display.HTML object>"
            ],
            "text/html": [
              "Find logs at: <code>./wandb/run-20250712_171010-rbborunl/logs</code>"
            ]
          },
          "metadata": {}
        },
        {
          "output_type": "display_data",
          "data": {
            "text/plain": [
              "<IPython.core.display.HTML object>"
            ],
            "text/html": [
              "Tracking run with wandb version 0.21.0"
            ]
          },
          "metadata": {}
        },
        {
          "output_type": "display_data",
          "data": {
            "text/plain": [
              "<IPython.core.display.HTML object>"
            ],
            "text/html": [
              "Run data is saved locally in <code>/content/wandb/run-20250712_171141-rbborunl</code>"
            ]
          },
          "metadata": {}
        },
        {
          "output_type": "display_data",
          "data": {
            "text/plain": [
              "<IPython.core.display.HTML object>"
            ],
            "text/html": [
              "Resuming run <strong><a href='https://wandb.ai/rishitsaxena55-indian-institute-of-technology/hw3p2-ablations/runs/rbborunl' target=\"_blank\">early-submission</a></strong> to <a href='https://wandb.ai/rishitsaxena55-indian-institute-of-technology/hw3p2-ablations' target=\"_blank\">Weights & Biases</a> (<a href='https://wandb.me/developer-guide' target=\"_blank\">docs</a>)<br>"
            ]
          },
          "metadata": {}
        },
        {
          "output_type": "display_data",
          "data": {
            "text/plain": [
              "<IPython.core.display.HTML object>"
            ],
            "text/html": [
              " View project at <a href='https://wandb.ai/rishitsaxena55-indian-institute-of-technology/hw3p2-ablations' target=\"_blank\">https://wandb.ai/rishitsaxena55-indian-institute-of-technology/hw3p2-ablations</a>"
            ]
          },
          "metadata": {}
        },
        {
          "output_type": "display_data",
          "data": {
            "text/plain": [
              "<IPython.core.display.HTML object>"
            ],
            "text/html": [
              " View run at <a href='https://wandb.ai/rishitsaxena55-indian-institute-of-technology/hw3p2-ablations/runs/rbborunl' target=\"_blank\">https://wandb.ai/rishitsaxena55-indian-institute-of-technology/hw3p2-ablations/runs/rbborunl</a>"
            ]
          },
          "metadata": {}
        }
      ]
    },
    {
      "cell_type": "code",
      "source": [
        "from tqdm import tqdm\n",
        "\n",
        "def train_model(model, train_loader, criterion, optimizer):\n",
        "\n",
        "    model.train()\n",
        "    batch_bar = tqdm(total=len(train_loader), dynamic_ncols=True, leave=False, position=0, desc='Train')\n",
        "\n",
        "    total_loss = 0\n",
        "\n",
        "    for i, data in enumerate(train_loader):\n",
        "        optimizer.zero_grad()\n",
        "\n",
        "        x, y, lx, ly = data\n",
        "        x, y = x.to(device), y.to(device)\n",
        "\n",
        "        with torch.cuda.amp.autocast():\n",
        "            h, lh = model(x, lx)\n",
        "            h = torch.permute(h, (1, 0, 2))\n",
        "            loss = criterion(h, y, lh, ly)\n",
        "\n",
        "        total_loss += loss.item()\n",
        "\n",
        "        batch_bar.set_postfix(\n",
        "            loss=\"{:.04f}\".format(float(total_loss / (i + 1))),\n",
        "            lr=\"{:.06f}\".format(float(optimizer.param_groups[0]['lr'])))\n",
        "\n",
        "        batch_bar.update() # Update tqdm bar\n",
        "\n",
        "        # Another couple things you need for FP16.\n",
        "        scaler.scale(loss).backward() # This is a replacement for loss.backward()\n",
        "        scaler.step(optimizer) # This is a replacement for optimizer.step()\n",
        "        scaler.update() # This is something added just for FP16\n",
        "\n",
        "        del x, y, lx, ly, h, lh, loss\n",
        "        torch.cuda.empty_cache()\n",
        "\n",
        "    batch_bar.close() # You need this to close the tqdm bar\n",
        "\n",
        "    return total_loss / len(train_loader)\n",
        "\n",
        "\n",
        "def validate_model(model, val_loader, decoder, phoneme_map= LABELS):\n",
        "\n",
        "    model.eval()\n",
        "    batch_bar = tqdm(total=len(val_loader), dynamic_ncols=True, position=0, leave=False, desc='Val')\n",
        "\n",
        "    total_loss = 0\n",
        "    vdist = 0\n",
        "\n",
        "    for i, data in enumerate(val_loader):\n",
        "\n",
        "        x, y, lx, ly = data\n",
        "        x, y = x.to(device), y.to(device)\n",
        "\n",
        "        with torch.inference_mode():\n",
        "            h, lh = model(x, lx)\n",
        "            h = torch.permute(h, (1, 0, 2))\n",
        "            loss = criterion(h, y, lh, ly)\n",
        "\n",
        "        total_loss += float(loss)\n",
        "        vdist += calculate_levenshtein(torch.permute(h, (1, 0, 2)), y, lh.to(device), ly, decoder, phoneme_map)\n",
        "\n",
        "        batch_bar.set_postfix(loss=\"{:.04f}\".format(float(total_loss / (i + 1))), dist=\"{:.04f}\".format(float(vdist / (i + 1))))\n",
        "\n",
        "        batch_bar.update()\n",
        "\n",
        "        del x, y, lx, ly, h, lh, loss\n",
        "        torch.cuda.empty_cache()\n",
        "\n",
        "    batch_bar.close()\n",
        "    total_loss = total_loss/len(val_loader)\n",
        "    val_dist = vdist/len(val_loader)\n",
        "    return total_loss, val_dist"
      ],
      "metadata": {
        "id": "iLFQE7_l3k-t"
      },
      "execution_count": 138,
      "outputs": []
    },
    {
      "cell_type": "code",
      "source": [
        "def save_model(model, optimizer, scheduler, metric, epoch, path):\n",
        "    torch.save(\n",
        "        {'model_state_dict'         : model.state_dict(),\n",
        "         'optimizer_state_dict'     : optimizer.state_dict(),\n",
        "         'scheduler_state_dict'     : scheduler.state_dict(),\n",
        "         metric[0]                  : metric[1],\n",
        "         'epoch'                    : epoch},\n",
        "         path\n",
        "    )\n",
        "\n",
        "def load_model(path, model, metric= 'valid_dist', optimizer= None, scheduler= None):\n",
        "\n",
        "    checkpoint = torch.load(path)\n",
        "    model.load_state_dict(checkpoint['model_state_dict'])\n",
        "\n",
        "    if optimizer != None:\n",
        "        optimizer.load_state_dict(checkpoint['optimizer_state_dict'])\n",
        "    if scheduler != None:\n",
        "        scheduler.load_state_dict(checkpoint['scheduler_state_dict'])\n",
        "\n",
        "    epoch   = checkpoint['epoch']\n",
        "    metric  = checkpoint[metric]\n",
        "\n",
        "    return [model, optimizer, scheduler, epoch, metric]"
      ],
      "metadata": {
        "id": "B3TiMKaJ_9mn"
      },
      "execution_count": 139,
      "outputs": []
    },
    {
      "cell_type": "code",
      "source": [
        "model, optimizer, scheduler, epoch, metric = load_model(\"/content/gdrive/MyDrive/best_model.pth\", model= model, metric= \"valid_dist\", optimizer= optimizer, scheduler= scheduler)"
      ],
      "metadata": {
        "id": "F8qFiXMvG9bv"
      },
      "execution_count": 140,
      "outputs": []
    },
    {
      "cell_type": "code",
      "source": [
        "# This is for checkpointing, if you're doing it over multiple sessions\n",
        "\n",
        "last_epoch_completed = epoch\n",
        "start = last_epoch_completed + 1\n",
        "end = config[\"finetune_epochs\"]\n",
        "best_lev_dist = metric # if you're restarting from some checkpoint, use what you saw there.\n",
        "epoch_model_path = \"/content/gdrive/MyDrive\" #TODO set the model path( Optional, you can just store best one. Make sure to make the changes below )\n",
        "best_model_path = \"/content/gdrive/MyDrive\" #TODO set best model path"
      ],
      "metadata": {
        "id": "ebi56_TAADyt"
      },
      "execution_count": 141,
      "outputs": []
    },
    {
      "cell_type": "code",
      "source": [
        "config['finetune_epochs']"
      ],
      "metadata": {
        "colab": {
          "base_uri": "https://localhost:8080/"
        },
        "id": "SGeztfhsKw_U",
        "outputId": "c08e1f86-3e50-4f27-8c4f-48d17d2e4389"
      },
      "execution_count": 44,
      "outputs": [
        {
          "output_type": "execute_result",
          "data": {
            "text/plain": [
              "10"
            ]
          },
          "metadata": {},
          "execution_count": 44
        }
      ]
    },
    {
      "cell_type": "code",
      "source": [
        "config['beam_width']"
      ],
      "metadata": {
        "colab": {
          "base_uri": "https://localhost:8080/"
        },
        "id": "zi38HJ1WRFOo",
        "outputId": "aee9e7fb-509f-4597-bf30-41b0769a507e"
      },
      "execution_count": 45,
      "outputs": [
        {
          "output_type": "execute_result",
          "data": {
            "text/plain": [
              "10"
            ]
          },
          "metadata": {},
          "execution_count": 45
        }
      ]
    },
    {
      "cell_type": "code",
      "source": [
        "config['lr']"
      ],
      "metadata": {
        "colab": {
          "base_uri": "https://localhost:8080/"
        },
        "id": "gzCUaZZHc9qF",
        "outputId": "51733209-7f37-4b04-8fb5-f5be3b446da5"
      },
      "execution_count": 46,
      "outputs": [
        {
          "output_type": "execute_result",
          "data": {
            "text/plain": [
              "0.002"
            ]
          },
          "metadata": {},
          "execution_count": 46
        }
      ]
    },
    {
      "cell_type": "code",
      "source": [
        "torch.cuda.empty_cache()\n",
        "gc.collect()\n",
        "\n",
        "#TODO: Please complete the training loop\n",
        "\n",
        "for epoch in range(start, start + config['finetune_epochs']):\n",
        "\n",
        "    print(\"\\nEpoch: {}/{}\".format(epoch+1, start +config['finetune_epochs']))\n",
        "\n",
        "    curr_lr = float(optimizer.param_groups[0]['lr'])\n",
        "\n",
        "    train_loss              = train_model(model, train_loader, criterion, optimizer)\n",
        "    valid_loss, valid_dist  = validate_model(model, val_loader, decoder, LABELS)\n",
        "    scheduler.step(valid_dist)\n",
        "\n",
        "    print(\"\\tTrain Loss {:.04f}\\t Learning Rate {:.07f}\".format(train_loss, curr_lr))\n",
        "    print(\"\\tVal Dist {:.04f}%\\t Val Loss {:.04f}\".format(valid_dist, valid_loss))\n",
        "\n",
        "\n",
        "    wandb.log({\n",
        "        'train_loss': train_loss,\n",
        "        'valid_dist': valid_dist,\n",
        "        'valid_loss': valid_loss,\n",
        "        'lr'        : curr_lr\n",
        "    })\n",
        "\n",
        "    # save_model(model, optimizer, scheduler, ['valid_dist', valid_dist], epoch, os.path.join(epoch_model_path, f\"model_epoch_{epoch+1}.pth\"))\n",
        "    # wandb.save(os.path.join(epoch_model_path, f\"model_epoch_{epoch+1}.pth\"))\n",
        "    # print(\"Saved epoch model\")\n",
        "\n",
        "    if valid_dist <= best_lev_dist:\n",
        "        best_lev_dist = valid_dist\n",
        "        save_model(model, optimizer, scheduler, ['valid_dist', valid_dist], epoch, os.path.join(best_model_path, f\"best_model_epoch_{epoch+1}.pth\"))\n",
        "        wandb.save(os.path.join(best_model_path, f\"best_model_epoch_{epoch+1}.pth\"))\n",
        "        print(\"Saved best model\")\n",
        "      # You may find it interesting to exlplore Wandb Artifcats to version your models\n",
        "run.finish()"
      ],
      "metadata": {
        "colab": {
          "base_uri": "https://localhost:8080/",
          "height": 720
        },
        "id": "IXa81U_PAF7w",
        "outputId": "1ee9ab43-75a2-4938-acd1-c9e2850eab54"
      },
      "execution_count": null,
      "outputs": [
        {
          "output_type": "stream",
          "name": "stdout",
          "text": [
            "\n",
            "Epoch: 53/62\n"
          ]
        },
        {
          "output_type": "stream",
          "name": "stderr",
          "text": []
        },
        {
          "output_type": "stream",
          "name": "stdout",
          "text": [
            "\tTrain Loss 1.2752\t Learning Rate 0.0100000\n",
            "\tVal Dist 30.2055%\t Val Loss 1.0833\n",
            "\n",
            "Epoch: 54/62\n"
          ]
        },
        {
          "output_type": "stream",
          "name": "stderr",
          "text": []
        },
        {
          "output_type": "stream",
          "name": "stdout",
          "text": [
            "\tTrain Loss 1.6721\t Learning Rate 0.0100000\n",
            "\tVal Dist 41.1797%\t Val Loss 1.3862\n",
            "\n",
            "Epoch: 55/62\n"
          ]
        },
        {
          "output_type": "stream",
          "name": "stderr",
          "text": []
        },
        {
          "output_type": "stream",
          "name": "stdout",
          "text": [
            "\tTrain Loss 2.5240\t Learning Rate 0.0100000\n",
            "\tVal Dist 126.3271%\t Val Loss 2.9478\n",
            "\n",
            "Epoch: 56/62\n"
          ]
        },
        {
          "output_type": "stream",
          "name": "stderr",
          "text": []
        },
        {
          "output_type": "stream",
          "name": "stdout",
          "text": [
            "\tTrain Loss 3.0039\t Learning Rate 0.0100000\n",
            "\tVal Dist 125.9109%\t Val Loss 2.8879\n",
            "\n",
            "Epoch: 57/62\n"
          ]
        },
        {
          "output_type": "stream",
          "name": "stderr",
          "text": [
            "Train:  83%|████████▎ | 371/446 [02:09<00:25,  2.98it/s, loss=3.0923, lr=0.010000]"
          ]
        },
        {
          "output_type": "error",
          "ename": "KeyboardInterrupt",
          "evalue": "",
          "traceback": [
            "\u001b[0;31m---------------------------------------------------------------------------\u001b[0m",
            "\u001b[0;31mKeyboardInterrupt\u001b[0m                         Traceback (most recent call last)",
            "\u001b[0;32m/tmp/ipython-input-50-1247102168.py\u001b[0m in \u001b[0;36m<cell line: 0>\u001b[0;34m()\u001b[0m\n\u001b[1;32m     10\u001b[0m     \u001b[0mcurr_lr\u001b[0m \u001b[0;34m=\u001b[0m \u001b[0mfloat\u001b[0m\u001b[0;34m(\u001b[0m\u001b[0moptimizer\u001b[0m\u001b[0;34m.\u001b[0m\u001b[0mparam_groups\u001b[0m\u001b[0;34m[\u001b[0m\u001b[0;36m0\u001b[0m\u001b[0;34m]\u001b[0m\u001b[0;34m[\u001b[0m\u001b[0;34m'lr'\u001b[0m\u001b[0;34m]\u001b[0m\u001b[0;34m)\u001b[0m\u001b[0;34m\u001b[0m\u001b[0;34m\u001b[0m\u001b[0m\n\u001b[1;32m     11\u001b[0m \u001b[0;34m\u001b[0m\u001b[0m\n\u001b[0;32m---> 12\u001b[0;31m     \u001b[0mtrain_loss\u001b[0m              \u001b[0;34m=\u001b[0m \u001b[0mtrain_model\u001b[0m\u001b[0;34m(\u001b[0m\u001b[0mmodel\u001b[0m\u001b[0;34m,\u001b[0m \u001b[0mtrain_loader\u001b[0m\u001b[0;34m,\u001b[0m \u001b[0mcriterion\u001b[0m\u001b[0;34m,\u001b[0m \u001b[0moptimizer\u001b[0m\u001b[0;34m)\u001b[0m\u001b[0;34m\u001b[0m\u001b[0;34m\u001b[0m\u001b[0m\n\u001b[0m\u001b[1;32m     13\u001b[0m     \u001b[0mvalid_loss\u001b[0m\u001b[0;34m,\u001b[0m \u001b[0mvalid_dist\u001b[0m  \u001b[0;34m=\u001b[0m \u001b[0mvalidate_model\u001b[0m\u001b[0;34m(\u001b[0m\u001b[0mmodel\u001b[0m\u001b[0;34m,\u001b[0m \u001b[0mval_loader\u001b[0m\u001b[0;34m,\u001b[0m \u001b[0mdecoder\u001b[0m\u001b[0;34m,\u001b[0m \u001b[0mLABELS\u001b[0m\u001b[0;34m)\u001b[0m\u001b[0;34m\u001b[0m\u001b[0;34m\u001b[0m\u001b[0m\n\u001b[1;32m     14\u001b[0m     \u001b[0mscheduler\u001b[0m\u001b[0;34m.\u001b[0m\u001b[0mstep\u001b[0m\u001b[0;34m(\u001b[0m\u001b[0mvalid_dist\u001b[0m\u001b[0;34m)\u001b[0m\u001b[0;34m\u001b[0m\u001b[0;34m\u001b[0m\u001b[0m\n",
            "\u001b[0;32m/tmp/ipython-input-42-633603515.py\u001b[0m in \u001b[0;36mtrain_model\u001b[0;34m(model, train_loader, criterion, optimizer)\u001b[0m\n\u001b[1;32m     28\u001b[0m \u001b[0;34m\u001b[0m\u001b[0m\n\u001b[1;32m     29\u001b[0m         \u001b[0;31m# Another couple things you need for FP16.\u001b[0m\u001b[0;34m\u001b[0m\u001b[0;34m\u001b[0m\u001b[0m\n\u001b[0;32m---> 30\u001b[0;31m         \u001b[0mscaler\u001b[0m\u001b[0;34m.\u001b[0m\u001b[0mscale\u001b[0m\u001b[0;34m(\u001b[0m\u001b[0mloss\u001b[0m\u001b[0;34m)\u001b[0m\u001b[0;34m.\u001b[0m\u001b[0mbackward\u001b[0m\u001b[0;34m(\u001b[0m\u001b[0;34m)\u001b[0m \u001b[0;31m# This is a replacement for loss.backward()\u001b[0m\u001b[0;34m\u001b[0m\u001b[0;34m\u001b[0m\u001b[0m\n\u001b[0m\u001b[1;32m     31\u001b[0m         \u001b[0mscaler\u001b[0m\u001b[0;34m.\u001b[0m\u001b[0mstep\u001b[0m\u001b[0;34m(\u001b[0m\u001b[0moptimizer\u001b[0m\u001b[0;34m)\u001b[0m \u001b[0;31m# This is a replacement for optimizer.step()\u001b[0m\u001b[0;34m\u001b[0m\u001b[0;34m\u001b[0m\u001b[0m\n\u001b[1;32m     32\u001b[0m         \u001b[0mscaler\u001b[0m\u001b[0;34m.\u001b[0m\u001b[0mupdate\u001b[0m\u001b[0;34m(\u001b[0m\u001b[0;34m)\u001b[0m \u001b[0;31m# This is something added just for FP16\u001b[0m\u001b[0;34m\u001b[0m\u001b[0;34m\u001b[0m\u001b[0m\n",
            "\u001b[0;32m/usr/local/lib/python3.11/dist-packages/torch/_tensor.py\u001b[0m in \u001b[0;36mbackward\u001b[0;34m(self, gradient, retain_graph, create_graph, inputs)\u001b[0m\n\u001b[1;32m    624\u001b[0m                 \u001b[0minputs\u001b[0m\u001b[0;34m=\u001b[0m\u001b[0minputs\u001b[0m\u001b[0;34m,\u001b[0m\u001b[0;34m\u001b[0m\u001b[0;34m\u001b[0m\u001b[0m\n\u001b[1;32m    625\u001b[0m             )\n\u001b[0;32m--> 626\u001b[0;31m         torch.autograd.backward(\n\u001b[0m\u001b[1;32m    627\u001b[0m             \u001b[0mself\u001b[0m\u001b[0;34m,\u001b[0m \u001b[0mgradient\u001b[0m\u001b[0;34m,\u001b[0m \u001b[0mretain_graph\u001b[0m\u001b[0;34m,\u001b[0m \u001b[0mcreate_graph\u001b[0m\u001b[0;34m,\u001b[0m \u001b[0minputs\u001b[0m\u001b[0;34m=\u001b[0m\u001b[0minputs\u001b[0m\u001b[0;34m\u001b[0m\u001b[0;34m\u001b[0m\u001b[0m\n\u001b[1;32m    628\u001b[0m         )\n",
            "\u001b[0;32m/usr/local/lib/python3.11/dist-packages/torch/autograd/__init__.py\u001b[0m in \u001b[0;36mbackward\u001b[0;34m(tensors, grad_tensors, retain_graph, create_graph, grad_variables, inputs)\u001b[0m\n\u001b[1;32m    345\u001b[0m     \u001b[0;31m# some Python versions print out the first line of a multi-line function\u001b[0m\u001b[0;34m\u001b[0m\u001b[0;34m\u001b[0m\u001b[0m\n\u001b[1;32m    346\u001b[0m     \u001b[0;31m# calls in the traceback and some print out the last line\u001b[0m\u001b[0;34m\u001b[0m\u001b[0;34m\u001b[0m\u001b[0m\n\u001b[0;32m--> 347\u001b[0;31m     _engine_run_backward(\n\u001b[0m\u001b[1;32m    348\u001b[0m         \u001b[0mtensors\u001b[0m\u001b[0;34m,\u001b[0m\u001b[0;34m\u001b[0m\u001b[0;34m\u001b[0m\u001b[0m\n\u001b[1;32m    349\u001b[0m         \u001b[0mgrad_tensors_\u001b[0m\u001b[0;34m,\u001b[0m\u001b[0;34m\u001b[0m\u001b[0;34m\u001b[0m\u001b[0m\n",
            "\u001b[0;32m/usr/local/lib/python3.11/dist-packages/torch/autograd/graph.py\u001b[0m in \u001b[0;36m_engine_run_backward\u001b[0;34m(t_outputs, *args, **kwargs)\u001b[0m\n\u001b[1;32m    821\u001b[0m         \u001b[0munregister_hooks\u001b[0m \u001b[0;34m=\u001b[0m \u001b[0m_register_logging_hooks_on_whole_graph\u001b[0m\u001b[0;34m(\u001b[0m\u001b[0mt_outputs\u001b[0m\u001b[0;34m)\u001b[0m\u001b[0;34m\u001b[0m\u001b[0;34m\u001b[0m\u001b[0m\n\u001b[1;32m    822\u001b[0m     \u001b[0;32mtry\u001b[0m\u001b[0;34m:\u001b[0m\u001b[0;34m\u001b[0m\u001b[0;34m\u001b[0m\u001b[0m\n\u001b[0;32m--> 823\u001b[0;31m         return Variable._execution_engine.run_backward(  # Calls into the C++ engine to run the backward pass\n\u001b[0m\u001b[1;32m    824\u001b[0m             \u001b[0mt_outputs\u001b[0m\u001b[0;34m,\u001b[0m \u001b[0;34m*\u001b[0m\u001b[0margs\u001b[0m\u001b[0;34m,\u001b[0m \u001b[0;34m**\u001b[0m\u001b[0mkwargs\u001b[0m\u001b[0;34m\u001b[0m\u001b[0;34m\u001b[0m\u001b[0m\n\u001b[1;32m    825\u001b[0m         )  # Calls into the C++ engine to run the backward pass\n",
            "\u001b[0;31mKeyboardInterrupt\u001b[0m: "
          ]
        }
      ]
    },
    {
      "cell_type": "code",
      "source": [
        "def test(test_decoder, test_beam_width, model, test_loader):\n",
        "\n",
        "  results = []\n",
        "  model.eval()\n",
        "  print(\"Testing\")\n",
        "  for data in tqdm(test_loader):\n",
        "\n",
        "    x, lx = data\n",
        "    x = x.to(device)\n",
        "\n",
        "    with torch.no_grad():\n",
        "      h, lh = model(x, lx)\n",
        "\n",
        "    prediction_string = decode_prediction(h, lh.to(device), test_decoder, LABELS)\n",
        "    results.extend(prediction_string)\n",
        "\n",
        "    del x, lx, h, lh\n",
        "    torch.cuda.empty_cache()\n",
        "\n"
      ],
      "metadata": {
        "id": "Lsq9R7JkT2jL"
      },
      "execution_count": null,
      "outputs": []
    },
    {
      "cell_type": "code",
      "source": [
        "TEST_BEAM_WIDTH = 10\n",
        "\n",
        "test_decoder = cuda_ctc_decoder(tokens= PHONEMES, nbest= 1, beam_size= TEST_BEAM_WIDTH)\n",
        "results = []\n",
        "\n",
        "model.eval()\n",
        "print(\"Testing\")\n",
        "for data in tqdm(test_loader):\n",
        "\n",
        "  x, lx = data\n",
        "  x = x.to(device)\n",
        "\n",
        "  with torch.no_grad():\n",
        "    h, lh = model(x, lx)\n",
        "\n",
        "  prediction_string = decode_prediction(h, lh.to(device), test_decoder, LABELS)\n",
        "  results.extend(prediction_string)\n",
        "\n",
        "  del x, lx, h, lh\n",
        "  torch.cuda.empty_cache()"
      ],
      "metadata": {
        "id": "1qvXWviuNA-w",
        "colab": {
          "base_uri": "https://localhost:8080/"
        },
        "outputId": "24fefbfd-43db-4a0a-f561-cd9b9069cb8e"
      },
      "execution_count": 144,
      "outputs": [
        {
          "output_type": "stream",
          "name": "stdout",
          "text": [
            "Testing\n"
          ]
        },
        {
          "output_type": "stream",
          "name": "stderr",
          "text": [
            "100%|██████████| 41/41 [00:06<00:00,  6.69it/s]\n"
          ]
        }
      ]
    },
    {
      "cell_type": "code",
      "source": [
        "results = [s.replace(\" \", \"\") for s in results]"
      ],
      "metadata": {
        "id": "0XVQoqV33Giy"
      },
      "execution_count": 145,
      "outputs": []
    },
    {
      "cell_type": "code",
      "source": [
        "print(results)"
      ],
      "metadata": {
        "colab": {
          "base_uri": "https://localhost:8080/"
        },
        "id": "2RYeUTRF3TSz",
        "outputId": "7637e403-1cf9-4547-a488-a9acc10d9600"
      },
      "execution_count": 146,
      "outputs": [
        {
          "output_type": "stream",
          "name": "stdout",
          "text": [
            "['-hihoptDErwUdbistufcrdInR-tRnApsAndk@rAtsAndbruzdpAtetozAndf@tmAtAnpisAztubiletAldWtAndTIkpEpRdflWRf@kAndscs-', '-stAfAdIntuyu-hIzbElikWntAldhIm-', '-@ftRRlinYtfclDAyEnol@mpswUdlYthWphirAndDErDAskwalAdkwcrtRAvDAbrafAlz-', '-WbRtiAndigUdInhrmYnd-', '-nAmbR-dEn-frESnEliAzwetIGanyu-kUdnathAzbAnd-', '-DAmyuzAkemnIrAndhirAkcldDAwRdz-DAwRdzAvSElizfrYgmAntApanDAmunwandRIGkAmp@nyAnlAs-pelfcrwIrinAs-', '-DAdolYtufElmcrfentliApanDApejwEranAnADRrikweSAnbIg@ntuAnfoldItsElfsloli-AndtusprEdAvbrcdItswYdAnIGtel-', '-AkoldlusAdIndIfRAnsRendInhIzso-', '-DAkeasAndwIChIzardRIkstIGgwIStItsElfwazAkuldIndIfRAnt-nalAjAvhImsElf-', '-@tmost-bY@nclmzgIvAntuAbEgRhuzblEsIGhiflEdfrAm-himYthopwIrlituwInfcrhImsElf-sAmmEZRAv@kCAwAlgres-', '-wEldWInAsYdIklIryuh@vAhEdAndsoh@zmYstIk-', '-ans@tRdimcrnIGzwEnDAsod@lAthimEtInDAC@pAlturIsYdDAlItAlcfAs-hIzpleswazAkwISAndnilIGdEsk@tDArYtAvDAcltRfrAmwIChilEdhIzwIGAvbOzTruDArIspansAz-', '-hRYzsimdturAgardhImwIDmYldpIti-hRholIGAs-AstrenjlYtgloIGfetliApanhRfrelflES-dIdnathimIlietDAsInRhuAvproCthR-', '-IfEvRhiwazImpEldtuk@stsInfrAmhImAnturIpEnt-DAImpalsD@tmuvdhImwazDAwIStubihRnYt-', '-hitrardtuTIGkhWItkUdbi-', '-bAtDAdAsk-dipInIGInDAskulrum-kAvRdovRhIzTcts-DAbElr@G-', '-DEnyuk@n@skImkwEsCAnzanDAk@tAkAzAmdEtAlAs-', '-stivAn-linIGb@kAndrcIGYdlianhIzskrIblR-lIsAndtuDAtckAbWthImwIChErAndCEptfrAmtYmtutYmbYseIG-', '-Itwazstrenjtu-D@thifWndAndErAdplEZRInfaloIGAptuDAEnd-DArIjAdlYnzAvDAdaktrAnzAvDACRC-AndpInAtretIGIntuAbskyUrsYlAns@z-onlituhirAndfilDAmcrdeplihIzonkandEmneSAn-', '-DAsEntAnsAvsetjemz-wICs@zD@thihuAvfEnzAgEnstwAnkAm@nmAntbIkAmzgIltiAvcl-h@dsimtuhImfRstAswoldAndprez-AntIlhih@dbIgAntugropInDAdarknAsAvhIzonstet-', '-IfAm@nh@dstodAnApWndInhIzyuTTAnd@dyuzdD@tpWndtuAm@sAhyujfcrCAn-hWmACwazhiAblYjdtudIgIvb@k-DApWndi@tstoAnonli-wrDApWnttAgEDRwIDAkampWdIntrAstAkruIGApanIt-lcrclhIzhyujfcrCAn-', '-IfAlemAn-IngIvIGb@ptIzIm-pUrDAwctRbIfcrseIGDAwRdz-IzDACYldb@ptYzd-', '-hWkAmzIt-D@twYlDAfRstbi@tAtudpramAsAzDAkIGdImAvhEvAntuDApUrAvhart-DAsEkAndbi@tAtudpramAsAzclsotuDAmikD@tDeS@lpAzEstDAl@nd-', '-wYwazDAs@krAmAntAvDAyukRAstInstAtutAdAndRDAtuspisizAvbrEdAndwYn-IfCSizIskrYstbiprEzAntbadiAnblAd-solAndIvInAti-InDAbrEdAlon-AndInDAwYnAlcn-', '-IfDAwYnCenjAntuvInIgR-AndDAhostkrAmbAlIntukRApSAn@ftRDeh@vbInkansAkretAd-IzjizAskrYstustIlprEzAntandRDErspisiz@zgadAnd@zm@n-', '-AjEntAlkIkfrAmDAtclbOInDAbEnCbIhYnd-vRjdustivAntu@skAdIfAkAltkwEsCAn-', '-DArEktRdIdnat@skfcrAk@tIkIzAmtuhirDAlEsAnfrAm-', '-hikl@spthIzh@ndzanDAd@skAnsEd-', '-DArItritwIlbIgInanwEnzde@ftRnunInanRAvsentfr@nsAzzevyRhuzfistdeIzs@tRde-', '-anfrYdi-kAnfESAnwIlbihRdclDe@ftRnun@ftRbidz-', '-biwErAvmekIGD@tmIstek-', '-stivAnzhartbIgEnslolitufoldAndfedwIDfIr-lYkAwIDRIGflWR-', '-hiIzkcld@zyuno-DApasAlAvDAIndiz-', '-Agretsent-sentfr@nsAs@zevyR-', '-DArEktRpazdAndDEn-SekIGhIzkl@spth@ndzbIfcrhIm-wEntan-', '-hih@dDAfeTInhImD@tmuvsmWntAnz-', '-Agretssent-sentfrEnsAzzevyR-', '-InDAsYlAns-DErdarkfYRkIndoldDAdAskIntuAtaniglo-', '-hikUdwetnolcGgR-', '-fcrAfUlWRhih@dpestApAndWnwetIG-bAthikUdwetnolcGgR-', '-hisEdhcfAvbrAptlifcrDAbol-wckIGr@pAtlilEsthIzfaDRSrIlwazoldmYtkclhIm@k-AndInAfyumomAntshih@drWndAdDAkRv@tDApAlisbErIk-Andwazsef-', '-DAyunAvRsAti-', '-prYd@ftRs@tAsf@kSAnAvlIftAdhImlYklcGslowevz-', '-huzfetar@zDAfitAvharts-AndAndRmiT-DAEvRlEstIGarmz-', '-DAprYdAvD@tdImImIjbrctb@ktuhIzmYndDAdIgnAtiAvDAcfAshih@drIfyuzd-', '-sunDAholbreCwaztrEmbAlIGAndrIzWndIG-', '-DAnkuTfesAzp@sthImtubYtu-stenyElocrrEdcrlIvAdbYDAsi-And@zhistrovdtulUk@tDEmwIDizAndIndIfRAns-AfentstenAvpRsAnAlSemAndkAmIzReSAnroztuhIzonfes-', '-EndriwIDhImsElf-hitrYdtuhYdhIzfesfrAmDErYzbYgezIGdWnsYdwezIntuDAS@lozswRlIGwctRAndRDAbrIj-bAthistIlscRflEkSAnDErInAvDErtaphEvisIlk@ts-AndhAmbAlteplYtkalRz-Andlustlih@GIGklIrAkAlkloz-brADRhIki-', '-brADRmAkardAl-frADRkEf-', '-DErpYAtiwUdbi-lYkDErnemz-lYkDErfesAz-lYkDErkloz-AndIwazYdAlfcrhImtutElhImsElfD@tDErhAmbAlAndkAntrYthartsItmYtbi-petAvfarrICRtrIbyutAvdIvoSAnD@nhiIzh@dEvRbIn-AgIft-tEnfoldmcrIksEptAbAlD@nhIzAl@vR@t@dReSAn-', '-ItwazYdAlfcrhImtumuvhImsElftubijEnRAstAwcrdzDEm-tutElImsElfD@t-IfhiEvRkemtuDErgets-strIptAvhIzprYd-bitAnEndAnbEgRzwidz-D@tDewUdbijEnRAstAwcrdzhIm-lAvIGhIm@zDEmsElvz-', '-YdAlIndAbItRIGfYnAlituargyu-AgEnsthIzondIsp@SAnItsRtAtud-D@tDAkAm@dmAtAvlAvbedAsnatulAvWRnebR@zWRsElvzwIDAsemAmWAntEndIntEnsAtiAvlAv-bAtulAvhIm@zWRsElfvzwIDAsemkYndAvlcv-', '-DAfrezAndDAde-AndAsin-harmAnYzdInAkcrd-', '-wRdz-wazItDErkAlRz-', '-DewRvOjIGAkrcsDAdEzRtsAvDAskY-DAhostAvnom@dzanDAmarC-fcOjIGAhYovRYRlAnd-wEstwRdbWnd-', '-DAycrApDeh@dkAmfrAmleWtDErbIandDAYrzsi-ycrApAvstrenjtAGzAndv@lidAndwUdbIgRdAndsItAdElDAndAvIntrEnCtAndmarSAldresAz-', '-AgEn-AgEn-', '-AvOsfrAmbIandDAwRldwazkclIG-', '-hErzstEfAnAls-hirkAmzDAdEtAlAs-', '-DErdYdIGston-pOzdanItsrudsApcrtsAndrckIGAndRDErplAnjAz-AndDArAfyunstonzAvDAslopIGbrekwctRovRwICDespr@mbAldInDErhcrsple-glimdwIDkoldwEDlAstR-', '-histUdstIlIndEfRAnstuDErkclzAndpEridDErb@CRwIDiziwRdz-', '-ItwazApentusiDEmAndAscrdlYkpeGtusiDAsYnzAv@tAlEsAnzD@tmedrIpElAntDErpItiAbAlmekAtnAs-', '-stApfAnosdEdRAlz-', '-AmomAntbIfcr-DAgostAvDAenCAntkIGdImAvDAdenzh@dlUktfcrT-TruDAvEsCRAvDAhezr@ktsIti-', '-yuwIlfYndmikAntInyulispikIGAvfcrmEn-tISAn-howYntRnR-Andk@nTAtAt-InclmostDAsemtRnz-', '-DAyunYtEvrikwalAti-AndsAmtEnSuAlfanhirIfREntuDEmIzkAlRAsts-sAmtYmzhIzkyUrAskyUrAsts-', '-bYbIGstudiAsAvkalRDearstudiAsAvdIvIZAn-AwanDAkyUrAskyUrAstdIvotshImsElftuDArEprAzEnteSAnAvdIgrizAvfcrsAnwAnTIG-ansApRetAdlYt-DAkAlRAst-h@vfcrDErfaGkSAn-DAtemAnAvbyuti-bYrenjmAntAvDAdIvIZAnzAvlYt-', '-mYfRstIndprInsApAlrizAmwazD@tDeInfcrst-bIandclrIzIstAns-anEnistudAnhumYdAkEmtAkabiDEm-DIsmETAdAvl@GkcrsAnzAvdIstIGkhyusYdbYsYd-', '-sAmAvDAtACIzIndid-wEnDAtIntAsbInmIkstwIDmACwctR-h@dbInledAndlItAdrapsApanz-soD@tDApekmAntmYkrIstAl@zhardItDAEj-', '-tIzDAhEdAvApErAt-DAlItAlflWAnhIzbikfrAmApIkSRAvkrApaCiAs-wAnAvhIzsIrizAvAlYfAvsEnCcrj-', '-DEnhikAmztuDAbikAvIn-', '-DAbrWndgrWndIniThIzl@ftfcrDAmAstpart-wAntACAbl@khIzpUtfcrDAhalo-tudElkAtlYnzAvdarkgredfYndDAWtRkRv-AndwAnlItAlkwIvRIGtACAvwYt-drcziInREjAvDAm@ndAbAl-', '-fcr-bIlivmi-DAfanAflasfiAvartk@nonlir@dAfYDErApInyAnD@tDAbyutiAvAkarkrabInDIstubirEd-AndAvAgr@splatubigrin-AndDAbEskgoAvartIz@nInstAntlisizIGanDAmEnAfAlddAlISAsnAsAvlYt-wICyik@nonlisizbYprAsIZAn-AvInstAnteniAstAC-', '-nayuwIlsinDistadiz@tDAmontDAwYtAzAndklozdprapRli-AndharmAnYzwIDADRhyuz-hitbIkAmsAmhWmcrprESAsAndpRli-InDAwYtepR-AndD@tY@mnatAfredulivAholdfildAvAntritAdwYtpepRclrWndIt-diSUrD@t-iInDAlItAldYmAnzInDArWndwIndowIltEl@zCulz-IfDErkrAdedAd-jAstli-', '-bAtInDIsInyEt-kapIdfrAmtRnR-yu@vDAtuprInspAlz-brctWtpRfIktli-', '-DearbiandclADwRCsD@nYnoIgzIstIG-DApEndAdfcrDArfEktanlosAbdudtAnz-DErfevRCOsAntYmAvdebiIG-YDRdcnRtwYlYt-AndivInDErbrYtAsAnsEtsprAdustCifliWtAvgrepepR-', '-InmebiD@tAgretkalRlAs-wIlyushIzAtmAstfcrsAvkalR-@zAsIGgRhIzfUlpWRvOs-bAt-lWdcrlo-DAvRCuzAndboTkesAzclwezInbrAfYndmAn-nEvRAnlWndz-', '-ItmAstrImEmbRbiwAncrDAdR-', '-dunatDErfcr-TIGkD@tDAgaTIkskulzniziwAn-', '-DAlcvD@tskuzD@tEviTIGS@lbisinklIrli-crdlist-onliAnsACmIstRfenAsAzS@lbidIlYtfAl-AndYh@vnodWtD@tDAdEstAnCrAdAkSAntuIt-wUdbiDAElAmEntriprYktAsAvpentIGEvRistAdianAgoldInbrWnd-', '-DIsItwAnskAmpElzyutandRst@ndD@tDAwRkAztubiIm@jAnAtIvIndEkrAtAv-D@tArEbrizAnsbyutAfAlTIGz-InDAklIrAstwe-bAtnatAndRIgzIstIGkAndISAnz-AndD@t-Inf@kt-ycrpAdusIGjulRzwRgrADRDAntEkSRz-', '-D@tAstYlzwRstrendRsEdvIrdIznatminD@tIthIzcsoArEniAs-', '-IncRAdligaTDAgartAndidyuwIlfYndfIlyRAvDIskYnd-AspESlidIstcrSAnInmAjItAti-wICarAnmEnirIspEkspenfAlitubikAmpErdwIDAsplEndAdrIpozAvkl@sAkart-', '-DAlarjlEtRkAntenzndid-AntYRlifibAlnEldrcnfIgyRz-D@tIzmIrliCaldIsAnfelIGwRkvInAfIrh@nd-ItIznatkErktRIstIkAvgaTIk-crEniADRskul-', '-bYn-AbzRv-nuk@nliduDIsanwAnkAndISAn-D@tAvstrYvIGcsotukrietInri@lAti-DAbyutiwICyusikInAm@jAneSAn-', '-ItwIlbiholiImpasmbAlfcryuturItenDAtr@GkwolliAvtEmpRAnfAlAsAtiAfeT-nEsAsErifrmnobAlpyUrAspentIG-amAsyuR-@ktAblingezdtumprAmotIGDAfAlIstiAnd-pisAvpraktIkAlYf-', '-yumAstlUkIthImInDAfes-fYthIm-kakRhIm-wIDwAtskevyume-yuninatTIGktukipWtAtDAweAvhIm-', '-DAkalRAssEz-fRstAvcl-@zmYdIlISAzpErkewazrubi-soDIsm@stivYfcRS@lbibl@k-AndDEnIzDAkwEsCAn-k@nYRWndhImcf-ivInDohiIzbl@k-AndmekhImslYmi-AndyEtsprIGiAndklostWn-kladAdlYkApUlAvbl@kbladanycrT-clDAsem-', '-nATIGwIlbimcrprESAstuyuATIGk-InDApr@ktAkAlstElyAvart-DInDAkAnvIkSAn-wICwIlfcrsItsElfanyumcrnmcrEvRiWR-AvDAweclTIGzardWntAgEDR-lItAl-Andgret-IndspIrAdInDAm@tR-', '-yunoYd-jAstbIntElInyuhWvDAskumAtIrAlIsAmInkleAndvcldItsElf-@tl@stIndklWdAndfYR-', '-hirIzniklitItIkAlgrIkskul@nskepbYwIlsAn-lcstholiAngoldnEst-DAtrizsoslYtlidrcnD@tyudontnAfDeartriz-wRtWRz-AndnokErfcrkalRwAtsoEvR-pRfIktlidIsEptAdImarvAlAsAfEktAvsAnSYnTuDAmEst-ApaloIndDApYTan-', '-nathirIzrafYc-Igz@ktldItwinDAtu-tristIldrcnlifbYlif-holbifcrmAl-bAtbyutAfAlmEstkAmIngr@jAliIntuDAdIstAns-', '-wYlDEnm@st-hirIztRnz-grikskulAvDAhYAskl@s-AndyudufYndhIzardWslutli-@zfRstDAdIspleIGIntEnsli-AnwIDAstRnAstIntlEkt-Avn@CRAlfcrm@zItIz-AndDEnDAInvElApAnAvIt-wIDklWdAndfar-', '-onli-DErartuscsAvklWdAnfar-', '-hinozDEmbAT-', '-DErzwAnInDEzAnADR-DAdAdli-IndDAflEnt-', '-ItIzonliA-pEnsAlWtlYnbY@dwRdbRnjEnz-InElAstreSAnAvDAstcOiAvsYki-ItIzDAIntAdAkSAnslYki-@ftRclhRtrAbAlzAndtuh@vAn-', '-Evripl@ntInDAgr@sAzsEtfcrmAli-grozpRfIktli-AndmebirilYzdkAmplitli-', '-Ikskwaz@tcrdRAndyuvRAso-wIDAtRnAlYfAndlYt-DIsIzDAfeT@nEfRdAvDAskulzAvkrIstAl-AndyumedIskrYd-AndkAmplitDErwRkwYtlItRAli-bYtekIGEnivRsAzAvCasRIGhIztEndRmud-AndAbzRvIGhWhinsIsanDAklIrnAsAnbrYtnAsfRst-AndDEnanDAcrR-', '-DAs-IntrasAzdrim-', '-InboTDizhYmITAkAlsAbjEks-DAsRWndIGneCRdDosAfRIG-IstIldIgnAfYnAndbyutAfAl-', '-EvRilYnInwICDAm@stRtresAzIt-ivInwRrsimIGlinEglIjAn-IzlAvliAndsEtdWnwIDAmEdAtetAvkamnAs-wICmekstDiztu@CIGzkepAboldbIGplestsYDAmAstr@GkAlwRkAvhobYn-crdUr-', '-bAtnWhirzAsAbjIktAvwIC-yuIlwAndR@tfRstwYtRnAdrutItcl-', '-It@znobyutiwAtsoEvRnAspESAltiAvpIkCRAsknAs-AndclItslYnzarkr@mptInpUr-', '-DAkr@mtnAsInDApavRdiarclIntEndAd-', '-ItIzAglinRbriIGdWnhRwAnSifAvkcrntu@noldwctRmEl-ItsElfmarsiAnrEnt-skErsliebAltugEtItstAnztutRn-', '-DAsinIz@bsAlutliarkediAn-', '-siD@tycrlYzdbiInATIGwRsD@nAbOzklYmIGfcrIzAnt@GgAldkYt-', '-ItwIlbiwElfcryu-dijunatwIDozhunstEdAvkYtsflYf@lkAnz-hunstEdAvobenDAl@swRdzAvDAgretkladSEpRd-tufithIzSip-lYvDAlYvz-hWmAClEstDEnv@nAti-AvDAwclbwAlfrAmDAgIrigAl-', '-clsooepapyAlRkAndrYvAns-wEbYlAvmekIGmebizAspEndAd-nbAtnatstapt-dUrIGDApIkyAksizAn-', '-hReIG-AnDAtYRsAmpabIktAvAtYRlAstAG-', '-@Ggcr-hen-penkAltuhir-', '-hefivR-AhartrEbRAlkczbYfalIGInlAvwIDAgrEswIdo-', '-hEvAn-AgrUdplestubireztu-', '-hEj-AfrEnz-', '-hREtAti-DekazAvclWRfclts-', '-hcrsEns-edIgriAvwIzdAmDAkipswAnfrAmD@tIGanDAresAz-', '-poz-m@nzIkskyuzfcrwEfIGDAwck-', '-hotEl-epleswRAgEstcfAngIvzApAgUdalRzfcrpUrkcrtRz-', '-hWskrinIG-edumEstIkAphivAl-AnD@tmeksIt-izifcrDAgAvRmAntuInlIst-clDAsoljRz@tninz-', '-hAzbAnd-ADAnEksTIGtuAwYf-', '-hWsi-wUmAn-AndbcG-tY-', '-AntYd-tuAwUmAn-', '-h@mpRkrIt-AhcrsdIrR-', '-DozprItircGzD@tlIdRthikUdmIts-wEnY@msAmtYm@psAntfrAmmYhart-ndYbyuti-AndYyIrzfclwElbIfIts-fcrstIltEmteSAnfalozkwErDWart-', '-Ymi-', '-nWm@tRDEn-clDomYfUktIdst@nd-ApanDAfaDAst-RT-rImuvdfrAmDi-fcrnEmbAlTct-k@njAmp-boTsiAndl@nd-@zsun@zTIGk-DApleswERrhiwUdbi-bAtW-', '-TctkIlzmiD@tY@mnatTct-tuliplarjl@GksAvmYlzwEnDWatgcn-bAtD@tsomACAvRTAndwctRrct-YmAstAtEnd-tYmzlEZRwIDmYmon-rIsivIGnat-bYElAmAnsosno-bAthEvitIrz-b@jAz-AvYDRzwo-', '-mYhartdcfplid-D@tDWInhyumndcslY-AklczItnEvRpyIrstwIDkrIstAlYz-bAtDAdIfEndAnzdcTT@tplidAnY-AndsEzInhyumDYfErApErAnslYz-', '-yuamYclDAwRld-AndYmAststrYv-tunomYSemzAndprezAzfrAmycrtAG-nAnEltstumi-ncrYtunanDAlYv-D@tmYstildsEnscrCenjAzrYt-crcG-', '-CIsDAfRst-tIsfl@tRiInmYsiIG-AndmYgretmYndmostkIGlidrIGksItAp-mYnYwIlnozwctwIDhIzgAstIzgrin-AndtuhIzp@lAtdaftprApErDAkAp-AfIktbipOzAnd-tIstDAlEsRsIn-D@tmYndYlAvzIt-AndakfRstbIgIn-', '-bAtrEkAnIGtYm-huIzmulyAnd@ksAdAns-kripIntwIkstAvWlz-AndCenjdtukrizAvkIGz-t@nzsikrAdbyuti-lAndDASapAstAntEns-dEvRtstrcGmYndztuDAkcrsAvcltRIGTIGz-AlAs-wYfIrIGAvtYmztErAni-mYtYnatDEnse-nWYlAvyubEst-wEnYwazsRtAncrInsRtAnti-krWnIGDAprEzAnt-dWtIGAvDArEst-', '-AvIzAdeb-fEndmYtYnatseso-tugIvfclgrof-tuD@t-wICtu-dcfgro-', '-soYrItRnrAbyupt-tumYkAntEnt-AndgenbYIl-TrYsmcr-ADInYh@vspEnt-', '-ItwazhIzabsAveSAnDAtrufrAmdAglAs-DAnatAmidiAtlibAtledrInDAivnIG-AvrIplYD@th@dDAIntrAstIGkansAkwAns-tuwICYkclAtEnSAn-', '-sAmwAnElttAldIztcrIGattIkyAlAliAfEktRv-wICYzchiwaznatfaloIG-', 'skrYdwAnAvDAwImAn-hitUknonotAsAvhR-hilUktItmi-bAtIzIf-InstUdAvmi-hiscbAthIzspokAv-', '-DErwazAyunWnAmzAgron@tDRs-AndmACfcrproC-@ftRwICInhIzpriakApYdwehiIksplend-', '-AndDAstcrizvITAn-', '-YkulAdwYtumYm@nAnAndklozDAki-hikUdsEndanDAp@kAt@zhifYnvIt-', '-DADRzrIzEntAdpAspomAnt-bAtItwazjAsthIzkrupAlzDACartmi-', '-tuDIshIz@nsRvwazprampt-hos@Gkgadno-And-IzDArEkAdjycrz-', '-hihAGfYrAgEn-owUmAnz-', '-SihIzbIndEndDiztwEntiyIrz-', '-SisEntIDApedAzInkwISCAnDAfcrSidYd-', '-SiwazDAmostAgriAbAlwUmAnYdEvAnonInhRpAzISAn-SiwUdh@vbInwErDAAvEniwAtEvR-', '-sAnsImTuD@tSisEdso-bAtD@tYnuSih@vmAnt-YwRScr-YkUdsi-', '-yulizAlijajwYwEnyuhIr-bIkczDATIGhAnbInsACAsEr-hik@ntInyuntufIksmi-', '-yuaAkyut-', '-hikwUdAdDAfYRAndraktb@kIntuhIzCEr-', '-frabAblinatIlDAsEkAndpost-', '-IntwazclmAstDAtonAvhop-EvRibAdiwIlste', '-krYdDAledizhIzdIpartrRh@dbInfIkst-', '-mIsIzgrIfAnhWEvRIksprEstInidfcrlItAlwAnlYt-', '-huwazItSiwazInlAvwID-AnDAstcriwIltEl-YtUkApanmYsElfturIplY-hoYkantritfcrDAstcri-DAstcri-wont-tElsEdDAlIs-natAnEnilICRAlvolDRwe-mcrzDApItiDEn-', '-wAntyutEldAglAs-', '-kcrl-IvYdonohuSiwaznlAvID-YnohoSiwlAz-', '-lIftmisehirdIstIGkTlituh@vdAnwIDIt-D@tDIsnErAtAv-frAmAnIgz@kttr@nskrIptAvmYonmedmACletR-IzwAtYS@lprEzAnliguv-', '-fcrdAgDIs-bIfcrhIzdET-wEnIdwazInsYt-kAmItAdtumiDAm@nyAskrIptD@driCthImanDATRdAvDizdezAndD@t-anDAsimzpat-wIDAmEnsAfIkt-hibIg@nturidtuWRhAStlIAlsRkAl-anDAnYtAvDAfcrT-', '-DAdIpartIGlediIzhuwUdsEdDewUdstedIdAntAvkcrsT@Gkh@vAnstEdi-DedIpartAdInkansAkwAnsAvhRenjmAntsmed-InArenjAvkRicsAti@zDeprAfEst-prAdustbYDAtACAzwIDwIChih@dclrEdiwRktIsAp-', '-hDAfRstAvDiztACIzkAnvendD@tDArItAnstekmAntUkApDAtel-@tApOnt-@ftRth@d-InAm@nR-fAgAn-', '-hih@dfcrhIzontWnrEzAdAnsAvDAIghWsfIldwIDAspOlzAvktr@vAl-AndDAtrofizAvDACes-bAtItwaztRhIzkAntrihom-Andoldf@mAliplesAn@sIks-D@thiwIStRImidiAtlituprAsid-', '-fcADAakrAtTIGwazD@tDeh@drYktIklinoADRrAleSAnz-AmzD@thIzonAfErztukAbclhIztYm-', '-DerIplEntiAvfipAldhElp-bAtAvkcrsDAyAGledihuSUdgodWt@zgAvRnAs-wUdbiInsAprinmAfcrti-', '-Y-dont-AndpIzApet-', '-SiwazyoG-AntrYd-novAs-ItwazAvIZAnAv-sIriIzdutizAndDItAlkAmpAni-fcrvriligretAlolinAs-', '-yhEzbAtD@tsjAstDAbyutiAvhRpESAn-', '-hIzwYzDAbyIrtiAlIt-', '-ItsWndAndon-DAksWndAdstrenj-AndclDAmcrsAbIkczAvhIzmenkAndISAn-AndwICwaz-', '-SipramAstuduDIs-AndSimEnSAntumiD@twEnfcrAmomAnt-dIspRdAnd-dIlYtId-hihEldhRh@nd-TeGkIGhRfcrDAs@krAfYs-SiclrEdifElfcrAwcrdAd-', '-fcrtSwazD@tclhIvrAwcrd-wAnAvDAlez@st-', '-hWstrenjItsind-tuDAs@dwUmAn-@zSiwaCstDAgroTD@nDAbyutiD@tbIkemEvRidemcrbrIlyAnt-AndDAIntElAjAnsD@tTruItskwIvRIGsAnCYn-ovRDAtYnifiCRzAvDIsCYld-', '-gad@zAdREktkansAkwAnsAvDAsInwICm@nDAspAnISt-h@dgIvInhRAlAvliCYld-huzpleswazanD@tsemdIsanRdbUzAm-tukAnEpthRpErAt-fcrEvRwIDAresAndIsEntAvmcrdAlz-AndtubifYnAliAblEstusolAnhEvAn-', '-yEtDizTctsAfEktAdhEztRprInlEswIDhop-D@n@prihEnSAn-', '-DACYldh@dAnetAvgreswICdIznatImvEriAblikolIgzIstwIDbctlAsbyuti-ItsAtYR-hWEvRsImpAl-clwezImprEstDAbIholdR@zIfItwRDAvErigarbD@tprIsYslibIkemItbEst-', '-DIsWtwUdmyudAbIlADiIndAketAdAndIdnatmcrD@nfErAliIksprEs-DAvEriAsprapRtizAvhRInRlYf-', '-hEzstRkUdonliAkWntfcrDACYldzk@rIktR-AndivInDEnmostvegAliAndImpRfIktli-bYbIkclIGwAtSihRsElfh@dbIndcrIGD@tmomYdIspIriAd-wYlpRlwazAmbYbIGhRsolfrAmDAspIrCAwAlwRld-AndhRbadAlifrenfrAmItsmAtIriAlAvRT-', '-DewRnWtAlumAnetAdbYDAmcrnIGrediAnsAv@-yAGCYldzdIspAzISAn-bAt-letRInDAdeEvRTliIgzIstAns-mYtbiprRlIfIk-AvDAstcrm-AndwRlwEnd-', '-hEstRprInnEvRDAlEs-DAlAvIGmADRAvDIswAnCYld-r@ndlItAlbIskAvErIGanDAsYdAvAndusAvErAti-', '-mYndfUlhWEvRAvhRonErRzAndmIsfcrCAnz-SiRlisctuImpozAtEndRbAtstrIktkAntrclovRDAInfEntImcrt@lAti-D@twaDkAmItAdtuhRCarj-', '-@ztuEniADRkYndAvdIsAplAn-wEDRAdrEstuhRmYndcrhart-lItAlpRlmYtcrmYtnatbiwIDInItsriCInAkcrdAnswIDAkAprisD@tvoldDAmomAnt-', '-ItwazAlUksoIntElAjAnt-ItInIksplEkAbAl-pRvRs-sAmtYmsomAlISAsbAtjAnwAliAkAmpAnidbYAwYldfloAvspIrAts-D@thEstRkUdnath@pkwEsCAnIG@vsACmomAnts-wIDRpRlwazAhyumAnCYld-', '-bIholdIGIt-hEstuwazkAnstrendturAStAwcrdzDACYld-tupRsuDAlItAlElT-InDAflYt-wICSiImvEriAblibIg@n-tusn@ChRtuhRbUzAm-wIDAklozprESRAndRnAskIsAz-natsomACfrAmovRfloIGlAv-@ztuAzScrhRsElfD@tpRlwazflESAmblad-AndnatAtRlidIlusIv-', '-brRdIGovRclDizm@tRz-DAmADRfEltlYkwAnhu@zAbokdIspIrAt-bAt-bYsAmRrEgyAlarAdiInDAprasAsAvkanjReSAn-h@zfeldtuwInDAm@stRwRd-D@tsSUdkAntrcldDIsnuAndInkampri@nsAbAl-IntElAjAns-', '-tRlwazAbcrnWtk@stAvDAIntAntYlwRld-', '-pRlscAndgezdIntEntli-bAtnEvRsctumekAkwentAns-', '-IfspokAntu-SiwUdnatspikAgEn-', '-hEzstRprInwEntwAndetuDAm@nSAnAvgAvRnRbElIGhIm-wIDApErAvblAvzwazSih@dfRnjdAndImbcrdRdtuhIzAcrdR-AndwICwRtubiwcrnansAmgretAkeZAnAvstet-bcrDoDAC@nsAzAvApapyAlRrAlEkSAnh@dkczDAspcrmRrulRtudIsEnd@tstEpRtu-frAmDAhYAstr@Gk-histIlhWld@nanRAbAlAndImpluAnCAlples-AmAGDAkAloniAl-m@jAstrAsi-', '-AnADRAndfarmcrInpcrkAntrizAnD@nDAdIlIvRiAvApErAvDEmpcrdRdglAbzApEldhEstR@tDIstYm-tusikAnInAbyuwIDApRsAnAjAvsomACpWRAndEktIvAti-InDAfErzAvDAsAdAmAnt-', '-@tD@tEpIkAvprAstinsImplAsAtihWEvR-m@tRzAvivInslYtRpAblAkEntrAstAndAvbarlEsIntrInzIkwetD@nDAwElfEr-AvhEstRAndtRCYld-wRstrenjlimIkstApwIDAdIlIbReSAnz-AvlAjAsletRzAnd@ksAvstet-', '-DApEriAdwazhardliIf@tclRliRD@nD@tAvWRstcriwEnAdIspyupkAnsRnIGDArYtAvprapRtiInApIg-natonlikclzekpIrsAndbItRkantEstInDAlAjAsletAvbadiAvDAkalAni-bAtrIzAltAdIn@nImpcrtAntmatAfAkeSAnAvDAfrenwRkItsElfAvDAlEjAsleCR-', '-wih@vspokAnAvpRlzrICAndlAgZcriAndyuti-AbyutiD@tSonwID-dip-AndvIvAd-tIns-AbrYtkAmplEkSAn-YzpAzEsIGIntEnsAtibotDAvdEpT-Andglo-AndhErclrEdiAvAdip-glcsibrWn-AndwICIn@ftRyIrzwUdbinIrliAkIntubl@k-', '-ItwazDAskarlAtlEtR-InAdADRfcrm-DAskarnlAtlEtRIndWld-wIDlYf-', '-DAmADRhRsElf-@zIfDArEdIgnamAniwRsodipliskcrCtIntuhRbren-D@tclhRkAdsEpSAnzAsomdIdsfcrm-@dkErpAlirctWtDAsAmIlAtud-l@vISIGmEniWRzAvmcrbIdInjAnuAtitukrietAndAn@lAji-bItwinDAabjEktAvhRAfEkSAn-AndDA@mblAmAvhRgIltAndtcrCR-', '-bAtIntruT-pRlwazDAwAn@zwEl@zDADR-AndonliAndkansAkwAnsAvD@tYdEnAti-h@dhEzdRkAndrYv-sopRfAktli-turEpRzAntDAskarnAtlEtR-InhRApIrAns-', '-kAmDErfcrAndlEtAlsklIGmAtAtDEm-', '-bAtpRl-huwazAdantmasCYld-@ftRfrWndIG-st@mpIGhRfUt-AndSekIGhRlItAlh@ndwIDEvRYAtiAvTrEtAnIGjAsCRz-sAdAnlimedRrAst@tDAnatAvhREnAmiz-AndpUtDEmcltuflYt-', '-SiskrimdAndSWdAdtuwIDAtRIfIkbalyumAvsWnd-wIC-dWtlAskczDAhartsAvDAfyujAtAz-tukwYkwIDInDEm-', '-ItwazfRDRdEkRetAdwIDstrenjAndsimIGlik@bAlAstIkTIgyRzAndYAgr@ndz-sutAbAltuDAkwetesAvDAejwICh@dbIndrcnInDAstAko-wEnuliledan-Andh@dnWgronhardAndcrAbAl-fcrDA@gmReSAnAv@ftRtYmz-', '-DeAproCDAdcr-wICwazAv@narCtfcrmAndfl@GktaniCsYdbYAnWrotWRcrprAjEkCAnAvDAEdAfAs-InboTAvwICwRl@tAswIndoz-DAwUdAnSAtRztuklozovRDEm@tnid-', '-lIftIGDAYRnh@mrD@thAG@tDApcrtAl-pEstRprIngevAsAmAnzwICwaz@nsRdbYbAnAvDAgavAnRzbansRvAns-AfribcrnIGglISm@nbAtnWAsEvAnyIrzslev-', '-yeh@zanRAbAlwRsApIzwIDEnbAthih@dDegadlimInAstcrtuwIDhIm-AndlYkwYzAlips-', '-yumenatsihIzwRSApnW-', '-wIDmEnivErieSAnz-sAjEstAdbYDAneCRAvhIzbIldIGwAtIriAlz-dIvRsAtiAvklYmAnt-AndidIfRAntmodAvsoSAlYf-gAvRnRbElIGh@mh@dpl@ndhIznuh@vAteSAn-@ftRDArEzAdAnsAzAvjEntAmAnAvfErAstetInhIznetAvl@nd-', '-anDAtebAl-AntokAnD@tDAsEntAmAntAvoldIGglAShaspAt@lADih@dnatbInlEftbIhYnd-stUdAlarjpyutRt@GkRd-@tDAbatAmAvwIC-h@dhEzstRApRldpiptIntuIt-DemYth@vsinDAfrcTirAmnAnt-AvArisAvdr@ftAvel-', '-lItAlpRldhuwaz@zgretliplizdwIDAglemIGarmR@zSih@dbInwIDAblItRIGfAntAspisAvDAhWs-spEntsAmtYmlUkIGIntuDApalIStmIr-AvDAbrEstuplet-', '-mADRkrYdSiYsoyuhir-lUk-lUk-', '-AndtruT-Sisimd@bsAlAtlihIdAnbIhYndIt-', '-pRlAkcrdIGlirEntuDAbowIndo@tDAfRDREndAvDAhcl-AndlUktAlcGDAvIstuAvAgardAnwckk@pAtAdwIDklosliSevAngr@s-AndbcrdRdwIDsAmrudAndImItcrAtEmpt@tSAvRi-', '-bAtDApAprYAdRApIrdclbEdituEfRyulIGgwISt@zhoplAs-DAEfRtupApECAwetanDIsYdAvDAItl@ntIk-InAhardsOl-AndImIdDAkostAgAlfcrsAbsIstAns-DAnedAdIGglIStest-fcrcrnAmEntAlgardAnIG-', '-DErwRAfyurozbUSAzhWEvR-AndAnAmbRAv@pAtriz-prabAbliDAdIsEndAnsAvDozpl@ntAdbYDArEvRAntumIstRblEkston-DAfRstsAdAlRAvDApInAnsAlA-D@thEfmIDAlajAkAlpRsAnAjurYdzDucrRli@nAlzsidAdanDAb@kAvAbcl-', '-pRl-seGDArozbwISAzbIg@ntukrYfwcrArEdrozAndwUdnatbip@sAfYd-', '-hiwRblusElkstakIGz-bluAnip@nswIDgoldbAkAlz-AblurAfAldwestAndAj@kAnAvbrYtblubretAdwIDgold-', '-hIzh@dh@dApiktkrWndAnDAfl@dbrIm-AndRWndDAbrumwazAroAvtYmigoldAnbElzDAtIGkAldwEnhimuvd-', '-InstEdAvSuz-DAoldm@nwcrbutswIDtRnAvRtaps-AndhIzblukoth@dwYdkanstAvgoldbred-', '-fcrAlcGtYmhih@dwIStuUIksplcrDAbyutAfAl@ndAvazInwICDelYvd-', '-wEnDewRWtsYdAnsImplil@CtDAdcrInstartAdApDAp@T-', '-nowAnwUdIstRvDErlItAlhWs-ivInIfEniwAnkemsofarIntuDATIkfcrAstwYlDewRgcn-', '-@tDAfUtAvDAmWntAnD@tsEpretAdDAkAntriAvDAmAnCkAnzfrAmDAkAntriAvDAgIlAkAnz-DAp@TdIvYdAd-', '-hinuItwUdtekAntuDAhWsAvDAkrUkAdmAjISAn-humhih@dnEvRsinbAthIwazDErnIrAsnebR-', '-clDAmcrnIGDetrEjdApDAmWntAnp@TAndItnunAGkAnojos@tanDAfalAntritrAGk-AndetDAl@stAvDAbrEdwICDAoldmAnskAnh@dplestInhIzpakAt-', '-DEnDestartAdanAgEn-AndtuWRzledRkemInsYt-AvDAhWsAvdaktRpIpt-', '-onkAnaktuDAdcrAvDAhWsAndACAbiplEzAntfestwUmAn-drEstclEnblu-opAndIt-AndgritAdDAvIzAtRzwIDAsmYl-', '-Y@mYdIrAndclstrenjRzarwElkAmtumYhom-', '-wih@vkAmfrAmAfYRlonliAplesD@nIs-Anonlicrples-', '-AndyumAstbiojoDAAnlAki-Si@dAd-', '-ojoh@dnEvRidAnsACAfYnmilAnclhIzlYf-', '-wiark@vAlIG-rIplYdojo-Andlist@tItycrhWsjIstREsInRfrESRsElvz-', '-DAwUmAnzimTctfAl-', '-AndwAnEnstRdAgretfYRples-InwICAblulcGwazblezIGwIDAbluflem-AndovRDAfYRhAGfcrk@tAlzInAro-clbAbAlIGInstimIG@tAgretret-', '-AteksmisRvAlyIrztumekDIsm@jApWdRpUtAtDIsmolAntY@mblizdtustedIznIrli-dAn-yusiYmekIGItfcrmYgUdlYfmargAlat-DAwAnstuyuzsAmAbItfcrApRprAzAvhRon-', '-yumAstno-sEdmargAladwEnDewRclsitAdtAgEDRanDAbrcdwIndosit-D@tmYYhAzbAndfulISligevDAweclDApWtRAvlYfhifRstmed-tuoldmambiDAwIC-huhyuztulivInDAkAntrivDAgIlAkAnztuDAncrTAvhir-', '-DAfRstlatwitEstAdanWrgl@skh@s-wICnatonlibIg@ntulivbAth@zlYvEvRsIns-', '-YTIGkDAnEkstgl@sk@tpAmAjISAnmeks-wIlh@vnYDRbrenzncrhart-fcrDEnItwIlnatAbjEktuk@CIGmYzAnDepruvAvsAmyuzdtuAs-', '-YnDAfredYgontnomACyAb@tDAlendAnYz-', '-yusiYvrIdamYlYfwITWtnAGkiDAsYlAtwAn-AndDErwaznoEnDekWntiEniTIG-', '-D@tIzwAnrizAnyuaroljoDAAnlAkisEdDAwUmAnInsAnpAfEtIkton-', '-YTIGkYmAstSoyumYp@CwRgRl-sEdmargAlat-l@fIGItDAbOzAstanjIjmAnt-fcrSiIzr@DRdIkAkAltuIksplem-', '-bAtfRstEmbAlzhElyuD@tfrAmEniyIrzYh@vlcGdfcrAsRvAnt-tuhWldmiwIDAhWfswRk-AndtukokAminlzAndwarSDAdISAz-', '-yEtD@t@skwaznatsoizi@zyumesApoz-', '-AbEdkwIltmedAvp@CAzAvdIfRAntkYndzAndkalRzAvklcTclnitlisotAgEDR-', '-sAmtYmzIthIzkcldAkrezikwIlt-bIkczDAp@CAzAndkalRzcrsonIkstAp-', '-wEnYfWndItYsEdtumYsElfD@tItwUdunYslifcrmYsRvAngRl-fcrwEnSiwazbrctulYfSiwUdnatbiprWdncrhati-@zDAgl@skh@tiIz-fcrsAtudrEdfAlmIkstRAvkAlRzwUdIsgRdhRfrAmtYntubi@z-dIgnAfYd@zDAblumAnCgInzar-', '-@tDAEnmAldsItiAwErarprInsEzazAnbAlivzgrinIzDApapyAlRkAlR-', '-YwIzS@lyuwUdh@gUdjabYdId-AndSiwEntuItclkAbRd-AndTruopInDAdcrz-', '-ojolAgz@mAndDIskyUriAskAntrYvAnzwIDwAndR-', '-largAlath@dfRstmedDAgRlzfcrmfrAmDAp@CwRkwIld-AndDEnSih@drEstAtwIDAp@CwRkskRd-And@neprAnwIDpakAtsInIt-yuzIGAsemgemAtIriAlTruWt-', '-DAh@dAvDAp@CwRgRlwazDAmostkyUriAspartAvhR-', '-DAhErwazAvbrWnyarnAndhAGdWnanhRnEkAnsEvAlitbredz-', '-goldIzDAmostkamAndmEtAlInDAl@ndAvaz-AndIzyuzdfcrmEnipRpAsAzbIkczAdIscftInplYAbAl-', '-noYfRgatAmAbWtDAmbrenz-IksklemdDAwUmAn-', '-wElD@tmebitru-AgridmargAlat-bAtanDAkamtrEriAsRvAntwIDtumACbrenzIzSUrtubIkAm-IndApEndAntAndhYInmYti-AndfilAbAvhRwRk-', '-SipcrdIntuDAdISAkwanAtifrAmiCAvDizbatAlz-', '-YTIGD@tbIldu-SikAntInyud-fcrDADRkwalAtizRnatnedAdInAsRvAnt-', '-Sir@nduRh@zbIndsYdItwAns-AndhElpshImliftDAfcrk@tAlzfrAmDAfYR-', '-DErkantEnsh@dolAbOldAwe-livIGInDAbadAmAviCkEtAlAfyugrenzAvfYnwYtpWtR-', '-DEarik@rfAliDAnmAjISCAnrImuvdDIspWdR-plesIGItcltAgEDRInAgoldAndIS-wErhimIkstItwIDAgoldAnspun-', '-nowAnscthImduDIs-fcrclwRlUkIG@tDApWtRAvlYf-bAtsunDAwUmAnrImEmbRdwAtSih@dbInduIG-Andkemb@ktuDAkAbRd-', '-odubIkemAbItaniziAtDIs-fcrhih@dclrEdipUtkwYtAlatAvDAklEvRnhAspWtRInDAdIS-bAthidErdnatIntRfIr-InsolikAmfcrtIdhImsElfwIDATct@ndwAnk@nath@vtumACklEvRnAs-', '-hisAlYktudAsmclgolbatAl-wIDApEbRbakstap-soD@tDApWndRmYtbIsprIGkAldanEniabjEktTruDAsmclholz-', '-mostpipAltcptumAC-sowItIzArIlivtufYndwAnhutckstulItAl-', '-Y@natAlWturIfcrm@jIk-IksEptfcrmYonAmyuzmAnt-hitoldhIzIzAdRz-@zhilYtAdApYp-wIDAtrokAnstEm-AndbIg@ntusmok-', '-DAwIzAtAvcz-huyusdtubiAhAmbWldInunom@tIkAtclh@zbIntekIGlEsAnzAvglIndAp-AndAmtoldiIzgItIGtubiAprItigodwIzRd-bAthiIznIrliDAsIstAntuvDAgretscrsRz-', '-ItruiIz-AsRtAvDAmAjISAn-', '-YnoyuzDAmIzwcrtAmIntAlsACuEriAnmYgardAd-', '-dIrmiwAnAvC@tRbaksRgItIGtubiAGk-rmakTDAmAjISAnz-huwazplizdwIDAkamplAmAnt-', '-@sktDAvOs-InskcrnfAl@ksAns-', '-DAgretfUlAplczAvDAklRrAji-h@zkansAkretAdDAmEmRiAvAprIns-huIndAljDErp@SAnz-AndprAmotAdDErIntrAst-', '-DAitAtAvmAl@n-DAgreCardRAvtalReSAn-h@kAnfRmtuiCIndAvIjAwAlAvDAromAnwRld-DAprIvlAjAvCuzIGAndprAfEsIGhIzonrIlIjAn-', '-bAtDIsInEstAmAbAlprIvlAjwazsunvYAletAd-wIDAnalAjAvtruT-DAEmpRAmbYvDAm@ksAnzAvpRsAkyuSAn-AndDAsEkswICdIsEntAdrAmDAk@flIkCRC-wRAflIktAdAndAprEst-bYDAtrYAmf-AvkrIsti@nAti-', '-kanstAntiniDAlibIlivD@tDAhErAtIks-hupRzImztudIspimdhIzApInyAnz-crtuApozhIzkAm@nz-wRgIltiAvDAmostAbsRdAndkrImAnAlabstAnAsi-AndD@tAsizAnAbAl@flAkeSAnAvmadRAsAvErAtiz-mYtsevDozAnh@pimEn-frAmDAdenjRAv@nEvRl@stIGkandAneSAn-', '-sAmAvApinAlrEgyAleSAnzwRkapIdfrAmDAyitIksAvdYkliSAn-AndDIsmETAtAvkAnvRZAn-wazApladAdbYDAsembISAps-huh@dfEldDAh@ndAvAprESAn-AndplitAdfcrDArYtsAvhim@nAti-', '-DeAsRdAdwIDkanfAdAns-AndclmostwIDEgzAlteSAn-D@tDA@tDAstalAkAlsAksESAnwazIntRrAktAd-D@tclDAbISApsAvDAycrApAndejAwRInfEktAdbYDIkAntejAnAvgIltAndskIzAm-AndD@tDApRagAtAdzAvAk@fAvCRCwRkAnfYndtuDACozAndpcrSAnAvDA@fRkAnbIlivRz-huAlonh@dprAzRvdInvYAlIt-DAIntEgrRAti-AvDErfeTAndIsAplAn-', '-bISAps-vRjAnzAndivInspatlAsInfAns-wRsAbjEktAdtuDAdIsgres-AvApAblIkpEnAns-bIfcrDekUdbiInmIdAdtuDAkAnyunyAnAvDAdanAsAsts-', '-prAskrYndwYDAsImbAlInAklizi@stAkAlpWRzAvDAEmpYR-DAdamAntAststIlnIGtendIndsAmpravAnsAzpAtIkyAnAliIndImIniA-DErsApIriRnAmbRz-AndfcrhAndrAdbISApsIknalAjDAjRAstIkSAnAvDErprYmet-', '-sInsDApIriAdAvWRtelDA@ktAvspIrAtAvDAkAntrih@zsRWndAdItwIDAbEltAvrICAnTrYvIGsEtAlmAns-DonAnbAtDAhAntRcrvDAs@vAjAzEvRnonivInWtupInAtretAdswYldrisEsAz-', '-DAdyuzwRsEfRtuIksel-AndDAsAnh@dIspRsDAmIsts-AndwazSEtIGAzstrcGAndklIrlYtInDAfcrAstwEnDAtr@blRzrIzundDErjRni-', '-@ftRprAsidIGAvyumYlz-DApragrAsAvhakYhulEdDA@dv@ns-bIkemcrdIlIbRAt-AndwaCfAl-', '-hicfAnstaptuIgz@mAnDAtriz-ncrdAdikrcsArIvyilItwITWtAtEntAvlikAnsIdRIGDAkwantAti-DAvAlasAti-AndDAkAlRAvItswctRz-', '-dIstrAstIGhIzonjACmAnt-hIzApilztuDApInyAnAvCIGgACgUkcRfrikwAntAndRnAst-', '-yEthirwi-wID@nAScrtrenjAvAskAunz-AndnatAsYnAvAtrelh@vwIkrcst-', '-lEtAsrItrisWrstEps-AndIgz@mAn@zwigo-wIDkinRYz-', '-CIGgAtsgUkh@dkatDAlUk-AndAmoSAnIGwIDhIzh@nd-hibedhImspik-', '-DAYzAvDAholpartifalodDAnIkspEktAdmuvmAnt-AndrEdDErsAksEsInDAErAvtrYAmfD@tDAyuTAsund-', '-hItwUdh@vbInmcrwAndRfAlh@dhispokAnwITWtAbItIG-', '-sisEdAkAs-pOntiGncrTAndsElf-@tDAEvAdAntmarksAvDAbrcdtrelaniDRsYdAvhIm-DAdarkhErh@zgcntuwcrdDAfcrAst-', '-IfArakcrrIvAlItcrbItAvRThartRD@nkamAn-sEvRdDAlIGksAvDAkluDefalod-DAtruYAvDAskWtrIkAvRdDEm@tAdIstAns-AndsEldImrEndRdDAdIleAvAsIGgAlmomAntnEsAsEri-', '-IkstIGgwIStbr@ndzwRlYIGRWndAspriIG-DAafAlzAvAdIrwRsk@tRdAbWtDAples-AndDAtrizbcrEvAdAntmarksAvh@vIGbInbrWzdbYDAhcrsAz-', '-AsRkAlAvAfyuhAndrAdfitAnsRkAmfrAnswazdrcn-AndiCAvDApartitUkAsEgmAntfcrhIzpcrSAn-', '-DAIgz@mAneSAnhWEvRrIzAltAdInodIskAvRi-', '-DAholpartikrWdAdtuDAspatwRAnkAspOntAdWtDAImprESAnAvAmakAsAnInDAmOstAluviAn-', '-rAnb@kAGkAsAmbrIGmiDAsYzAvDAsIGRzfUt-', '-natwazst@ndIGDAhYrEzAluSAnAvhakY-hifUlikampRhEndAdclDAdIfAkAltizAndenjRhiwazAbWtuInkR-', '-InhIzrItRndtuDAk@mp-hIzAkyuthImpr@ktAstIntulEks-crIntEntAliAngejdIndIvYzIGminztukWntR@ktAwaCfAlnAsAnsAspISAnanDApartAvhIzEnAmiz-D@thinuwRInodIgriAnfIriRtuhIzon-', '-InADRwRdz-wYlhih@dImplIsAtfeTInDAbIlAtiAvbelAmz@sktuspik-hiwazsAmatskEptAkAlanDAsAbjIkAvAbErzsIGIG-AndhAEthih@dbInASUrtAvDAl@tRanDAtEstAmoniAvhIzonIkskwIzAtcrgAnz-', '-DErwRsAmlIGInhIzErInDAm@nRD@tbItredtuDAskWt-DAtRkAnfyuZAnAvDAstetAvhIzmYnd-', '-DAEnjinyAshakYhurIkcldDAhestim@nRAndwICDADRh@dAbEndAnhIzpost@tDAbEdsYtAvDAsIkwUmAn-waznatwITWthIzAspISAnzkAnsRnIGDAsAbjIktAvsomACsalAmdIlIpReSAn-', '-DAbErSUkyIzS@gisYdzAndDEnAwElnonvOsrIplYd-', '-k@nDizTIGzbirItRndevAdbriDIGmcrfrili@zDAtruTbIg@ntudanApanhIm-', '-kAmkamrItRndhakYAnkesIGhIzanAstkWntAnAns-DAbEtRtuhASUrDAwevRIGkanfAdAnsAvhIzkAmp@nyAn-yumesiAskInwIC-IfItbinatIzwYthIzwAnAvDAjEntAlwAnz-h@znotInjAvrEdtuItD@tDAwIndzAvDAhEvAnInDAsAnh@vnatbIstod-nW-lEtAstubIznAs-', '-DAyAGm@n@zImbandAjAndmACYfIrhIzdETAzDAkrid-', '-YgretlimcrnD@twAnsowEldIspozdSUdYInhIzIgnRAnsAndY@vsctAgUdlihIm-k@nyulidmituhIm-', '-DAt@skwIlmatbidIfAkAltrItRndevAdhEzAtetIG-DoYgretlifIrycrprEzAnswUdr@DRInkrisD@nmItAgetIzAnh@pifcrCAnz-', '-DAlajAnwICckAswazkAnfYndwazInDAvErisEntRAvDAvIlAjAndInAsICueSAnpRh@psmcrdIfAkAlt@nEniADRtuAproCcrlivwITWtabzRveSAn-', '-fcrAfYvAvDAl@tRonlilIGgRdAbWtDAdcrAvDAprIzAnAvAGkAswEribAtklosAbzRvRzAvDAm@nRAvDErk@ptIv-', '-dIlIvRdInAstrcGtonAvAsEnt-AndWnsDAgr@tAfAkeSAnDAs@vIjwUdrAsivAnwInAsIGsAC@nEksAbISAnAvwiknAsAn@nEnAmi-solcGhetAd-AndsomACfIrd-', '-Dedrub@kAlItAlfrAmDAEntrAnsAndmoSAntuDAsApozAdkanjRtuEntR-', '-bAtDAbErAndstIdAvAbeIG-mentendAvDAsitAdh@dtekAn-AndgrWld-', '-DAkAnIGm@n@zAfriD@thIzbrETwAbloApanhIzbrADRzAndtekAweDErkRAjtu-kAntInyudebAd-IndpruvIGDAh@ndhirIsivd-DemAst@ndfcrDERcf-', '-DEn@zAvs@tAsfYdAvDErsefti-DAskWtlEfthIspAzISAnAndsloliEntRdDAples-', '-ItwazsYlAntAndglumi-biIGtEnAntId-solibYDAk@ptIv-AndlYtIdbYDAdYIGEmbRzAvAfYRwICh@dbInyuzdfcrDApRpAsAvkUkRi-', '-ankAsakyApYdudIstAntkcrnRIndrIklYnIG@tAtud-biIGrIjAtlibWndboTh@ndzAndfitbYstrcGInpenfAlwIDs-', '-DAskWt-huh@dlEftdevAd@tDAdcrtu@sRtenliwRnatAbzRvd-TctItprutAnt-tuprAzRvhIzdIskYzAntIlASUrdAvDErprYvAsi-', '-wAtS@lwiduwIDAmIGgoz@tDAdcr-DekWntsIks-AndDAsIGgRzIzgUdhIznATIG-', '-DAdEloRzarCIldAnAvDAtcrdAsAmeWtstrIpDAdIr-', '-AnkAs-huh@dclrEdiproCtDAdcrAndrEdinAstIlidDAwe-nWrIkOld-AnplesthImsElfwAnstmcrInDAbadAmAvDAlaj-', '-bAthakYhuwaztumACakyApYdwIDhIzonTctstunotDAmuvmAnt-kAntInyudsbikIGmcrtuhImsElfIntuhIzkAmp@nyAn-', '-soAnkAsyU@dbEtRtekDAlid-wYYwIlpUtanDAskInAgEnAntrAstukAnIGfcrwantAvspid-', '-wEl-wAtk@ntbidAnbYmenkRAjAnmcrmAstbidAnbYsRkAmvEnSAn-', '-Asun@zDizdIspAzISAnzwrmed-DAskWtRntudevAnIngevhImIzpartIGAnstrAkSAnz-', '-mYpRsutsarpisfAlanmYtEmpRYhAmblitrAst-IzgretligIvAntumRsiAnlAv-rItRndeb@tAlItAln@thold@tsodREktAnAt@kanhIzm@nhUd-bAtDErarnAnhuk@nseD@tYh@vEvRfcrgatInmYfeTInDAlcrd-ivInInDAgretAststrets-', '-IfyucrnatDEnaktanDAhEdycrbIGAnankAmpasRwAlpRtEktyu-AndyIlDEnh@vAgUdrizAntuIkspEktAdYnycrbEd-', '-sACuzfcryRsElf-tumekRrAS-crtErihir-', '-brevAliAnjEnRAsli@zhib@tAldInmYbIh@f-AndDIsAndmcrwIlYdErInhIzsRvAs-', '-kipsYlAnhIzlcG@zmebi-AndtwUdbiwYzwEnyuduspiktubrekWtsAtAnliInwAnAvhrSWtIGzwICwIlsRvtuRAmYndDAIndiAnzD@tyuarnatcltAgEDR@zwRspansAbAlwIzmEnSUdbi-', '-IfhWEvRDetekyRskElp-@zYtrAstAnbIlivDewIlmat-dIpEndanIt-ankAsAnYwIlmnatfcrgEtDAdidbAtrIvEnjAdhIzbIkAmztruwcryRzAntrAstifrEndz-', '-holdsEdevAdpRsivIGD@twIDIsASUrAnsDewRAbWtulivhIm-Y@mAnAnwRlAInhAmbAlfaloRAvwAnhutctnatDAdEmAbAlprInsApAlAvrIvEnj-', '-DEnhivIGAhEvisY-prabAbliAmAGDAl@st-hiEvRdruAndpYnIGfcrAkAndISAnhih@dsolcGAb@ndAnd-hi@dAd-ItIzwAtYwUdwIStupr@ktAsmYsElf-@zwAnwITWtAkrcsAvblAd-Do@dIznatclwezizitudilwID@nIndiAn-@zyuwUdwIDAfIlokrIsCAn-', '-gadblAsyufrEnd-YdubIlivycRsEnthIznatgretlircG-wEnDAm@tRIzdulikAnsIdRd-AndkipIGAtRnAtibIfcrDAYz-DomACdIpEnzanDAn@CRAlgIfsIndDAfcrsAvtEmteSAn-', '-DAdElowRdaghisEd-linIGfcrwRdInpIrIGTruDAdImlYtuk@CDAIksprESAnAvDADRzfiCRzIzhiAfred-', '-wIlDAhRAnzhirhIzgronz-', '-AbohikAnstartAdanhIzfit-AndSUkIzS@yikAmvRIG@zDoDA@nAmAlikWnRfItAdwazAbWtumeksAmdEspAtEfRt-', '-hih@dnoAkeZAntudIlefcr@tDAnmEkstInstAnt-AbRstAvkrYzfIldDAWtRErAnr@nAlcGDAholIkstEntAvDAvIlAj-', '-AkAsk@stIzskInAndstEptfcrTInhIzonbyutAfAlprApcrSAnz-', '-YwIlAndEvRAnmYstetmAntuAvOdsACtRmz@zwIDsRvdtulIm@tDAIvEnstuEniptekyAlRples-crgIvAklu@ztuDApipAlkAnsRnd-', '-Yh@dclweznonhImtubirEslAsAnhIzm@nR-bAtanDIspAtIkyAlRAkeZAnhiwazInsACAstetAvAnkAntrolblajAteSAnD@twazkwIrsAmTIGvEriAnyuZAwAlh@dAkRd-', '-mYfrEndztEmpRh@dnatImpruvd-sEnshih@dbIndIprYvdAvDAkAnjiniAlsRWndIGzAvbekRstrit-', '-wITWthIzskr@pUks-hIzkEmAkAlzAndhIzhAGliAntYtinAs-hiwazAnInkAmftAbAlm@n-', '-Yh@dturitAdovRk@rfAli@zDAtEkstmAstbi@bsAlutlikREkt-', '-Ywaz@psAnt-rADRmcrD@n@nWR-', '-DeonliduplIk@twICIgzIstAdsofar@zYnuwazD@twICbIlcGtumYsRvAntb@nAstR-Am@nhuhIzlUkt@ftRmYrumfcrtEnyIrzAndhIzanAstiIz@bzAlutliAbAvsAspISAn-', '-DAmomAntalUktItmYtebAlYwazAwErD@tsAmAnh@dbrAmAjdImaGmYpepRz-', '-DApruTwazInTrilcGslIps-Yh@dlEfsAmcltAgEDR-', '-DEltRDRwazD@tsAmwAnp@sIGh@bzRvDAkiInDAdcr-h@dnonD@tYwazWWtAndh@dEntRdtulUk@tDApepRz-', '-YgevhImIlItAbr@ndilEftImkAl@ptInDACErwIlYmedAmostkErfAlAnz@meSAnAvDArum-', '-AbrokAntIpAvlErdwazlYIGDErclso-', '-natAnliDInAsbAtanDAtebAlYfWndAsmclbclAvbl@kdoRklewIDspEksAvsAmTIGwIClUkslYksYdAstIt-', '-AbAvclTIGzYdIzaRdtusEtAlDAm@tRkwYRtliAndIskritli-', '-tuDAbEstAtmYbIlifDewRroldAp-', '-dIdEniwAnoD@tDizprufswUdbiDEr-noAnsevDAprIntR-', '-YwazInsACAhRidAkAmtuyu-yulEftyudcropAnAt-', '-somAtsimztumi-', '-nWmIstRsAlmz-@tycrspozAl-', '-AbovRTristudAnswAnaniCstcri-', '-DAndhiproCtIt-Andst@ndIGantIptoIhIznatkrendhilUktIntuDArum-', '-DErIznoopAniIksEptDAwAnpenIn-sEdWRlRndgYd-', '-Y@mAfrEdDErAnosYndzhir-sEdhi-', '-wAnkUdhardlihopfcrEniApansodrYAde-', '-yulEfthImACEryRse-wICCEr-bYDAwIndoDEr-', '-DAm@nEntRdAndtUkDApepRz-SidbYSitfrAmDAsEntAltebAl-', '-@zImWthRf@kthikUdnatsEdsomzfcrYhEntRdbYDAsYdcr-', '-hWlcnwIDAtekAntuduD@tyuzIGEvRipasAbAlkAntr@kSAnDAkcrdRv@nWRnatlEs-', '-DEnhitcstAdWnAndsizdDAnEkst-', '-hiwazInDAmIstAvD@twEnycrAtEnAnkazdhImtumekAvErihRidrRtrit-vErihRid-sInsih@dnatYmturAplesDApepRzwICwUdtElyuD@thih@dbInDE-', '-mIstRscmwazwazsAmAnovRwEldbYDIsflEtAvInfRmeSAn-', '-komzhWdWtAsmclCIpwIDAlEtRzAnd-EnAndIspesAvklIrwUd@ftRDEm-yusi-', '-wAtsAnYnAvclwezdAnyuAnInjAstAs-DErarADRz-', '-YwazhopIGD@tIfDApepRanwIChirotwazTInsAmtresAvItmYtkAmTruApanDIspalISsRfAs-nYsinATIG-', '-@zhomstrRDAkRtAnYwazAwErfrAmsAmlItAlrAjItAtiAndInlRdnAsAvhIz@dAtuD@thiwazprApErdfcrnAmRjAnsi-', '-homztRndAweAndstuptusAdAnlituDAflcr-hAlcwAtIzDIs-', '-homsh@dAdWtanhIzopAnpamInDAglErAvDAlEktrRklYt-', '-wAtkUdhiduhikatApEvRiTIGwICwUdbItrehImAndhirACtIntuycrbEjRAntukAnsildhImsElf-', '-Y@ndRst@ndutuseD@tDErarTristuAntuyuzDAstErAndarInDAh@bAtAvp@sIGycrdcr-yEsDErAmR-', '-AndDErclInfrDAsIgz@mAneSAn-yEs-', '-wAnhardlilYkstuTrosAspISAnwErDErarnoprufs-', '-lEtAsutAspISAnzYwIlUk@ftRDAprufs-', '-mYskaRdhIzbInlEftAvEripUr-bAthihIzhardwRkIGAndIndAstriAs-hiwIlduwEl-', '-DAtcpflcrbIlcGztumWzDAklErAn-', '-YdIdagosAfar@zD@t-bAtAvDATrihiIzpRh@psDAlistanlYkli-', '-hiwaztIlsAfRIGfrAmDAsAdAntAstRbAnsAvDAkwYAtrItinAvhIzlYf-', '-bYh@vAkeZAnlidInDAsemTIGAtADRtYmz-', '-dIdyulUk@tDizpEpRzanDAtebAl-', '-hWkemycrtIlivDAkiInDAdcr-', '-EniwanDArumkUdgEtWt-yEsR-', '-Y@rIlidonTIGkhInyumACAbWtItmIstRhoms-', '-onlifcrAmInAdRso-', '-cwYwUdnatvEnCRtusesR-', '-yuh@vInsinEniAvDEm-nosR-', '-ItwazDAIndiAn-huzdarksoDo@tApIrdsAdAnliApanhIzblYnd-', '-hiwazpesIGswIftliApAndWnhIzrum-', '-DAsEtAvrumzhIzkwYtDAoldAstInDAkalAj-AndIndIznatAnyuZAwAlfcrvIzAtRztugovRDEm-', '-nonemzpliz-sEdhoms@zwinatIdgokrAstcr-', '-AvkcrshidIdnatrilYzD@tItwazYhuwaznakIG-bAtnanDAlEshIzkandAkwazvEriAnkRtiAsAnIndidAndRDAsRkrAms@nsAzrADRsAspISAs-', '-D@tIzvEriAmpcrdAnsAndhoms-', '-InonsIGturilYzDApAzISAn-', '-tumaroazDAIgz@mAnieSAn-', '-Yk@nAtAlWDAIgz@vAneSAntubihEldIfwAnAvDApepRzh@zbInt@mbRdwID-DAsICueSAnmAstbifest-', '-ItIzpasAbAl-D@tYmebiInApAzISAnDEntuIndIketsAmkcrsAv@kSAn-', '-YwIdhekDAbl@tklewIDmi-clsoDApEnsAlkAtIGz-kUdbY-', '-wEnwiwRWtInDAdarkDAsAvDAkwadr@GgAl-wiAgEnlUktAp@tDAwIndoz-', '-DAfWmWlsfEloItDAtap-', '-hi@zDAwAnwIDAwRstrEkRd-', '-wYb@nAstRDAsRmAnt-wAtshIzgemInDAm@tR-', '-hiImprEstmiIzbiIGAprRfIktlianAsm@n-', '-mYfrEndIdnatAvhIrtubidIprEstbYhIzfElyRbAtSrAdthRSoldRzAndh@fhyimRAsrEzAgneSAn-', '-nogUdmYdIrwatsAn-', '-YTIGkso-yuh@vfcrdAkAnklIZAn-', '-yEsmYdIrwctsAnYh@vsclvDAmIstRi-', '-lUkAnD@t-hihElbWthIzh@nd-', '-anDApanwRsrizAvApIrAmAtzAvbl@k-dolikle-', '-AndwAnmcrDAsmcrnIG-', '-InAfyuWRzDAIgz@mAneSAnwUdkAmEnsAndhiwazstIlAndDAdIlEmAvbItwinmekIGDAf@kstpAblIkAndAlYIGDAkalpRdtukAmpitfcrDAbYyAbAlskalISAp-', '-hikUdhardlist@ndstIlsogretwazhIzmEntAl@jAteSAn-Andhir@ntAcrdzhomzwIDtuigRh@ndzWtstrECt-TIGkh@vAnDAyuh@vkAm-', '-yunahIm-YTIGkso-', '-IfDIsm@tRIznatubIkAmpAblIkwimAstgIvRsElvsRtAnpWRz-AndrIzclvRsElvzIntuAsmclprYvAtkcrtmarSAnl-', '-nozsR-sRtAnlinat-', '-DErwaznom@nsR-', '-hIztrAbAlbluYzgl@nstAdiCAvAsAndfYndlirEstAd-wID@nIksprESAnAvbl@GktIsmeApanb@nAstRInDAfarDRkcrR-', '-jAstklozDAtcRsEdhAmz-', '-wiwantunomIstRgokrAsthWyuAndanRAbAlm@nEvRkemtukAmItsAC@n@kSAnIzD@tAvyEstRde-', '-fcrAmomAntgokrAstwIDAprezdh@ndtrYtukAntrolhIzrYDIGfiCRz-', '-kamkAmsEdhomzkYndli-ItIzSyumAntuEr-AndItlisnoAnk@nAkyuZyuvbiIGAk@lAskAmIl-', '-wElEl-dontrAbAltu@nsR-lIsAnAndsiD@tYduyunoAnjAstAs-', '-hikUdIgz@mAnDApepRzIndhIzoncfAs-', '-DAIndiAnaclsoTctnATIGAv-', '-wEnYAproCtycrumY@gz@mAnDAwIndo-', '-nowInlEsD@nD@t-wUdh@vAC@ns-', '-YEndRd-AndYtUkyuIntumYkanfAdAnsAztuDIsjEsCAnzAvDAsYdtebAl-', '-hirItRndk@rIGhIzjAmpIGSuzwICarprAvYdAdIzyuarwErwIDsEvrAlSarpspYks-', '-noharmwAdh@vbIndAnh@dIdnatbInD@t@zhip@stycrdcr-hiprAsivdDAkiwICh@dbInlEftbYDAk@rlAsnAsAvycrsRvAnt-', '-AsAtAnhImpAlskemovRhImtuEntRAndsiIfDewRIndidDAprufs-', '-hipUthIzSuzanDAtebAl-', '-glAvz-sEdDAyAGm@n-', '-sEdAnlihihRdhIm@tDAvEridcrDErwaznopasAbAlAskep-', '-h@vYtEldDAtruATmIstRgokrAst-', '-Yh@vAlEtRhirmIstRsAmzwICYrotuyuRlidIsmcrnIGInDAmIlAvREstlAsnYt-', '-ItwIdbiklIrtuyufrAmwAtYh@vsEd-D@tonliyukUdh@vlEtDAsyAGm@nWt-sEdSiwRlEftInDArum-AndmAsth@vlaktDAdcrwEnyuInWt-', '-ItwazsImfAlAnAfsR-Ifyuonlih@dnon-bAtwITclycrklEvRnAsItwazImpasAbAlD@tyukUdno-', '-IfmIstRsomscDEmDAgemwazAp-', '-InDAdAbekbItwinDAsinyusAsYAtizhRdIfEndsoDAfIftinTAmEnmAnth@dbIn-natoliAnotAbAlbItAvrizAnIGbAtdIlIvRdwIDrilInTuzi@zAm-', '-hIsWlTSih@dnatTctAvsIriAsliInyEt-noIGAvItstulYkfAlhaspAt@lAtiAndmYldklYmAt-SiwaznatAvRdztuCRlztIncrnuclAnz-', '-jantelRhu@dsApcrtAdhRTukalIjwaz-InCRAstAdInkatAn-', '-bEtRgohih@dkWnsAlsAntEnSAsli-', '-mYtlRnsAmTIGyusfAldWnDEr-', '-bAtCRn-DIrznosAsYAti-jAstElAmEntRiwRk-', '-bInlUkGAptumzkWnti-', '-fYzAmdkrAswElzDEr-bIkbl@nteSAnz-retAtIdtuhAndrAdAndfIptiTWzAndalRz-', '-sAmADRztu-bIAdgatAntWnti-', '-yucltunojan-IfatiCnidrozWlskyUrAslisimACAbipAlInmonklErEs-', '-@dEniret-Ysego-', '-hirSiwaztiCIGdRdiCIldrAnAnvDAsm@lAvkAnfyuzdotRzAndbadAlipIspReSAn-waztuhR-tYmzAnbErAbAl-', '-SiwAntAdAgl@nsAvDAnubUksAndvIriatAkAlz-AndtckAvgretfAlm@nTRpisInDAfcrmz-', '-sofcrDAhAndrATtYmSiwazTIGkIGtude-@zSiwcktAlon-ApDAleIGb@kAvDAbarn-AndDEnslolidWntuDAbatAmz-', '-katAn-Sipozd-', '-Sih@dclmostrAgadAnD@tItwazhirwIDIntACInsYt-', '-DAglImRIGsiAvdElAkAtlivzwIspRdRnamRdbIfcrhR-sACInAwetuDAncrTwR-', '-DErmYbiAbItApcrtrihirAndDErbAt-mostAvhIzpleswazsACdEsprAtproz-', '-hRAgardSIftAtuDAglinstaksAndlivzAgEnAnSistartAtumuvAwe-', '-katAnIzAwAndRfAlTIIGIzItnatfvOz-SisEdr@DRprImli-', '-mIstelAtIdD@tnomACAbWtkatAnbAt-ItlistwEnmcrImartsimkcldfcr-', '-dontnowIlAvclfIIGzInwUdlikamEntAdmIstelR-DItRribcrdIkatAn-AndowEl-@zmACIztu@sk-wazDAyuz-SitRndAgEntugo-', '-YsopozDoItstuRlifcrDEm-DEnkemDAIksploZAn-', '-gUwazdongroandAtapsAvv@dzbAt-andugrWnd-onRts-AnYgIyAmz-IzD@tso-', '-DAgoldAnfliz-IfsDAsEdAlflis-hiharkAnd-', '-sAnj@myAt@mibliz-woCu-', '-DWfcrwAnlItAlh@fWR-Sih@dbInAwUmAntckIGtuAbO-no-nativInD@t-Sih@dbIntckIG-SIstckIG-DerwRno-RsAnzAnvDAkavRseSAn-SAstTIGz-wAnTIG-katAn-', '-DAanRAbAlCYldsmETmIsEr@zbrADRwazwckIGswIptliAptWnfrAmIstRistRlizwclstrutcfAsAndhIzfeswazpel-', '-Adl@stDAkatAnkambYdwaztuclApIrAsIzInASUrdf@ktAnhiwazsletAdfcrDAsInAt-', '-wYSUdhinatbiIzADRmEn-', '-SiwaznathRsElfwAnotAvliIntElzItwUmAn-SigretliAdmYrdIntElAjAnscrwAtEvRlUktuhRlYkAntElAjAnsAnADRz-', '-@zSiAwetAdhRgESisRveDAtebAlwIDboks@tAsfEkSAnAndhIzkwYAtudfcrhRsoSAlfAGkSAnzwRfyu-tunYtDErwR-SijEktDEmcfanhRfIGgRz-sRjemzkrYtAnDArICIGglISm@nyAf@kCRAndledikrYtAn-mIstRInmIshIzv@ndRkAl-mIstRhErikrEswElInhIzsIstR-jantelRAndhIzsIstRAndmIstRCalsmIv-InDAivIGpebRzmEnCAnd@zlYklitubiyutYdAstesInRdRfrAmyujRzi-AsAlEkSAnAvgEs@th@dbIntItRmAnAnontuDAhostAz-bYDAmidIGAvkadAnEntrAsRliRInDAde-', '-mIsIzgreh@dmEtsAvAnRzbIfcrbAtnatEntAmAtliAndSiclwezh@dInmYndvIvAtliDErkrultitu-kcrnugroz-YsEbdIkSimedAvOntAvIntudusIGfcrTwEv-', '-SiwazDErfcrmostAgriAblizshRprYzdtuhirmIstRkrEswElIksprEshImsElfsokcrjAli@zApruvIGAvnigrAlEjAgeSAn-', '-dubIlivInsamEjAkeSAn-@skmEritelR-', '-@bAlivInDAtrenInAvpipAltuDEh@skAdp@sAti-DAIGglISmAnhirhardAlisEkAndIthIm-', '-bAt-krEswEl@dAdsAgnIfAkAtli-kAp@sAtIdIfAzInomAslebItwinresAz-', '-DAb@ndApulzwRSUrvDIrsAndDAIGglISmAn-InstAnsIGIndiA-bIkemkwYtElAkwAnt-mIsIzgrewazmIstAfYbAthardlidErdItmIdAt-DAjEnRAltrEndAvDAgamvRseSAnsimdtubiD@tmostIndAvIjAlznitAdtubisAbmItAdtuDASarprAskrutnibIfcrbiAlWdmACIjAkeSAn-And@zfcrD@tloRresAz-DErwazsImplikrImAnAltuopAnsACyusAlAsaprAtunAtiztuDEm-', '-fYlzAtumihIroIk-@dAdkrAswElAvOdIGhIzsIstRzYz-', '-bAt-winatA-Iz@liwElkAm-', '-mEritelRhWEvRrIledAdDAtelAvzcAtumIsIzgrezprYvAtIrletR-', '-fcACAnetli-sEdmIstRv@ndAhu-nob@nAzAnsADAnRzclravIG@tAvbEtAmyuCuAlAndIst@ndIGanmostAvDizm@tRz-', '-hinoDAsIlvAfliz-hIzInzcrzmAstbimruAn-', '-ItwazDAfRsgretsarohIzlYf-ItwaznatsomAnstDAlcsAvDAkatAnItsElfbAtDAf@ntAsi-DAhops-DAdrimzbIltRWndAd-', '-YdIsmak-DAkrulswan-', '-ArEvAleSAnAvhIzlAvlYtAdAndplYkAnslolitulItflemlYkAsAnrYzovRhImAndlEkthImInbRnIGwAndR-', '-hip@ntAdtunoIfSitunu-crnuAndkErdnat-crkErdAndnunat-', '-SiwazsostrenjAnhumAnAkriCR-', '-DAwRldwazwctRveldImIsts-', '-DEnAvazsAdAnD@tmIdeDAsAnSatA-hadInstIl-nobRTAbErstRd-DIsgYwazlYklyuzdilAvDARdstim-', '-wErwazDAyusAvAm@jAnIG-', '-D@nlugodh@dbInlEvAlwIDAdYtsAwikAgo-AndnW-', '-pRh@pSitumYbiDEr-wetIG-wipIG-', '-histartAd@tDATct-hihRifcrTs@dAli-', '-hizbl@SdIst@ptDAlcGfarDRAndfarDEranwRdAntIlinIrdDAr@mpartAvDAklIrIG-AndplUtfUUtApanDAtribrIj-', '-DEnhilUktWn-DAlUgumwazdrY-', '-histUdAmomAntbiwIldRd-DEntRndAndrAStApanDAYlAnd-AgretSitAvd@zAlIGsAnlYtswEpDAples-AndbInidleAmYtim@sAvclAvgrin-DI-tclwEtAndwIloli-', '-DIskwErzAvkatAnSarpejdh@viwRjAstAbWtuvRztubolz-', '-cAwAnlcGmomAnipczd-stupAd-Aget-wIDAtRAmezmAnt-DEnlindIzAliAjEnstAtri-', '-higezdAbWpIplEkst-AsdanISt-', '-hirliDAridIGAvDArItAl-wIDInsAnAtwRrkAnpenzsAmwAnh@dADAkAnWlfrAmDAlUgumtuDAgrit-IntuwICfAv-fcrmRh@drendbYAlcGAndklUkAtwe-DcsAlWIGItuEmptidREktli-', '-his@tdWnwik-DIwIldRd-AndwAnTctwazAprAmost-somA-', '-DAyIrzAvDAdezAvhRdYIGwRtEn-', '-DAhopAndrimAvharvAswazApanDAl@nd-', '-ApInDAsIkronzcrleanDAlItAlwYbEd-', '-DAnEdAnw@lAv-InlAsTIGzh@dbInkrclIGAnkripIGRWndhR-Sih@dstrAgAldIndAmspiClAstErRAgEnstsAmYtigr@spIGD@tstrofcrhRlYf-waznaldIndkripIGfIGgRz-bAtnWItl@st-wikli-SiobAnhRYzAndkwESCAn-', '-fcrwYlSil@nhRCErAnh@pidmimiplEZRItsanAndbRdAndtri-', '-SirozwIDAflitIGgl@nsg@DRDAScloWndhRDEnglYdIGfcrwRdwevRIGtrImyAlAs-slIptAkrcsDArodAnIntuDAswam-', '-Sih@dbInbcrnwIDInItsbcrtRz-wIDIthIzbcrzSih@dlYvdIndgron-AndwIDInItsbcrdRSih@dmEthRlAv-', '-anSihRidAntIlswipIGdWntuDAlIgun-AndDAYlAnd-lo-DAkatAnlebIfcrhR-', '-DAtrwazImpti-bAnhinu-', '-hidartATuDAtrizAndpczd-Avtclm@nzjcGlibAtslImlimed-', '-ItIzAvErifYnoldples-AvrEdbrIk-scfAndbYApil-pWtRilYkAn-wICh@zdIspRstAdsWk-wIDh@piIrIgyAlErAti-sowEztubrIGDArEdbrIk-IntutRnzAvfrEndlikAnsp@nyAnSIp-wIDAlYmstoncrdAmAns-sRWndIGDATrigevAlz-DAwIndoz-AndDAdcrples-', '-DADArIndozarp@Ct-wIDwUdAntenz-AndDAdccrYTIGk-IzlYkDAget-ItIznEvRopAnd-', '-fcrItIzAsalAd-hEvih@nsAmdcr-AndmAstwAnsh@vbInInDAhEvAtAvSAdIGwIDAsanRAsbeIG-bIhYndDAlIvRidl@ki-huAjEnstinhIzm@stRAndmIstRsafDAgrWndz-InAk@rAjAndpEr-', '-AlarjopAnfYRpleswIDrEstidagzInIt-AndAbErbcrdAdflcr-@tDAfarAnd-flisAzAvwclst@ktAp-InDAmIdAlAvDAflcr-sAmEmptikcrnb@gz-', '-AndwAtTruDAlEft@ndwIndo-', '-sEvrAklozhcrsAz-ApIlyAn-AspIniGwil-IntInoldbakswYtopAnAndstaptfolAvkAlRdrYz-', '-@tDAEjAvDIspaks-DErlYzAgretwUdAndcl-wIC-soparzmyudAleSAnIzkAnsRn-bItRzAvstrcGrIzEmblAnstuDAfYnAsgrikskoptR-IndAspESliInDAtotAlcsAvItsnoz-', '-doztriDAhWsIzplenW-', '-bADErazclwezAzstrAGgRzsEnsAvlYf-wEnDAsAnAzbrolyAnt@ftRren-AndnWhihIzpcrIGdWnhIzbiIGz-AndmekIGsparkAlzAmAGDAwEtstrcG-AndlYtIGAp-EvRip@CCRvIvAdgrinmas-andDArEdtYlzAvDAkWSAd-AndtRnIGivInDAmAdiwctR-DEIzhRiIGAlcGDAC@nAltuDAdren-IntuWRmIrR-fcrDAElobIldAks-crsizIGDAErpRtunAdiAvgItIGAgrIGk-wIDhIzmACbadiInIt-DIzpasAbAl-', '-crDAgretbarndcrzarTronwYtopAn-AndmEnaRbIziDEr-mEnIGDAharnAs-AndRDAsupRIntEndAnsAvmIstRgobi-DAwUda-ADRwYs@tAlR-huInRtinzDEmwIDAletAstrEtAlstAngasAt-', '-hEdisRl-cfAntUDApRtunAti-wEnhREnsb@kwaztRnd-AvlUkIG@tDAplizIGrIflEkSAnAvhRsElf-InDozpalIStsRvAsAz-fcrDAoktebAl-wazyuZuAlitRndAplYkAskrin-AndwazmcrfcrcrnAmAnt-D@nfcryus-AndSikUdsiyhRsElfsAmtYmz-InDAgret-rWndpyutRdISAz-DewRenjdanDASWzAbAvDAlcGdildItRtebAl-crInDAhabzAvDAgret-wICclwezSonmYkj@spR-', '-dInatsApozhWEvR-D@tmIsIzpOsRwazEldRlicrSruISAndhRApIrAns-SiwazAgUdlUkIGwUmAn-natmcrD@netInTRdi-AvfIrkAmplEkSAnAnds@ndihEr-wElSepAn-lYkfUtAd-', '-DAfemlilYkDIsbItwinhR-AndhRnistYnAmcrAs-wIDAkantr@sbItwinhRkiGnAs-AndYnAssREfIkjEntAlnAsAvIksprESAn-mYth@zsRvdApentR-@z@nEksAlAnsAgjEsCAn-fcrAmarTD@tInmEri-', '-hRtAnwaznatlIskiIGD@nhRY-AndwEnEvRAd@msokemwIDiyrSat-simdtutekApAndAnfInISlEkSR-IzAbErAlcrgAnteksApAtun-pRsYsli@tDApOnt-wRIthI@dlEftcf-', '-DAf@ktD@tItwazCRnIGde-wazAnADRrizAn-wYItwazInkAnbinyAnt-tuh@vDAwIdcz-AndwYAkansAkwAntli-mIsIzpOsRSUdskoldmaliiDAhWsmedwIDAnyuSAwAlsAvErAti-', '-tuclApIrAns-mAlih@dgatTruhR@ftRgInRwRk-In@nIgzEmplRim@nR-h@dklinjhRsElfwIDgretdIsp@C-AndnWokemtu@sksAmIsApli-IfSiSUdsItdWntuhRspInIG-tIlmIpIGtYm-', '-spInIGIndid-', '-YnEvRnuycrikwAlzcrg@loznAs-', '-hutctyudIskrAbAplcr-eSUdlYktuno-', '-kAmDAwoldfcrDAwUdasAndid-', '-D@tswRCyudlYktubiduIGIzIt-', '-@tzDAwewIDyu-D@tsDAroyudclYktugo-h@dlcGzturuAn-', '-mIstRotlizIndid-', '-yuanRrErAnprsItIGWntuycrwRk-AlItAlwYl@fRItstYmtupUtbY-', '-mAni-mYrnztrYtold-DizwUtAtdWntuwcm-', '-koldAzItmYdarlIG-blAsycrswitfes-', '-SizgoIGtupUtDAanIGTIGzAwe-', '-mAni-RYtIdlYtuduIntuDAbarntutYmi-tusiDAwItad-', '-nonono-tati@dgItRfitwEt-sEdbIzIzpOsR-kUriGAwehRYRd-', '-dIdEvREnibadisiDAlYGk-skrimdumIzhIzpOsR-brEnIGtAcrdzDAtebAl-wEnhRYh@dfalAnanDAblustrim-', '-tadihWEvR-h@dIsEndAdfrAmhRCErwIDgretswIDnAs-AndwazclrEdiInrItritpcrtsDAdEri-wIDAscrtAlvwadAlIGrAn-AndInAmWntAvf@t-anDAnipAvhRnEk-wICmedhRlUklYkDAmEdAmcrfAsAs-AvAwYtsAklIGpeg-', '-AndSiwazvErifWndAfyutul@nriCAl-', '-Yh@pAnhRdhRtckAvyuInDAsemzcrtAvwe-', '-wiCShih@dD@tb@nElnAs-AndYwazonliAlIvInyIrzold-Siuztuse-yolh@vAfrEndanRzInycr@ntreCAl-IfY@mtekAnfrAmyu-fcrSih@zAkYndhart-AndYmSUrYfWndItso-', '-AndDErzlInAnInDAhWsIzYkUdwElspEryu-fcrYgatlatsASitIGAndtebAlkloDIGAntElIGzIzIntmidAp-', '-bAtnatmcrD@AmAtInDAbYbAlAnd-sEdYtA-', '-nedIrAnd-yunEpRhRdmiseD@tclpipAlRkcldtufcrsekDErwRkInDErf@mAliz-', '-wik@nclbisRvAnsAvgad-wErEvRrlathIzk@st-bAthigIvAzAsdIfRAntscrtsAvwRk-AkcrdIG@zhifItsAsfcrAtInkclzAstuIt-', '-YkUdnomcrhElpspEndIGmYmYfIntrYIGtuduwAtYk@nfcrDAsolzAvADRz-D@nyukUdhElprAnIG-IfyuhRdlItAltatikrYIG@tDADRInduDAhWs-DArvOswUdgotuycrhart-yuwUdTIGkAdIrCYldwazIntrAbAlcrIndenjR-AndyukUdAntrEst-wITWtrEnIGtuhElpRIndkAmvRdhR-', '-YvstrcGAsRAnsD@tnoivAlwIlh@vAntuyuAndmYAGkAlInDACIldrAn-fcrmEniTIGYh@vdAn-', '-YdIdAntpriCwITWtdREkSAn-', '-dREkSAn-', '-Y@nApamAnpeSAnswIDyu-', '-YdIstYmDAtijAntAmAnh@driCDApelIGzAnd@gatdWnfrAnDErhcrsAz-hItwazpleInDemEntukAmIn-', '-sEdmIstRRwAn-wIDhIzsteklikcrdi@lAti-', '-osRdonmEnSAnAd-sEdbIzIzpOsR-', '-YdoYnIGycrkICAn-', '-pOsRznatItolmIsi-', '-sEdkEptAndaniTcrn-sItIGhEmsElfwrhigUdsiAlcGDAScrtp@sAj-tuDAopAndEridcr-', '-nosRhiIzAnd-hizgcnturasAtRtusimIstRwEstDAf@ktRAbWtDAwol-', '-bAtDErspaDRIndbarnsR-IfhibiAvEniyus-', '-noTIGkyu-YljAstlUk@tDAwElbsAnlinAmEsAjAbWtDEmwIDycrSEfRd-', '-YmaskAmAnADRdeAndsiycrhEzbAnd-Ywantuh@vAkAnsAlteStwIDhImAbWthcrsAz-', '-fcrAfIzEniwErInDAfarmikAnsEndfcrhImInAmInAnt-', '-DosR-sEdmIsIzpOsRr@DRlarnd-hiwUdAntlYkIt@tcl-', '-bAtyunomcrAbWtD@tD@tYdisR-', '-YTIGkYSUdbiduIGyuAsRvAstItRnyuWtAvsACApOs-', '-YnozfarmIzInbEtRcrdRD@nEniADRwIDIntEnmYlzAvAs-And@zfcrDAkICAnhih@dItsmYlIG-YdontbIlivDErzwAnInDAkIGdAmtubitId-', '-rYtAbY-YndEvRsiycrdEri-AnAsIrdErimIsIzpOsR-', '-DIsmIsIpOsRsEdblASIG-AnbIlivIGD@tDAk@ptAn-wazrIliIntRAsAdInhRnotp@nz-AndwUdAjAsthIzApInyAnAvhR-tuDApIrAnsAvhRdEri-', '-boYvnodWtItsInkEvAlcrdR-', '-DApErAspl@nd-lYkD@tAvDAkrIstAlpalAz-wazAtEmpREriIgzIbAt-', '-DAlAndAnpl@ntwazlAstEmpREri-bAtnapRmAnIt-sAplYIGbIfcrtwaztcrnWt-nofyUrD@nTriTWzAndl@mpsInhotElzjRCAzstcrzAndwElIGz-InDAvIsInAtiAvholbRnvYAtA-', '-DEr-mEsRzjanSAnAnh@mRhRpUtIntupr@ktAzmEniAvDAYdiAznWst@ndRdInDAYd-AndsAkyUrdmACyuzfUldetAfcvDAwRkInuycrk-AvwICDAstcri-h@zjAstbAntol-', '-DAdYnAmolAlEktrIkmASiInDosmcl-wazrobaSt-fcrAndRclDAvEriInspidzAvwctRpWR-AndDAdIsIsAtudzAvDApl@ntuwICItbIlcGd-ItkAntInyudIn@ktivyusAntIl-etindYdinYn-sEvAntinyIrz-', '-boIGtuhIzInsIstAnscGloprESR-dIEktkRAtfcryusAndEnslipapyAletAdIstrIks@zDAonlisefAntruliyunAvRsAl-prafAtAbAlwe-AvdIlIvRIGAlEktRkAlEnRjituvDAkAnsumRz-@tAsAnhIzbInfrikwAtlispokInAv@zAnAponAnt-AvDAcltRnetIGkRAt-', '-wY-IfwiREktIsteSAn@tDAfclz-ItIzAgretIkanAmitugEtRdaptuDAsIti-', '-DErsimzno-gUdrizAnfcrbIlibIGD@tAwIlCEnj-', '-brct@zDAprEriAzAndfriAnTct@zDAwInzD@tswEptDEm-hiIz-IniosInkr@dIkliApoztulusAnwesfAlmATAs-dupl@nzAvEnpYRD@tnAglEktDApUrItDAge-', '-EvriTIGhihIzdAnhIzbInemdD@tDAkansRbeSAnAvEnRji-DAtkAntrAkCAnAvspes-DAIntEnsApAkeSAnAvkalCR-', '-fcrsAmyIrzItwaznatfWndfizAbAltuapRetmodRzancltRnetIGkRAnsRkAts-Ym@trizAnwazcfAnRjdAgEnstdIdsIriAsli-', '-ItkUdnatbIyuzdfcrAlEktRApletIGcrdApAzISAn-ncrkUdACarjtorIjb@dRiz-clAvwICarizAli-wIDInDAbIbAtiAvDAdrAkRAt-', '-bAtwAn@tkImtubiAkwEsCAnAvlYtIGAzsk@tRdsAbRb-AgrupAvdwElIGzanDA@pskRts-arImotkAntrirEzAvAnz-cr-AfarmWz-DAcltRnetIGkRAntIncloAmAnsevItsdenjRwaz@ndiAzYdi-', '-@dAsAnwazIntalRAntAvS@mAnSati-AdnATIGwUds@tAsfYhImD@tkUdnatst@ndkrcsIgz@mAneSAnbYmYkrIskop-tEstub-AndgElvAnamAnR-', '-anlEshikUdsAkyUrAndEnjAnAvsmuDArAnIG-AnmcrIgz@ktligAvRnAntrEgyAlihdDAmozAv@tAbAlfcrhIzdYnAmoAndl@-@tAsInriAlYzD@thiwUdfYndItclmostImpasAbAltugIvAst@dilYt-', '-mIstR@dAsAnwazAlidRfcrAhEdAvDAtYm-', '-hiAvtenDAdIzYRdspidAndlcGRdwIDAfRkCAmbrIk-clsorEgyAletRvspid-bAtwetIndfcrnIndIketRdAvErAfYd-', '-DEnAg@nDErwaznononwEryutulubRked@nEnjAnfcrkAntInyuwAsrAnIG-AndmIstR@tAsAnAndfcrmhiD@t-@zImRinEnjAnstartAdbIfcrDASIplAftiycrg@nkAntInyudradIGAntIlItriCtItshampcrt-so@tEnjAnfcrhIzpRpAsAzmAstprRdustlYt@tcltYmz-', '-EtAsAnh@dAnstcnhIzIzstcrkfRstgretsAntrAlsteSAnsAstImInDAycrk-anDAmantAbAlarksIstAm-kAmvRdbYhIzfidR-AndmenInmEnSAn-wICrIzAltAdInAnotAbAlsevIGInDAkastAvkAndAktRz-@zAgEnstdIstretuwYRsIstIm-tuWt-AvDA-trikYnd-', '-hisunfcrscD@tstIlgretRAkanAmiwUdbinEsAsErifcrkAmRSAlsIks@s-natAlonfcrDAlarjRtErAtcriopAnIG-bAtfcrDAkanp@ktdIstrIktAvlargsItiz-', '-DAstrcGpAzISAnhEldbYDAEDAsAnsIstAm-AndRDAstrEnyuwAskampAteSAnDItwazclrEdisprIGIGAp-wazAncrmAsliImpruvdbYDAIntrAdAkSAnAvATriwYRsIstAm-AndAgevAnAmidiAtEnpADAstuInkAnDIsAvlYtIG-', '-ItwazspESAlisutAdfcrAtrYlpl@tclso-InDARlidez-wEnAyildAvsIkscr-etl@pstuvDAhcrspWRwazkAnsIdRsAbjIktfcrkAnr@jAleSAn-', '-DIsritgAndAktRzwRAvDAovRhEdfolYnkAnstrAkSAn-@twRAnstclbYDAkAnstAkSAnkAmpAneD@th@dbIncrgAnYzdbY@tAsAntubIldEnikwIpsAntrAsteSAnz-', '-medwYl-hih@dkoldDApanmitumekArIpcrtAvDATriwarsIstAm-nonInIGglAn@zDAhApkAnsAn-botdaktRjanhapgInsAn-AdmIstR@tAsAnbiIGIntupEndAtAndv@nRz@prEktAkliDAsemtYm-', '-YTIGkhiwazprh@smcrApriSAdErvD@tYwazAvDAdIsAplAnAvDAEdAsAnkAnstrAkSAntuparn-AndTctItwUdbiwElfcrastuwetIntIldDAmcrnIGDAfcrTbIfcrwiStartAdA-', '-bAtDApl@ndr@n-AndItwazDAfRstTriwYRsteSAnInDIskAntri-', '-DewRletRyuzd@zrIzRvbISiInzAnfYnli-fcAvDAEnSAnrItardfrAmsRvAs@zpcrtAvDA-kAlEkSAnAv@dAsoniA-bAtDerRmen-InpraktIgliIzgUdkAndISAn-@zwAnIndstcldInetinetiTri-', '-DAarkl@pAndstcldWtsYdAkastRmRspramAsAz-crInAsRkAtfcrpAblIkstritlYtIG-bRndSomEniWRznYtli-SomEninYtsInDAmAnt-Anwazpedfcr@tD@tret-sAbjikturibedfcrWRzwEnDAl@p-mYtbiWtTru@ksAbA-', '-@tAsInhEldD@tDAlEktRAsAvisold-mAstbimEZRjAstlYkg@scrwctR-AnhiprAsidAdtudIvElApAmedR-', '-DErwaz-InfAnAtskEptAsAzAmhRWndhImanDAsAbjIkt-AndwYlADRInv@nRzwRclsogIvIGDAsAbjIktmErATct-DApAbAlIktUkAtfcrgr@tAd-D@tEniTIGsoAtRliInt@jAbAl@zAlEkCIstAvi-bEtkUdnatbisin-crwed-@ndonligevsEkAndEriEvAtAnsAvItsElfD@tDAIgz@kpOntAdyuz-kUdnatbibrctu@kyRAtrEjAstreSAn-', '-AndsDAEvISAnAlEktrRlItIkmidRIznolcGgRyuzd-dIspYdItsEkSAlAntkwalAtiz-', '-DAprInsAbAlImpOdInDA@dASAnAlEktrAlItIkmitR-IzD@twICIgzEmpAlfYzDApWRAvAlEkCAsAvitudikAmpozAk@mAkAlsAbstAns-', '-AsosietAdwIDIsImpAlfcrmAv@pR@tAs-wRvEriAsInCinyiAsdIteAlzAndrIfYndmAnstusAkyUrrEgyAlErAtiAvapReSAn-fcridAmfrAmIn@kyArAsi-AndImyInAtifrAmsACt@mpRIG@zwUdprRmItfEftAvkRAntcrd@mIj-', '-DAst@ndRd@tAsAnlidRpr@ktAswazturImuvDAsElzwAnsAmlAGTtuDAmidRrumAvDAsEntrAlsteSAnkAmpAnifcrIgz@mAneSAn-AnADRs@d-biIGsAbstAtutAd-', '-IndIsEmbRetinedii-mIstRdAbAdyujejEksrEdAnIntrAstIGkepRhRbIfclDiAmErAkAnInstAtutAvAlEktrAkAlEnjAnErz-anDAsIkCIrzAvpr@ktIkAlIkspIriAnsh@dAptuD@tYmwIDAmidR-DEnmcrjAnRAliInysDEn-AniADR-', '-DADRz-h@vIGbInInapReSAntuScrtAdtYmtuSodEfAntrIzclts-clDoDeclsowAnkwIklituAdIvAdAntbesAz-', '-InDIskAlEkSAn-ICUdbimEnSAnD@tDAsosieSAnAvEtAsAn-AlumAnetIGkAmpAniz-InDAsemyIr-AdaptAdrAzAluSAnzyun@tAmAsletuDAfEkt-D@tDAEDAsAdmidRwaz@ktyRAt-AndD@tAtCyuswaznatIkspEnsiAfcrsteSAnzAbAvwAnTWzAlYts-AndD@tDAbEstfAn@CAlrIzAltswRInvEriAblisAkyUr-InAsteSAnsAmIGkRAtbYmitR-', '-DAminRkAntInyudInjEnRAlsRvAsdUrIGetinYtinYn-AndprabAbliAptuDAklozAvDAsAnCRi-', '-hiwedAnriwevDAmidRplets-AndpRsudEvRilYnAvInvEstAgeSAnAm@jAnAvAlpAtclInvem-', '-hiTEldhiwazApAgEnstIt-AndDAprh@psAnADRkYdAvAjabwUdsudImbEnR-', '-DAprabAm-wazshapt-', '-wcrmcrEntrAstUdInDAtEktnAkAlkAndISAnAvDAsteSAn-D@tInDAkAmRSAlpcrt-', '-wih@dmitRIzsInwICDerwRtubatAlzAvlIkwIn-', '-hirSiwUdsde-kamfRtudAnsuDAmAGDAlAvlipl@nsAndrICIgzctIks-rIjOsIGDAhardAvoldtRnRvDAgardAnhusEnspalizfRstr@ptRAsEntrAns-h@dtekAnhRIntuhIzgUdgresAzfcrcltYm-', '-EvRiCnsSikUdstil@ftRpr@kAsWRzwRovRAnd@fRrDAkl@mRAstAm@nzAvDAbOzApanhRtYmwRfUlis@tAsfYd-wazsizdtuflYanDAwIGzAvDAwYnd-tuDAplWRz-', '-DEndIr-sEdmIsIzwItni-yulnAstbikYndItuhRD@nEvR-TIGkwAtItwUdbifcrwAnAvyutubiAwefrAmhom-ivInAmAGkprEndz-', '-sAmhWAvclDAdezwEnDAhomfilIGwazDAstrcGAst-DIsdehItsimd@zIfSikUdbErAtnolcGR-', '-DIpSibUdonlisifranzifcrjAstwAnmomAnt-', '-clSizclweD@tDApi@no-sEdm@n-SimAstbiDErnWsAmwEr-AndDEnsAmbAtil@ft-', '-@tDIz-DAbAndAlopAnsAdAnli-And-Wtpaptfranzi-', '-bAtpalikUdAntspik-And@vj@spRh@dAnkcthRjAstIntYmSiwUd@vtAmbAldovRb@kwAdfrAmDAstulfranziAndcl-', '-@sktfrAnziwIDhRDItAlfesklostApalDizon-', '-nErgAlste-krYdAnd-sepalimondyu-', '-oyulaRD@t-dIrAstAnd-bEstmIstRkIGYEvRsc-bAthWdAdyumegm@mil@thRkAm-', '-IzAnisplEndAd-prYdj@spR-InIntEnsprYdswElIGAp-faDRnuhWtuduIt-', '-DAErDErhisEdsuTIGlip@tIGhRbrWnfczihEd-', '-Yno-g@stpalikAntronIGhRsabz-Ywont-onmi-Yk@ntT@Gkyu-', '-@sktpanDiInIntEnsIntrAstslIpIGdWnatApalizarmzAndkrWdIGApkloztuj@sprRsYd-', '-yEs-clAlonbYhImsElf-AsRtAj@spRbiAmAntliAndwIGkIGppyUriAslituDADRztustcpDErl@fIG-hidIdnWtrulifransi-', '-anoj@pstR-YDAstgobYmYvErionsElf-', '-mErj@pyuvgatAd-l@ftpRsi-wYlDADRskrimd@tDAsYdAvj@spRzpes-', '-TWntmYndItpali-wIzpRj@spR-twazAndhRfclt-', '-dIrmi-Aj@kyAlet@dDAoldjEntAlmAnAndDAatmostAmesmAnt-AndsACAtYm@zYh@dtugEvhRhirtu-', '-h@dIdhRmADR-EvRl@thRgo-', '-Si@sktImpolsAvli-YdIdAntbIlivyukUdprRswedhRfaDR-', '-YdIdAnt@vAnifIrzIfYwRktupYtli-sEdDAclCEntAlmAnkAmplesAntli-', '-hikrYdIndhYdAtAn-jAst@zIfhionDAholnAvDApEpRz-AndkUdIspozAvDEmcltusuthIzf@nsi-', '-AndDAoldEntAlmAnwazsodIlYtAdwIDhIzsIksEs-D@thih@dtupRstWtIntuAsIrizAvScrth@pibItsAvl@ftR-D@tckyupYkwYtAspesAvtYm-', '-Adl@sthikemWtAvDEm-AndwYthIzpesvItRAsli-', '-ItIzsIkstinyIrzsEnsjanbRrksAndYd-', '-hIzwYfnWlYzbIsYdhIm-AndDAwYtS@ftD@tmarksDErgrevzglimzAgrcsDAwitfildz-', '-frAmDAncrlijAngrevyYrdwAnlUksWtovRAv@stjEkRblRd-markdcfAnskwErzAvwidAndkan-lYtAnddarT-darTAndlYt-', '-frAmDAgrevyardgedwAnkAnkWnDAtdAzAngelipentAdfarmhWsAz-DAgIldIdwEDRvenzanDAbegrEdfarnzwinkAdhiCADR-AkrcsDAbrinAndbrWndAndyEloTildz-', '-DAErAndDARTarAkyUriAslimeth@dAndIntRmIGgAld-@zIfDAwAnwRDAprAT-AvDADR-', '-hiwazAsplEndAdfIgyRAvAbO-tclAndstret@zAyAGpYntri-wIDAh@ndsAmhEd-AndstcrmigreYzdiplisEt-AndRAsIriAsbrW-', '-D@tsnatmACAvAjabfcr@n@vlid-hirYhpbIntutWlnAndb@k-', '-@tIgz@ntRD@tyusliplet-', '-Sig@DRAphRenz-', '-plizwetfcrmimEri-emIlpokst-', '-YnEvRsiluzsYdovRhir-', '-hWTrWnyIfgatAnsyukemhom-YwISYh@d@n@dAlitumomYcrCRd-', '-YgEtwAtumYnmizwEnYgodWntupIkjEriz-', '-Indiydhih@dlUktAwewIDAparpAsAvnatsiIGIt-', '-DeTIGkycrprWdbIkczyu@bInAwetuskulAnRsAmTIG-', '-DErwazsAmTIGIndIvAjuAlAbWtDAgretfarm-AmostAnyuZAwAlCImnAsAndkErfcrditel-', '-aniDRsYdAvDArod-fcrAmYlbIfcryuriCtDAflUtAvDAhIl-stUdtclosejarInCEjAz-D@tglcsigrinmarkIGcfDAyElofildz-', '-EniwAnDErAbWtwUdh@vtoldyuD@tDIswazwAnAvDArICAstfarmzanDAdIvYd-AndD@tDAfarmRwazAwUmAn-WnIks@ndrAbRksAn-', '-DErIzivInAhYtRolAvbihYvzInDAarCRd-AndRDAwcnAtriz-', '-fr@Gkr@dIGglISspIli-AndDAmcrhirEdAbWtDIsdIbcrskes-DAendRiRhigru-', '-mArisYd-', '-AbreskwYndh@dkAmWpAnwazdrYvIGpAfiwYtklWdzAvrcstDAskY-', '-DAarCRvwazsparklIGInrIpAlIGInDAsAn-', '-D@tInbAteSAndIzYdIthR-', '-obAtAmkl@dtugEtDIsplesmod-', '-jAstsmWldAlYldrozAz-DeyarclwesospYsi@ftRAren-', '-winEvRh@dsomEniAvDAmInhirbIfcr-', '-YsApozItDAwEtsizAn-wElyuh@vtukatDEmtu-', '-YsApozD@tsDAl@tTizAntuADEn-', '-ItIkslYtIGtusiEvriDIGgroIGsolf@st-AndIgEtDAbr@skYd-', '-crjiAspl@St-lAtDADIspYtoIpsclovRDAgr@s-', '-InAfyumomAntshihRdDACErizdrapIGsmartliIntuDApel-AndhibIg@ntuswIGhIzsYd-wID@tlcG-ivInstrokD@tvyuAmErAkAnbOzEvRbRn-', '-bIripIktjErizAndz@IGscftlituhRsElf-strIpIGwAnglItRIGr@nC@ftRAnADR-SIvRIGwEnSitctASclRAvrendrApsanDRn@tAnhEr-', '-AndemiAlnohIzwestElidWntcrDAjEritriz-', '-D@tsAmRDArenzh@dbInsomEniyAndapRtunD@tItwazclmostmcrD@nS@lbcthAhAndhIzm@nkUduDAkipApwIDAkarn-DAcrCRdwazAnEglEktAdwIldRnAs-', '-YdotnoonlAvDEm-bAtYnatdIndInza-', '-IfYfyulD@tweYfilD@twe-', '-hiriCtApAmAGDAbr@nCAzAndbIg@ntupIkDAswit-InsApAtfrut-lcGYvrikADRdvEriztIptwIDmedpinklYkwYtkcrAl-D@tfcltuDAgrWndanhidAdclsAmRTru-', '-hidraptuh@ndfAlIntuhRm@p-', '-yEs-dontyu-', '-Yo@tRzolmAj-onliyusimz-kYndAvstedAndskulAtitRi-', '-wEnSiyuztutWlmiAbWthIm-YYwazwAndRdwEDRSiwazAnkAlItAlAnlAvwIDhIm-', '-ItwIdsRvyuclgrYtIdSiwcktcfwIDkarl-', '-YlYktutcktAkarlAbWtnuycrDAndwAtAfElokAnduDEr-', '-Y-emyul-', '-SIrnAyunatTIGkIGAvDoIGcfDE-', '-bArizfesf@lAndRhIzbrutIGgez-', '-Y@mSUran@ts@ndhRhElpyuwIlsteanhir-SimRmRd-', '-YdonwItst@ndRWndAvmAgan-', '-YwantubiduIGsAmDIGanmYonAkWnt-', '-sAmtYmzYdontwantuduEniTIG@tcl-AndsAmtYmzYwantupUldAfcrkcrnRzAvDAdIvYdAgEDR-hiTrWhIzarmAndbrctItb@kwIDAjRk-so-lYkAtebAklA-', '-DAtItYRdAvsiGm@nAnhcrsAzgoIGApbAndWn-ApbAndWn-', '-YwISiwRtsor@TpAs-AndIAntItsowRktAfovRTIGz-SisEds@tli-', '-T@Gkyu-hirItRndASartli-', '-AndhunEvRyustubigrcstumi-', '-Yk@ntplewIDhuwIlYkAlItAlbOEnimcr-his@tsDoli-D@tswAtyumEsmRi-', '-bAtemyul-ItYAndRst@nd-InclWRkUdtYmzcrovR-wikUdnEvRdunYsTIGztAgEDREnimcr-', '-AndEnih@DRznaTIGtuAndRsp@nd-', '-D@twcrdl@st-IpIlgoAwe-AndTIGwIlbitAst@zDeyuztu-', '-Yprefcryu-bAtD@tsnaDAsem@zIfyupredycrsElf-', '-Yk@ntbretuh@vbATIGzYwant-hisEtsmoli-AndYwcntprenatuh@vDEm-natIfYmbd@mfcrIt-', '-D@nolRdblUdYmzarovR-', '-sEtRdi-argAsfIfti-DAsiAndbrok@ntclrW-nol@ndIndsYt-', '-DAhRYzAnsimzIkstrimlidIstAntIn-', '-clmAndenjR-AndsAfRIks-wRnidAdtustrYkAsparkAvhyumAnfilIGWtAvi-bAtnWD@tY@mwEl-IzneCRh@zrIsimdItswe-', '-yusimYnSAsmYakAl-YsEd-sinhImkAntInyuliwIDhIzgl@stuhIzY-enjAs-', '-wAnmYtbi-bAtlEsfrizInDAnW-', '-Y@mnatImpletIGD@tDAretAslo-bAtD@tDAsidDAsowYd-', '-wiarwIzIGtYm-IndDAf@ktiAz-Yh@dnatkAmclDIswetutekAlAlselApanpandanRr@ft-', '-hikcldDAsiApan-AndYlcGfAwOjtIkIGAlItAlsel-', '-DErfcrdontcktumiAbWtyuzAndpraspIks-', '-YtekDIsIzmY@nsR-AndYlivDAprAfEsR-tubYhIzlIpswIDImpeSAns-', '-sAndY-angAsIkstif-', '-nATIGnu-wEDRAnCenjd-DAwInfrESAns-', '-bAtDErsimnorizAnAfIr-', '-DAS@tAlAvDAr@twazklIrliWtlandAanDAsRvAsAvDAwez-', '-truivAsiIzAvImfAnAntwID-', '-AndmAstbiIzwYdIzDAm@dAtReniAn-wcrDeAl@nI-AndwYnhY-', '-DizTct@dutetAdbiclde-AndmYm@jAneSAnskIrslikamdWn@ftRsEvrAlWRsli-', '-YSEtR@zYrIkcldizmanstRztumYrImEmbRAns-', '-YsctDAhembRdmiziADAskIlAtAnAvwAnAvizkriCRz-TRdifitAnlek-', '-YsApozprAfEsRlidAnbrak-wazAvmYApInyAntu-AndivInSUrdmYfIrz-pcr@ftRh@vIGIgz@mAnDApek-hIzYztrRvRstoSAn-frAmsYdIsYd-', '-tuzde-clhIzenteDA-', '-dIrIGhIzwaC-YslEbd-', '-tuWRz@ftRwRdzAtErbAlSarkRwIldmi-', '-TrEfwazhidApanAwarRimWnApICdWnAg@n-@dAdIstAnsAvtwif@vAmz-', '-DErzAwlAwelokrYdDAprAfEsR-', '-fYtwazWtAvDAkwIsCAnW-DArEptWlzroz-DewIldRWndWRlItAlr@ft-wIDArIpetAdigretAD@nD@tAvIksprEstrAnets-', '-tumasthRzonlirIkritIGclDIskAmoSAn-AndDAfcrmYYz-arCirEpthWsAvDAprImAtAvwRld-', '-Yk@nIstIGgwIStAAvIkDiAscrAs-gloiG-lYkAmr@dhatko-AndhIzlarj@zAm@nzhEd-', '-ItsjOzAncrnAs-AndAkcrdIGAn@CRAlAst-ItIzarnvInDAlEsD@npanhAnbrAdAneditutiT-', '-DozhyujkriCRzAt@kiCADR-wIDAgretAs@nAmasAti-', '-sAdAnli-DAIkDiAscrAsAndAplEsiscrAs-dIsApIrbIlo-livIGAwRpAlEdiIGInDAwctR-', '-@zfcrDAITiscrAs-@zhirItRndhuzsAmRIGk@vRn-', '-DArcGzbIkAmlcstInDAdIstAns-', '-DAwEDR-IfwimeyuzDAtR-wIlCenbIfcrlc-', '-DA@tbAsfIrisCarkwIDvepRz-prAvetAdwIDAlIktrRsAtijEnRentAdbYDAv@preSAnAvselIGwctRz-', '-DAlEkCIklYt-kAnskyUrslip@nAtretuDAdEnskRAn-wICIzTrcptovRDATiAtRanwICDAb@tAlAvDAEloAnsIzAbWtubiwejd-', '-DAErIzhEvi-DAsi-Izkam-', '-frAmtYmtYmAflisitAftAvmIs-wIiyEtsAmglimIGlYtlEftApanIt-trcpsdWnApanDAd@nsflcrAvgre-AndluzIzItsElfInDAophek-AndApEnAtrAbAlm@s-', '-DA@tmAsfIr@zEvAdAntliCarzdAndsRCarzwIDAlInCusAti-', '-DAwInEvRlclz-bAtuAkwYRInkrisstrIGkT-DAv@stb@GkAvhEviklWdIzAhyujrEzAvhar-AvfIrfAl-wInDAgEstsAndrESIGstcrmz-', '-DErIzAhEvlistcrmkAmIGan-YkrYd-pcnIGtAwcrdzDAthRYzAnd-', '-DozklWdsiG@zIfDewRgoInAkwEsDAsi-', '-anDAm@stclrEdiYsiDAlYtpleAvAl@mAnAsinElosfYR-DA@strItsIlkECAznatAbrETAvwYnd-Andh@GzYkSitAvlEd-', '-bAtIwih@vnWsistu@dv@ns-wYduwiyEtlivD@tselus-wIC@DAfRstSakAvAtEmpAst-mek@psYzAsInAmomAnt-', '-D@twIlbiDAsefAs-nononAvR-', '-DApWldApvepRzkAntEnstInAwctR-AndDAEr-ptInAvYlA@kSAntusAplYDAv@kyAm-lEftbYDAkanAnseSAn-AvDAmIst-rWzAzItsElfIntuAwRldwEn-', '-harnstRznYn-', '-frAmDAAndRsRfAsAvDAklWdz-DErkAntInyAlAtmISAnzAvlRdlYt-AlEkSRtm@tRIzInkAntIyuAlEvAluSAn-frAmDEkAmpWnAtmalAkyulz-DAg@SAsElAmAntsAvDAEr-hitubisleAt-wIDmOstR-fcrInIrmAbAlkalAmzAvwctRrEStApwRdzIntuDAErAndfalb@kAgEnInwYtfcl-', '-YwIfRdAvDATAmamAtRItInAkets-DAfIgyRIzAblUtRetAn-', '-IzDA@tmAsfIrkAndISIG-h@vIGwansriCtAstEnsAti-tubIkAmfanAl-', '-DAr@ftbErzanstIltuDAsWfist-', '-@tnundAvWlAtsADAstcrmridEvAls-', '-hiCIvAsIzl@StusAmpartADAr@ft-', '-DAwezrYzAbAvWRhEdz-', '-Desimtubiwiarlcst-bAtY@mnatSUr-', '-hinadzhIzkAnsEnt-', '-DAfarAblh@fAvItwYh@f@zIrblu-AndDAsYzAvAtEnIntSIl-muvsoliAbWtDAr@ft-bAtrIvalvIGanItson@ksAswIDAstanASIGfAlasAti-@zIfwIDprWndbYDAfcrsAvDAwRlwYnd-', '-hirkAmzDErItglYdz-nWIIzApDAr@gAtstAmpAvDAm@st-D@nsItlYtlilipsanDAprAvIZAnde-dIsEndzwIDAlYtbWn-AndjAstskImzDApWtRm@gAzhi-hcrAbAl-', '-wiSUdbiblonAt-bAtno-DAd@zlIGdIskAvmIstIriAslYtnImblilipsDAsYd-ItAproCAzharndz-hufIksAzhIzbluYApanItsEdAli-ItTrEtAzDAh@dAvmYAGkAl-hufclzApanhIznizwIDIzhEdWntuAvOdId-', '-AsEfAk@nIGsmElAvnYtRjAdfIlzDAEr-ItInRzDATrot-ItfIlzDAlcGz-', '-wisAfRstYflIGpenz-', '-AndhWadDAdREkSAnzfAlUk-', '-pUr@lAs-', '-ItwazDAwYdr@vitrItRnIG-spEndItlidrEstDApErwYtkIdglovzInwAnhAd-AndAlarjf@nInDADR-hikemtrcnIGAbaGInAgrethRi-mAdRIGtuhImsElf@zhikem-odDAdACAstDAdAkCAs-', '-owUtSibis@vAj-IfY@vkEpthRwedIG-', '-WwaztukApDAf@nAndglAvz-And@zDAhclwazvErihat-Sik@tp@nIGhRsElf-clDAtYmzSiwEntantaki-duyr-dIrhWkwIrEvriTIGIztude-', '-AndyEstRdet-TIGkswEnanjAstAhyuZAwAl-', '-awAnRfY@bInCenjdInDAnYt-', '-YclmostekYk@nImEmbRfilIGAlItAldIfRAnt-', '-YltrYIfYnoclDATIGzYyustuno-', '-YS@lnEvRgItuCwEnti@tD@trYz-', '-hWtCIrfAlihisimztugrAnhWnitlisprEdhIzkcz-AndwElkAmbItAlfISAzInwIDjEntlismYlIGjaz-', '-noYdmet@tmYmYndAbWtIt-IfYmmebAlclstedWnhir-', '-ItAlbinoyusDErpUtIGDErhEdzdWnAnds@G-kAmApAdiAmdIr-', '-Y@mso-vEritYRdbiIGclAbonhir-', '-And-YdIklEr-Itstub@tD@tItIz-', '-YwISchEdAnkwYdsomACsEd@lAs-@zSiswImAbWtrYGtufandhRweWt-', '-YS@lbipAnIStfcrtnW-YsApozdbYbIGtrWndImYontIrz-', '-b@twiIlbiAkwIrTIGfrtubiSR-', '-Y@mvEritYdAswImIGAbWthir-omWs-', '-krYd@lAsAgEnfcrDIstYmDAmWstwazpprIslIGclovR-AndSifEltsRAn-ItmAstbirIliAfEntAd-', '-wIDWtckAbWthR-Enimcr-IfhidrADRnat-wiAndid-', '-wiwantyutuhElpAspAblISsAmlidIGwRkAvluTRzfcrDAjEnRAlAmErkAnmarkAt-wiyuduIt-', '-DAkAndISAn@zD@tYwIdbiprAmItAd-tumekluTRtckAmErAkAn-strimYhIm-sRtAspik-bIkczyuwIlnEvRgEtpipAlwEDR@nRWtsYdDAluTRAnCRC-@kSAwAlituridluTR-AndmAstwimekhAntck@zhiwUdtcktuDe-tuAmErAkAnz-', '-wAtIsbIgImwID@t-hIzkamAntRriaGgAleSAnz-', '-DAndRtekIGwICsimdsoAtr@ktIvwEnvyutAzAlItRErit@sk-kruvDAmostIfAkatwAn-AndAtYmzbIkemAprEsAv-', '-ItwazrItAmAnlEtAn-', '-duwRkh@dtubikAndEnst-', '-AwRC@nWbisEtAbWtDAcrjAnAvlIDRzkamAntR@ngAleSAnz-', '-mACletR-wAnAfrEndAvhIz-wazprApEriAnAdISAnAvclhIzlEtAnwRks-hirImarktuhIzhomsRkAl-IfYh@dmYweAbWtIt-DewUdrIpAlISonliDozAvmYbUks-wICh@vdakrAn-mYgAleSAnzfcrInstAns-And-', '-InADRwRdzDizTrimEntUktanDAlEkCRzwICluTRAdrEstIsCAnz-InDAkcrsAvgAleSAnz-AndrcrAprAprEdDAm@nisprIpfcrDAprIntR-', '-ItprAzEnslYknoADRAvDuTRzrYtIGzDAsEntrAlTctAvkrIsCiEnAti-DAjEstAvAkeSAnAvDAsInRfcrDAsekAvkrYsmErAtsAlcG-', '-bAtDAEsAnsAvluTRzlEkCRzIzDEr-', '-DAlcrdhwazgIvAnAspWRtutiC-Andtuhir-mAthImclsogIvAsDApWRtusRv-Andtudu-luptu-', '-DAwRdAvWRgad-S@lst@ndfcrEvR-', '-InEvRiweDesctuAndRmYnyATcrdiAvsimpcl-', '-DesEdtuDAgAleSAnz-yuh@vnorYtufTIGkhYliAvkcl-', '-hiwazDAl@stAtRnduprYst-', '-palkimletRInhIzpAniTAs-', '-IndidhipRsAkyutAdDACRCAprYstfcrAlcGtYm-', '-duyusApozDAgadfcrDAsekAvAfyubuTrAnhErAtIkst-wAtDAsoAnhIzIntYRCRCt-', '-AgEnstDizbostIG-fclsApasAlz-pclbUldDidIfEnshIz@pAstalIkAfcrtiAnmInAstri-', '-@zDAImb@sAdRAvAgAvRmAnthIzanRdfcrhIzcfAs-AndnatfcRztprYvApRsAn-soDAmInAstRAvkrYSUdIgzclphIzcfAs-AndcrtItDAgenAfcrdiAmAnmEn-', '-pclteksprYdAnhIzmInAstri-natuhIzonpRizbAtuDAprezAvgad-', '-pam-AndApasAl-natAvmEnItsEtR-', '-itAvhikclzmInAstRztuDAekAnsiAvm@n-crAkcz-DEmdREkli@zhikcdDAprafAtsInApasAlz-', '-pclDAklErzAvDAfclsApasAlzwRkcldRsEntlitRbYm@n-mcrbYm@n-', '-DAmostDekUdkwYm-Iz@tDEwRsEmpiADRz-', '-himEnSAnzDApasAlzfRstbIkczDerwRpOntAdturEkDAbYgad-', '-DAkclwaznatsbitekAnwYtli-', '-fcrpRsAndApAzEstnarjIznatInAf-', '-IzspOlzwAnzbEstwRk-', '-wEnYwazyAGm@nYTctpclwazmekIGtumACAvhIzkcl-', '-YdIdnatDEnrIlYzDAImpcrtAnsAvDAmInAstri-', '-YnonATIGAvDAdakrAnAvfeTbIkczhRrItctsofAstrinzD@tAsRtAnti-AndnobAdiAndRstUdspRCAbostIG-', '-DIsIznosInfAlprYd-yuzholiprYd-', '-IngadDAfaDRhuresdhImfrAmDAdEd-', '-bAklsimsRpRvAlAs-anfRstsYt-', '-DizprAvRtAzAvDArYCnAsAvkrYstrIzIstDAfaDRAndDAsAn-AndDAwRksAvDEmboT-', '-InDIsholpIsAlpaltritsAvDArEzREkSAnAnhrYst-', '-bYhIzrEzREkSAn-krYswAnDAvIktRiovRlcG-sInAn-flES-wRld-dEvAl-DET-hElAndEvRiivAl-', '-fRstu-', '-AndclDAbrEDrAmwICawIDmi-', '-DISUgofarAndSEdIGDAmWsAvDAfclsApasAns-', '-clDoDAbrEDRwIDbInarnatApasAlzlYtmYsElf-yEtDEroldwAnmYndwIDmi-TIGk-rYt-AndCiC@zYdu-', '-DejunatgowRDAEnAmizAvDAgaspAlprAdamAni-DegowRDAkrISAnzar-', '-wardD@natInvedDAk@fAtpramAnsAzImpriCDErdakrIGtugavmAsprInsAz-DISApsIndDaktRz-@zwih@vDEmbYDAhElpAvgad-', '-wilUkfcrD@twRwcrdwICYh@vnatsin-ncrycrhRd-niDRh@vEntRdInzDAhartAvm@n-', '-natclvIgAleSAnzh@dbIkAmprAvRdAd-', '-Dizmenzk@natbIkAntEmAnAnd-', '-DerImendufYnrIgardlnAsAvmEnzAvInyAn-', '-wRrEvRDAminzAvgrescrfWndDErIzDAholICRC-ivInDoi@ntAkrAstrenzDEr-', '-somACfcrDAtEtAlAvDApEsAl-nafalozDAgritIGAvDAkasAG-vRsTri-', '-gresbituyu-npisfrAmAgabDAfaDR-AndfrAmWRmcrjizAzprYst-', '-DAtRmzAvgresAnpisarkamAntRmzw@vpcl-AndanWprItiwElAnyrstUd-', '-DAgrItIGAvDApasAlzrRfrESAn-', '-gresAnvclzDAlImISAnAvsInz-pis-AndAh@pikanSAns-', '-DAwRldbr@nzDIsAvprAmISAsTckrAn-', '-IkspIrAnspruvsAs-', '-hWEvR-DAgresAndpisAvgadwIl-', '-mEnSUdnatspEkyAlidAbWtDAneCRAvgad-', '-waz@natIncftusefrAmgadDAfaDR-', '-tudusoIstuluzgatcltsAgEDRbIkczgadbIkAmzIntarAbAl-wiwisiktumEZRAntukamprRh@ndIzImfAnAnm@jAsti-', '-hikemdWntuRT-lYvdAmAGmEn-sAfRd-wazkRsAfYd-AndDEnhidYd-st@nIGklIrlibIfcrAssAD@tarhartsAnYzmif@sAnAkanhIm-', '-ImbreshIm-AndfrgEtAbWtDAneCRAvgad-', '-dIdnatkrYsthImsElfse-Y@mDAweInDAtruT@nDAlYf-nom@nkAmAD@ntuDAfaDRbAtbYmi-', '-wEnyuaryuAbWtDAneCRAvgadAparfrAmDAkwESAnAvjEstAfAkeSAn-yumebiIzprRfWnd@zyulYk-', '-wiartuhirkrYstuhIzbEnApOntAdbYDAfaDR@zardAvYntiCR-', '-@tDAsimtYm-pclkAnfRmzWarkrit-D@tkrYsthIzvErigad-', '-D@tkrYstIzvErigad-hIzApErAntInD@tpalAskrYdztuhImdIvYnpWRzikwAliwIDAfaDR-@zfcrInstAnsDApWRtuDAspEnsgresAndpis-', '-tubAstopisIGgreslYzInDAprabAnsAvgad-huAlcGkAnkrietdhIzplEsIGz-DAenjAlsk@nad-', '-ADRwazpaSAtAvrItAn-gresfrAmgadDAfaDRAndpisfrAmRlcrdjizIzkrYst-', '-DAEriAnstUkrYsfcrnobAlAnpRfAkriCRsApyUriRivIntuDAInjAlz-bIkczbYhIm-gadkridAdhEvAnInRT-', '-mAhAmAtclsospikshaliAvkrYst-', '-pcstIkstrAzTim-', '-hinEvRluzAsYtAvDApRpAsAvhIzApIsAl-', '-natgooldhRsIlvR-crp@SAl@ndz-wcrnenjAl-bAthImsElf-wAtfccR-', '-natfcrAkrWn-wRkIGDEm-wargUdnAs-bItfcrsIndz-', '-AndRskcrDizwRdz-fcrDEarfolAvkAmfRt-fcrscrkanSAnsAz-', '-hWmErwiAbtenRAmISAnAvRsEns-', '-paliAnsRz-DAm@nhuhIznemSizIzkrYst-AndDAsAnAvgadgevhImsElfcRsIns-', '-sInskrYstwazgIvAnfcrWRsinzAzst@ndzturizAn-D@tDek@natbipUtAwebYRonEfRts-', '-DAsEntAnzclsotAfYnzarsIndz@zgret-sogretInf@kt-D@tDAholwRldkUdnatmekAm@nzfcrsIGgAlsAn-', '-DAgretnAsAvDAr@nsAmkrYs-AvsAnAvgad-IndAketsDIs-', '-DAvISAsk@rIktRAvsInhIzgrctWtbYDAwRdz-hugevhImsElfcrRsInz-', '-bAtwiark@rlAs-wimeklYtAvsEn-', '-wiTIGk@bYsAmlItAlwRkwrmErAtwik@nDAsmIsAn-', '-DIsp@sAjDEn-dErzWpDAf@ktD@tclm@nRsoldmAndRsEn-', '-DAs@tAtudzsprIGzcAmAfclskAnsEpSAnAvsIn-DAkAnsEpSAnD@ts@n@zAsmam@tR-izAlitekAmkErAvbYgUdwRks-bAtwimAstprAzEntRsElfAntugawIDAgUdkanSAns-D@twimAstfilnosIn-bIfcrmekfilD@tkrYstwazgIvAnfrRsAnz-', '-DAs@tAtutIzyunAvRsAlAndprAtIkCAliDAvElAptAnDozhukAnsIdRdDEmsElvzbEtRAvDAnADRz-', '-bAtDArilsAgnIfAkAnsAndkAmfRtAvDAwRdz-fcrWRsInz-IzlcstApanDEm-', '-anDADRh@nd-wErnaturIgardDEmIsotErAbAlD@twimAstdIspEr-', '-hip@sAzAbrAklifrAmpRsAs-DuYdiyAsAndnAmbRz-AndfrAmYdiAzAndnAmbRztupRsAz-frAmdAhEvAnztum@n-frAmAstranAmi-tufIsialACi-hik@nfyuzAs-ArEDR-IsnatDAstIGgwIS-sAbjIkt-AndabCIkt-fRstAndfYnAlkczAs-AndhIzdrinIG-Avjum@CAkAlfIgyRz-lcstInAflUksAvsEns-', '-DAIGflAlAnswICDAtumizh@zEtsRsYzDApanbAstErAti-IzdupartliCuAmIsAndRs@ndIG-', '-IvDIsApozd@psAvDIsdYAlAl-DAnIlpl@tAnAstsfWvdhIdAnmiIGzIndkAnEkSAnzwIDAjuwISIndprIsCAnskIpCRz-AndWtAvDEm-DeIlIsAtAdaktAnskwYt@tvEriAnswIDIsfIrAtAvpletA-', '-DewRAbzcrbzInhIzDAalAji-AndwRrAnRduDAmIniAnAvhIzni-wYlD@twICwazCruligritIntrulikREkCRIsikInhIm-hIzsEfcrtmiAlYzInkAnEktAbstrEkSAnz-waznatAndRstUdbYDEm-@tol-', '-DArIsAldenjR-AvDAmardrAnkamAnteCRzanDAtuniz-falIGtAntuDAbzsRjAtisAvDAniulkl@dAnAss-', '-InDAprEzAnti-wiarwElAwIr-b@t@nEnSAntDAlazAvrR-IztubimCIvrAtAdfrAmhImsElf-AndbYDAkAntEmpRErihIzCivTct-', '-DAf@sizAvDAnyupl@dnAsts-aronliInjrAstIGtucls-bIgczDeIksItAdAvfizAvDAhyumAnmYnd-wICfrfeolwYvAlIGAnDAfRstsEnCrisAvDAkrIsCAnyIrAt-AndIznatholiEkstIGktInaRolde-', '-bAtDeh@vnATIGtuduwIDAInjAvrAteSAnAvpletAl-AndInspIrd-DAarApoztuhIv-', '-widunatnohWplitAlwUdh@vAenjdhIzondYlAs-wRwEDRdATctAvRrenjIG-EniAvDEm-bIsYkstututrIlAjizwICSih@zIksprEslikAnEktAd-wazEvRprEzAntuhIzmYnd-', '-DAdYAlApIzsprYmErlikAnsRndwIDA@niAmAlkrieSAn-InkludIGAndRDIstRm-DAh@vAlibardAz-AndwIDm@n-AtIli@zwAnAmamvDAEnimAls-', '-bAthih@znat@zyEtDAfYnd-DIsIntumitiAtEritcrO-wIClYzsAmwErbItwinm@dAsAnAndlETm@tIks-AndhiwUdh@vfElt-D@tDErwaz@zfretAndInpYAtiInrIGkIGTyIrizAvfIzIksfRst-InDAcrdRAvnalAz-@zInplisIGDAbadi-bIfcrdusol-', '-wIDhR@klAtAz-hi@dnalAjAzDAprAp@CAlflAks-wYdAnIks@gRAs-hiIzRdtDuprAdatAnAnsAvmYn-clDoAnmItIG@n@lAmAntAfmAsEsAti-wIClizAnIzInketholAvsAvdui-wYDApIfAgRiAnz-hisApozAzDAmIstiAvDAwold-tubIkAntInd-InlAmbR-', '-meni-IfnatclDA@lAmAnsAvDAprisolkrEdIkfAlazAfi-arInkludAdInDAtumiAs-', '-ItIzsprabAbAl-DAtDRmIGliSAnAvDAediyAstugadcrAvgar-tuDAwRld-wazstIfRAndlikAnsivdbYhIm-@tdIfrAntYmzAvhIzlYf-', '-DAYtDAyErzclsorImIn-bAtDeh@vtIkAmtYpsInneCR-fcrmzAvmEn-EndAmolspRdsfISAs-', '-DAstYlAndpwEnAvDAtIniz-DAfRgretlifrAmb@tAvEniADR-AvDAklAtanIGdYlAGks-', '-Apwetoh@znatAsIGm@striovRhIzInstAnAnt-wIChiIgzImAdsiDAfijAzwcrsAmpozhIm-', '-naTIGkInIksivdAbyutiwRartAvTIGTAdASAn-AndwIChIzyuzIGwRdz@ftRhIzDAkAstAmm@nR-', '-bAtInDArEstAvDAwRd-DApWRAvlewICsinzDAfelhIm-AndDAjrIm@tIkfcrm-IzholdigIvAnA-', '-hikUdrYkInwAnstYl-bAtnatInAlaDR-DutDAgrikl@GwIjh@dnat@zyEtbInf@SAnbYEnipUwItcrTAlazAfR-tudIskrYdfIzIkAlfunamAnA-', '-AndhEns-wifYndDAsIGzscrtAvkwAmzinAs-InDAtumIrzAvkweto-wICk@n@ktRrYzAztufIlAzafAkAlpurm-AvlAkriSAs-', '-DErIzAwAntAvflo-AndcfAn-ADAf@ktAvrIDAm-DAminIG-IzsAmtYmzAvskyUr-AndDErIzAgretRyuzAv@tAzISAn-AndmcrAvrEpAtISAn-DEnAkRzAnplentozRliRrYtAls-', '-pletAlh@dnatDAkAm@nAvhIzAtIriAlz-wICwUdh@vInedAldhImtupAjusAprRTIkwRgvard-', '-sorAtizbIgInstAtumirz-wIDAsAmRiAvDAripAblIk-', '-AndnWhidDIzYRztusiDAYnzilzsit-sEtInmoSAn-ItwUdlYktunohWSilIhevdIndsAmgretstrAgAl-', '-AndDErfcr-tuyuYtRndtumiAz-sIdIzInAvlckrAs-wcr@twasAvhAlazAfRAnAstesmAnt-AndtuyukrutiAs-huclATiAnsnotubisInAlAnliAkamplISt-IntuhRmokrAtiz-wazclsofItAdbYniCAdAndEjAkeSAn-tuSirInardIskcrs-', '-YwIl-yuftuniIzApruvz-YAbruf-', '-wazAnDErInsofrAtiz-tuAtelAvsalAns-hu-biIGDAfrEndAvtrokAtAsmYkretrEnfaDR-toldIntumYgrEnfaDRkrItiAs-Andhitoldmi-', '-sAmponzAvsalAnwRrIsYtAdbYAbOs-', '-AInwAntwazDAsAbCIktAvDApoA-sEdDApRsAnhumedurimark-', '-DAsAbCIk-wazAvErinobAlwAn-ItdIskrYvDAmostfemAsEkSAnInwICDiTinyAnpipAlwREvRIngejd-', '-bAtDAmEmbRiAvDErIksplOtsh@dp@stAwi-oIGtuDAl@sAvtYm-AndDAIkstIGkSAnAvDA@CRz-', '-t@lAs-sEdDADR-DAholstcri-IndwirsclAnhRDAstr-', '-bAtIniCIpt-DAtAdISAnzAvhRonAndaDRl@ndz-arbYAzr@jAstudfcrEvR-InWRtEmpAlz-', '-DAtIni@lAjizwIChEvrisYAtAjSIlAz-Wtovycron@nclsalAn-arAmyItSIldrAnstcri-', '-fcrInDAtYmzbIfcrdAgretflA-@fIGtuwazDAgretIztAnb@stAvsItiz-AndIdDAnoblAsdidz-Andh@dAb@stkansAkCuSAnAv-Eni-AnDRdIfisAvhEvAn-', '-salAGmarfAld-AndIzYRdtubifcrmdAvDApRtIkyAlRz-', '-nYIGTWzAndyIrzh@dyul@st-sIsSifWndIdyuwRz-AditTWzAnd-sInSifWndItarz-@zaR@nolzrIkwcrd-', '-mEnilczIksIstAmclvAs-wICYDAkWntApartAvyuwRs@zDewRdInDAoldIntYm-', '-YwIlgrifDIdIskrYhAmtuyu-AndIS@lridDAkWntAvDEmESuliZR-InDAsikrAtr@jAsCRz-', '-AbzRvAgEnwAtkIrdAlatuk-InDApruzsutAvwIstAn-sRCIGWtDAditTIGzAvDAwRl-IndAplYInDEntuDizAvmEn-', '-DAmostfeyimAzAvDAmo-wazDAovRTru-AvDAYlAndAvAtwY@ntAs-', '-fcr@tDApEroAvhRanIgzIstAns-AnwErDAatRhWldIGzh@dIzRtAdhR-SirIpEldIGfetR-AndcfRonAkwcrtgevlIbRtiCAvclDAneSAnzwIDIndIpIlRz-', '-DIsIzDAEkslAneSAnAvDAS@lAlzwiC@dfWdInD@thartAvDAtl@ntikoSAn-', '-bAtYwUdnatstik@tAtYm-bIkczYwAntAdtuifrESlemEmbRi-', '-DEnWl@kmiIksklIndtuyu-DAcrdRAvarEntAtenAnt-fRst-tumiz-wazAn@CRAlfAlazAvR-huspikAvDAcrAjAnAvDAwRld-koIGdWtuDAkrieSAnAvmEn-AndDEn-YS@lrisivDAmEnhuhih@zflied-AndsAmAvhumwIlh@vIGEjAketAdbYyu-AndIntudusAmtuyu-@zDAlcstDATiiInsItAzAns-YfholDiCIpSAnr@thRdspo-', '-bAturEdi@tupOntInAkAnAmAkAvAluSAnfarAnstetIGDAImAjAnzAvDAledi-spESlYzdkAmsEmpSAnAvAgUds-@z@nEvAdAnsAvDAkyunEristrIGkTh@dbIgAntuwRkWtInAmarAlEsAlEbRAtsIstAm-', '-DAtIlTIvkAnsImpSAn@z@nEvtdAnsAvwElTIztubIklcst@zAdIivAtAv-broT-', '-sACkAnsEmpSAnAsfAlztuDAwImAnhIzmiliAnsAdEntAltuDErark-ItIzAminzstuDErkAntInyudlebA-AndaftukAnsEmpSAndYrEktAdtuDAronkAmfUtAndfUlAzAlYf-', '-wIDATRDRAdfansAndkAlCR-DIstubimeCenjIntusImpAlkAstAmAvAmcrAlAsrIgRAsk@rIktA-bAtwAtEvRbiDATIrAstgolbesAzAvDAdIstIGkSAnwIChIzmentend-wEDR-biAtubucrAnlarjAkAmEnSAn@lAti-AfiCRzAvDAkAmEnSAnAlskimAvkAnsEmpSAndInatCenjizAli-', '-InDAneCRAvTIGz-lEjRizAndDAkAmfAtsAvlYfbIlAGtuDAlEZRkl@s-', '-AndRDAtubusEdAvIkCAlzAndwapAtIklIri-sRtAnbEvRAjAs-YstrIklirIzRvdfcrDAyuzAvDAsApIrRkas-', '-gr@GkAnAsAndDAvDApETAlAjIkAlkansAkwAnsAzAvDAfriyzAvstImAlAns-D@fAtEndInDEtAntubIkAmanRifIk-@zbiIGAmak@tDAsekAndrImuv-AvDAsApIriAstetAzAvDozhucrebAltufcrt-DAIndElCAnz-', '-Ith@zivInh@pAnd-D@tDAnemfcrsEtAndIzizkAndISAnsAvDAbAdiRRYzIGfrAmsAC@narAjAnh@zpastIntuEvRdespiC-@zAsInAnIm-fcrnobAl-arjEntAl-', '-DAkAnsEmpCAnAvlEgjRiz-InDAtrusAnz-IzAkAmsEmpsAndErIktAdtuDAkAmfAtAvDAkAnsumRhImsElf-AndIzDErfcr-AmarkAvDAmastR-', '-wIDmEnikwolfAkeSAnz-wIDAmcrkcTAkeSAnz@zsDApetrErAkAlprAdISAnh@zgrEjAlAwikAnd-DAjEnAlrutIzfEltubirYtAndbYndIGD@twimAnSUdkAmsimonlifcrDAbEnAfIktAvDErmasRz-', '-DAbjIkSAnAvkosprIzAnsIpsElf@tIkspEniCRAnwImAnstrEsAndtWlsopErfrAneliA-Iz@nAbvIsAksEpSAntuDAsru-bAtItuwIlApIrInDAsikwAl-@tDIsIksEpSAnsmACmAAvDhIzAndsAmstEnSAl-', '-DAkAstAmAvfEstAvgEDRIGzprAbAbliArIjAnetAdInmotIzAvkAmvedi@lAtiAndrIlIjAn-DizmotIvsarAlzAvprEzAntInDAetudAvElAtmAnt-bATedInatkAntinyudtubiDAsoldmotAks-', '-DErIzAmcrAlAsAnlEbrAtsIstAmAbr@GkAIGgrets-', '-DIstufrEnSieSAnIzfEDAtbYDAInhErAtAnsAvwElfAndDAkAmskwAntAnhErAtAnsAvtEntIlAti-', '-mEniAvDizAfIlAtAdjEntAlmAnAvmIZR-artDAsemtYmIsImAnAvsEbstAnsInDAronrYt-soED@tsAmAvDEmAskesnEntAl-ADRsonlipaStlitubIretAd@zmYk@riskAmsumAs-', '-sEmEniAvDEmhWYvA-@zmekApDArItenRAndh@GgRsanAvDApekAn-mebIkczD@zbYk@riAskAnsumAnt-wITWtklolTAkesAn-', '-mEniAvDizAgEn-AndclsomEniAvDADRastRkrAsiAvlIstIgri-h@vIGtRnAtECtuDAprosAnsAmarAlAskAmprihEnsAvgrupAvYk@rizkAnsumA-InDApEsAnzAvDErwYtsAndtIldrAn-DErsRvAnsrItenRz@tsEktrA-', '-DAwErIGAvyunAfArmzAnlIvrizImpYzAkAnsIdrAbAldIgliAvdIpEndAnsAndmevAnbIsEdtubiImakAvsEvACAd-wiIlcrAstEnsAbAl-', '-DAwErRzAvyunAfomzAnnIvRizmebirEstAdIfYdIdIntutukl@sAs-DAfriAndDAsEvYn-crDAnobAl-AndDAIknAbgAl-', '-bAtDAjEnAldIstIGkSAnIznatAm@tukWmtuDAovAmIkt-', '-se-DozAfhIzIzwICarbYrYtDAprApRImpYmAntAvDAlIZRkcsAnobAl-sAC@zgAvmAntfYtIGhAntIGDAkErAvamzAnAkwItmAnts-AndDAlYk-InSUpt-DozwICmedikcsDAsAvstEnsAbliprEtAtrempOmAns-', '-AnEvR@zInDizkesAzDAmyuniAlsEvsIGkwEstAnh@ztujudErIkliwIDAprYmrIlEZRImpOmAnsAvfYtIGInhAntIG-It-izAliEkwYzArifEktAdanRifIk@rIktR-', '-DAlIvRibIkAmzAbnApSAstuniDicldhuarikwYAtuErAt-', '-InAjEnRAlwet-DonatolInckAnsIstAntliDiztugrupskYnsYd-', '-D@tIpEndAntuwazfEstElAgetdfcrDizdutAswazDAwYfcAvACifwYf-And@zwUdbIkspEktAdInDAletudIvopAntAvDAInsAtuSAn-wEnDAnEmbRAvkosAnzbYhImDizdutusckAsm@lipAfcrmdgrEnCAlAnEroz-DAwYfcrmenzDAmcst-', '-bAt@zwidIsEmdDAsoSAlskeldDApOnthAzprEzAntliriCt-wErDAdutAsAvYk@rAslEZRAnkAmsImpSAndIvclvApanDAwYfAlon-', '-InDAkAmyunAtizAvDAwIsAnkofCRDIspOntIzAtprEzAntfWndAmAGDAloImItAvklAs-', '-IfbyutukAmfAtIzACivtAndItIzAmcrAlAsfcrtutusEkAndst@nzifE-DemAstbICivdbYminzAndmITAdsD@tkAmInDEmsElfzsuDAgretAkAnAmIklcAvfOsAdEfAt-', '-Am@nAvDAhWsoldcltAk@ndusAmTIGIvDIsTErIksmAnIndidhikAmAlAtAz-bAtwIDAstIloRdIsEntIntuDAlEvAlsAvIndAjAns-AtanDAmarjAnAvDAslImz-DAm@nAndprEzAntlilzcrDACIldrAn-vRCAlAsizdtukAmsyumv@libAlgUdsfcrApIrAnsAz-AndDAwUmAnrImenzfRCAliDAsElIksponAntAvDAhWsoldzpIkyunEridisAnsi-', '-vErimAnsAvskwclRAndIskAmfAtwIlbiIndudbIfcrDAlastrIGkAt-crDAlastprAtEnsAvpAkyunEridisAnsIzpItAwe-', '-DErIznoklasAnokAmprItAt@zyilAtsoAvdIklibIfcrDAprESRAvfIzIkAlwAnt-@ztudInYDImsElvz-clgrEtAfAkeSAnAvDIshYRarspriCulnid-', '-DAkwEstAnAs-wICAvDAtumATAtswIlmostAfIktAvliwijDAposAnshuzkAmvIkSAnzItIzDIsYRtIfEkt-', '-iCwIlDErfcrsRvAbWtikAlAwEldjuIGDAanRzTetIzAvsoSAlgroT-', '-DAmAdAnargAnYzeSAnAvInAstriwRksInDAsemdREkSAnclsobYnAvRlYn-', '-ItIzEvAdAntD@fAlD@tDAprEzAntrEndAvDAdIvElApmAntizAnDAtarIkSAnAvhYTIGDiAtIlAtIvkAmspikyAskAnsEmpSAn@zkAmpErdwIDAlEZR-', '-ItIzclsAnYtAsAboldw@tDAsEbsAvbIlAtIvkAmsEmpSn@zAminzAvrApyut-@zclTDAInsIstAnsAnIt@z@nWlmAntAvdisAnsi-Iz@tItspEsInDozpoSAnzAvAkAmyunAtiwIDhimAnkamtEktAvDAIndAvICuIzwYdAstAndDAmAbIlAtiAvDApApyAleSAnIzgretAst-', '-kAmsAmpSAntukAmzAlajtuEnAmAntInDAs@ndRhAvlIvIGInDAsItAnanInDAkAmptri-', '-AmAnDAkAntrApApAleSAnItsplesAztusAmIkstEntekAnbYsetIGzAndhomkAmfUtsnonTruDAmidimAvnebAn-kosIpsAfISAnsitusRvDAlYkjEnRAlp@pAzAvpIkyunRriripyut-', '-DErIzEltIzAgretbAbIltiAvDAnebrImpOdImpIntIG-p@ktsgretRD@nInEniADRikAliwElDAfYndAnkAnsItAbAlbAtiAvwcrkmAnt-', '-AndRDAsimpAltEstAvAfEktAvnEsfr@drIthYsIG-wICSUdIkspEktAfYndlEZRAndDAkAmspIkAzkAnsEmSAnAvkUdz-dIvYdIGDAfildAvpAkyunEriEmAleSAnprItiivAnlibItwinDAm@TAWltsEt-', '-bAtDAEkSAwAlkosAvdIvolpAnth@zbInsAmwAtdIfrAntfrAmDIsYdilskim-DAlEZRhEldDAfEstpes@tDAstatAndkemtElDAr@GkfErmAtubAvTwesfAlkAmsEmpSAnAvgUdz-boTD@zAdarEktIksponAntAfwElTAnd@zAnElAmAntInDAstEndRdAvdisAnsi-duIGDAkcsYpisAbAlkACR-', '-aDAsEkAmsD@nspAmItIGD@tInstIGktdIsposAzmEntulUkwIDfevRApanprAdEktAvAfISAnsi-AndalatEvRIzAvSyumAnyuz-', '-ErikAnsIlieSAnbtwinDAtukAmfIktIGwRgwYAmAnsIzAfEktAdbYrIzcrtumekbIliv-mEnInIntukAtpAlYdAbsEvAnsAzAnsoSAldyutIzAvAsErmonyAneCRardIvElApt-mEniokAnAzeSAnsAfWndAtwIDsAmspiSAsAbtIktAvAmyilIreSAnAmbadAdInDErAfISAlstalAntYTAl-DErIsmACkAmIGIngoIG-AndAdilAvtok-tuDAEndD@tDAtckIzmenAvpEvAkeSAnturIfEktanwAtIzDAfEktCAlIkAnAmIkv@liAvDErtrAfIkt-', '-DAselAndfiCAzAvDIsdIvApmAntAvDAmEstIks@vAsh@vcritubInIndIketAd-', '-TuWtDAIntYREvAluSAnAvkAnspIkyAsIkspInACR-wEDRAvgUdsRAvsRvAsAzcrhyumAnlYf-rEnsDAAbvIsIGplAkeSAnD@tInWdAtuATIkCAlimEnDAkAnsimAzgUdfem-ItmAstbInIkspEnACRAvsRpAflutiz-', '-@zyusInDAspitAvEvRdelYfDAwUdk@rizAnandAtonAvDAprAkeSAn-', '-DAyuzAvDAwUdwest@zAtEknIkAltRmDErfclInpYznodIprAkeSAnAvDAmotAvzarAvDAEnsscltbYkAmsyumRAndRDIsk@nAnAvkAnspIkyAswest-', '-bAtItIzAnAvDAgrWndswRTnotIGD@tDAtEmwestInDAm@nwICAvEvRidelYfImpYzDEprAkeSAnAvwAtdhIsk@rIktrYzDAswestfAl-', '-InstrIkt@kyRAsinATIGkShUdbiIGklutAdAndRDAhEdAvkAnspIkyAswestbAtsACIkspEnICR@zIzInkWtAnDAgrWndAvInIGvIjAspIkyunErikAmpErAzAn-', '-AndWtukAmebiyuzfAnwestAlbokT-AndItsitIlAtItuDkAnsiwRmedimedAAvyuzAndwestInDAmostvErIGprApoSAz-', '-AndcfAnh@zmYmADRsEdwYlanhRlWpYlidmYhEd-SifIrdfcrtYmYwaznatmed-bAtfcritRnAti-', '-wErwidtubidInYdiCADErsIsYAti-', '-wYrwidtubidIvYdAd-', '-CUrliAmAstbibIkczwIrAndenjRAvlAvIGAtADRtuwEl-AvluzIGsEdAvDAkretRInYdElAtivDAkriCR-', '-wiztudIspyutAbWpatIksnRIljAn-', '-SiAtcriIGklrdumAnzdctRwazclwezInAmYncrAti-AvwAnInWRhWsAvYlAndIsEntAnr@tAkAlIzAm-', '-hRfyubAlhWTivhR-hRyildIGm@nR-fcrSikUdnEvRApozEniwAnwITWtd@DRIGApclhRstrEGkTfcrDAstrAgAl-', '-hispokfrEnCpRfAktli-Yh@vbiIntold-wEnidwaz-bAtdIlYtAdyuZAwliIntckIGDAbrctAstycrkCR-', '-AndsolYfAndETh@vdIspRsDAsRkAlAvYAlAnr@dAkAlzAndIsEntRz-IntuwICtwEnticrzAgoADAlItAlkwYAt-rEzAlAtklRjyAmAnzdctRwazrAsivd-AndbYhomSuztrulIGlAvdInanRd-', '-jEnycriAnfEbyiwEriAvitInTRdizhEvAnh@dp@stAwe-AndstIlDErIznorIplYfrAmsElvi-', '-YmnatdupriSinIGItwEnYseD@tInDiztYmzItIznatrEr-', '-bAtItIznatwIDAvyutudIstIGkSAnD@tyuSUdkaltsAvedDIst@lAnt-IfyukAnscyRanh@pinAs-', '-yuwIzseD@tAwUmAnh@znonidAvsACAkaSAn-DErk@nmbinopErAlAnAdfcrhR-', '-DAmcrSiIzIngevjdInRprapRdutiz-DAlEsliZR-wIShih@frIt-ivIn@zInAkamplISmAnt-AndArEkrieSAn-', '-tuDozdutizyuh@vnatyEbInkcldz-AndwEnyuar-yuwIlbilEsigRfcrsAlEbRti-', '-bAtdunat-sApozD@tYdIspErAjDAgIftwICyupAzEs-ncrD@tYwUdIskRdyufrmEksRsYzIG@tYonliIgzcrCyu-sotuTIGkAvIt-AndsotyuzIt-@zturEndRAkAndusAvtIrAmpRmAnAntgUd-', '-fErwElmAdEn-', '-DoYmedbibAt-AndAngreSAsAdvYzcryuIlAlWmi-DErfcrtusAskrYdmYsElf-wIDAbEstwISAzfrih@pinAs-hirAndhir@ftR-ycrtRfrEnd-rabRtsElTi-', '-sR-marjsIkstinT-', '-Yh@vnatvEnCRtuhopfcrsACrIplY-sokAnsIdRAtInItston-sonobAlInItspIrAt-', '-AnoDAfRstlEtRYrotyuwazclsEnsDIstr@SfrAmbIgEnIGtEnd-bAtY@mnatcltsAgADRDAYdAldrimIGbiIGItwUdsimdtudInot-', '-YTct@dDErfcrmYdutiwEtYlEfskuldtubIkAmAgAvRnAs-', '-InDAivnIGzYkAnfEstYduTIGk-bAtYnEvRtrAbAlEniwElswIDmYTcts-', '-Yk@rfAlivOdEniApIrAnsAvprakyApeSAnAnd-IksEntrAsAti-wICmYtIlivDozYlIvAmAGkstusAspEktDAneCRmYpRsuds-', '-YdonclwezsAksid-fcrsAmtYmzwAnEmtiCIGaRsoIGYwUdr@DRbirinIGRYtIG-bAtYtrYdtudInYmYsElfAndmYfaDRz@prAbeSAn-@mplirIwcrdAdmifcrDApprAveSAn-', '-YgEnYTIGkyu-DIzInsAdAnEsApolzwIlbirInudnomcr-IfYlYftubiInoldwImAnYSclrImEmbR@tTRdiyIrzhEns@zAbretdrim-', '-piEs-presRIkskyuzmifcredIGtuyusEkAndtYm-Yk@nathWbrYtIG-prOlidtuDihWT@GkflY@mfcrycrkrYnAz-AndparlitulYtyunoDetycrvYS@latbiwestAd-hWEvRscrflinrAlEktAnliInmebi@tfRstfalod-sibi-', '-Yk@natdunYmYsElfDAgr@tAfAkeSAnAvInsRdIGsoDizrIpY-', '-k@zwIk-marCtwEnisEkAnditInTRnizEvAn-dIrmAdAn-', '-yulEtRh@zgIvAnigretplEZR-AndYSUdnatfcrgyInmYsElfIvY@dInatElyuso-', '-AvDIsEkAnlEtRclsoSispok-AndtonmiD@tItkAntendAnInvAteSAnfcrhRtugoAnsiDApoItIvEvRSivIzAtAdDAleks-', '-anclgAztwEntisEvAns-itInTRdisEvAnSirets-', '-kAmkAmAngEIGrIlitYRdAvr@bsAns-', '-s@tRd@ftRs@tRtikAmzRWnd-AndYk@nh@vnohopAvhirIiycnakAvDAdcr-AndD@nbiIntcldD@tmIsiIzkAm-odIr-', '-InDIsmAnatAnAzlYfAvmYndb@twazAplEzAntAvEnt-', '-YwazuvRrIkRAgEn-bAtItwIltektuhRTriIntRvizbIfcrDAstIfnAs-DAInstrenjmAntI-AvDIslcGsEvReSAnwIlwErAwe-', '-mYYzsfIlAtIrzwEnYkAntr@stDAblIsAvsACAstet-brYtInbYhopsAvDAsiCR-wIDAmWlAnklistendRnWlIvInansRtAnD@tYt-EvRfEltrukAntrISAn-wAndRIGn-InTlcdIndid-lcGIGfcrholinAswICYS@lnEvRnEvRAbtin-smItIn@tYmztuDAhart-wIDAkAnvIkSAnD@td@slikWvDAnIstIkdaktrAnzcrtru-darkAndInScrdbYDAvEriS@tozAspIrCAldET-', '-IfkrISAnprAfEkSAnbInEsAsEritusElveSAn-YS@lnEvRbisevd-mYhardIzAvErihatbEdfcrsInfAlTcts-AndwEnYdIsYdanAn@kSAnYskErsDErmEmbRtulUktmYrdimRfcrAdRkSAn-', '-AndmintYm-AndoDAgretnAsAvjAholDA-YgnajDAprAfEkSAnAvhIzwRd-Y@dcrDApyUrdivDAkrISAnfes-mYTIriAzrYt-mYpr@ktAshcrlircG-', '-DAkrIzAnAzhalAdizkem-AndSi@n@ndrItRndtuDAparsAnAj-AndtuD@th@pihomsRkAl-InwICAlonDErneCRzIksp@ndAd-AmAGkstclADRpipAlDeSrIvAlDWtmcrlAs-', '-IndidDErwRonliwAnRtustrenjRzhukUdbiAdmIdAd-AmAGDAsIstRzwo-prAtusIGAsemrIzclt-', '-SiwazgcnWtIntuDAvIlAjansAmErAndwEn-@zSiwazdIsEndIGDAstipstrithRfUtslIptAmYsAnSifEl-hIwazdarkAnocnschRmIsCEns-tIl@ftRtYmhRgroInzAt@ktAdDAtEnjAnAvAp@sRbY-', '-AndfcrCAnAtliDAf@kCRkAnatbisEtulsIksAkakTAnEksmcrnIG-@znosRjAnwaztubih@dbIfcrD@tYm-AndSinWlYzEtRhWs-InAvEridotfAlAndenjRAstet-', '-hWEvRrImEmbRIGwIyu-toldmi-nemliD@tyuh@dkAmEndInDAm@tRtuhYRdIsIZAnD@narz-AndD@tSyUrrIzavzAsAmItwIDrEzAgneSAntD@dIsIZAn-wAtEvRmYtbi-YholD@tmYduti-tuyIldclsoAndtubisYlAnt-AndmebiclfcrDAbEst-', '-@ftRDIsdIzApOrtAnt-YnEvRdErrEkIGwIDsRtAntianDAInjRmAntAvAplEZRAgEn-Itsimz@zIfsAmfIt@lAdistUdbItinyuAnmi-', '-Y@mnatgUdInAfcryu-AnyumAstbikEptfrAmDAkAnt@mAneSAn-AvtuIntImAtsAsYti-', '-AgUdnebRAvDAbrcntez-AklEvRIntEljAntycrkSRwUmAn-hukipsAjAgAzSapAndkclwRz-AnfrAmRakyApeSAnhRIkspIriAnsAnEksAlAnsAnz-holdzDApAzISAnAvIlAjdaktrAsAnRs-And@zsACh@zbInAfrEndInmEniAtYmAvtrYAl-AndsIknAsAndET-InDAhWsholdrWnd-toldmiAkErtrIstIklItAlEnsAdAnt-kAnEktAdwIzt@bizfrEkCRlEgk-', '-t@bih@dlYvwIDEmfcrtEnRtclvyIrzAndwaz-@zSRrlAtIksprEstAd-wAnAvDAf@mAli-', '-hirAfyuz@tfRstIlIsIntuDAkErfAlAdvYs-ItwazrIpAnmAntuhIzlIbrAlneCR-', '-DIsdIsIZAnwazkAmInAkedtuDAgRlz-', '-t@bih@dtEndAdDEmInDErtalh@d-DeAnAnADRSUdtEndhRInhRInfcrAmAtiAnej-', '-@dtitYmDErwR-s@dInsYlAntAnDAmilwEntueAntACbYEnivATri-', '-Sih@dAnADRwedanhRmYndDIskrIsnAs-', '-bAtAndh@dbIg@ntusEvrAjIstIfcrDAhalAdizAndSarlAdwaSovRhRyAGgRsIstRz-wIDAjElAsAvAjAlAnsAvsAmwYldkriCR-D@tCenjAzhRvErineCRIfdenjRTrAnzhRyAG-', '-stAnmYIGzYdifcrDIz-lItAlsIstR-SiApbretAd-mIstAbiyufcrhRf@nsAdIndIfRAnstuAnsetAvhElT-', '-stIlhRhard@drAsivdASakInDApRsEpSAnAv@nzdElAkAsi-AnclDizhalAdiSiwaCtohRhRwIDAlcGIGfanIgzYti-wICAsofclAvsEdAnp@GzAfIr-', '-YdontwEDRbr@nwElwazmentenIGhImsElfAvDIsYm-', '-tusElAbretDARYvAlAvhRsAn-sIlDiAgevAsplEndAnsApRtuwICSih@dInvYdAdclhRrElAtIvz-AndItwazAgUdapRtunAtifcrmitumekDErAkwentAns-', '-wITWtseIGIdpazAtIbli-SimedmiAndRst@ndD@tbiIGhRsElf-AndAtlEstriIzmEmbRAvDArIpAblIkAvlEtRz-SiwazwElAwErD@tSiwazspikIGtuAnInsEkt-', '-IncrdRtuplizhR-YspoptuhRAvDA@bikanti-AndYh@dAkeZAntukoptulYnzAvD@tprAfWndrYtR-', '-mYd@mkREktAdmiwIDepetRnYzIGErfcrmbYprAnAnsieSAnAvDAwRd-skIvRA-wICminzdIvYtAd-seIGD@tItctubipRnWnst-skyUrA-AndSi@dAdD@tYctubivEriglEdtuhAvlRndsomACanDAfRstdeAvmYRYvAlAndpErAs-tElIGmiD@tItwUdbiInInpcrtAntdeIndmYlYf-', '-hRfeswazInAnIkm@fcrtAnsfYRdEvRiwAnwIDAwcrmAstsImpATi-AndyEt-IfyuIgz@mAtAtAtEntAvli-DErwaznatwAnbyutAfAlfiCR-SigUdnatbIkclh@nsAmbAtnoAnkUdh@vTcthRAtli-', '-sIlvIGotwazDA@dReSAnAvfr@ns-AndhRtElAntwazDArilsAmpcrt-AvclDAkamAtiz-wICDAgretIzcTRzrotfcrhR-IspESAliAv-DAplezAvmEriAvol-fcrwITWthR-hIzkamAtizwUdnEvRh@vgcntuprAstErAti-', '-sElDih@dIdnatTIGkD@thRgUdkandAktwazAmErAt-fcrSinuD@tSiwazvRCAAsonlibIkczhRsElflAvkAmpEldhRtupiso-AndSinEvRIgzIvAtAdEniprYd-crAsumdEnispIrirditcrdzhRTA@tkAlsIstRz-clDos@tAsfYdtuSYnbYDErt@lAntcrDErbyuti-Dek@rAdlItAlAbWtrEndrRIGDEmsElvzkAnspIkyuAsbYDErvRtu-', '-tuyurzbIfcrhRdETYschRprApfcrvDAkErIktRAvmEri@nInDAkamAtiAvmErAvo-AndInspYtAvhRej-AndDAklYnIGhElT-DAIluZAnwazkAmplit-', '-SiwazanRAblibEridInDACRCAvsensAvR-wITWtDAsYtAzapAzISAnfrAmDAvEnRAbAlbristhufarfrAmSErIGDA@ntYkrICAnAntalRAnsiAvDAklRjiInjEnRAl-sEdD@thRprAvESAn@z@n@ktrAsh@dnathIndRdhRfcrbiIGAgUdkrIsCAn-AndD@tDARTwazAkamAnmADRAvclhimAndbiIGz-@zSisAzkrYsth@dbInDAsevirAvclm@nkYnd-', '-yuwIlfcrgIvmitIritRIfYh@vmetuAtEndAfyunRAlvsIlvi@tEnyRrzbIfcrhRdET-bIlivmiYh@vnoIntEnSAnAvpRfcrmIGDAmIrAkAl-yumekAnsIlyRsElfwIDAYdiA-D@tYS@lspEryuD@tAnplEzAnt@skwAnpUrsIlviAdYz-', '-YnEvRh@dEnif@mbAli-', '-Yh@dAnemYbIliivInmYyAGdez-bAtYh@vfcrgatAnItsAnsYh@vbInInsRvAs-', '-YS@lkclyuAsfri-', '-yutumiAgretanA-', '-h-goAndIdmiCenjfcrolui-Yh@vItsE-', '-@tCAlsolvAsE-', '-m@dWnwEnsc-bIsYAdzk@n@nsRycrInkwIriz-', '-@shih@dkwantAdivCErzfcrYR@tDAretAvwAnzsu-mEnridIGDAnuzpepRAnduDASedAvDAtriz-glzAndm@nbrEkfAstIGYDRAlonmcrInkAmpAni-wetRzhuwRr@pAdligoIGApAndWtAn@rostErkeshIdAnAntAvDAfUliAj-', '-YsItdWnItAsmcltebAl-AwetRkAmzImiditlituInkwYRmYwISAz-', '-YdWntugIvmisAmkafiIfIthIzgUd-', '-DEntRnIGtAwcrdzmi-hisEzD@tYlUktlYkAvfarAnRAndwEnYseD@tYmInAt@lyAn-idigInztuspiktumiAvDAkcrtDAsItiAvDATiAtRz-And@tl@sthicfRztuAkAmpAnimiEvRiwEr-', '-YTIGkhIm-AndtekmYliiv-', '-Y@ndrEshImInAtWlyAn-Andhi@nsRz-vEriwICAli-bAthIzweAvspikIGmIksmismYlAndYtElhImwY-', '-mYrImarkplizAzhImgAtYsumpruvdtuhImD@tIdIznatDArYtlituspik-hWEvRpRfAsmeh@vbInDAl@IGgwIjAD@tiCAdrYtR-', '-YsiAkrWdIndwAnhcrtRAvDAgardAn-AEvRibadist@ndIGstIlAnlUkIGAp-', '-IzDErnatAvRIdiAnEvRiwEr-', '-yEsbAtDAmRrIdiAnAvDApWnerO@lAzDAmostIkz@kt-', '-D@tIztrubYdEltfri-', '-clDizanAstpRsAnzarwetIGDErtRntukEtDErsnEfbakshIzfIld-', '-ItIzsolEvRiwEr-bAtfcIDAl@sfcriwiksnobAdiwIlyuhzEnisnAf-bAtD@tsold-@tDAsIfEktk@t-', '-IzIt-bEtRD@nEniwRrEls-', '-bAdtuhWdItSim@nAjtRrEndRAtsof@SAnAbAl-', '-sImplibYstapIGhRkErIjtucrTritYmzbIfcrDASap-tuh@vhRsnAfbaksfIld-AndbYseIGAlWtuDAyAGgRlhuh@ndAdb@gDAbaksD@thRsnAf-wazDAvErib@stInpErAs-', '-yuarnWInDAonlikAntriInDAwRldwRwItk@nmekAv-crSAnbYsElIGYDRAjEnyuAn-crAv-cls-artAkAl-InDAfRstkes-ItrIsivzdDAwIlgoAvIntElAjAntAndt@lAntAdpipAl-AndInDAsEkAnd-fclzarclwezrEditurIwcrdIt-fcrsIliGnAsIztruliAkErAktRAstIkAvDApipAlhir-AndhWEvRwAndRfAlItbiApIr-sIlinAs-IzDAdctR-AvwIt-', '-lEtAm@nrAn-AndEvRiwAdiwIlrAn@ftRhIm-DAkrWdwIlnatstapAndlEs-DAm@nIzpruvdtubim@t-bAtukruvIt-IzIndiDAdIfAkAlt@sk-bIkczwih@vAkrWdAvmEnhum@dfrAmDErbRT-WrstIlkAnsItRdwYz-', '-ItsimztumiYrIplYd-@tsACApruvAl-sACr@dAfAkeSAnAvDApInyAnIksprEstbYDAkIGprInsAzAvDAbladAdsEtRA-Izr@DRRpruTAvDAIfEkSAnfEltfcrDEmbYDAneSAn-fcrDAfrEnCk@riD@tAfEkSAntusAnCAnIkstEntD@tDebIlivDEmAnf@lAbAl-', '-wEnDAkIGkAmztupErAs-hEvribadikclzWtfivAlorO-', '-SiIntRduzdmituclhRgEstsAndgevmisAmpRtEkyAlRzrRspEktIGEvRiwAnAvDEm-', '-watsRYsEdtuhIm-AndmYfcrCAnAntInAftusiyu-', '-hihImsElfrIsYdItDAseImp@sAjAnfrEnC-AndpAlYtlipOntAdWtDApartsAndwIChiTctD@tYh@dImpruvdanDAInjAnAl-', '-fcrDAfRs-desR-YYTIGkD@twAdyuh@vdAngIvzgrethopsAvyu-AndwITWtEnidWtyuwIlmekr@pAdpragRAs-', '-YbIlivItsR-AndD@thIzwAtYfIr-DErfcrDAprInsAbAlAbjIktAvmYnvhIzAthirIztudIvotmYsElfIntYRlituDAstAdiAvDAfrEndtl@GgwIj-', '-Y@mAvEriAnplEzAntyupAl-clwez@skIGkwEsCAnz-kyUriAs-trAbAlsAm-InseSAAl-AndivInsApozIGD@tYkUdAntmitwIDAtiCRYrikwYR-Y@mAfredYh@mnatrICInAftubehIm-', '-YrizYidInDAmWhegrudIdtuhIzpcrt-', '-YwIlmekgyutr@nzletDEmIntufrEnCAnyunidnatbiAfredAvmYfYndIGyurInseSAbAl-', '-hih@dAgUd@pAtYt-kAtElItgUdstcriwITWtl@TIG-wIDsElAbretAfcrhIzwIdirAvartezAndhIzsoSAbAlm@nRz-bAthispEnthIzlYf@thom-soldAmgoIGWtAndsiIGhardliEniwAn-bIkczyclwez@dApYmbAnhIzmWtDAndwazsRWndAdbYAtlizpwEntik@ts-wIDwIChiwUdA@myuzhImsElf-clde-', '-hIzhWskepRh@dDAm@nAjmAntAvEvRiTIG-SinEvRAlWdhImtubiInidAvEniTIG-AndSigevnoAkWntAvhIzmAni-wICSik@ptcltAgEDR-bIkczhinEvR@skthRturEndREniAkWnts-', '-anDAsIkstAvepAl-etinTRdi-TrCRCrAvjisAzkrYsAvlEtRdisents-wazfcrmRlilcrgAnYzdAndDAstUkaneligoIgzIstAns-', '-ItcrAjInwazsmcl-AjRm-AndInsIgnAfAkAnsid-harlitubiTctAv@zlYklituRWzapAzISAn-', '-InslEtAfbAtsIks-rEgyAlRliAfIlyutAdmEmbRz-And@tmost-tuskcrAvAthirAns-DAcrgAtAzeSAnDAmRstAdedmEnihAdrAdTWzAndsAlz-', '-InplYsEvAsIGgAlh@mAlAnt-InDAsmclzkcrnRAvwICDAmEmbRzkUdh@vkAmwigetAd-DErnWlar-DAbWtsEvAntisteksAvzYAn-AndAbWtsEvAnkhAndrAdcrgAnYzdwRdz-iCwRdAndstekwIDItsfUlkamplAmAntAvcfAsRzAndpristAd-crgAdAzeSAnz-', '-DAprakAsAvg@DRIGItsprasAlYtsIntuwAnples-prIvEnstDAbIlIGApAndstreGkfAnIGAfcrdbreCAz-AndInhIzmAChIzEkstAnsIvAndstrcGcrgAnAzeSAnzhRsElDAm@twIDAbrcd-vEriRodiAsYdiAzIgzIst-kAnsRIGDAstreGksAvDACRC-', '-nEvRDAAsAvDAmAstRdsid-AmAGDAsmalAstAvclsits-h@zAtenDAprApcrSAnzAvAtri-AndDAbRdzAvDAErarnEstIGInIksprenCAs-DAekcrd@znWIndokAn-cfRInprAtEkSAn-AndDAswitsAvsEtAsf@kSAn-tuEviRnAspIlbrAmjRrniIGItswehfRtris-', '-DErYzwRfrAmDAfRst-tRndInIntIsApeSAntAwcrdDAivnIGsAm-natmErliD@tDAwRkAvprasAlYtIGSUdbIk@ridanAnDAwEst-bAtDADAhEdkcrdAzAvDACRC-SUdbiDErIst@blISt-', '-DAbokAlmcrmAnth@dtctDApipAlDAtruwcrAjAnAndEstAti-AvDAmErikAnIndiAns-AndtuwRdDIsDErIkskIndrEmdAntAvAwAnsmYdipipAl-DAmISAnErizAvmcrmAnIzAm-RlitRndDErYz-AndwIDErYzwIntAn-DErharts-AndDErhops-', '-ItIznotAbAlD@tDAIniAntrYvzh@vgErlirIgardAdDErIlIjAnAvAl@tRdesenswIDfevR-siIGInDAbokAlmcrmAn-strekIGAgrimAnt-wIDRontrAdISAnz-', '-DAfRstAwElsn@tAlAsitAvDACRC-wazInDAprInilItAltWnAvkRrtlAndohYo-clmostwIDInslYtAvlekIri-InhiwrsunrozDAfRstpImpAlAvmatRntYmz-', '-tuDAfRmAntl@tRtdiset-AtEmpAlhIznatsImplieCRCbIldIG-AhElsfcrIlAdusAsEmbAli-', '-sunTWsAlzAvkamvRdzh@drEntAdwcrpRCAsthomzAmIzIri-IdIpEndAdz-C@ksAnkWni-beGDErsEtR-bAfrAmDAfRst@ndDewRAnpapAlRAmAGDAmIzIriAns-', '-DulutEnAngAvRnR-lItAlbRntAbyubagz-@ftRwRgAvRnR-waziprdWlst-mcrmAnhetR-AndTrWtDApIridAvDAtrAbAlz-himenIfIzIzsImpATliwIDApRsAkutRz-', '-DErsAlfRIGkz-h@vnEvRiyEpAnsIdlikanIkAlbYhumAnsgrYb-', '-mekIGDAweAkrcsDArIvR-mosAvDArETyujisWndSElthRAmaGDAmcrhaspItAbAlpipAlAvglekWnti-An@ftRwRdIzt@blIStDEmsElvzInkcldwElkWnti-DErInTWtIGDAsItiAvfarwEst-', '-AsmclsEtAlmAnth@dbInTWndAdbYmcrmAnts@mAlizanSolkrit-AndhiranDATRdiAsAvAktobR-etinTRdiet-hAkAmbAniAvtuhAdrAdAndfcrti-sElApanDAh@pAlAsEtAlRzAndICRdAskcr-', '-DAItsEdtuDAcnRAvsAmAvDAcfAsRzIntrAstAdwIDAtErAbAlkAmISAn-D@twEnDeAlRdItstrusIgnIfAkAns-DewRzYnDErAfcrAti-r@DRD@nh@dIniTIGtudu-wIDwAtDedEzAbDetAdAkoldblAdAdbUCRri-', '-owUdRrEkRdturid-wAtApIkCRdDAgezApan-hWcfAlDAfEkt-', '-AmErAkAnskAlbOz-ridwIDImoSAnzAvhcr-AviWlbAjEnsAz-drIvAnbidAnAnkIld-wIDAp@pAlEget-dREkInDAbUCRi-AndDED@foldwaf-hAntAdAndhWdIlYkbiss-h@zDAsEktAvAreldAkri-AndDeyEtS@lridInDAhIstriAvDEronkAntri-Avsinz@ztErAbAl@zDiz-InDAEksAbISAnAvAjAstAshAndInhyumAnhet-', '-hubIg@nDAkcrAl-wazAvdAmcrmAns-', '-@zAsebAlAvDAprEskamAnsAgEnsAvDAbrAt@lAtiAvDAmIzIriAnsYkwotApErgrET-frAmDAkwAnsiargAs-marCsIkstinTAvhetinTRdinYn-', '-etwIlbiAbzRvdD@tIncrgAnYzdmab-etAdbYmIniAvDAsIvAlAndmIlAtEricfAzRzAvmIzEri-wIDgAvRdRbagz@tDErhEd-h@vbInDApramAnAnt@ktRzInDIsbIznAs-InsYdituItApIrzYgEnstDAmcrmAnsbYpAlItAkAlhetrAd-AndbYDAdISAvAlmonAzAvplAndRAndrIvEj-', '-DAarmisWndDApipAlAnpavRti-AdlEftDEmInkAmpErAdAvwElT-', '-pAtAwRdfRDRkAnsRnIGDAEkspAdISAnInjEntRAl-', '-hItwazTruflOdzh@dvYzDAbyIkenAdcrdADAmIlAtEriEkspAdISAntuyutcp-hastEnsAbli-tuItstclsRdAnfEtRAlAfISAlzAdturAprEsAndAlEstInf@ntWRbElyAn-wICh@df@kth@dnEvRkAmIntuIgzIstAns-bAtItri@lAtitufRDRDAIntrAtsAvDIsAsESAnAsts-', '-lcrovRh@dDApipAlbItIGklYnturIbElyAn-wYlgedhRapRtIdikUdeh@vwISt-', '-clrEdiAdcrT@dAsWTwRtckAtAv-wAnasItAbcsAvAwEst-', '-DenyunodcrTdosWlTdIlistnowEst-DesEdpazAtIvlibYDAkastAtuSAn-hItw@h@vnATIGtuduInDAblAdistrefbItwibrADRz-AlIsAndidDewRsAmAndbYDATcrdituwIC-Deh@darEdiwAnslcAlirIspandAdIG-dIfRnISmEnAnarmzfcrDAkAntriznid-', '-wIDAl@tRnesetskclsAlEsCAlmErAj-hIzkErIkyRAstIkAvDACRC-AndiziInvErijEnRAlpr@ktAs-bAtAvsAlEstAmErAjA-plcr@lAtiAvwYzwaz@nInsAdAnt-nEvRInAsEnSAl-', '-wibIlivItAlItRAlrEzREkSAn-And@n@kSAwAlhir@ftR-InwIdfyiCRsDeS@lbirEkAdnYsdEviseGtAfYdIdvcTRYzrIleSiSUpIgzIstIGhirAnhR-AvpErAdtIndCYld-bADRAnsIstRd-hAzmAndAnwYf-', '-Ith@zbInmYprIvlIj-tutrEdDAsOlvmIniAl@nz-tuAbjRvlAkAstAmzhAndstAdiDAh@vAtsAvmcrneSAnszD@twAn-nYvgyEtufYndDAplesInmidtupipAl-wErInwIDhumDApyIrAtiAvm@nIndwUmAnt-hIzhEldmcrprESAs-D@tAmAGDAmAlYdmcrmAnsInDAmWntAv@lizAvDAwEst-', '-@tDAInsEpSAnAvbRlmErAjmAnDAlEtRdesens-DErwaznolcn@SnAlcrstet-AgEnshIzprEktAs-', '-InetinsIktitu-AlcwazIn@tDiwIDApRpAsAvsAprEsIGcrAlmErAj-AAnd@zh@dbInbrIdIktAdInDAd@SAlsEdAtprErtuItsp@sAj-ItlefcrmEniyIrz@dEdlEtR-', '-fEtRcAljEjAzAndunYtIdsetsAtRnizAnyutck-huwRdnatmcrmAnsDcrlEvRzAvmcrmAnIzAm-rIfyuzdtuIntRtenkAmplens-crprasAgyukesAzandRDAlcbIkczAvItsm@nAfEstkInjAstAsAndIn@tAkwAsi-', '-DIsbEnt-D@tfrAnAlEjmIstRminR-frwICkAGgdRsprIskrYvd@tm@ksAnAmpEntAltiAvsIksmAnsImprIzAmAntAd-AndAfYnAvTrihAnrAdalRz-Am@nmYtDAvprIzAntfcrmlYf-YfrmEnitRmzAvAm@nzn@CRAlYf-tudDAkwcrtspWRtuInfcrsItsEntAnsIzIkst@nsofar-AndmYtbifYndmIlyAnzAvdalRz-', '-bIfcrDIstr@vAstianDAEdmAnAstreSAnAvlckUdbibatbIfcrDAkwcrdAvl@srIzcrt-AndDErm@twIDArIvRsAlAndrAbyukAdIzRvd-bEnwErprIzAntAndRsEntAnsAvmEniyIrzdReSAn-', '-DApipAlkAnfEsAdizmEZRzwAnbYwAnInDAkcrts-prIzEntIGInkes@ftRkes-DAdIfRAntfezAzAvDAsAbjEkt-AndRjIGDAAnkasAtuSAn@lAtiAvDAmEZR-', '-D@nDACRCwazdIsAnklcrbretAd-AndItsbrabriwIlTrilAndpRsAnAl-kafAsketAdAnd-ISiedituDAgAvRmAntAvDAnYtAdstets-AndclDoD@tbRsAnAlprapRtiwazsunrIstcrd-wilAstetAvgretvElyulcGleInDAh@ndzAvDAkcrtsrIsivR-AndDAmcrbAnCRjh@dtupeDAn@SAlgAvrAmAnthYrEnsAlanItponprapRAti-', '-AndsolDAscrivmcrmAnIzAnrAnzan-ItsfID@lih@znatyEtbInrIdAn-DAkRAprEspAzEntskAntInyuAsli-nustejAzAvItspragrEs-nudIvElAmAntsAvItspl@n-', '-meGclYktElIgz@ndAdlikczhiwazAnEnjAniRr-', '-hih@dprikAnslidYdiIzAbWtEviTIG-AnhIzYtiAgWtAmWrAkAnzwazDATIGSUdbik@njAnyRrzavAk@nkts-', '-ItstrAmEnAsliwEltwUtantu-', '-ItsbInanonlituwiksAndYbInh@pAdAntYmzclrEdi-', '-dyunoElIgz@ndR-mehomApwIDpAklEsAticpAntuDAtckAvDAh@nsAm-AndrAbdhIzpekCikwIDhIzglokTIGgR-duyunoYsAmtamzTIGkAvtekIntukrItAsAzAmsIriAslimYsElf-', '-SiTegzRrh@ndtu-Sis@tRvEstAnmAsEkAnb@t-', '-hIzbInwAnYtdIvErihIldAvizTriIrzAndmcr-', '-SijAzAntekatwIDEnibAtiyuno-', '-YliGvRgcIGwAnAvhRf@mAli-toldmiInkakAtAnsD@tDErwazAwRm@tsAmwRb@TInDAbIgInIG-', '-menholbWtfcRhRkansAnsiwIDAlakIG@zD@tmed@lAgzIndRstmYl-hitAnwElAkandAvbr@vAtIksYtnAtwaztIGgliruhIm-', '-hIzAnADRhazcflikiGAbWthR-D@tintRdusyu', '-sohEritWn-mIstRbartliElIgz@ndAdDAImErAkAnEnjAnyR-', '-YsesRhEriAlItAlgolzgoIG-femAslitunYtIzAnSip-', '-yno-YtfctDAd@nsAvbIkkanSAstunYt-bAtAfRstYm-', '-wIsmIrnYwRb@t@ftRbAfRst@fAn-wiTctyisimdkwYtAnsRtAnAvRsElf-', '-AlItAlAt@kAvnRvzpasAbli-', '-hIwazbIgEnIGtufil-kinIntrAstAnDAzslEndR-DErwUdtdantbigRlwazslIpt@nAnWtAvDAkle-sIGIG-lEksAmwAnwYndIGTuAhIlifil-', '-wAnYtwEnhiInwInApRtwazsItIGtAgEDRanDAgrIC-hitoldADATInsAdh@vhInwElimstAdIGAbrct-D@thiwazsarifcr-wAnkIGIvDAtIkyAlR-AndDA@stRwIDASigatSicrtunoAbWtDEm-', '-SikAnsIdRdcrmomRdAnmEnsA-noAfIknat-DAweAmgl@dyu@skni-', '-@ftRD@tItwazizitufRgard-@kSulIGtufcRdart-', '-AvkcrshiwIflEktAd-Sionwizh@dD@tkambAneSAnAvsAmTIGonliAndsEnsAbAl-AndsAmTIG-anliwYldAnd@kt-', '-himAstk@rAbAtD@tTItRAgretdInmcrD@nSiyustu-', '-Angl@ShizhEldRronsEns-', '-@ftRclwiwRcfAliyAG-', '-wYSUdAntwAndRIfSikUdl@pAbWtItwIDAnR-', '-hIldItwazvErinYstuhImAndhisEtanDAEjAvhAsCEr-flAStwIDIzkanvRseSAlEfRtsAndwulIGhIzCEnAbWtnRvAsliovRzhYkalR-', '-D@skhImtukAmtusiDEmInCElsi-AndDespokvEritEndRliAvhIldA-', '-l@mwUdAnkErAgretdilAbWtmEniAvDEmYf@nsi-', '-wEnbartliRYvdAb@tfcrItskwErAnsAndiivnIG-bRriDAprItilItAlfrEnCgRl-mEtIm@tDAdcrAnkAndEktAdhImApstErz-', '-YSUdnEvRh@v@sktyuITmalih@dbInhir-fcrYrImEmbRyudontlYkIGglISkUpRi-', '-Yh@vnh@dAC@nsdEtutElyuwUdAjalilItAlplesYTIGkfAsAz-', '-DearclskICIzmedAbWtDAvIlAdEsteyusi-', '-DosfElozarclvErilOAlivInmenhcl-', '-Avm@nAjtusevsAmTIGEvRiyIr-AndD@twIDhElpIGmYTrisIstRznWAnDEn-AndtYtIGpUrkAzAnmYkolhRbWdsizAnz-', '-ItsnatprAtIkyAtlAlirErSisEd-bAtsAmAvItwazmYmADRz-', '-DEwazwctAkrAsupAndsol-AndIdIlYkfAlanlItstAftwUdmASAmzAntrAfAlz-AndtusmclrErdAklIGz-AndardACopsAndAdrYyIloronwYnAvwICbartli@tclwezbAnvErifand-', '-DErIznATIGEltsD@tlUksojali-', '-T@Gkyu-bAtYdontlYkItsowEl@zDIs-', '-h@dyubInImpErAsmACDizleyIrz-', '-DErarfyuCenjAzInDAoldkcrtR-', '-dontYDohAmsosarituhirIt-hodAdhRsAntRnWt-', '-hRhErAstIllYkfl@ks-AndhRbluYzcrjAstlYkAbediz-AndSih@zDAsemTrifrEkAlzanhRlItAlnoz-AntcksAbAgoIGb@ktuhRbWndAmEr-', '-hWjaliItwazbiIGyAGhIldA-', '-duyuImEmbRD@tfRstwckwitUktAgEDRInpErAs-', '-kAm-wIh@vhRkafyunDADRromAdyukAnsmok-', '-YTIGkwidIdSi@nsAdtumIrAli-', '-wAtSiwatAdfrAmAswazniDRAflWRzncrWrfr@Gks-bAtjAstWRyuT-', '-DewIboTAmEmbRInwAtDAwUmAnh@dsEdwEnSitUkDAmAni-kUdgIvyuAh@pilAv-', '-DAstrenjwUmAnAndhRp@SAnItsEnAnsD@tr@IGWtsoSarpli-h@dfrYtAndDEmboT-', '-bRtlistartAdwEnhEldAr@GAlItAlbEldIsYdhR-dIrmiwYdAdyuduD@t-', '-ItwazvErijalihimRmRtlezAli-@zmRrikemAntutekAweDAkafi-', '-@vYtoldyuAbWtmYnuple-', '-wEnSifInISt-@lIgzEndRSUkhImsElfWtAvArEvRi-', '-nansEnsAvkcrsYkemvRlisIG-IksEptDAwemYmADRAngr@mADRdIdbIfcrmi-', '-ItswrIlituwcrmAnAsrAmtusIG-dontifilIt-', '-@lIgzEndRwEnovRnopAntuwIndofcrhR-', '-DEr-jAstInfrAnt-', '-histUdAlItAlbIhYndhRAndtrYktustEdiImsElf@zhisEd-ItscftAndmIsti-sihWwYkDAstarzar-', '-fcrlcGtYmhiDAhIldAncrbartlispok-', '-hifEltAtrEmRrAnTruDAslAndRyElofIgyRAnfrAnAvhIm-', '-bartlilinovRhRSoldRwITWtACIGRAndwIspRdInhRIr-yuargIvIGDAC@ns-yEs-', '-@lIgzIndRklAnCtDAtuh@ndz@thIzsYdz-', '-DAstapAkwinstWnDAtitiAsp@sAjAvDAmRsi-wRTIGzD@thinotAdImliTuhIzgroIGImpeSAns-', '-SiblAStAndsmYldAndfAmAldhIzkardInhRkAnfyuSAnbIfcrSirEnApstErz-', '-WlIdzIndRpestApAndWnDAhclwe-bAtnIGAndAnbAtAnIGhIzovRkot-antIlSirItRndIntUkAmAptuhIldIzlItIGrum-', '-DArumwazEmptiwEniEntRd-', '-@lIgzEndRdIdnatsItdWn-', '-YfEltAdInmYbonzwEnYwokDAsmcrnIG@tsAmTIGsplEndAdwazgoIGtItRnAp-', '-AT@tItmYtbisIstRketRkczAnmYkwUdbih@pAnIGAlcG-', '-SipUSChImtAwcrdDAbIgCIrAbYDAfYRAnds@tdWnanAstulAvDAapAsAtsYdAvDAhart-RnizdranAptuhRCIn-l@fIGlYkAh@pilItAlgRl-', '-wAtudukAmbardliAnhWdAdIth@pAn-yuh@vAntspokAnAwRd-', '-YgatInAbWtEnmAnAtsAgo-', '-@lIgz@ndRlindfcrdAndwcndhIzh@ndzbIfcrDAblez-', '-TartlibEntloRdovRDAfYR-', '-SilUktIthIzhEviSoldRzAndbIgdItRmAdhEd-frAstfcrlYkAk@tApAldAnliS-', '-YlduEniTIGyuwISwitubartliSisEdtrEmAlAsli-', '-Yk@tst@ndsinyumIzRAbAl-', '-hipUldApAwIndozIfDAErwRhEvi-', '-hIldAwaCthImfrAmAkcrnR-trAmbAlIGAndskIrslibriDIG-darkS@tozgroIGAbWthRYz-It-', '-bAtItswcrsnW-ItsAnbErAbAl-', '-YgEtnATIGbAtmIzRiWtAviDR-', '-DAwRldIzclDEr-jAst@zIyuztubibAt-Yk@ntkEt@dAdEnimcr-', '-ItwazmYsElfYwaztufYndhIldA-', '-hEldhIzfeskwIvRdbAtSiwazpRd-yEs-YTIGkItmAsth@vbIn-', '-bAtwYdIdAntutElmiwEnyuwRhirInDAsAmR-', '-@lIgzIndRgrondYnmEntu-bAtsAmhWYkUdAnt-', '-SiprEsthIzhEnjEntliAngrEtAtud-', '-wRtuh@piDEn@tcl-', '-SiklozdhRYzAndtUkAdiprAT-@zIftudrcInAgEnDAfrEgwAnsAvDozdez-', '-himuvdanizAliAnhIzCErkrit-', '-yEsyEsSihRAd-pUlIGAhEnjAntliAwefrAmhImp-', '-plistoliwAnTIGbartli-@tblist-tElmiD@tyubIlivYTctYwazmekIGyuh@pi-', '-yEshEldYnoD@thisEdsImpli-', '-Y@ndust@ndbartli-YwazrcG-', '-bAtYdIdAntno-yuvonlitutElminW-', '-wAtYminIzD@tYwcntyutupramAstnEvRtusiniAgEn-nomh@dRhWcfAnYkamnAmEtRhWhardYbEg-', '-kepAwefyuwIS-wEn@vYEvRfalodyu-', '-@lIgzIntRrozAndSUkImsElf@GgrAli-yEsYnoankaRdli-', '-hitUkRrATlinhIzarmsdunowAtYmin-', '-hobartliwAtAmYtudu-', '-YwIl@skDAlistIm@jAnAbAl-bAtYmAsth@lvsAmTIG-', '-YmAstnoAbWtyu-', '-bAsYtAvyubartlitusilIvIGIndtuh@piInsAksEsApAl-k@nYnEvRmekyiwAndRst@ndwID@tninztumi-', '-yusi-lAvIGsAmwAnhIzYlAvyumeksDAholdwRlddIfRAnt-', '-AndDenyukemb@k-natkErIGvErimAC-bAtItmednodIfRAns-', '-batlibIntovRAndtUkRInhIzarmz-kIsIGhRmElTD@nhRwEttYRdYz-', '-tukrYdontkrYhiwIspRt-', '-wIDtcrCRdiCADRrInATfcrtunYt-', '-C@ptRwAn-crEjAn-', '-ItInjEndRzAholwRld-lAvp@grR-fcrwICrEdsEft-AndDehEl-lAvDAgrEnd-fcrfwIC-rEdhAGgR-', '-DAs-YdonlIsIzAvDAmADR-', '-SihElzAzsAn-sEft-IndAdctR-hAGgR-', '-kwAtIzsleG-', '-wih@vnEvRAndRstodDIscrtAvAbjEkSAnz-', '-sl@GIz-odiAs-', '-slYIGmekswAnSAvR-', '-hudInYzD@t-AvkcrsAddAz-', '-wEnItIzAkwEsCAnAvprobIGAlwund-Agol-esAsYAti-sEnswEnh@zItbInkAnsIdAdrcGtugotufar-tugotuDAbatAm-', '-wih@vclwezTctD@tItwazsAmtYmz-AkRejAs@kt-And-@tlist-IzsImpAlAndyusfAldid-wRDiAvDAsImpATEtIk-AtEnSAnwICduti@tksEptAdAnfAlfIldmErAdz-', '-wYSUdwAnatIksplcrEvRiTIGAndstAdiEvRiTIG-', '-wYSUdwAnhcld-anDAwe-', '-nATIGIzmcrDAgubRiAzDEnDAkantAmpleSAnDAsInItsnudAti-InDAbrcdlYtAvTct-AvDAhcrAbAlzscrmIGAvsl@G-', '-no-wEno--h@zhcrR-EvRIksklutAdstAdi-', '-sInswEnh@zm@lAdib@nISt-mItAsAn-', '-k@nwAnIm@jAnAnd@CAlAstrIfyuzIGtustAdiDAvYpR-DAb@t-DAskcrpiAn-DAsAntubpid-DAtR@nCIlA-AndwAnhuwUdk@stDEmb@kIntuDErdargnAsAseIG-ohWAgliD@tIz-', '-hiwUdbilYk-AvDAlalAjAsfcrAfyuzIGtuIgsEvAnIf@ktInl@GgwAj-IfAlcsAvfcrhEzAtetIGtuskrItAnYzIf@ktInhyum@nAti-', '-wazIIzksl@G-prabRlispikIG-', '-ItIzDAl@GgwIjovrAtIknAs-', '-wivebistapt-DAf@ktmebipUtuAs-InjEnRAltRmz-wICIzwAnweAv-AtEnyuetIGIt-wimebitoldD@tcltredz-prAfESAnzItmebi@dAd-clDA@ksAdAntsAvDAsoSAlhYRcrgin-clfcrmzAvIntElAjAns-AvDEronslYn-', '-DApentRhuzsEz-mYgrYndR-DAnotRihusEzmYskIpAvDAgAtR-DAhErdrEstRhusEzmYmiAlib@k-DAkablRhusEzmYkAb-tcks-sleG-', '-DErIzDAsl@GAvDAEfEktAdledi-@zAwEl@zAvDAprIsyuzAz-', '-DASogRm@nyAf@kSRRhusEz-loT-klErAfYd-lAmps-b@stRd-kamAn-bRd-ADIst-anAstm@niAf@kCRR-tckslIG-', '-@ljAbro-mEdIzsAn-batAni-h@viCDErsl@IG-', '-tumit-DAninzAvDIskAmflIkt-rACAdnAsh@zInvEntAdInv@GgwAjAvkamb@t-wICIz-sleG-', '-tukIpAflot-AndturEskyufAmAblIviAn-tuholdAbAvDAgolT-wRIdbAtIfr@gmAntAvsAml@GgwAj-wICmEnh@z-spokAnAndwICwUdADRwYzbIlcst-D@zRztuse-wAnAvDAElAmAns-gUdcrb@d-AvwICsIvAlYseSAnIzkAmpozd-crbYwICItIzkamplAketAd-tuIkstEndtuDArEkRdzAvsoSAlabsRveSAn-IztusRvsIvAlYzeSAn-ItsElf-', '-sAniSAnvErigUUd-', '-ivIndYAlEkt-lIt-D@tp@s-', '-tuDIzwirIplYInwAnwRd-onli-', '-ASUrAdli-IfDAtAGwICAneSAncrpravAnsh@zspokAnIzwRDiAvEntrAst-DAl@GglAjwICh@zbInspokAnbYAmIzRiIzstIlmcrwRTiAvAtEnCAnAnsAti-', '-AndDEnwiInsIstApanIt-DAsRtiAvsoSAldIfcrmAntizAndInfRmAtiz-AndDAt@skAvpOntIGDEmWdwIDAvyuturEmAdi-IznatubIzAsInwIC-COsAz-prAmAtId-', '-himAstdIsEndwIDhIzhartfUlAvCErAtiAnd-sAvErAti@tDAsemtYm-@zAbrADRAnd@zAjAj-tuDoz-ImpEnAtrAbAlkesmets-hcrkrcl-pWlnWDozhublidIndDozfrAmdilDAblo-DozhuwivpInDozhukRs-Dozhuf@stAndDozhudIvWR-DozhuAnddcrivAlAndDozhuInflIktAd-', '-durirIlinoDAmWntAwEl-wAnwiarnatAkwentAdwIDAk@vRAn-', '-DekanstAdtutudIfRAntcrdRzAvf@kswICkcrzfAndtuiCADR-wIC-ar-clwezIntulest-AndwIC-cfAn-brIGfcrT-rizAlts-', '-kUrhIstRibiIGAmIkCCRAvclTIGz-DAtruhIzstcriInmIGgAlz-In-EvRiTIG-', '-f@tsfcrm-wanAvDiz-And-YtiIz-siADR-', '-DEarItklodzItsElfInwRdm@sks-InmEtAvfcrr@gz-', '-InDIsgYz-ItbIkAmzhhcrAbcl-', '-wAnprRsivzwITWtAndRst@ndIGIt-AhIdiAsmRmR-sWndIG-clmost-lYkhyumAn@k-sEns-bAtmcrnDARlirIzEmbAlIG-AhWo-DEnInartIkyAlAlItwRd-', '-wAnTIGkswAnhirzhYdrAztaki-', '-ItIz-AnAntElAjAbUlInDAdark-', '-ItIzbl@kInmIsfcrCAn-ItIzblakRzstIlAnkrYm-Diztubl@knAsAzAmWlgAmetAdkAmposlYG-', '-DARzIznatdAvOdAvhIzEmblAnz-tuACel-', '-lUklosliAblYf-', '-ItIzsomedD@tEvRiwErwifIldDAsEnsAvpanISmAnt-', '-hisdeh@zItsongretgrifcrIts-AlItAlkEr-', '-yEstRdirItrEmbAlIGfcrihEls@dhIzdIrtuyu-tudeyufIrfcrycrol-tumarowIdwIlbiIGzYAtiAbWtmAni-DAde@ftRtumarovDAdYAtrYbAvAlsl@ndR-DAde@ftRD@t-DAmIsfcrCAnAvsAmfrEnd-DEnDAprIvelIGwEDR-DEnsAmTIGD@tIzbInbrokAnDarlcstEn-AplEZRwID-wICycrkanSAnsAndyIr-vRdRbrAlkalAmrIvhoptyu-AgEn-DAkcrsAvpAblIktAvfErz-', '-DIzwITWtrEkAnIGInDApenzAvDAhart-Andsotkoz-clAn-', '-DErIzhardliwAndeAtAfAhandrAd-wICIzholijOAs-AndsAni-', '-AndyubyiloGtuD@tsmclkl@sucrh@pi-', '-InDIswRldzAvDAdEnpAliDAvEstAvyulAvDAnADR-DErarnofcrCAnAt-', '-DArElhyumAndIvIZAn@zDIs-DAlumAnAs-AndDISedi-', '-tudImmIvISDAnEmbRAvDASebi-tuAgmEntDAnAmbRAvDAlumAnAzD@t@zDAabjEkt-', '-D@tIzwYwikrYEjukeSAn-sYyAns-', '-tutiCridIGIGztulYtDAfYyR-EvRisobAlzspold-Wt-spRrkAlz-', '-hWEvR-hiwusEzdlYt-dAznatnEsAsErAli-seCO-', '-pipAlsAfRInDAlYt-EksEs-bRnz-', '-DAflemAsDAEnAmiAvDAwIG-', '-tubRlwITWtsisIGtuflY-DErInlYzdDAmarvAlAvCinyAs-', '-hulnEvRdIgEtWtAvDA@stRwYbrEri-', '-tuDAyAGDAmErAkAn-hircrElswEr-DAp@tsAvfcrCAnarAnyumobA-AndclopAn-DErIzInvAteSAnInDAErAndsAksEsInclhIzwYdhRYzAn-', '-hih@znotRdISAnztubYndhEmcrgYdhIm-AndhIzImpAlzIztubrekAwefrAmDAakyApeSAnhIzfaDRh@zfalod-AndmekAnyuwefcrhImsElf-', '-DAmatAsfElowUdhRlYtfemTrAsApanhImfcrsAmwRTiAkipmAnt-ItmYtmifcrAbUk-crfcrDAskIlsAlm@nAjmAntAvsAmgretnIzpepR-crfcrsAmdErIGEkspAdISAnbYkD@tAvlItAnItstrencrgaktRken-', '-hiwazanebAltudIsYdInz@ptliweCbi-', '-tsAmpYmz-yuTcthiwIlYkDst@ndAndAkAnspISAzpopAt-AndhAmblipriCDAgaspAlAvApEntAns-And-EtibInkrcsAzmYndD@tItwUdbinobAl-tugIvhImsElftuAmISAnErilYv-tusAmbAnYtAdriCAn-wErDAdetpamgroz-AnDAnYtAngIlzvOsIzInkIr-AndDAbUlbolsIGz-anDAcknYts-', '-wcsimtuhImwElAn@t@zAsYAns-bAthinEvRkUdIskAvRAp@rkAkAlkeswRdApIrdtuhImwcrTwYltugotulc-AndclDAklYAnthustapwIDIsnuklRkAndDA@nthirumAvDAlccpAzfwcrhiwazrYtIG-fIlApAnvEriAbliAndvYz-tusEtAl-nom@tRhW-bYt-sEdAl-gretlituDAdIskAstAvhIzImplOR-hunuDErjAstAzbItwinm@nAnm@n-kUdonlibiIkendbYDArEkAnYzprEsAsAz-wIDAikAnAntfiz-', '-ItIzsACAnobl@mbISAn-D@tItIzApItiIth@z-yuZAwAlisAC-AS@lofandneSAn-', '-hiwAnkAmAgEn-@tDAtapAvDAw@tR-', '-DIlAvDErfcrrEndIlAjAntliInDA@stRmYbEri-pl@ndlItRriwRks-D@tSUdkAmpElAtEnCAn-AndnRsthIzginyAs-', '-hih@dnofrEndwYzIn@ftukElhImtusEpIntuDAdcrkIGkAnvInCAn-D@nInsESAn-mekAskEptAvDAmIn-AndwImAnanDApatfcrm-AndkekAtuDAEdAdRAvDAdIligretfYn-AndsiwUdhigUdgEtAlYnfcrIt-', '-ovEriwEl-sEdgrIndWotRnIGAwewIDASetAvkAntEnt-IlfYnd-IfyucrngoIGIntulItRCRAnuzpipRbUk-D@t-yuk@tAfcrAkantAnAslYfD@t-', '-lYtTIlAvdItAfcrtAd-Andhirod-TIGkIGhIzfrEndzAndAklYnIGbIkczhisEdDAplItAkAlskimwRDfel-And-at-tufil-', '-AndhiwIntb@ktuhIzbUksAndtuhIzwetIGfcrnopAnIGlarjAnEf-fcrIsTIGAfYdIntrAnsIntuDAlItREriwRld-', '-twEl-YmgoIG@znEnjAnIr-yukUdgo@zwAn-', '-yukAnbIgInbYk@rIGRradAndprIGdWnDATIGyRz-', '-nWwUdscntusun-', '-YmGrIditugoEnhiwErfcrsIksmAnTs-', '-DAtuyAGmEn-huwRbYDIstYmfUlAvDA@dvInCR-wIndWntuDAwclstritcfAsAvhInrizAGkAl-Andh@dAkakwID@twYliapretR-', '-DAnYtwazspEntInp@kIG@pAnrYdIGlEtRz-fcrfIlA-wInatkeksACnImpcrtAns@pwITWtInfrmIGhIzfrEndz-', '-wYnsAmIzErisAmwEr-anDAfrAnkyIrYTIGk-wIlgEtAm@T-', '-YwazAfredItwaznIrAhom-', '-hinuIzAGkAlwUdbITlYdtuhirD@thih@d@tl@sthRndhIzTctstuApr@ktAkAln@tR-', '-hiwElnuDApErAlzAvDAfrAnkIr-DAs@vAdstetAvsAsYAti-AlRkIGIndiAnzInDAndevRzAvfivR-', '-SiwaztYRdAvADRTIGz-', '-SitrYdADIsmcrnIGAndErRtuApanDAp@no-seIGAsImpAlscGInAswit-bAtkslYtlimAt@lAgvOs-AndDEn-sidIGhRsElfbYDAopAnwIndo-r@dfIlItsplEtR-', '-wEl-mADR-sEdDAyAGstudAntlUkIGWt-wIDASetAvImpeSAns-', '-YhopDitoldDAEldRzD@tfaDRAndYRrIsparnsAbAlfcADApi@nW-AndD@t-mAC@zDAlAvsmizIk-DiIznEvRInDArumwAdIthIzpled-', '-YhRdfaDRtElkAzAnWvAnRD@thiwazwIpsocfAnfcrwIsAlIGwEnhiwazAbO-D@thiwaztukRmAntuh@vAkamfAnseSAnhikUdgEtnW-', '-TEniwezgretlitrYmiruT-And-clDYrIleSAnz-', '-IzDYfaDRwIlIGDiSUdgowetuAskrulAvDAroldzpipAl-', '-Yh@vnat@skhIm-brITrIplYdwIDAlUkt@tmYtImplY-D@tSiwazwAnAvDoztutRmAndlItAlbadiz-hufRstmidAphRonmYndAndDEnDAkAmpEldADRztumekAvDErz-InAkcrtAnzwIDhRz-', '-mADR-Y@mgoIGtusEdimItAsIn-', '-markrAtboltAn-clmostwcstfcrAmomAnt-hRh@dbICyuwAlpAlsItidi-', '-Di-stAdimEsAn-', '-f@zDiATIGk-DiGkUds@ndAtsIksmRTs-', '-@ntbisYdz-sApozDi-dWsAblRdmEtAsEni-', '-YwIlpaktusId-', '-wErDiAndYf@mAliarno-', '-ItbYkAngIpeSAns-', '-ruds@tkwYtstIlfcrAtYm-wIDfesAnk@ntAndflASt-ItwazWtnW-', '-DAsYtsIrzrItRndIndhYspIrAtsfrAmDAsIti-', '-ruT@sktDAInTuziAsIfDewUdbYtulYvInsACAsWndIGmAzAvlihIm-wIDItsgrethclzAndEkwirumz-AndtnokAmftAbAlplesAnItfcrDAkamAdeSAnAvEnibadi-', '-AndDEnDErwazbrcdsrit-', '-DErsRtAnliwaznoIntuIt-AndivInruTwazsIlAdAlTiInIn@TtubIliv-D@tAstrit-atnathuh@vEniEnd-crarkAthEkjrolbwYtApanwICDAwIriYkUdrEst-', '-bAtniDRsentRard-ncrbrcdsrit-niDRwAndRzAvDAmEnt-ncrDAklcrizAvDAhcl-wIDAgosAvRfaDRzsItclwezsYnIGDAdEkAlReSAn-InprEstDAbIzItRzsomAC@zDAsplEnjRzAvDAC@sD@tsritwEndoz-AndDAbargAnzanhihITstrit-', '-IfDAigoIGtuDAyIrliminIGruT-@sktwAnAvDAbRlz-', '-Yh@vnAtIGtuwEr-rIplYdD@tkInyIrpRsAn-', '-IthIzakyipYdmADRAlcGtYm-tufYndAtDASapsDAIgz@ktSetfcrhRnubanIt-', '-AndTiwRdgot-bYSUdY-', '-IfYYgotumidIGItcl-YlYkbEstusItAnDAkwYAtoldhWsInjRmAntWn-crDAwIndozcrclopAndInYk@nsiDAtriz-AndhirDAsRAvDlifs-', '-ItsACAkrASAtDAyIrlimidIG@tarCtrit-AndDEndErzDAroAvsliklUkIGyAGmEn-hulYnDAkRpstonAndsIrAdEs@zbikAmWt-', '-hihIzAntsE-batItanDAfrAntIr-AndanDAm@T-EvRiTIGbiandItIzmarkt-IndiAnzAnddEzRd-AndlUksIzdEsAblAt@zAwEnsemitIG-luSt-ItwaztYmfcrhImtudusAmTIG-', '-IzhigoIGtusardAdeliGyuzpepRAmAGDAkIkApuz-', '-faDRDizAnjAstAfIlAp-hizgoIGIntubIznAs-', '-hidIzAntseIgs@ktliwAtItIz-sEdruTAlItAldubiAsli-bAtItsAmTIGAbWtl@ndAndbrElrodzAnd-finozfaDR-D@tfcrCAnzarmednobAdinoIzIgz@ktlihW-AnInyukAntri-', '-@fIlAvhIzYAz-Andhih@zth@lAtIn@f-IfhiwIlztapskrIbAlIG-tumekhIzwen-', '-YA-bakswImInRpUtIntu-mEZRfcrIt-AndpUtIGyAG-IfligoEniwErItsInAbaks-deldAndpInyAnAndSUtInbYdIsAbIlAtiz-', '-wYSUdYrEsAndbistupAd-AndsItInAn@kSAnbIkczY@mAgRcl-', '-AndIfYh@dAfcrCAn-wUdiwantlitulidAyusAlzlYf-', '-@zDikAnsAltAdYmADRAvWtAkRIr-YsApozItIzAkrIrDiwans-', '-bAtD@twYzIndpl@sAdwUmAnAndRstUdDAspiprEbAl-AgretdIlbEtRD@nruTAndhRstUdhRsElfz-', '-ruTwazgl@dtuhirD@tTIlAph@dmedAplISAntuDAwRld-AndSiwazSUrD@thIzt@lAntAndkRAj-wIDmekAwefcrhIm-', '-bAtDAmcrvRgEtfAlnIzh@dDEnprIvelDAmcrpWRfAlwazDAfcrsAvrImEmbRAnswEnSiAwok-', '-mIsmElnRzhWf@znatgUd-', '-sEdAnmIsIzfcrtAn-AfyumAnIts@ftR-', '-sADRIztume@dIns@mprtAvDAsark@rstIksnir-', '-AndyEtyumAstonhRbiebRh@zwcrntudDEm-h@zItnatbInInDIspACIkyAlR-InkAhIrAtAndanAkWnApAl-', '-natD@tYnoAvnatwAnmcrD@tYmEAvhirIplYd-wIDAstanISmAn@twAtSih@dInsInyAletAd-AndyEtwIDApRfIktAScrAnsD@tSiwazInDArcG-', '-hRn@psYAmDIstekAn@nsRdSu-', '-tu@skEnimcrkwEsCAnzAvyuYbIlivwUdbiAnfEr-', '-hisimdztuwetfcrhRrIplYdbAt@zSimenanhiprAsidI-', '-omYlcrdkrYnDAswIdliwIDAmostfcrsAbAl@ksAt-hiyuarDAl@zpRsAnanR@zSiwUdpartAnivwRIntrAstIG-', '-bAtInsECAkesnAsnAnRzAlEkjAnAvAhAzbAndSWnlakturEktmYn-', '-IfSidIznatnohWdAEztumethRAnvWyu-Ydu-', '-InDAbEnAnAvhRfcrCAnSih@dzbyutituk@ptubetDAhartAvEnim@nAnwIDcgRfaliz-Si@zAfr@GknAsInhRm@nR-AndAnAfEktAdwIztAmInhRfcts-Avov@sAtiInhRkamvRseSAnAndwIDfc-AvscflAsAnhRduminR-D@tmYtAlongejDAfEkSAnzAvAm@nAvDAnYsAzsEnsAmAns-AndDIstrcGgAstAndRst@ndIG-', '-mYlcrd-mIsmIlRztestIznatAndIprevduwan-ItIIzbaturifYnd-', '-wAtk@niminlYD@tmIswUdAli-yutcmIstIriAsli-', '-IzSinatAfredD@tYwIlfcrhRInklAneSAnz-', '-AgEnhisRCthIzonpatsncrInAfEkSAli@zbIfcr-', '-mIswUdliwaztulItAlvRstInDAsAbjEktunWDIswUdh@vbInnatulAvA@dcl-@tlistnatuDAIkstEdAv-brekInTruIngejmAntsAndclDAvErisastIkAlzD@tstIl-mItAgetAdAk@nstEriyIGAn-', '-CRrilivhRfrAmboThiledhIzh@ndwIDfcrsApanhIzhartAnsR-jIlyubIlivmi-', '-YwIlmeknoAnjAstSisAvwAtYnWhirIplYdbIDfRmnAs-YbIlivyumYlcn-', '-Yh@vnEvRyEthWEvRbInf@GkwISbYDEmAnd-ivInApanDIsAkeZAnmYrizAnSokAmb@tDEmtuDAl@s-AndmYrizAnS@lfelibIfcrYdurcG-', '-y@sd@dDizfcryIrz-AndAngUdjapfcrhRtu-', '-wEl@zYseItz@ncpAlkwIrwRld-Dekl@pclDAbRglRzAndWnDAmRdRzInDAlYtbitRz-YclRzTcDAjolrIpruvfAvbiInatpAnISmAntfcrAwYkbitR-kozhiprabAblih@zAlatApravAkeSAnD@tnobAtinoz-AndDAfYRbAgzk@ntTIGkuDArYtnemsAmTAlYksEndiEriz-AndDAbrekRzAvDApisAndwAtnat-AndyEtDAlch@zAnAfAntusetumelYkh@ndlcrd-', '-gr@ndfaDRwazWlIgz@ndRk@riElEldidaktRAvlczD@tIz-', '-mIstRpakAledWnhIzbrAS-', '-YzswenzAm@n-hiAjEkyAlAndIfhi@dclwRkardyikekipopwIDAtAbz-daktRAvlcz-', '-danhiIGganATIGhiarRsEnshihazbcrn-', '-hikipzD@tDWSWtnatkAm@mAnsfRstreh@ndlcrdAz-', '-hegevAphIzpAzISAnAzSotDAf@nAliApInD@tCumAvAhWs-sonhikUdAntstAdihIzbUks-', '-mIstRpapAvmIGks@tRetAdnATIG-bAtanDAkantREril@ftmACAnsEdIndhIznErACAvAvDAf@mAli@tDAhWsAvlcrdz-', '-hInrilcrdwIDAdIgriAvpiejdituhIzkr@dAt-h@dbInhRfEsRAvzAalACi@tAnuIGgAlAndkalAj-bAth@drIsYndhIzpozdInondRturYtAsIrizAvsYAntuvIktEkstsbUks-', '-WlwezirAtAbAl-kodIndIfRAnt-hih@dgrcnr@pAdlimcrso@zyIrzwEnan-', '-wAnEvRAphiltuhRsEnsAbitiwazturetwet@nsfRdtupepRwRk@mvAs-', '-SiIznwYldtunohWtAduTIGz-', '-SimeksEfRdEftREvR-trEmbAlIGwIDigRnAz-DAwEnSifelzturIprAtuzwACSisiz-SiwRksarsElfAntuAfrEnsiAvgripAndIsApOnmAnt-', '-wEnSikUdnatmekRr@vAtcrAbRdlUkrilAmpepRSisRCtInRfaDRzpUksfcrpIkSRzAvItsponz-', '-sIrAlDErmAstbisAmbEtRwivduIGYjAst-trcDA@lYnAv@n@nAmAlAndD@tApUthErzcrfEDRsanIt-Deh@vnobadiz-', '-DekUdAntrAnRmuDErjAstpesbcrd-', '-hiwUdAntsRCsAddontwRrirIplYzsRokwYAli-AndDAtIlAktItiCADRAndnu-p@dItwazso-', '-DEr-InDAsitRhalAdDEn-DEt-clAtlurd-And@GgrirIzEmpAlItAlkriCRwedWnbYAfIrsEnsAvInjRi-', '-clAvzmcrnfAlbl@kYzmEnm@nsisparkAlIGbr@nlAnz-', '-n@nzhizkRliCEsnatkrcp-SonInDAsanAndclAvzTIkbl@kpletslUktbl@kRbYkantrAs-', '-SihIzwYntRfAl-mcrmwrndAfAlInEnibadiwIDEvRsinEniwEr-AndSidrcz-b@tRD@nDAtiCRIntRlztWm-', '-SizondRD@nYAmbUtsEotYmiAnds@dAndSY-D@tSisimzlYkACYld-', '-n@diharmAn-trYdDAkICAnpantsikrAtlisEvrAltYmztcOInDAivnIG-fcrDAwctRh@dturonAphIlclbAwevfrAmDAwEltuDApICAnsIGk-DAndhibIlivDIstubikAntInyuAlmErAkAldD@tmYtgIvWtAnEnimomAnt-', '-tunYtDErwaznonidAvEkstrRhit-AndDErwRgretsErAmAniztubiAbzRvdIndlYtIGDAfYRzanDAhartstAnz-', '-DebIg@nwIDAwAnInDAf@mAlisItIGrum-kRnAlwilR-rWTRstAn-mIsCRAndmIsIzbIlharmAnwIDn@diAndrApAs-mIstRAndmIsIzpapAlAtdegbiAnl@lijO-clst@ndIGIdmYrIGgrupsAndtrIlIGwIDfIlYd@thicrdRAvAvEns-', '-k@tlimwetDAtcrCtuAnpro@zSirisYAzsAmbyutAlfAlYnzrIdAnfcrsAmsACpRpAs@zD@twICkaldDEmtAgEDRtunYt-', '-gRnfYRbRsIkRflIkRAslen-', '-nEkstkemclAvstRndtuhElpInDAsErAmoniz-', '-wElTRstAnh@dfWndAlYnAbl@dAnfcrDEmInhIzbIlAvAdhcrAnz-CibisplEndIt-fokAs-fcryuDAhart-fYRSYnz-', '-YlAvh@dpentAdDAmadoanAlcGnErop@nAlAp@mvAs-AndAgIvIGItulIstRpapAmztUdbYDAfarsYdwElhidEtlifItAdItIntuDAplesprApErdfcrIt-', '-alAph@zAnADRlAbligIptfcrDAElohWsEdmADRk@rirYzIG-Andtuk@riWtDAnEkstpcrtDAvprRgrIm-wiS@lh@vtugoInprAsISAnApstErztumYbEdR-', '-IksklemdbIlharAndtuhIzwYt@zDewEnTruDAlYtAdhcl-', '-@GkpeIGDAgretRz-', '-mADRk@ripcrtkalpfi-n@nzhitraklAd-AndDADRsElpsRtDAselACAzAndkekjonAntsAntarts-', '-@tD@tmomAntDAjEnAlAn@nRdbErIGAyujabCEkt-kAnsildbYpesAvgrinfEl-', '-ApRCIGDAdarnIGtebAlhik@rAfAliplesDAartAkAlInDAsEnCRAndrimuvDAklap-', '-TIGs@dAmYsElv-hAnEvRsinEniTIGaspatAlgUdAntmEn-IfitUktRmAnApAnwIlAnA-soark@ridDIslItAlfalRhWmAndAbUSAlb@skAwcnYtlEstmAp-And@fskmAnAl@vAninAnzbUtnhImtAgEDR-', '-mIsIzharmAndTcthis@IGtumACAntoldhRhAzdmAndprYvAtliD@tIfhiwazAkAnEribRdSiSUwantkepAtebAlkAvRrIzEdmostAvDAtYm-bAthiwazInmEnslipapAliwIDArEstAvhIzadiAns-', '-DAfesAvAmAharvAniSowIDdIlYtAndmcrnat-wEnItwazduIGEvRiTIG-clmostEvRiTIGwIDInDAskopAvApi@no-AndyEtDAfEnlih@dInjOdwIksAvgUdnRISIGmilz-onmAth@dbInsejdbYItsIksRSAnz-', '-wiSUdWRYzDAflWRzbluman-wimRmRbAtDAkcrnRzfIl-wiCuzDAS@tobAtDAsAnD@tk@stAd-SYnzbIhYnd@stIl-', '-l@GkTAvsRvAs-fcrtinyIrzTrimanTsAndfYvdez-', '-hisimdbcrntuplizwITWtDIGkanSAsAvDApWRhipAzEst-', '-ItmAstbiond-AndDowAnwazmcrEditukAnfEsItD@nhImsElf-D@thIzlItREriAtenmAnswRbYnomiAnzAvAhYwcrdR-', '-widontspInkapsIzAfevRAtseIGAmAGkstartIlARicfAsRz-IndAketIGD@tDedunatSUrkDErdutibYfrIvAlAspRsits-bAtItmAstbikAnf@stDAsRvAtD@kbiIGm@kCAliYdAl-wazvErimACgIvAntuspInIGtaps-', '-wAnsAnd@kSAniwazlidIG@tAt@CwAnAvImfAntriTruAnDAntrEnCmAnt-', '-sAmtYmzhuUdwandRanfUtApanDAs@ndiScrAn-sAmtYmzhiwUdAnjOrYdAvAGDAsAmAt@vDAklIf-cltAgEDRbiIGInohRi@tcltubrIGhIzt@stu@nEnd-', '-nokATitrAl-mAtivImbRgosItsElf-kUdvYwIDACRCAtmantmarCR-', '-bEnzAfsmost@mpbISAsdIzY-waztuIndusDAk@ptAntugowIDhIm-AndAndhIzdez-InhIzmAClAvdhom-AndsoInsEsAtliwRsRvAt@ksIrzbIsijdwIDAskrIpSAnz-AvDAnpErAlElbyutiz-And@dv@ntAjAzAvDIsetenT-WrAndIsImcl-AvpErAs-D@thikUdskErslihirDAnemAvmatmarCRA-wIDWtAkanSAsTrIlAvAvRZAn-', '-wEnAprYvAtInDAeTk@vAlri-hih@dbInanDApOntAvkwItIGDAarmi-@twEnti@yIrzAvej-bAtanIkspEktAdlihih@dbInApOnt@tcrdRliftuk@ptAnsRvAd@Ik-', '-DAbandAvyuIGyAnDAsIfEktAdkUdnEvRbisEvRd-AndclDobEnzIfs-ACivmAntsh@dfErliRndhImDArYtAvRtYRmAnt-hifRmlidIklYnclanRzcrEnipEnSAnD@tmYtparthImfrAmhIzsApIriRcfAsR-', '-amYkAzm@stRhimednoprAtEnSAntuEnigIftAvpoEtIpWR-bAthIzInIgzasAbAlmEmRi-medhImAlIvIGIndsYklApitiA-AndfcrhIzstakAv@nIktotsAntrupRztelzhiwazm@ClAs-', '-f@st@zhIzlYgzkUdk@rihIm-sRvAd@kh@dmedhIzwetuDAtapAvDAklIf-', '-ItwazkwYtruD@tAvEsAlwazAnsYt-ardlimcrD@nsIksmYlzfrAmDAScr-bAtoIGtuDAInkrisInDARkskAnvEksAti-AndAkansApwAntlAmAteSAnAvDArenjAvIZAn-DArIgIGAvDAtanm@stsAlonwazvIzAbAlAbAvDAwctR-', '-IkslemsRvAd@k-kipIG@zYAmmuvd@thIztElAskop-', '-SihIzAndRselbAtSiIzkWnthImAS@fsyat-hiwazrYt-', '-IfDAkWntwRanbcrd-AstrenjDet@lAtiwazbrIGIGhImtuDAprEzAntsAvhIzrYvAl-', '-hirEkAndDErfcrnatonliApanh@sRtenIGDAIkstEnpAvDAlekAt@strAfi-bAtApanmRnIGItskcz-', '-DAwYndbiIG@dvRs-DAdobrinAdIdnatmekvErir@pAdpraGgrEs-bAt@zDAwEDR-AndspYtAvAfyuklWdzrImendkam-AndDAsiwazkwYtsmund-Siwaz@nebAld-tuholdAstEdikcrs-', '-sRvAd@ktUkAtfcrgr@ntAdD@tDAdobRinAtwazAndEvRIGtupUtIn-', '-AnmEroC@nAlfcrmdAp@sAjTruDArIdjAvraks-D@tprAtEktAdIfrAmDAopAnsi-AndwIC-ivInInDArafAstwEDR-wUdInScrDAkamnAsAvItswctRz-', '-slYtliCenjIGhRkcrs-SifRstAstrakRmensel-AndAncrjAvfAsIlAtetDAmuvmEnsAvhRhomzmAn-sunk@ridnATIGbAthRtutapselz-rIgAntinAndjIb-', '-k@ptAnsRvAd@khesAndtAwcrdhIm-', '-YlEstyuanAkansAnAnt-AndhirYh@vDAanRAvfYnmIGyuanAnYlAnd-', '-nEvRmYnnWIntupozdDAk@ptAn-wiwItckAvD@tbYAndbY-', '-nATIGmcrD@nyunoycrsElf-', '-aryusRtAnD@tDIsIzDAmEdAtRemiAn-', '-fcrsAmomAntshisimdpRfAktlistupAfYd-DAnDEnrIkAvRIGhImsElfhibIg@ntuovRwElmDAkWntwIDAtcrAntAvkwEsCAnz-', '-tuclDizIGkwRidzDAkWntrRsfandAd-InDAfRmAtAv-', '-sAmIstIriAtsfcrssimtuhAbrctAbWt-AkAnvoSAnAvDAElAmAns-', '-yuwIltekmianbcrdkWntwlyunat-', '-mYycthIz@kCRsRvAsR-ivInSUdyurIkwYRtumekAtcrWnDAwRld-', '-DAkWntSUkhIzhEd-', '-bIfcrstartIGItwazIndIsp@nsAbAlD@tDAEnjAnAvDAdIbrinASUdbirIpErd-tuselAndRk@nlAsonliwUdInkantrEriwIndzAndrAfsiz-biboTpitiAsAndIfAkAlt-', '-ItwazanDAl@steh@vj@nyuEriD@tDArIpErzAvDAskyunRwRkAmplitAd-', '-AslYtdImyAnuSAnInDAIks@sAblihYtEmpRACRwICh@dprAveldfcrDAl@sthyuwiks-wazDAonliApErAnCenjInDAjEnRAlcrdRAvTIGz-bAtwEDRDIswaztubiAtrIbyAtAdtuEnicltReSAnAnDARTscrbAt-wazAkwEsCAnwICwUdstIlrIkwYRsEvrAldezdtudIsYd-', '-dWtsnWAroz-AndsAmdIskASAnfalod-wEDRnatItwazdIzYRbwAlfcrbEnzIvtuAkAmpAnihIzm@stR-', '-hRsigoIGkwalAthizr@ksAlAnt-AndwAth@n@mplisAfYstfcrAsRkAm@vAgeSAnAvDAklob-', '-@fRnAprEntASIpanAmRCAntS@phih@dEntRdDAImpIriAlnevi-Andh@dclrEdiriCtDAr@GkAvlAtEnAntanDAkWntApOtAdhImtuDACarjAvhIzonprYvAgat-InwIChiwazAkAstAmtuspEndbYfarDAgretRpartAvhIztYm-TrWtDAwIntRjEnRAlikruzIGInDAm@dAtReniAn-lWlstInDAsAmRhivIzAtAdmcrncrDRwctRz-', '-DAletAstWndIGIv@nshWEvRh@drEndRdprokopmEnAf@stliAnizi-AndnatDAl@sofrAmhIzkanSAsnAs-D@tDAkWntsikrAtlipartUkAvhIzonIGzYAti-', '-stimApAndk@mvAsprEdDAskunRstartAtistwRdz-', '-clDoanDAmadRItbrizwazbloIGDAsiwazrAf-AsRkAmst@nstubiAkWntAdfcronlibYDAdImyAneSAnInDAfcrsAvDARTsAtr@kSAn-rEndRIGDAlIkwUdparAkAlsobOAnt-D@tbYDAmIrAfEktAvasAleSAnDerIk@ridtuAhYtDErwazkwYtAndprEsAtEntAd-', '-fcrfyumYlzSifalodDAlYnhIDRtuprAzumAbliakyApYdbYDAkostAvWtjIriA-bAtnol@ndApIrdtuDAsWT-', '-DAlcgAnDAkAmpAsDErfcr-wRrebAltubikcldApantuduDAwRkAvDAsEkstAnt-wICh@dbIkAmAtRliyuslAs-', '-DErznofIrAvD@t@tsR-', '-AtDARTh@zAndWtAdliEntRdApanAnucrbAtbAt-SiIznatInkRIGEniprabAbAlrIskAvbiIGpRsIpAtetAdantuDAsAt-', '-AndwAt-dEmAnstreSAnduyucfR-@sktsRvAd@kigRli-D@tItwIlmath@pAn-', '-oSAnrendsAprim-', '-clDAImAjAzAvhIzp@stlYfflotAdApanhIzmEmbRi-hIzTctsspEtAwetuIznetAvfr@ns-onliturItRnAgEntuwAndRwIDAtDAdEtTsAvoSAn-wUdrIvilEnitresAzAvDAajEriAnDAtrapAlAs-', '-hIzItnatImpasAbAlhimRmRdAlWnd-D@tEnisItiSUdIsApIrsokAmplitli-', '-wUdnatDAlcftiAst-EmAmAnsAzAvDAsItih@dlisbivIzAbAl-', '-AnADRsRkrAmst@nswazmostrAmarkAbAl-', '-tuDAsRprYzAvcl-AndAspESliAvlItEmAprokop-DAlYnIndAketAdAbadAm@tAnIrliyunAfcrmdEpT-AfrAmfcrtAfYvf@DAmz-AndclDoDAsWndIGwazpRsAvIrdwIDkAntInyuAslifcrmcrD@ntuhWwRz-ovRAkAnsIdRAbAlEriA-DAdIfRAnsAzAvlEvAlwRInsIgnEfAnAnt-natkcrAspandIGInDA@nitugri-tuwAtwUdbiIspEktAd-ovRDAsYtAvAsItiD@th@dbIntErAst-lYkDAsitsAm@n@mpAfiR-', '-yumAstsidlitEmAnt-YSUdTIGkD@twiarnatsonIrDAkostAvWtjIriA@zyuIm@jAkt-', '-@ftRpandRIGAwYlhisEd-IfwiwRfarDRAwe-YSdIkspEktufYndAdEpT-AvtcrTrihAndrAdf@vAmzInstEdAvfYvf@DAmz-fYvf@vAmz-', '-ItsdEpT-rImendInvEriAbAl-stIlfcrcr@tmostfYvf@DAmz-AndclDoItsbanAmwazAsIjAuAslidrEjd-ItwazonlitupruvAtbErAnAvmRinpAdEkSAnAvEnitYt-', '-nATIGwaztubidAnbAtupUtAbWt-AndrItRnAndIsApOntmAntAwcrdDAncrT-', '-AtAnADRtYmhErAld@st-', '-wAtIzcrkAntriAlAfh@dycclwezbInATRc-DATrczYzfl@St-', '-tuhAndrAwOyRzfisAnhIzhclAnalAdhImub@tAl-', '-DArEstAvyucfAvYkIG-hih@dTriSEps-', '-DAizigevdATriAfYbrADRz-', '-bAtYsted@tsfrIGInDIltmiAbo-', '-AndDethRfrolitwEnticrzbIkczYTct-fyumEnwUdfalomi-frYwazjaGfIftinycrzold-', '-@tDAprWYkarvDAhEdwIDopAnmWlt-AndfcrC-tcGTrAstdWt-', '-ApenAdDAYzrEdfcr@GgR-', '-DErsf@nsoYsEdAnglErnhIzAtmYfEz-', '-InDAstarnYkarvDAtelAvclmostIzhYzDAhEd-', '-DErSiT@tanDArolRzIzfErSIp@zYEvRsc-', '-AnWwIlgEtmiAfarmAwIlwInRInD@tl@nd-nahuAfalAmi-', '-yuzbAtAblYdnD@nsEd-', '-TRdimEnwAn@ftRAnADRrezDErwcrnzAndsEd-', '-@zaRbotfl@StWnDArolRzIntuDAwctRAnedIscGIndseI-', '-sowihEridIkAstAvncrwe-', '-wiedAdmEnim@nztebAlzanInfYtAd-', '-Ydr@gAnzbEliIznEvRfcl-AndambcrdwEntDAgold-', '-owethIzbEtRAlIvanAsiml@tADRmEnreZRkrapsAnkUkycrmilz-', '-AhWsmElzAsmok-ASIpsmElzAvfralIk-', '-ApAndWnDAwctRwIwEntdugEtmACwElTIndmACfralIk-', '-wAtAvDAfarAmolAv-nayEtY@nsRd-bYkIG@zbEtRfcrsAmR-', '-yuwazsodarkAtYk@dTinATIGwAtAfyuswRksanDAhar-', '-YstUdwIDmYb@ktuDAwcl-fcrYwAnAnoscrriCiWAvDAdarkfcAmi-', '-kAmkAmYkcldwEnoobed-AfYR-', '-wYnDEnl@d-yEsAvstInjioz-', '-hih@dDoiunatIkspEktAAs-', '-anAv@nSAnAfarkcrwRdAzAnpipAlhAdAldAgEDR-', '-brIGInDAtebAlwirhaGgri-', '-DATrczwRrIGiInDAgretpatAvmi-', '-DesEdApAkrenAvRDAfYRAndhAGApatApanIt-Andwis@dInwaCtubOlclwijoC-@tl@stDAsAfRvbAgEn-', '-DAfarmRs@klumAlianDAb@nCRwInati-Andyuk@natwAndR-fcrhisczpUtIGpatfAlzAvhIzgUdbiTAndb@skyAlodzAbrEdAndarbIgmWTs-', '-yuwUdnatiwIDAs-yukWntsenotuh@fAtmYel-YdrIGkIztuycrhEl-', '-D@nYdr@Gkh@fAvDAlcrnfUl-AndsEtDArEstukrcsDAfYRtuDAfarmR-hitUkItnDAsmYlzeG-', '-udrEvRh@dzD@tsAlcrdligEstbIfcr-YwEnan-', '-soYolgIvWtDIslcG-D@tmYm@nS@lnEvRlivyuAlcn-', '-hakAnD@SUlbir-kanstAnkAmp@nyAnfcrAndfarmR-', '-hiS@lnatlivyudErnYtwIDyuwRwRkIGcrpleIGcrsliTIG-', '-YnemnYnADRzAndsEd-', '-AndDizS@lfalRyrTrczInDAsemwe-', '-TuYfEdgardzovREvRiwEnInD@thWs-', '-sonokelzgatWtuDAnebRzspIsYdIwazAlonlipleSAnbYgUdlaktnoAnkemn@twe-', '-DErYD@ntbIgpcrlifstUdApAndstrECthImsElf-', '-YmstIpwIlcGsEdiz@dY@CfcrAfYt-YtRnduDAfarmR-', '-DIsIzal@stfistwIDyuYsEd-', '-bYDAbIrdAvodAnYkrYvyuh@vtekAnWrjoklYkAm@n-', '-mYm@npWndAvDAtebAlwItDErfIst-', '-bYDAh@mcrTcrSWtAgrum-DErIznostEnSikWR-', '-hirfrEndtekIt-AniTrAstAnDAfarmRzh@nd-', '-DeyudrIGkhartsizfrAmItfcrmEniyIrz-', '-AndwID@tYlivyuAnensIfDAfrEnAli-YS@lhoptudrIGkwIDyusAmtYmAnbclhalA-', '-hirzArIGfcrsIkDAfrIndli-AndhirIzAbreslAntAvAscrdwUdnatbiASemtuh@GIjRsYd-', '-YtUkfYvgretbresAltzAgolfrAcRtrEZASEstIngedDEmtuhIm-', '-D@tAvDADEswerzsYdDIspIrwAlclwezpOnsAmwEr-AndwAnTIGIzIzbItAzAnADR-', '-D@tYmAvpOzInduycrfaDRSIps-', '-hirDesEd@zAr@skAlhIzbInhEriWRkos-', '-wiDsAGkASIpAnm@nD@thEmwibrctuyu-', '-ArabRfYgIGzEdDAkIGEniskWld@tmi-', '-yEsAndwIDclycrfIGgRzAtUkyuAyIrdAk@Cmi-DAkIGfrWnmcr@GgrAli-', '-tekAmWtcrkAlAnlEtImteSCRscrd-', '-ycrmADRDAkwinwazt@nIGbY-', '-nWSipUtRh@ndanhIzarmAnsmYldAndsEd-', '-AndwUdiGnatDAgUdgIfcrRbedIG-', '-ycrfaDRTctAmomAnDAnlUktAmADRAnsmYld-', '-scfthardhisEdjEnlituhR-DEndItcrkAl-wElEtmngotcrkAl-', '-DEnitRndumiAgEnfrWndIG-', '-bAtyAGSarptAG-nWDAwi@vkaptyuulpUtCyuAnduAtr@p@tSik@natgE@tA-', '-soYlYvdAnWmyutuTrc-wElItIzDAlAkAvwcr-', '-ItwazwAnAvDAm@strRliAnCarmIGstcrizAvdImaDAEldR-', '-hifYvmInAtsozAnRnuwRldAnmYmElAnGkalirumwazfUlAvbAlYvAlisfrEnCkAmpAni-', '-DAsWndvAnImpErAtAv@nAnkamprAmYjIGbElrIkcldniIndutYmtuDArijAnzAvri@lAti-', '-@mbRozmEtmetDAbWvADAstErzAndSodmiDAwetuDAsApRAm-', '-SifYndtumiwIDAgoslislImnAnti-tutekDAvekAnplesanDAlEftAvhRfaR-', '-DAdcropAnAgEnwElYwazstIlstAdiIGDAtubrADRz-wITWtYatAslIkAnsEs-iIGgaRifEvRAbAliImprEspYiDRAvDEm-', '-AnumEmbRDAf@mAlisRrkAlhuInstAnliAtr@ktAdmYAkEnSAn-IntRDArum-', '-AlItAlkrEt-D@tInDApapyAlRfrezAzmYImprESAnAvDAstrenjRhunWmedhIzApIrAnsInDAsApRrIm-', '-mIstRmEtAkrcfDiEldR-h@dInatsbokAnwAnwRdDAsfar-hImsElfItRdustAnukAmRtumi-wIDAsYgl@nsAdhIzsAnz-wICh@dsAmTIGlYktufYndzAndIt-Agl@nswIC@zYwazsarIjAnotAs-wazrItRndwIDAdAfYAnsanDErsYdbADA-tuyAGmEn-', '-IlAblAfrYIG-DIs@zmYovRlUkRmIstRycgosEdyoldm@nfcrmlipRzAntIGAs-', '-hyEznatwEl-yItkAmoRDAoSAnfcrrEst-AndCenjAsin-', '-DIstiagoznAmErkAndfIlAp-', '-mekAkwenzwIDIsyago-sIptAgEDR-', '-ApOntAdlidrub@kfrAmjanyago@zyuprosiImtiCErAnEkstumiAndruvr@nptuDAapAsAtsYdAvDAtep-', '-AprItigRlwInzAfarzYkUdjAtbYApErAnsAzAgUdkRAltu-dIskrWIGhRjEnRAli-AnDeseD@tSh@dAswclhEdwElk@ridInwElsEtRhRSoldRz-pcrYtgreYzD@tlUktyuanAsliAndmEntwIDelUkt-Atr@mpslYtlIlfIgyR-tuslYtfcrWRIGglISnoSAnzAvbyuti-AstrcGAmErAkAn@ksAnt-And-ArETIGInAm@rAkA-AplEzAntlitonvOs-wICmedDA@ksAntAvgreAbAltuIGglISIrz-', '-arfRstAmprESAnzAvpipAlarInYnkezIzWtAtEn-DArYtnprESAnz-', '-pAwAnsAweYbruvtAtruprcfAt-', '-yonliCIrfAlkanvRseSAnwazDAkanvRseSAvprcsDAtebAlbtwinYoniAnmi-', '-hlUkt@tDAnWnbigWtIGlefmAsple-AndlUktWtAgEnstsloliwIDAfRWnd-', '-wEnYdrEsthImhi@nsRdkAnstrenAli-', '-AmcrjrIriAndmcrdIsyunYt@tf@mAlpartiYnEvRsEtAvtebAlI-', '-Invihetrutm@lAsAndhAnCrErAbAlnAs-crnEvRsosEnCAlidItEstAbAltumYmYn-@zwEnDEr@nAmetAdbYDAsEnsAvpRprYAti-AndwRkAndRDAsRfAs-bAtfcrmYIntrAstAneomiIndmYADRIntrAstInDAlItAlAvlUkswICYnWAnDEnsprYzd@skIGktwinR@n@mpRAz-YSUdnEvRh@vs@TuD@tsApA-', '-YwISyugUdnYt-SiledhRbonIh@ndzanDAb@kAvmIstRmEtAkrcsInvAlACEr-kUdhImScrtnhIzfErwElsalyAteSAnAmi-AndwilDAmWtuhIzbEd@zIfSiwRwiIlIGhImWtuhIzgre-', '-yuuwRkwYtrYtuseno@mbRozbIg@n-nEvRsmokwICaniago-IzsAgarZAlpOzAnyu-', '-neonmiSUkAfcrfIGArIproCfAliAtDEm-@zIfDAtustartiyAnfarmRzh@dbIntuCIldrAn-', '-sYlAslAGkAwewITWtAwRdAvprotEst-@mbrRstozgrWnd-EvAdAntlibEntanDehIhIzpiswAnDeonmibfcrilEftR-siGD@tYwazInDAwe-YwcktAsYdtAwcrdAgl@stcrTAloRnAvDArum-', '-ItIzm@nAfEsDAm@n@znWsAbjIktAmACvEriAvIlAti-', '-ToItIzwIDAloR@nAmAlz-', '-DAvErivIlAtiAvmaltApAlparts-', '-bAtDIsAbjIStwAlbimcrprapAlnAsgAstwRlwitritAvDAdIfRntresAzAvm@nkYnd-', '-If@ksDADIGInkrisyusAndDIsyusAvparts-', '-C@ptRsEvAn-anDAresAzAvm@n-', '-AndItRmAdIGmADRtuAmcr@lYdfcrmzctbir@GktuspiSizcrvRYAtiz-n@SAlAsRpr@kAkligYdAdbYDAfaloIGAsItReSAnz-nemli-imWnAvdIfRAnsbItwinDEm-AndwEDRsACdIfRAnsIzrIletufyucrmEnipOntsAstrAkSR-AndwEDRDEarfItilajAklImpcrtAnts-bAtmcrspESAliwEnADecrkanstAnt-', '-AlAvAdAklak@nstrAk-ItwazAfYnklIrnYt-DErwErDAonlipRsAnzanDArod-AndDesantudliZRliAlcG-tuvOdpeIGDAprYzAvfAtigfcrDArEkreSAn-prAvYtAdfcrDAtIlidAnzAndAv@li-cranDAb@GksAvDerIvR-', '-sIkycr@zhiTct-AndAk@rfAlIbInIstreSAnAvjAstAsAnatsIti-AndDAk@rAktRAvItswEldDIspozDInh@vAtAns-DAgUdh@dWlgowazfarfrAmTIGkIGd@dEnidIz@strRkUdbIfclthIzf@mAli-', '-wRdclfolAnhIzkAmp@nAnz-wIDERfesAzmAfAldEnDErkloks-stErdrudliAnInsAlEntli@tDAmADR-DAdcdRAndDAsRvAntmen-', '-InAmomAnthikAmyunAketAdhIzsTctsrIskAmp@nyAnz-AndInDAnEkstmomAnt-DerIzclvtAtRndYk@nk@riRcftuplizwIdclo-fcrDArIC-huaropAnh@ndAdclwezfYndpErAsYzrEdituInkRIjDErb@dprApEnsAtiz-AndD@stukUdsivDIswIkAndIzYn-DokAmyunAketAz-ApruvItrIzAlvanr@vISAnliAketiA-Andtuk@rliD@tdIzYnIntuAfEkt-wazDAwRkAvDAmcnt-', '-DedruDErscrtshIdDErfesAzInDAfl@psAvDErkloks-tRndb@kAndsunkemAnfrAntAvDAlItAlparti-huh@dnatyEtdAngItIGT@GkstugadfcrDArIskep-frAmDozAlAdeSAsmEn-', '-fYmAliDAwAnpartiwEncfIgzcltIG-AndDAdRwazlEftIndIsAleSAn-AndwEl-', '-wIDolfclrYAv@thIzonhWswITWtEniImpEtAmAnt-Andluketi@zpErAnsriCtDErzhartbrolkAnAndIspErIG-', '-minwYl-hudclfclh@dlukeiAsefAnIzkAsAti-AndInhIzoanAparkmAnt-', '-krtASAsmi-AnmYImpEd-', '-mADR-duyrfaDR-duhirmi-', '-ItIzDAonliAmAnzY@skAvyufcrDArcGyuh@vdAnmi-', '-SifWndDAdcrbAtItwazlcktWtsYd-', '-SisAksidAdInopAtIGDAwIndo-AndDAmunlYtSonInsogrYtli-@tSikUd-dIstIGgwISDAkalRAvsAmd@mAsk@GIGInDArum-', '-SisoD@tDAbEdwazgIldAd-AndsorICD@tItsimdD@tclDAprInsAbatAD@tAvAprYvAjEnfAlmAn-', '-AmaGADRTIGzA-wICSik@sthRYzwazAspclkrusAfIksAvsalAvtsIlvR-st@ndIGanAkWntAnAtnErDAwIndo-', '-DIspRsAnwazwRdclfAl-wIDohih@dgcntulUkfcrhIzfrEndzh@dCenjdhIzmYndIn@trIspEkt-natTIGkIGItAdvYsAbAltuAkwentAn-bAtwAth@dp@sbIkwinhImInDAgRl-', '-anDApantrErihirIzalvtutElDEm-D@trIpEntIGAvhIzvYAlAns-AndmuvdbYAtIrsih@dolikErIdhRh@fwetuwAtsIzhWs-AndDEnlEthRgo-', '-CIlkIGwIDAmoSAnlukediA-medAsYnduhRpErAns-D@tSiwIStubiAlonlIDm-', '-D@twIdbivEriwEldmYCYldrIplYdAvfaDR-Ifyurpl@nwEnatlYAbAltubifrAstriibYcdnEmikAnIG-bAtnotWlkDIsImISh@dbInclvEdimIstbYzonR-AndhiwIlAvsEtItdWnfcrsRtAn-D@tItwaztekAnWtAvDArumbADApRsAnhilaktApDEr-', '-wAtyuh@d-bIsdumYSYld-IztukipAd-AndpredtuIt-b@tsInzItwazAwItnAs-tuycrAnduIG-ItwIldeIGtuDEnduketyukcz-bYzrYCAsCACmAnt-', '-DAstUdDASumenAndrYtmYndAdfaDRkAnfRt-hIzanh@pidctR-AndhRmADRAmbresIGhRAgEn-hItclSikUUd-tusuDAfilIGz-', '-SiminwYlph@stholYfIDhRpErAns-InDAstrIktAsturItarmAnd-nEvRlEtIGhRsElfbisin-bAtSAnIGEvRiYlEstAdSUdridhRmIsfcrCAnInhRfes-', '-tYmroldan-yWRovhRdulIvRiRYd-ItUkples-InDAakbAsikrAsi-homADRtekAnApanhRDAcfAsAvmEdwYf-@zSigebRITtuhIzsAn-wAnAvDAmostbyutAfAlEvRsin-', '-anDAbOwcktuDAstrits-blEsIGzwazSWRdApanhIm-bYanhusoYhIm-blEsIGApanhIzbyuti-ApanDAmADRDAbcrhIm-AbanDAfaDRd@tDAgathIm-apanDozhubrcthImhatsowEl-', '-wAndewEnDAbOwazsEntbYhIzkr@ndfaDRwIDAmEsAjtuArIleSAn-hip@sAlcGAstrit-IndwISDAwazAgretkankcrsAvhcrsmAn-', '-DAbEdSituwElrImEmbRdwazDEr-AndAbWtclDAk@bAnAt-anwICh@dstUdDAImAnSih@dtekAnAwe-wazstIlanDAseGmspat-', '-DIlAswazWtAvdenjRInAfcrtnYt-AndAmAnTyurozfcAmhIzbEd-AndjuOnclD@tYm-hiwazvIsAtAdelibYIzmADRIndwYnmADR-AndtritAdbYDAm@strAnmIstrAsAvDAhWs-@zIfhiwazDEronSYld-', '-DAseIG-AndprEsIGDAprusAvfIkstuhRbrAst-SifElfentIGIntuDAamzAvdcnmYIztAfanyA-huazAjEmpAlwUmAn-kuzsEkspItiIzAn@CRAl@zkrulti@stum@n-InstAntliprEsthIlAvstuDozDAfentIGgRl-SEdIGovRhRsomEnitErz-D@tDErnidAdnoYDRspIGklIGAvwctRturIkAvRduketiAfrAmhRsu-', '-Yh@vkwitsTIGztutElyusAnyc-sEdc@stAfan@tuhRhaspAnd-DAkrimAndsAbstAnz-AvwICIzDIs-DAfeGkIngolbIfcryu-IzSyurdctR-AndDAbO@zycrgr@ndsAn-', '-DIstuT-wICYh@dlRnfrAmhRlIvs-IzkAmfAmbYhIzfes-InwISwih@boTbihEldD@tAvWRsAn-', '-jAstDElukediAkemtuhRsElf-AndImbresIGDAkrcs-simdCenjdIntuAsiAvtIrz-AndDAjEntAlmAn-rImenIGInatRDIwIldAmAnd-AntIlhIzwYvh@drIpitAdtuhIm-frAmbIgEnIGtuEn-DErkeG@zholstcr-AndhibIlivdIt-TruDAblEsAdIspAnseSAnAvhEvAn-wICh@dkAmfRmdIt-bYsomEnikAnvEnsIGtEstAmAnz-', '-sopRswesAdwRhRIntritiz-AndsostrcGrISUrAnsAzD@tnohamwAtEvRkUdhRsElftuDEm-frAmDAImfAmeSAnSisct-DewEntuztUkAmfEs-D@twAnsAmhIznYt-DAsemSi@dbEnSAn-DImsElvzAnAnADRfrEnd-biIGWtanDAstrolwUkhRdclfAl-Deh@dbInkAnsRnInDAdAkSAnAvAgRl-humwRdclfAlk@mIdcf-wastrEstAvDEmtutendhRf@mAli-humedAgretWtkrY-AndwUh@vdIfEndAdhRDekUd-', '-fcrgatsekmYledimADRgEvmiAwYfwuwUdbiInAgritAbAlkAmp@nyAn-natwAn-huwuvdIskAstmisAv@tmi-meboTvEriivAmliAndwIDmyuCAlgUdwIl-bAgokAmposAmAstbYhEdAn-hAzsEtAvpUlIGDIsweAndD@twe-AndfrEjIGyICADRtudET-', '-hRbErIGwazgresfAl@n@nAmetAd-SilEdhRsAnbADAh@nd-AndbIfcrhowcCtumedz-wIDl@kslYtsAndsIlDRk@nAlsIks-', '-clroztu-duhRrEvRAns-@zAsAmTIGfrAmhEvAnh@dmIm@kIlAsDiApIrdbIfcrDEm-bAtgesIGanhR-Andtr@nswID@tmReSAn-natwAnAvDEmwazebAltuAdrEsAsIGgAlwRdtuhR-', '-SirIflEktAd-hWn@ShIzstUdtuDAprYsAz-wICwaztudItRmAn-wIDIzSiwaztubiblEstcranh@pbifcrEvR-Andr@ktbYDAIntEnsAtiAvhRImoSAnz-sizsAtAnliCenjdkAlR-hWh@drapt@zSifElfcrwRdInAswumIntuDAarmzAvDAdIsmedAstAfaniA-', '-hIzmADRh@dlEfthRtuhIm@zbiIG-hRdIstAnpAtEktR-YwEnSiscD@thituwazInsEnsAbAl-SiwazneAmekIGATRdAndwUdh@vdAnso-h@dInatkAmtuhImsElf-', '-noDEn-sAnAmYhart-D@tDIsfentIGlidiIzyuhilgrYt-Ysewil-bIkczSiIzDAwAn-humyifaDRnYh@vCIlzAmfcryu-AndApcrCAt-wazApritAns-', '-jAst@tDAmomAnt-wEnDAtIrzAvDApItIGtuholdhIzflodf@stAst-AndDErIj@kyAleSAnzwElmostIksprEsAvAvdIspEr-nukediAgesYnzAvrAkAvRi-Andbrctb@kgl@dnAsfcrDAhartsAvcl-', '-wEnSikemtuhRsEnsAz-AndblASIGtufYndhRsElfhAvwIdcfwazarmz-wUdh@dIsInGgeShRsElf-nosAnycrA-hisEd-@tmAstnatbi-strYdnatuwAdrcfrAvDAhAmz-AvhImbulholdjyuInAsol-', '-DIswazdAn-fcrDADEntUkplez@tAtYm-wIDAkAnsEndtuDApartizwazsAfISAnfcrDAsElAbreStAvDAmErIj-wITWtEniAvDAprIlAmAnErifcrm@lAtiz-wICanWAsoprapRlibIkwYRd-', '-noAzwRgcfAlEsRprYzdDEmDe-AndDAbEdAtuAScrhImsElfholsowAndAfAlAf@kt-hibEgDokedi@tugIvhImsAmtokAn-wUCSUdmekpRfIktliklErdtuhIm-D@t-wICIndidhidIdnatdWt-sInsItwazcTEntAketAdbYzpErAs-', '-yunok@ptIGlek-', '-sEdlcrdSElfRd-YdrEsIGmi-', '-hih@dhIzh@ndAanli-SIlzR-', '-DErkAzAnzyuno-wiarclkAzAnz-', '-wEnEvRlcrdCElfcRdsEd-mIsbr@ndAnrAsivdItvErigreSAsli-AndivInwIDAmomAnthErismYl-', '-bAthRgridIGtuk@ptAnlik-wazcrD@nyuZAwAlihadiAndfrozAn-AndhRfiCRzYf@nsid-pRtIkyrAliprWdAndpel-', '-@dInRlekwazfiziAnAmyuzIG-', '-YmklYdyulYkItsEzwRldRd-CAklIGDAnIgmAnlianI-ovRhiSoldR-', '-YbIlivYh@vAlItAltesD@twe-DozRclrilyuno-DozjuAlz-', '-AndhiplestAdInD@tjEntAlmAnzfIGgRz-hunWtUkhIztRndDAl@mp-AndkansAmplitAdDAlItAlpWrAlIlAgr@m-wIDAglimAvslYtmyuzmAnt-', '-YwazTIGkIGItsAvErilYkDAisAvharts-@nsRdDAk@ptAnscflizmYlIGan-', '-wErApanlekl@ftwYAtli-stIlUkIGanDAesAvhartswIDhIzswYYz-', '-AndwYldRl@ftu-mIrsAdAnliAndnOzAli-D@nDAhyucrAvDAjoksimzkwYtukclfcr-Andgl@nstAgrImlUkfrAmDAkcrnRzAvhIzYzAnlik-bAtDAg@lIGk@ptAndIdnatsimdtuprAsivIt-And@ftRAfyusEkAndzmcrhih@ndAdItvEriInAsAntli-b@ktumIsIzdarTi-onlirImarkIG-', '-duyuno-lik-oEvrIlik@ntEl-bAthilsuntYRAvkAntrilYf-', '-hiznatAm@nfcrkAntrAGkwcrtRz-', '-YhWhcrAdrimAbWthImlAsnYt-DEr-', '-oYno-D@tslcrnbr@ndAn-', '-hozAtYmiwaztckIGtumi-zingrilAtlYzwRfalAnlik-', '-mIslektuklYndzDAkWrIjtumYt-', '-Endi@dAdsAmTIGstIlEskamplAmEntRi-', '-bAtontDizvEriwYzTInsAmtYmztRnWtvErifUtlISli-', '-InDAmintYmYh@dfcrmtAnyuYjiAvhR-', '-YDIstYmlcrCElfRdAmcldRrItRnd-And-dIskAstAdr@DRwIDmYsElf-YrumAnidAdanDYwantAvjEnRAlSIp-', '-AndhimedAlItAldIpAvhIzkemtAwcrdzbrEndAdhc-ovRhASoldR-', '-yEsoDesEd-bAtdWtwUdYTIGkh@vbInwRs-', '-IfAfElozbInAlItAlbItwYld-hiIzbiWnzAbAvAtwAns-', '-praktAnzAvErigUdfEloYk@nASUryu-', '-YdonawAnk@nsYhWyufYnjEntAlmIntufYndwIkAdnAs-onli@zInAbskyUrfinAl-YspikAkcrtIGtumYlYts-AndhiIzjEnRAliTct-DAwIkAtAstm@nInDIskWnti-', '-wYlyunoridi-wInIn-lYkwIkUdfEloz-ItIzkantr@sYsApozbIDedu-AndamSUrfrAmwAtbr@ktAnh@zsEdtumi-YnohImIntubAtli-D@tdcrkIzlYksAm-AndYk@ntAnsivwYDeaRnatnErid-', '-DErwclkAntInyudsYlAntfcrDAgretRpart-nYtRwazkwYts@tAsfYdwIDADR-bAtreCAlAl@stsEd-', '-nWD@tsImpasAbAlredi-fcrYvrIlidontTIGYwAnsTatAvhImclDAsivnIG-IksEptCAswaclibRtckIG-', '-DErwazAbrYtmoGmYtbrokAnbYDAS@dozAvovRhIGInbWzAndwIDRlivz-AndDAmadAlYtsAndS@doz-glYdAd-atliAkrcsAzpElfiCRz-', '-dontInsoltlist@ndlibYtckAnDAg@nAtudIdDIsmcrnIG-', '-wEnYsElzcltAgEDRanycrondAkWnts-', '-markmYwRdz-yolfYndhImtustrcGfcryu-YAntudip-', '-Y@mvEri@niziAbWtItwUdEvRItIz-Yk@nhElpAn-', '-tumYmYndDErwIzclwezbInsAmTIG-InIksprEsAblicfAlInf@mAlifyuz-', '-DAmIstRiAvDErcrAjAn-DErkAp@sAdifcrivalvIGlitAnf@kAltIzAvpYm-AndDAstAdibYt@lAtiwIDwICDesRvYvDAhRs-AndspikDErtipAmWTAmAlImAtizInEvRinubcrnjEnRiSAn-h@vAsosidAdDEmsAmhWAnmYmYndwIDAspElAvlYf-IksidIGAndIstIGkt-fcrpyumAnAnDAspESAlsit@k@kSAn-', '-DAflcrmcRD@nEniTIGWtsSodDAgritiejAvDArum-', '-mYb@dwazAnIksEpSAlblikAmtAbAl-bAt-InmYDEnmud-YkUh@vwIStItAgritdilhcrmadRm-', '-ItskRtAnzwRAvTIkAndfidAdt@pAstri-', '-clDAfRnACRvIlcGtuADRtYmz-', '-YS@ntrAbAlyuAbWtmYtrenAvTctscrf@nsiz-bAtYbIg@ntufilvErilYkAjEntAlmInInDgostcri-waCIGIksparmEntAliInAhantACebR-', '-YdIdnativIntekDAprAkaSAnAvsmokIGApDACImi-', '-YbUldbilYtAdmYCrut-', '-AkoldprYtmunwazSYnIGwIDklIrSarplYtsAndS@tAz-', '-DAsambRoltriz-Yjeg@ntAkhRskluz-bl@kAndcfAl-', '-sAmhWYAgrunRvAs-', '-AlItAlAtAvpl@stRtAmbAldanDACImi-AndstartAldmikAnvWndAdli-', '-ItwaznatvErimACp@stDAlEvAnD@tmcrnIGwEnDAponik@rijfrAmvr@ndAn-druApbIfcrDAlItAlgardAnwIkAtAvrEdAmInzfarm-', '-wElSiwazbEtR-DoSih@dh@dAbWtnYt-', '-soDErkemAzstEp-AndDAlutAlvAsklIGAvTEmAnIndripRiz-DAsmcldcropAnd-AndriCAlEntRd-wIDhRh@ndIkstEndAd-AndApelsmYlAvbokAm-', '-wImInkAnhYdDErpenbEtRD@nwimEn-AndbErAt@tRtu-IksEptwEnSimdrapsfYRIntuDAdrAdfAlC@lAs-', '-bAtpUrriCAltlik-h@dmcrD@nD@tstolAkAlhApakRsi-wICAnebAlzDAtcrCRAdspIrAtsAvhRsEks-tulIftApelfestwIDAflimzAndsmYl-', '-DIstr@nzidsprIGAndlYtIGApcrbyutAfAl-Agl@mRbigYlIGarsEnsAz-', '-DErazsAmTIGAvswitnAsAndfanAsInhRtonzAndm@nR-wICwaznudAriCAl-AndkAmfRtIG-AndSirItRnduDAgretIG@zkYndli-AndfEltmcrlYkhRfcrmhRsElf-', '-riCAlzpelAndSarpAnfiCRzAndYlidAdY-strAkhRwIDApinfAlsRprYz-', '-yuh@vzbInsoelmYpUcriCR-', '-IlAndtrAbAldIr-trAbAldInmYndAndmIzRAblinRvAs-', '-pUrriCAl-hRneCRrIkOldfrAmdIsit-AndSitold@tclAvEns-@zmACAvDAtruT@zSidErd-', '-SispokwIDAsAjAnEnRji-wICpRtUkAvfIrAndp@SAn-AndflAsthRTIGCik-AndmedhRlIGwIdYzflES-', '-TIGkyuriCAl-mYkAzAnriCAl-mYonlifrEnd-', '-CIlfRdh@dAnopfcrmIstRwYldoDIsmcrnIG-AnADRnot-hIzkAmIGdIled-AndsAmTIGAvhIzh@vIGtusizsAmpRsAnhuwazAbrcdkAntInyudcrkAs@ftRAlItAlpaz-', '-yEssAmTIG-EvriTIGsEdriCAl-hRdlilUkIGfrWmIGli@tAflWRwICSiwaztwRlIGInhRfIGgRz-', '-yEssEdriCAl-', '-AndDAwcnwcrAkAl-h@vIGspokAn-Sis@tdWnInDAsimzsctAvApstr@kSAnAgEnbIsYdcrkAs-AndSilUktfulInhRkAzAnzYz-', '-AvmarkwYldR-YsetDIs-hIznimh@zbInfcryIrzhetfAltumi-AndrizAntliIth@zbIkAmfredfAl-AndyuwIlpramAsmisImpliDIs-YyuwIlnEvR@skmituspik-Ag@nAbWthIm-', '-ItIz@nEntIpAsi-AndIntIbATiYk@nakUdovRdcrdcrkAs-yumeTIGkItAm@dnAs-bAtdontblenmi-', '-Yh@vErifyutulAvminW-AndYTctyumYtlAvmi-@z-Yh@vbIgAntulAvyu-', '-AndSiTruwRarmzrWndhRkAzAnznEk-AndgrevriCAl@tlEst-bRstIntutIrz-', '-dcrkAs-InhRstrenjwe-wazmuvd-', '-YlYkyustIlriCAl-YmSUrWtclwezlYkyu-', '-yurIzEmbAlnireCAl-yuarfIrlAsAndInflEksAbAlAndjEnRAs-', '-yEsreCAlYdulAvyu-', '-TIGkyudcrkAstIr-', '-hibIg@nAkAnfyuzdkAmpletAgEnstDAwIzRd-huh@dv@nISbIhYndDAkRdmanDAlEft-', '-kIvnatsoRnAstAmYndtuDizmAmRiIzCYld', '-AkoldAnfcrCAnmInAh@pidlYf-', '-hiwazlYkAntumYfaDRInAwe-AndyEtwaznatmYfalDR-', '-clsoDErwazAstrIplIGpej-hutRndIdtuImid-', '-DIswazsoswitAledisR-AndInsAmb@tRYduTIGkShidYd-', '-bAtD@nDApIkCRwazgan@zkwIkli@zAkem-', '-sIstRnEtoduyuhyurADizAmarbAlz-', '-tekycrplesAndlEtAsiwIDAkrIstpAlkAnSotuyu-', '-lYkAznatyAGm@stR-DoY@m@noldm@n-', '-fcrTwIDclr@ntDAopAnIGAvDAt@ntAstiwAtmYtbiAmIs-bAtm@stRwIlhupiptWtfRst-nidIdnomcrD@nwAngl@ns-', '-higevlituDADRzvErigrEtAliAnrAtritAdAnprRsivdbYDAskwYRAndmIstRAsfItsuTtuDArIrAvDAtEt-', '-krYzAv-AnatIGh@mwAnatIgEn-', '-bIfcrDEmplEdDAstrolRInhIzTrisAnz-k@plAsAntErAfYd-', '-wAtIzD@t-tAmAldAndrYItIG-krYdWtDIskwYRATRAtetAvliAndhiblutwYsanDAsolvRwIsAlwIChAGdAdhIzbElt-', '-newiwRfrizDerIkwEstmostpAlYtli-mostnIAbAlsEdDAlItAlstromR-', '-AndDEnDepIkemvEkst-AndwUdhItsn@StRApRsfrmAs-', '-YkUdnatsimYbOInjRdEkslAmsfcrbAtduIGhIzdutiAswAnAvkAmbRlAnsAnz-', '-sobYdIdpRStDIsfIlo-', '-It-Iz-innAf-sEdjcrjgemwElCcrpli-@zhitRndApanDAgrWd-', '-SimanyusAtAsAnzkrYdhi-Y-bIlASwcrmYfIlozAvnatIGhIm-', '-Scrliwik@nsAmItwIDkUdgres-', '-jIsfYnfcryutAtckoldm@nAndsRDAlinsolanAprIntAz-', '-bAt-YrEsAldwIDIsfElo-AndunoD@thipletanfErliInDAsEkAndbWt-', '-spokDIskwYRlusIGclpeSAnt-AndItwaztuyuD@tYgevAnDADRpRsAnkansAlISAn-', '-kAmtumimEn-hir-hir-hirizdhIzvOstIlWtR-', '-DAstrolRst@tDErpartAnAtwIDhardizEstnW@tDeh@dsAmC@nsAdbitIGcfDErfoz-', '-rabAdInDAlItAltAmpAlRbItwinDEmtrYdtufcrsDAskwYRdIst@ndb@k-AndvEriv@liAlitutDiztukAmpcrtDEmsElvz-', '-DAhEdAnCifAvDAwYtDAnatIGh@mDAprEntAs-wIDkwEnCvIstsTrEtAnmAnfiSe-', '-DIskwYrhWptuTrAstDAmclInAnEntRdswIflihImsElf-', '-nWbisYlAtanycrAlYvzhibIg@nbAtDAk@ptrRAtAprEntAsEtApAnInstAnCWlt-', '-sYtlAnsyunevkrYdmatfiSe-', '-hifEltfcrInfWndDAwIzrIjsbl@klcT-DAskwYrwazkwYtWtAbrET-', '-TrAstIGopAnDAprapREntrAnsAvDAtEnt-rabAnsAdlirAStfcrTwIDhIzbRdAnwIDAgretCWt-', '-AmofISAniAmApfiSe-gemwIltuDAmREskyu-', '-tekIGItv@ntAtuDIsDIskwYRstyumEnridAbAldDErEfRItsAndInkRjbYrabAntInDAlItAlAstrolRzkrYz-fcltDErwetuhIm-', '-jcrjmantfiSetAIlnEvRfcrgEtDIsde-', '-wAt@zycrnemlcrdIG@skAlItAlstrolRprEsAntli-', '-rapAnfItsuf-', '-AndmYndhIzwIlstApli-S@lwipikAmrEdz-', '-rYtwIlIGlifcrbItrinAswi@vwAnDAb@Al@ndsRbrapAn-', '-YlYkyuwIl-yuarDAsEkAndwIlD@tYh@vmEtAnlYtwIDIntudAtiz-DIzDErazsYnInD@t-', '-mantfiSekoldWtfcrrabAntugIvhImAnarm-', '-fcrEnz-sEdmakfiSefentlituDArEslRz-bErAs@skcrtsofcr@zDASUrAvshWs-', '-ItwIlnatbisefcryutustehirnW-', '-prefaloAswIDmYndInmYlcrdjErAsmEn-', '-natAgyEnk@sAlasriC-AndAnmItAnswazdum@ndAd-', '-m@stRmansovDASUrAfAvnatIGh@mwazmYtAlipUtAbWtwEntoldAvDArYAtIG-', '-AndhEndrimYtrItRntuIGglAndAtEnimomAnt-', '-h@vycrwIlCYldIfDAbOclsowIldzItAn-matfiSe@nsRdfilIGtuIltuhupozEniTIGvEristrcGglijAstDEn-', '-himed@nEfRtuhYdhIzkAndISAnfrAmDAmcl-AndrabAnfEltIzTIGgRztYtAnAmpanhIzarm-', '-begmiArumAvDASUrAvCYldkwIkli-', '-bAthuwaDhIsfElopakyAtwRspiv-', '-hiIzmYEskwaREksAlAnsirItRndrabInwaDdIgnAti-', '-mIstrAsfITuDh@dbInk@ridcfADAsRrAstcrtRAndhRmedzAzshumIzDeA@dEntRdDAhWsoD@trapAnAlonh@dDAkUrAvmatfiSe-', '-rapAnwazgl@dwEn@tlekDewRlEfthRDAronduvYsAz-', '-DAwYndIdsRtnlibrIGb@kDAkAlRtuDAskwYtRzCiks-', '-Diz@skApisarnatfcroldgemwIlEd-hIzdeh@zkAmtutwYtlYt-', '-wIlyufcrgIvminW-', '-ItwIlbinotIsApOntmAntumi-', '-noT@Gks-Y@mgl@dtugIvyusACizi@pinAs-', '-yuwwRTyuliCwIlprEsAntliwIsprRtrabAn-DAwYnh@zwRktAmarfAl-', '-YInCoyusAmprItitrIks-', '-yAGfItsuDh@dbInkAm@ndAdtuhIzmADRzCembRsosun@zhih@dkAmWtfrAmhIzkanvRstwIDAskwYR-', '-DErbifElAn@GkSAstIntrRfyu-mIstrRztfItuTaryuIGfcrAnAgEntDIskwYRzprabjEktInAbrET-', '-mostAvclrobAnTctAvhIzfaDR-wAtwUdShikWnsAl-', '-If-fcrAwInyubEgRhRrsElfYk@natsteyu-', '-bAtekItwIlstYlYv-AndwErmAntfiSizSioldInDAdezwEnmYYzk@nbibRjOsbYsobrivAsYt-fcryuwIlnErRdIskresarstACAnYwRAdmi-', '-DAl@tACEkthImDEnd-', '-nEvRT@tsR-hih@dsEd-', '-hiwazIndipkanvRswIDAkcrkAndEntRDAhclholdIGhImbYDAarm-', '-nWtubEdbO-', '-tIzlet-AndYgomYsElfwID@nAScrtsbes-', '-dIsmIsRskwYRrabAnAdbIdmikUdiIn-', '-@zEni@nIGgAlAndYwUdse-sEdkemwElpradli-D@tIz-InhIzde-', '-EthiwIltiCyuAfyutrIkswEnmcrtIGhIzkAm-', '-DErwaznoC@nstcltRhIzlipIGrImtuwAnIrtugemwElzC@mbR-', '-prEzAntlihikrcsDAfcrAvhIzrumwIDdIsYdIvstEp-', '-wIlkrYdhiscfli-AndstAtlihuACuzAdhIzkWtAkrcsDAdcrAvhIzyAGm@stRCembR-sprIGAp@twAns@t@nsR-', '-yuwIlkoWtAgEDRtuDAbWR-DErzAwedWntuDAkcrtrmYwIndo-', '-rEstAnbistIlAntIlYwcrnyu-', '-DAWRzp@stwirAlibY-AndwufAtkUdyEtbihRdAbWtDAhcl-', '-@tl@stclwazkwYAtAnbl@kInDAkcrtRdAvgemwEl-', '-wIl-wazprRdrabAnopAnIGhIzdcrIzhispok-cryurEdi-', '-DeDEnrinuTRCRniAndAndRDAbEtRlYtmedAsevkrcsIGAvDAstebAlrufs-', '-rabAnEntRdDAhatdr@kIGDAAnwIlIGEskwYR@ftRhIm-', '-binatsofulISfrEnd-sEdfItuDkrcsli-', '-DemuvdDEr@ftRkaSAsliAbWtDAhat-gropIGbIfcrInAbWtDEmtufYndsAmTIGtuSoD@tDAbcrIntunEtufIldhIzmISAn-', '-DerwRApanDAvRjAv@nopAntr@pInDAfcrkcrnRAvDAhAt-AndstAntliAtrIptovRDAEjAvDArIvRstfl@pmElTAvDIspIt-', '-fITuTsh@ndrEstt@tl@stApanDAtapRAmDAvAl@tRAndspoliDAtruTkemtuhIm-', '-robAnkErfAlidIsEndAdDAl@tRAnfWndhImsElfsunApanfRmbrakigrWnd-', '-stAtliwazbYhIzsYdAnAfl@SAnD@nDeboTbIg@nfyulIGAbWtDEmtu@skhRtenDASepAnkrIktRAvDIsfclt-', '-frAnDAbl@knAsbIhYndDAlYtDehRdAvOs-wcrEntAnz-', '-sefmim@stRzbryustcrtAldmirErli-', '-krYdhiwevIGDAl@nTRdbIfcrhImtumekCRD@tDizwRnogosAndfrEntAvhIm-', '-InkwYRdrabAnwIDhIzAspISAnstIlApanhIm-', '-trulisACAhcrswUdbiwRTmACInatIGhImfIr-', '-ngeeInduhedAvDcRdIG-@nsRAdwcrAntAnwIDAh@fl@f-', '-wcrAntAnspokDEswIDsAdIfAkAns-tuSorabAnD@thiwaznatuTIGkjEfrizklemzdtuDAIstetwIlip@stbY-', '-rapAnfItsuTsclD@thIzdWtsAvwRndtunh@dbInanfEr-AndhibIkemASemdtufInsElfcrhRbrIGDEm-', '-hIztondr@GkwEzAntlianwRAntEnsIrz-AndfcrTwIDAgUdfElASIpwazhErAldIdbItwinDEm-', '-DAoldsRvAntoldImkwYAtli@zDekrEpb@ktAgevwElD@tDIsp@sAjwelEtfrAmDAhAtAnDAplEzAnstuSUrwUd-AndD@tjEfRifcrDAtYmwazhYdIGwIDAWtlolzInDAfcrAst-', '-hiImpcrsAztubitIskritAzDAgrevInDAsm@tR-fcrInsuThIzlYfAzInDAhaloAvWRh@ndz-', '-DerIgenDErApartmAntApErAtliwITWtdIstRbIGDAhWsoldAvgenwEl-', '-WtInDAwUdzstUdAnYslItAlfRtri-', '-DApleshih@dwazAvErigUdwAn-DAsAnSUtanhIm-@ztufrESErDErwazInAfAvD@t-AndrWndhImgrumEnilarjsYzdkamr@dz-pYnz@zwEl@zfRz-', '-hidIdnatTIGkAvDAwcrmzsanAndAvDAfrESEr-hidIdnatkErfcrDAlAtolkartAjCIldrAnD@tr@nAbWtInpr@tholdwEnDewRInDAwUdzlUkIGfcrwYldstrabEriz-', '-bAtDIs-wazwADAtrikUdnatbErtuhir-', '-InwIntR-wEnDAsnoleglItRIGanDAgrWnd-AhErwAdcfAnkAmlipIGAlcG-AndjAmprYtovRDAlItAltri-', '-hoD@tmedhImso@Ggri-', '-tugro-Andugro-tugEt-ontR-Andbita-TctDAtri-D@t-@ftRcl-IzDAmostAvmYtfulTIGdInDAwRld-', '-IncdAm-DAwUdkatRzclwezkemAndfEldswIDAlarjAstriz-', '-DIsh@pAnd-EvRiyIr-AndDAyAGfRCriD@th@dnWgrontuAvErikAmlisYzdtrEmbAld@tDAsYt-fcrDAmEgnAfAsAnzgretriizfEldDARTwIDnOzAndkr@kIG-DAbrEnSAzwRlaktcf-AndDAtrizlUklcGAndbEr-DewRhardli-tubirEkAgnYzd-AndDEnDewRledInkarts-AndDAhcrsAzdr@gdAvDEm-WtAvDAwUd-', '-h@dAvyunatmItDEmkEniwIf-', '-rIjjOdsIndYgroT-sEdDAsAnbimz-', '-YmDErG-wAth@pAnzmEn-', '-YwUdfenoIDY@mdEstAnfcrsoglcriAsAkAIr-krYdDAtri-rIjOsIG-', '-Y@mnWtcl-IndmYbrEnSIzsprEdlYkDADRzD@twRk@ridAfl@styIr-o-', '-wEYbAtoldrEdiyanDAkars-', '-wErYInDAwcrnRonwIDclwAsplEdndRInmYgnIfAsAns-', '-yEs-AndsAmTIGbEtR-sAmTIG-stIl-rEnAdRwIlsSUrlifalo-wArwErfcrSUdDeDAscrdAmEntmi-', '-sAmTIGb@tRzAmTIGstIlgr@ndRmAstfalo-bAtwAts-', '-wiCOsInaprInIzAns-sEdDAErAndDAsAnlYt-', '-rIdCOzsInmYonfrESyuT-', '-bAtDAtri-tIdnatrIjOs@tcl-higruAndgruAndwazgrinboTwEnCRAndsAmR-', '-AndtAwcrdzkrIsmAshiwazwAnAvDAfRstD@twazkatdWn-', '-DA@kststrakdipIntuDAvEripIT-DAtrifEltuDARTwIDAsY-hifEltAp@G-uzlYkAswun-hikUdnatTIGkAvh@pinAs-fcrhiwazsarAfAltbiIGsEpRetifrAmhIzhom-frAmDApleswErhih@dsprAGAp-', '-hiwElnyuD@thiSUdnEvRsihIzdIroldkamrAdz-DAlItAlbUSAzAndflWRzArWndhImEnimcr-pRh@psmatiInDAbRdz-', '-DAtAparCR-waznat@t-clAgriAbAl-', '-DAtrillikemtuhImsElfwEnhiwazAnlodAdInAkcrtiardwIDAADRtrizAndhRdAm@nse-v@twAnIzsplEndAd-widontwctDADRz-', '-DErtuwRlarjiziCErz-sIkAnsoflAz-larjtebAlzfUlAvpIkCRbUksAndfUlAvtOzwIDhAndrAnzAnhAndrAnsAvkrWnz-@tlist-DACIldrAnzAndso-', '-DAsRvAns-@zwElozDAyAGlediz-dEkRetAdIt-', '-DIs-imnIG-DeclsEd-', '-hWIdwIlSYInDIsivnIG-', '-pRh@psDADRtrizfrAmDAfcrAstwIlkamtubUkAtmi-', '-I-blezdApfemAsli-hElp-hEp-', '-krYdDAyAGletiz-AndDekwIklipUtWtDAfYR-', '-Astcri-', '-Astcri-krYndDACIldrAn-drcIGAlItAlf@tm@ntAwcrdzDAtri-', '-bAtYS@ltElonliwAnstcri-', '-hWbidanbifEldWnstErz-AndyEhimEriDAprInsAs-', '-D@tsDAweAvDAwRld-', '-TctDAfRtri-AndbIlivItcl-bIkczDAm@nhutoldDAstcriwazsogUdlUkIG-wElwEl-', '-YwonttrEmbAldtumaro-TctDAfRtri-', '-AndAholnYt-DAtristuUdstIl-AndIndipTct-', '-InDAmcrnIGDAsRvAntsAndDAhWsmedkemIn-', '-bAt-De-dr@gthImWtAvDArum-AndApDAstErz-IntuDAlcft-Andhiir-ItAdarkAkcrdR-wErnodelYkUdEntR-DelEfthIm-', '-wAsDAminIGovDIs-TcktDAtri-', '-AndhilindAgEnstDAwclnastInrEvRi-', '-tYmIncfh@dhitufcrhIzrIflEkSAnzfcrdezAndnYtsp@stan-AnobAthikemAp-AnwEnItl@stsAmbAdidIdkamItwaz-onlitupUtsAmgret-trAGksInAkcrnRWtAvDAwe-', '-tIznWwIntRWdAvdcrz-TctDAtri-', '-hWkYndm@nIz@ftRolv-', '-If-donliwRdnatsodarkhiIrn-sotErAblilonli-', '-swIk-skreti-', '-DesnAftAbWtDAfRtri-AndrAsAldAmAGDAbr@nSAz-', '-Y@mbYnominz-old-sEdDAfRtri-', '-DErzmEniAwAnkAnsIdRAbliooldRD@nY@m-', '-DewRsoIkstrindlikyUriAs-', '-YnonozsACples-sEdDAtri-', '-AndDEnhitoldclAbWthIzyuT-AndDAlItAlmYsh@dnEvRhRdDAlYkbIfcr-AndDelIsAndAndsEd-', '-sEdDAfRtri-TIGkIGovRwAthih@dhImsElfrIletAd-', '-yEs-hIdrialAti-DozwRh@pitYmz-', '-ho-ItIzAmpin-Totpi-@skDAmYs-', '-onliD@twAn-AndsRdDAtri-', '-It-IzAvEristIlpAdzstcri-', '-dWntyurnowAnnAbAt-bekAnD@np@lokAndonz-k@nstrutElAndinladRstcriAz-', '-no-sEdDAtri-', '-bEngUdAntbYi-sEdDAr@ns-AndDewEnt-homA-', '-@tlEst-bAlItAlmYtsstedAweclso-AndDAtrisYd-@ftRcl-ItwazvEriplEzAntwEnDAsliklItAlmYs@trWndmi-AndlIsAntuwAtYtoldDEm-', '-noD@tuwizovR-', '-wYwAnmcrnIGDErkemAkwantAtiAvpipAlAndsEtuwRkInDAlcft-', '-DAtrAGkswRmuvd-DAtriwazpoldWtAndTron-r@DRhardIdhIztru-dWnanDAflcr-bAtAm@ndruhImtAwcrdzAstErzwErDAdelYSon-', '-bAtItwaznat-DAfRtri-D@tDemEnz-', '-ItwazInAkcrRD@thile-AvanwidzAndnEtAlz-', '-DAgoldInstarAvtInsAlwazstIlanDAtapAvDAtri-AndglItRdInDAsAnSYn-', '-InDAkcrdyardzsAmAvDAmEriCIldrAnwRpleIGhuh@dd@nstIkrIspmAnsrWndDAfRtri-AndwRsoklYD@tDAsYtAvhIm-', '-AndDAgardAnRzfO-Capt-DAtriIntusmclpisAz-DErwazAholhiplYIGDEr-', '-DAwUdflemdApsplEnAndAdliAndRDAlarjbruIGkampR-AndItsYdzsod-tipAli-', '-hWEvR-D@twazovRnW-DAtrigan-DAstcri-h@d@nEnd-', '-tInATAnbETrIfrendfrAmdElIGDAtADRgRlzcrAGkAljan-AvoldwIlrAjRzzfIzIt-bAtDegatmIstRwAtsInInAlYbREriAndkwEsCAnImklosliAbWtDApEnAltifcrfcrCIGAjEkt-', '-ItwazAsIrizskrYvAndidmIstRwatsAntoldDEm-AndangetsbedfErtusRvAlIGkTitRmInDIstetsprIzAn@zAkanskwAnst-AvhIzr@S@kt-', '-YgEntsihItInD@tlYt-sEdDAoldblcr-', '-ItwazAdIlIbRAtsEftfrAmhIzImplOrztuprAtEktAgRlhilAvd-', '-bAtDekUdnath@vpruvAnAkesAgEnstlusi-IfSiwazImAsAnt-AndclDErTrEtsAvREstIGhRwRprabliAmyIrblAf-', '-hiwazsAvthardAdInImpECuAs-sEdbET-AndbiIGAnlAvhidInstaptukWntDAkast-', '-IfDAprasAkyuSAnwRdwIDdrcn-AndDAkesEtAldwIDAvIktAmAvDAfcrCCEk-D@nDAyAGb@nwUdbilWtIzfredAm-', '-bAtAndRDAsRkAmst@nsAz-YdWtAsACAnRinjwikUdbimed-', '-fErvyuztwElvmYlzAwe-bAbYtEnAklaktDejruAp@tDAk@nidrel-', '-DewRIshivdInDAlItAlclfAzbYAm@nimarkAm-huwazDACelR-', '-wiwaStutckwIDEm-AndsRdk@nIT-tak', '-Ymr@nIGfcrEprAzEntAdIvalDErAplAblikAntIkAnt-sEdk@vATklYAli-', '-hWlsetD@tsdIfRAnt-AbzRvdmarkhAm-cltRIGhIzdImitR-', '-mebisigetsWwAns-@zkEnAt-', '-DefaloDAjelR-AlcGDAzsIksESAnAvp@sAjAz-', '-sAmtAmz-anD@tyIrdAnfcrAsmokAvnIrlikreziIndatADowICIzwRsdYnwAnwErDADR-', '-hih@laktDAdcrIGkalb-hirzvIzAtRztAm-', '-crstAm-crsEnErrIplYdDACelRkluvAli-', '-mIztRgr@fsEdk@nAT-notAsIGDAbOzfeskrItIkli-@zhistUdwErDAlYtfrAmDAp@sAjfElApanIt-', '-sRrnlih@vAnEniRsEpSAnrumInDAjel-', '-sAkWnpliz-sEdgetsAnACyRrfAlAmpAzAnfOs-DErIzApEnCRr-', '-AfrESholsAmlUkIGbOwaztamgets-wazstEdigrYz-AndIntElIjAnfcrhEd-bAtIzsEnsAtAvrADRwikmElt-', '-wih@vhRdsAmTIGAvycRstcri-sEdk@nAT-AndWRIntrAstAdInIt-', '-YdIdAntstaptuTIGkwIDRItwazfclIShRnat-YdIdItAndAvgl@tYdIdIt-', '-oldwIlIzAfYnfElo-bAtpcrAnhElpDAzsInsrIzhIzratRzh@dhR@ksAdAn-', '-DEnratRzwAtAnduEniTIGbAtlidRRWndInwetApanR-AndDApleswEntRrEkAnruAn-', '-hispoksImpli-bAtpest-ApIndWnDAnIrosElInfrEnAvDEm-', '-huznemjAdyisYntuDACEk-@zk@nAT-', '-hiIzsApozdtusYnclDACEksAvDAkAnsRvd-', '-ItsAstakkAmpAniInrIC-', '-YwazbIkkipR-soItwazizAtAgEtAblIGkCEkAndfcrCtDAsIgnACR-', '-@zrIgardz-mYrAbIGDAkAmpAni-clseD@tYsevdhImAhEviloswAnde-', '-YdIskAvRdImpUtWtAfYR-D@twUdh@vdIstrYdDAhoplEt-bAtmRSAlnEvRiD@nTIGktmi-', '-ItwazbEtRfcrhImtuTIGkDAgRlAndfilIGD@ntunoDAtruT-', '-YmgoIGIzhimIstRAmarSAl-sEdk@nAtsAndIskAvRwAtYk@ndutuhIzhIztu-T@GkAshR-', '-AwIntbimACbAtAvgretfAltufYndtufrEnd-', '-helEfthImDEn-fcrDAjelRAYvtuInlakDAdcrAndAskcrdhImtuDAcfAs-', '-YsilctsAD@tkYndImYde-', '-AndItroonzAv@nzjIzpAzISAn-', '-hilUktApr@DRAngreSAslip@tmoSAnDEmtubisitAd-', '-sAmgRlzbInInhcrtwYstuInRvyumAmAnt-AndYh@vrIfyuzdtuh@dmItR-', '-YnatIlEkSAnIrIGjAznW-', '-to-wYlsRwAtAbWthIm-', '-AndhidIsRvzAtRmAnstetsprIzAn-', '-AnhIzkasmitwYsIkstidalRzInAnOdz-', '-clpeclDAkansbAsYdz-', '-ycrfUlIfwYSUdyuduclDAs-', '-Yh@vmelndrizAnzmIstRmarSAl-', '-gImiACEkfcrAmAndRdfIfti-AndcltRnovRtuyuDAfcrCCEkAndkwasfRDRprAsidIGks-', '-hidItEst@tDAgr@spIGdIspIZAsAn-D@twUdIndEvRtutekAtvWnAjAvhIzEvAdAntdIzYRtuhElpyAGgets-', '-bETAnizi@tAshYlAnstmACthIm-', '-DErwazAgrImsmYlAvAmizmAntanIzSrudfes-', '-himYth@vh@dDatfcrCCEkfcrDAfesAvIt-IfhibInSarp-', '-AndtuTIGk-wikAnsevclD@tmIzRiAndIspEr-bYDApemAnAvAhAntrAdAnfIftidalRz-', '-so-tuDAsRprYz@tDAdImAkr@dAkAmIti@nmclhIzfrEndz-mIstRhAptAnzAnWlntsDehiwUdApozdfcrts-AgrEsAvkWmpend-wID@nikwAlAgrEsAvnAs-AndspEndIzmEnitalRzAnduIGso@zmYtbinEsAsEri-', '-wAnAfhIstRhApkAnzfRst@sks@ftRkclIGhIzfeGfAlhEnCmAntRWndhIm-waztumekAk@rfAlkWnDAsAvDAvotRzAvhIzdIstrIktAzsiwAtwazstIltubiAkamplISt-', '-DAwiknidkAntEnjAnsitmAstbistreGkAndInfcrtAfYd-AndAkApAlAvhAndrAdvotsInwAnwecrDAADR-sEkyUrdfrAmAapAzISAn-', '-DAdEmAkr@tAkAmIti-fIgyRdWtAwetuduDIs-', '-AndRcrdAnErikAndISAnz-rEnAldzwIzSUrtubiAlEktAd-bAtDekAmItiprApoztus@krAfYzhImIncrdRtuAlYkapkAnz-', '-DAonliTIGAsAsEritwaztufIksEnTrEnAldz-AndDIs-hWpkInzRenjdpRsAnAli-', '-AndDIswazwYk@nATAnbETtdIskAvRdhImkAmvRsIGwIDAyAGwUmAnInDAbAgi-', '-DAjIskrIpSAnSigev-AvDAkAmIGbrIsEpSAntuDAwImAnspAlItAkAlik-wazsokyumRAzAndIvRdIG-D@tDewRboTl@fIGhardAliovRDATIG-wEnDAyAGpipAlp@stDEm-AndD@smIstRhopkInzfeldtunotAzhuDAakyipAns-AvDADRviAgAlwR-', '-DizwImInwRflctRd-bYDAtEnSAnAvDAyAGledi-Andh@dpromAstuAsIstInAlEkIGvIstrIfcrps-', '-DluizhoptfcrEksAlAntrizAltsfrAmDIscrjAnAzeSAn-AndwISt-DAEntRtemAntubisoAfEktAv-InwInIGDErgUdwIl-D@tDewUdwRkRnAslifcrDAkazInwICDewRIndlIstAd-', '-DAfErAvyub@ndwazIngejdtudIskcrs-@zmACharmEni@zIkUdprIdus-AndDAriscrsAzAvDAgrethElscrt@kstu@nRtenDAgEs-', '-tebAlzhRsprEdanDAlcn-AndDAdentipAtsAbs@ndColbrip@stwaztubisRvd-', '-DIswazDAfRstAkeZAn-wIDInAjEnReSAn-wEnsACAnEnRtembAnh@dbIngIvAn@tElmRst-AndDAonliwEn-wIDInDAmEmRiAvm@n-wErDAnivRzAndkAntripipAlh@dbInDAInvYtAdgEs-', '-DAtEndAnswazAnIkspEktAdlilarj-AndDAgRlzwRdIlYtAd-fcrsingretsIksEsfcrDErfYt-', '-wictuh@vmcrAtEntAnsbET-sEdvlAlizAproCIGhRkAzAn-', '-wonturonIntuDAhWsAndsiAvmarTDAk@nspErwAnRtumcrmedz-', '-SiwazvErifandAvDAyAGlediz-humSih@dnonwEni@jenwazDErmIstRAzhir-AndbETwazhRspESAlfevRAt-', '-DAhWskiprRlEtDAweAndb@Tfalod-', '-fcrAmomAnt-b@TstUdstErIG-wYlDAnumedrIgardAdhRwID-kAmpoZRAndAvflYtsmYlApanhRbyutAfAlfes-', '-SiwazdrEstInDArEgyAleSAnkastumAvDAmedz@tElmphRst-AplIGbl@tgon-wIDAwYteprAnAndk@p-', '-D@ndSikevAlItAl@tAndrIkwYd-nomIsb@sYmozAvITparsAnz-', '-bAtItk@ntbii-prItEstAdDAgRl', '-YAtEntuDAhWsholdmEndIGyuno-AndkErfcrDAlInAn-', '-hispiklYkAn@CSiketIdpRsAnsEdb@TwAndRIGli-wErzycRhom-', '-fcrDAfRstYmDAmedsimdAlItAlkAmfyuzd-AndrRgezwandRdfrAmDAfesAvhRvIzAtR-', '-Sis@tonInArAkInCEr-Andkl@spIGhRh@ndzInhRl@prakslolib@kAmfcrT-YmsaridsEdbET-', '-AlYzAparsAnzSUkhRhEd-', '-Tet-vliIksYtmiInsAmweAndYYk@ntbErDEm-yumAstIkskyuzmi-', '-SivInsimmYldliAmyuzd@tDAtEnSAnSiAtr@ktAd-', '-bEnTwazAbyufAlgRl-DAh@nsmAsAvDATrikAzAnzbYfar-hyEtAlYzAsRp@sthRAndnACRAlCarm-AndsimdwElAwErAvDAf@kt-', '-hRm@nRwazniDRIndIpEndAntncrsRtAfbAtrADRwAnAvwElbrEdkAmpoZRAndkamrIlYAtz-', '-hRYzwAndRdtuDAmedzh@ndz-', '-hWADRhRfiCRzAndfcrmYtrIprEsEniEvAdAnsAvnRvAznAs-Dizh@ndztIld-AdIfRAnstcri-', '-SirozkwIklituhRfit-wID@nImpEnCRAzjEstRD@tmedhRvIzItRkECRbrET-', '-YbwISYnumYsElfsSikrYdfIrsli-', '-wIyulifbiAlonInmYonbrumarmAstYgowetuhIskepsyu-', '-YlYzAklozDAdcrbIhYndRwIDAdIsYtAdslem-AndIkiklEktInDAlak-', '-kankcrdrItRntuItsplesAmItsDAt@ns-', '-DAIGglISfcdAtuDAfrEnCb@skAtsAflWRzAvwICDeh@dmedAplEntApAlfrAvIZAntugritDAYvAlAvDAyAGprInsEs-DAfr@nCInrItRnInvYtAdDAIGglIStuAsEpR-wICwaztubigIvIn-DAn@kstdE-', '-k@ngr@jAleSAnzwRpcrdInApanDAprInsAsEvRiwErdIIGhRjRni-', '-frAmDArIspEktpenhRanclsYdz-SisindlYkAkwin-AndfrAmDA@dReSAnwIDwICSiwaztritAdbYtucrTri-SiApIrdAnabdIkAvwRSAp-DAkwinmADR-gevDAfrEnCDAmostDAfEkSAnAtrAsEpSAn-fr@nswazhRmedAvkAntri-AndSih@dsEfRtulACAnh@pinAsIGIGglAndfcrIGglAndtuh@vmedhRfcrgEvfr@ns-', '-SitcnhRdctR-DEn-bYhR-onAfEkSAndfcrItD@tlAvfcrAkAntriwErDeh@dboTbInhspItAblirIsivd-AndwErAbrIliAnfyuCR-opAndfcrDEm-', '-DekWnth@d-DAronhImsElfb@kcnhIzsi-linIGhIzSoldRzIgEsDApRrtISAnAvDAtEntAndrImenDAs-hIzsfes-bEridInhIzh@ndz-wIDhivIGCEst-AndrEslAslImz-', '-DIsh@zIndidbInAhRAsIGdekAntInyudDAyAGm@nhIzazfIkstApanhIzfrEnd-', '-yuwIlbifr@GkwIDmi-YclwezIm-', '-k@nycrm@jAnmYbAkIGh@mh@zbIsofYlAnt-YsAspEkt-', '-ItIzyumRrmAstekAnrWYh@vrEdhIzdustrEsInhIzYz-InIzEvRijEsCRAnd@kSAnDAholde-', '-Yk@npRsivlAv-klIrlDiInAT-', '-Y@mkAmvInstAvwAtYse-sEdbIkWnt-', '-ItIzAnoOAnsDAn-', '-InDozvEritRmzYivInh@dIdmcr-', '-bAt-kAntInyudrW-natIntrAptAdbYDIsmumAntAvhIzfrEnd-h@vAnbiprezdDAflEnC-huarprRnWstubiTclAzInIndAskritrEklAsivIn-arkepApcrAvbriIGAkamAnsWndjAjmAntubErAlAnD@tRzAvsAChYInpcrtAnz-', '-DAs-ItIzD@tDA-cnRAvTriIzseft-arkAntritarm@stRz-Andaron-', '-yEs-YnirApoz-mEniTIGzh@v@jAtetAdritAdeboTInlYndAndbadi-wEnyurItRntumaroYS@lnolcGgR-biDAsem@n-', '-bAtInDIsfrEndliprESRrWkUdItEkDAmEDRz@jAteSAnAvAgret-IntRnokanflIkt-', '-DAnYtwazklIrstarlAtAndsplEndIt-DAtEmpAsth@p@stAweAndDAswiInpluAnsAzAvDAivnIGh@drRstcrdlYf-pisAnsAkyUrAtiEvRiwEr-', '-ApanDAlarjskwErInfrEnAvDAhWtWvDAtS@tozAvDAtEnsInAsEktAdbYDAgoldAnmunbimz-fcrmd@zItwRASyujrozekAvjEktInyElofl@kstumz-', '-brYDAlcntwaStfcrsAmtYm-DAkandEktAvDAtulAvRz-lIsAntuDAlWdAndAnsIlvAlslAmbRzAvm@nAk@mp-huskncrd@zImpIrAsli-@zDohiwazwErIGhIzbluAngod-IstEdAvhIzfYvlAtsut-', '-gAlYATmeks-AnADRdIskAvRi-', '-DErwRsRtAnlinonIrdDAsAluSAnAvDErprablA-', '-DApUrlItAlTIGzkrYtsIntDATIGkAvDEmh@vIGbIntRndAvDAwclclDizyIrz-', '-mWlwAtIzDAsEnsAvIt-tuiIzhIvbevizlYkD@t-', '-bAtjOsh@dnatbInlIsAnI-cl@twanzSipUtWnRk@nduanDAtebAlAndfesthRkAmpenyAnt-', '-DAtwInbrADR-dIdsAmTIGSidEntlYk-AndSitRndhIzpEkCRtuDAwl-', '-hRzh@pAndtubianDAsemfrYmdtu-bAtSiEvAdAntlidIGkErAbWtIt-', '-nWwAth@vyutusesIdDAIsprag-', '-YTctwiwRstAmptAgEnwEnYfRstsam@tbEkCRbAtIt-spInAvsAmyuz@ftRcl-', '-dusApozDAmECRwazAkapiAvDAsemTIG-', '-wAnAnDAwRldIz@t-kwIrijOs-', '-mIgmcrImitErAbAli@mbAsYdz-@dmYktusiwAtDIslAvAlifrRnACRlUkslYkwITWtsACkwantAdizAv-dEstAlovRIt-kUdskimsem-', '-wIlkAmAnhItDAs@ftRniGwIDoldklozanAnh@pRrekyAlRhWsklin-', '-hik@thRdEniTIG-AmSUrfcrwibAldIstRAvTIGz@tcl-', '-DIsTcthWEvRdIdnatEntRDAhEdzAvDAInTuziEstIkpEr-', '-smAGglIGnDAhWsklimIGpErfcAmelyaIntDAsElRwIndo-anAbzRvd-D@tcftRmun-pruvdnoizit@sk-fcrsIpiAh@d@dAdAwIskbrumAndAsp@rn-tuDAWtfIt-', '-DAlcRpruvdtumACfcrAmEnikemspcrtIG@ftRA@skfrIskAli@zAyAGkItAn-mACSAsIntDi@zdIdlYtwEnSikadsYtAvhIm-', '-olEtImkAmAlcSiRjdYtdulAvtusihImAbWtD@todhWs-', '-himekD@tscrtAvkoziR-', '-nElAtsdAstDAfRCRndpIkCRz-', '-yEt-lItAl@zItwazIth@darEdimedAv@stdIfRAnsInDA@spEktAvDArum-', '-sRfAsdAs@tlizh@dbInRludAndDAfYnoldfcrnRCRkgevAhIntAvItsril@lAgEns@npalIS-', '-D@n@tSisAmligrImarkt-', '-AndmYpakAtlAnihIzgItIGloAgEnAnyuh@vIt-EnilEft-@zyuZAwAl-', '-DeseAlulAneSAnbYk@mbAlYt@zDAprIdiAstAnDAwRld-', '-lYItskAmYAtDAsyuZwclDAboTkrYdpIrIGIn-', '-IzDAhetDAgretAsfcrgItIGIntu-artkcrnRz-', '-fcrgItIGclDErwIrinAsDesiDErk@nAlzAndstUriTruDAhWsfYnIGanAkeZAnAlpepR-tAktuweIndsoardkcrtR-', '-wEl-AndkAmfIstD@tDAbcrtAdAphWsmIstRih@pAndnatRlIrD@n-epRAlsIkstiT-etinsIkstiwAn-AndprWblinatmACletR-', '-nowRdzwRspokAn-noleGgwIjwazAtRdtsevDWtAvwelIGInAhIsIG-AndD@tsAmhWwazIndIsteGkt-@zIfcIDIgzIstAdInf@nsiAndnadInri@lAti-', '-YhRdAlOzbIhYnd-YtRdAndsck@fR-hIzbl@kYzSYnIG-wclInhIzh@ndhihEldAglimIGlYf-hilIftAdIAbAvhAzhEd@zIftustrYk-bAtYh@dDAstr@GkTAvtEnmEn-AndYhRldhImfrAmi-', '-anR-sEdAdIstAntvOs-', '-nosWndbroktDIstIlnAsAvDAmYt-', '-DAstcriAvIts-ivAlInfluAtskemb@ktumiAndInmYbIwIldRkAndISAn-YwAndRdwEDRDErwaznatsAmtruTInwYh@dbInsEd-', '-wYlwazD@t-', '-wAnDEnYSyumImh@ndlarjAndSepliApIrdIstIGklianDAsRfAsAvDAparnt-', '-nATIGmcr-nativInDArIstuwICItmYtbiAt@Ct-', '-ItdIdnatbEkhAn-crIndidmuv@tcl-Itwaz@zstIl@zDAh@ndAvdET-', '-pYlwol-tukarnCAsnAsfYtIG-h@tfRstItsimd@zIfYwazfYtIGwIDAf@ntAmbAgr@jAlimYAponIt-bIkemcrlriltumi-Itwazk@fR-', '-bAsWndAvOsAz-Afl@SAvlYt-', '-AfilIGAfridAmAndYwazAwek-wEr-', '-sEdAmADRvOswIdYlEkIGnYz@fAlCIz-k@fR-', '-Yh@dskIrslinomwrYh@dbInseIGcrjuIGAptuDIstYm-bAh@zhispokYlUkt@tmYh@nd-', '-InDAlYtAvDAmun-YscnnYf-rEdwIDblYdAndmYh@ndtu-wazclsodIskAlRd-', '-YdunatnoY@mdezdbiwIldRd-', '-bAtD@tIzkErfRzlYf-', '-YmIlyih@dItDIsfEriivnIG-', '-arImbRtseIG-h@fwibIndAgEDR-', '-bcrCErpektApsAmTIGfrAmDAgrWndAndlUkt@tIt-', '-Yse-yudunowAtDIsmiz-AdumAstElRz-', '-AtErAbAlTctfl@StIntumYmYnd-', '-Yh@dAgEnbIt-@ktIGAmRDAInfluAtsAvDIsm@nzpWR-', '-pRCr@nstu-k@fRzdETmYtsRvhImIngUdstEd-', '-bYtAnrRfyuzdartIkyAli-bYApWRAvspiC-lEftmi-', '-mYpAsISAnwaztutErAbAl-', '-mYovRrctnRAvsildIdWtl@st-', '-fcrsAmtYm@fRD@YrImEmbRdnATIGdIstIGkli-', '-DATrimodzAvm@nAjmAnt-', '-tusAmpoz-D@tDAAbjEkt-AvDIswRk-Iztu-ed-InAfEktIG-sACAsAbsAtuSAnhIzD@t-IzIntYRlitumAstek-ItsneCRAndIzYn-', '-bYrizAn-AndAfEkSAn-', '-@zktDACestrYvzAwe-mErist@ndzbIwIldRdAndprRplEkst-anDAdcrst@p-hRmYnd-InAt-tumAlt-AvIkzYtmAnt-InwIC-hetAdAvDAdaktR-dIstrAst-AndsAspISAnAvhRmADR-dIsApOntmAnt-vEkseSAn-AndIlkyumR-sRjAndswEl-AmAGDozdElIgAtcrgAnAzeSAnz-anwICDAstrAkSR-AndDAvElAmAnt-AvDAsol-sokloflidIpEnd-duIGpRh@ps-AndArEprAbAldItnjRi-', '-DAmADR-@zsunAzDACesIzsofartRnd-D@tmErikAnolcGgRwaCDAIksprESAnAvhRkanpAnAns-gozAwefrAmDAdcrwIDAsmYlAvkAmplezAnsi-AndT@nAsf@kSAnAthRfes-@tDAInjAnAlAtiAndsIkstEs-AvhRlItAlartAfAs-', '-soyuwIlbiAgUdgRl-Yno-AndnatmekEnitrAbAl-bAtwIlste@thomkAntEntAdli-wogyu-', '-DAmADR-Indm@nAjIGDAkes-InDIswe-rIlYzpartli-ankAnvInsIGDErizAnAvDACld-Andpartli-anInApildtuhRAfEkSAn-', '-IfyuSUdnatbiAgUdgRl-bAtSUdSosYnzAvmeIGAsEnitrAbAl-YS@lh@vtusEnyuWtsAmwErtuDAb@kpartAvDAhWs-antIlwiargcn-', '-bAtDIsl@stsApAzISAn-Iz-clmost-clwezAnEsAsEri-fcrtIfmEri-h@zbInhAbICAlim@nAj-anDIspInsAbAl-SiwIlnat-mekEnitrAbAl-', '-ItIz-Indid-tru-D@tDAImpcrtAnsAvt@kt-AndskIl-InDAtrenIGAvDAyAG-AndAvkAltAvetIGDErizAn-AndsAkyUrIGDErAfEkSAn-k@natbicrRetAd-', '-tusACbRsAnz-DizIntRYktmotAvtrenIGCIldrAnInh@vAtAvsAbcrdAneSAntuDErwIl-crr@DR-AvyildIG-tuDErInfAlAns-arspESAliyusfAl-', '-dIlA-h@dAyAGsIstRnIGtumRiA-AndAtkAzAn-huznemwazCen-', '-nW-gIliA-kAntrYvtuAptenAgretInplAlAns-AndAsInAnsi-ovRDAmYndzAvDACIldrAn-bYminzAvDizdclz-', '-tIgyIv@tYdiAovDizkanvRseSAnz-YwIlrIpcrtwAnAvDEmAnfclt-', '-yuh@vkAm-AndElA-AnddElAtwazDAnemACinzdcl-tumekrozAliAvIzAt-', '-Yh@mvErigl@d-', '-YIkspEkt-yuh@vbInAvErigUdgRl-AndElA-sEnSiwRhirl@st-', '-DEn-tRntujen-Si@skt-InAsomRcltRdton-h@zSibInAgUdgRljen-', '-fRInstAns-wAnde-DAtCIldrAnh@dbInpleIGApanDApi@ps-wIDblaksAndADRpleTIGks-AndfYnli-h@dkanIntuDAhWs-livIGclDATIGzanDAfcrAvDAg@tsA-InstEd-AvpUtIGDEmAweInDErplesAz-@zDectuh@vdAn-', '-DewRnDAhWpleIGwIDErdalz-InDAparlR-', '-dElyAkImtuDAparlR-AndwID@nErAvgretmIstRi-bEkAnDACIldrAnAsYdAnsEtuDEm-InAkwIspR-livAndEl-AndgrozAlihir-AndontsewRdDEm-', '-soseIG-SilEdDAwAntIkto-falodbYDACIldrAn-WtAvDArum-AndrWndbYAsRkuAthIzrup-tuDApy@nsA-DEr-', '-sEdSi-pOntIGtuDApleTIGz-siG-', '-pUstizpliTIGzclAwekwIk-AndkErfAli-AndwiwIlnatlEtDEmno-EniTIG-AvWCRliIGDEmWt-', '-AndDIsmETAdAvtritIGDAkes-wazmACmcrAfEkCwAl-InmekIGDEmdIspozdtuAvOdkAmItIGAsImARfcltAnADRtYm-D@nEni-dREktrIvyuks-crIksprESAnzAvDIsplEZRAdrEstpRsAlIGtuDEn-wUdh@vbIn-', '-neCRAvDAfEkt-pRdust-bYRliImprESAnz-', '-D@thIzkAmpErAdAvlinATIG-', '-DearCiflifcrmd-frAmkamAneSAnzAvDAImprESAnzmedInCYldhUd-', '-v@stImpcrtAnsAndInfluAns-AvDIsmEntAlfRnISIG-', '-wITWtgoIGtuEnisACIkstrim@zDIs-wik@n-izAlisi-anrIflEkSAn-hWv@stInInflAlAns-anDAYtdiAz-AndkAnsEpSAnz-@zwIl@zanDAprInsAbAlzAv@kSAnInmDACUriIrz-mAstbi-IgzRtAd-bYDAneCRAndk@rIktRAvDAImAjAzwIC-DApIriAdAvImfAnsi-AndCYldhUdImprEsApanDAmYnd-', '-DApenprAdust-bY@n@ktAvhesti-And-IGgrivYlAns-tuwICAfaDRsAbjEktshIzsAn-mesump@sAwe-bAtDAmEmbRiAvIt-dAznatp@sAwewIDApen-', '-bAt@ndRzkErdnATIGAbWtD@t-', '-himedAbWtso-bip-D@thIzb@k-kemnIrbrekIn-AndhiwazdAnfWndIt-Yk@ntElyu-wEnhisctItwaznowAtibAt@ndRz-', '-hiwazsACA-bIgbO-D@thiwcr-hYbuts-Andk@rid-Aj@knYf-', '-nW-DIsnYfwazAsplEndAdwAn-Do-h@ftAblebwazgcn-AndDAhEmdAwazAlItAlkr@kt-And@ndRznu-D@twAnIz-clmostAm@n-@zsunIzwAnh@zAj@kmYz-', '-yEs-wOnAhATct@ndRz-', '-sInD@tY@msofYnd-Yme@zwElgoAndIzAtdIkIG-', '-Y@mgoIGtuDAkcrtbcl-@nsRd@ndRz-', '-AndSitUk@ndRzh@nd-AndwUktwIDhIm-ApDAbrcdmarbAlstErz-wErsoljRzwRpostAd-@tEvRiTRdstEp-AndTruDAmegnIvAzAnthclz-wErkcrtiRzInsIlkAndvElvIt-stUdbWIGwErEvRhiwEnt-', '-fccR-lYk@znat-DemAsth@vTcthImAprIns-wEnDeschIzfYnk@p-', '-@tDAfarDREndAvDAlarjAztcl-AtebAlwIDTEt-wIDgoldAnkAps-AndgoldAnpleks-InlcGroz-', '-anhyujsIlfRpl@tRz-wRpIrmAtAvtartsAndkeks-AndwR@dwYnsparkAldInglIlIGDAk@ntRz-', '-DAprInsAs@tdWnAndRAbluk@mAbi-wIDbokezAvrozAs-AndSil@t@ndRsIt-InA-goldAnCErbYhRsYd-', '-bAtyumAst@itwIDycrk@panycrh@dSisEd-AndwazgoIGtuDegEtc-', '-DAprInsEs-sRtAnliwazbyutAfAl-AndhiwUdh@vdIrlilYktubikIstbYhR-bAtDAk@p-wIChIzmADRh@dmed-hiwUdnat-gIvAp-an-EnikAnISAn-', '-hionliSUkhIzhEd-', '-wEl-bAtnWsEdDAprInsAs-AndSifIlhIzpakAtswIDkeks-AndpUthR-on-hEvigoldCenRWndhIzmEk-AndbEntdWn-AndkIsthIm-', '-D@t-IzAvErifYnk@pyuh@vz-hisEd-', '-sowItIz-sEd@ndRz-', '-AndItIzmed-AvmADRzbEstyarn-AndSimInAnAdhRsElf-AndEvRibadi-wAnstugEtRdAwefcrAmi-', '-wIDwAnjAmp-AndRzk@tWtAvhIzCEr-', '-hidartAd-lYkAnEro-Tru-clDAholz-dWnclDAstErz-AndAkrcsDAyard-', '-histIlhEldantuItwIDboh@ndz@zhirASthImtuhIzmADRzkatAj-', '-AndclhIzbrADRzAndsIstRzstUdrWnd-AndlIsAndwIDErmWlzoldbAn-', '-bAtwEnhIzbIgbrADRhR-D@thih@drIfyuzdtugIvhIzk@ptfcrAkIGzgoldAnkrWn-hisEd-D@t-@ndRzwazAstupAd-', '-AndRzfesgrurEd-', '-bAthIzmADRhadbInklos-', '-nomYlItAlfAnSisEd-', '-IfyudrEstInsIl-AndgoldfrAmtaptuto-yukUdnatlUk-EninYsR-D@nInycrlItAlrEdk@p-', '-@tDAkAnkluZAnAvDAb@GkwAn-wICwazsRvdItfYvAklak-DAkeGAndRdIsk@bAnAt-wRrhIztelRzwRAwetIGhImfcrDApRpAsAvtrYIGanDAsElAbretAdkastumrAprAzAntIGsprIG-wICwazDArizAltAvsAmACIm@jAneSAn-Andh@dkcstsomEniEfRtsAvTctuDAdIzYnRzAndcrnAmAntwRkRzAvDAkcrt-', '-havEriwEl-', '-lAtImkAmAndDEmsEdDAkIG-AndIzIfkcldbErh@dbInlAsAnIG@tDAdcrfcrDApRpAsAvkepIGhImsElfckARanwAvDAkanvRseSAn-hiEntRduson@zDAkIGh@dprAnWnsthIznemtuDAtukcrtiRz-', '-jAtAmAntirposts-wRApans@ndInyanAndilRYtUkDErliv-', '-sRnlisY-bAtYmAsth@vmAnituduD@t-wAt-', '-wAtguumenIndkwaRdlOs-', '-hih@zgIvAnAmwIDtumACgresnatuh@vADRstIltugIT-IfDearIkwYRd-wIC@zDAkes@tDAprEzAnmAmAnt-', '-ItIznEsAsEriDErfcrD@thiSUdkAmplY-DAkeGfrWnd-', '-dAzycrm@jAstiDEnnolcGgRbIlivDAdIslOlAtEmpt-', '-nat@tclyuaranDAkantrErimostdIgriAbAltumi-', '-ycrm@jAstizpl@ntD@nAndDAsAfErIz-', '-yuwIltekDEmfrAmYprEvAtfrEZR-', '-DAnuzsRkyAletAdwIDArApItAtivAlYtnAG-dUrIGItspragrEs@tkEndAldEvRivRYAdAvkokAtri-dIzYRAndwYld@mbISAn-', '-DAkIGh@dkAmpletAdhIztcrlAtbYnYnAklak-hiApIrdAn@nopAnk@rIj-dEkRetAdwIDbrEnCAzAvtrizAndflWz-', '-DAkwinzh@dtekAnDErsitsApanAm@gnEfAsAntdeAs-crpl@tfcrmREktAdApanDAbcrdRzAvDAlek-InATiAtRAvwAndRfAlElAgAnsAvkAnstrAkSAn-', '-sAdAnli-fcrDApRpAsAvrIstcrIGpisAncrdR-spreGAkAmpAnidbYhIzhclkcrt-medhIzApIrAns-', '-DAsizAnz-@lYzAvsprIG-falodhImklosli-tufcrdAkwAndriA-wIC-@ftRmEniwRdzAvmcrAlEsfl@tRIGImpcrt-wazDAkAmInsmAnAvDA@ns-', '-hIzlEgz-DAbEstSept@tkcrt-wRdIspledtugretAdv@ntAj-InflESkAlRdsokAnhozAtsolksofYnAndsotr@nspErAnt-D@tItsimdclmostlYkflESItsElf-', '-DErwazAmTIGInhIzk@rACwICrIzAmbAldDAbOntmuvmAntsAv@nAmcrtAl-AndhidIdnatd@nsomAC@z-simdtuscrAlcG-', '-yEs-ItIzsAprEstA-', '-farfrAmItsYR-ycrm@jAstih@vIngIvAnodREkSAnzAbWtIt-DemizISAnzAvrItEndAn-', '-yEsY-AndrEdidrEstfcrDAb@le-', '-sYRhisEd-ycrm@jAstizmostdIvotAdsRvAntAproCAztuprAfcrmAsRvAsanDAsAkeZAnwIDsAmAlRzilD@thihIzclrEdiSonanDAfildAvb@tAl-', '-DAkIGsimdonliplizdwIDEvRiwAnprEzAnt-', '-mAsyIrwazDAonliwanhudIdnat-AndRst@ndEniTIGAbWtDAm@tR-', '-DAb@libIg@n-DAfEktwazmcrD@nbyutAfAl-', '-wEnDAmyuzIk-bYItsbRstsAvmElAti-k@ridAweDizAlEstriAst@nsRz-wEnDAsImpAlAntudRdp@ndAmYnAvD@tpIriAdonliDAmcrn@CRAlanAkWntAvDAvEriAndIfRAnt@ktIGAvDAalgAst@ktRz-h@driCtItskamAnetIGpOntAvtrYAmf-DATiAtRSUk-wIDtAmAlCuAsAplcz-', '-dIstenfAlAvAsAksEsAvwICm@d@mSodnoItm@lAjAmAnt-hiTctAvnATIGbAtboblirIgenIGDAmarkAndprEfRAnsAvDAprInsEs-', '-bYdIgrizclhIzh@pinAs-clhIzbrIliAnsi-sAbsYdAdIntRrIgrEtAndAnizinAs-soD@tIzlImzlcstDErpWR-hIzarmzhAGhEvAlibYhIzsYdz-h@dhIzh@dgrupt@zDohiwazstupAfYd-', '-wIDAkIIG-huh@dfrAmDAsmomAntbIkAmInri@lAtiDAprInsApAld@nsRInDAkwYdril-k@stAlAkApanhIzv@nkwIStrYvAl-', '-EvRiwAnkUdAbzRvhIz@jAteSAnAndprastreSAn-AprEstreSAnwICwazIndid-DAmcrimarkAbAlsInspipAlwRnatAkAstAmtusihImwIDhIzarmzh@GIGlIstlITlibYh@sYd-hIzhEdbiwIldRd-AndhIzYzwIDWDErbrYtAntElIjAnsbIdEmd-', '-ApanDIsm@dAmdemtutRnhRYzl@GgwISIGlitAcrdzDAkamt-AbzRvIG-', '-duyTIGksoSirIplYdwIDIndIfRAns-', '-yEs-DAkErIktRwICSucrrOlhYnAsAvsundIzInpRfAktharmAniwIDhRon-', '-IksplenyRsElf-', '-YAludtuDAgadAs-', '-DAprInsAsAnkwYRd-no-', '-SiDEnroz-hAmIGDAErtuwICSiwazprEzAntligoIGtud@ns-', '-DAErApIrstAshart-AndwundAdhImcrtAli-', '-AkwcrtRAv@tWR@ftRwRdz-hirItRndtuDATiAtR-bAtItwIlbirEdAlibIlivdD@tItwazonliApWRfAlEfRtAvrizAnovRhIzgretIksYtmAntD@tAnebAldhImtugob@k-crpRh@ps-fcrlAvAzD@strenjAlikanstAtutAd-hifWnd@tImpasAbAlivInturimenmAClcGgRsApRetAdfrAmDAprEzAnsAvwAnhuh@dbrokAnhIzhart-', '-wEnSipRsivdDAyAGm@n-SirodzlEkAwUmAnsRprYzdInAmItstAvYdiAzSiwazdIzYRAsAvkAnsilIGfrAmhRsElf-', '-rim@AnYImplaryu-DAivnIG@zmostlAvli-', '-Inded-a', '-YrImImbRnWtAndYk@ngrEjAletmYsElf-duyulAvEniwAn-', '-fcrgIvmiYhardlinobAtY@ms@IG-ATWzAndtYmzfcrgEvmi-m@d@mwazrYtkwYtrYtDIsbrItAlEksYlhIzkAmpletlitRndmYbren-', '-DErkAnatbiAdWthirIsivdyukYndlifcrInf@kt-yurItRndwITWthIzprAmISAn-', '-om@dmAsEl-wYh@vYnatAdIvotAdsIstR-crAtrufr@ndsAC@zycrsElf-', '-wYdclrEdihirDesEdtuhR-', '-Yh@vbInhirDIskcrdRAv@nWR-rIplYdlAvatii-', '-dIdnatDAd@nsIGAmyuzyu-no-', '-nomcrD@nDAd@nsIG-', '-nAvaliei@zkwYtApoAtAs-sEdtEneSant-', '-Y@mAwUmAnAndDErarfyulYkmi-huwEvRAlAvzmifl@tRzmi-huEvRfl@tRzmiplizAzmi-AndhuwRvRplizIz-wElsEdmantule-yudunatfEnIS-', '-ItIztudIfAkAltrIplYdmadmAzEldItEniSWant-l@fIGl@dli-', '-lUkyandR-duyunatsiDAmunslolirYzIG-sovRIGDAtctmostbr@nCAzAvDACEstnAtsAndDAyoks-', '-IkskwIzAtscftRfAvDAwUdz-DAh@pinAswICycrfrEnSh@pkAnfRzApanDi-', '-wEl-sEdmYdmAsEldItAnYSolant-YclsoTIGkAgUdio-bAtYtekEr-', '-tusYnATIGsEdmantAle-soDErwEnmAtmazEldItAnASaranT@Gks-@tDAneIzDAonliwAnhunozIt-', '-kwItkwIktDEnAmAGDAhYridgr@sEdmantAle-stup@tDAne-yuarsotcl-', '-DAyAGgRAlzh@dIndidmedhImsElvsmcl-IndidIndvIzAbAl-', '-SiwazhirjAstnWsEdDAkWnt-', '-yuarpWzAtAvDEn-', '-yEs-DApRh@psYfredAndhRAn-InwYwe-', '-hWIzItlAvalie-sEdmadmAzEldItEniSant-D@tDEvikamptRbrEgAlonspokAvyu@z-luiz-', '-ItsemzDAkIGwIlnatkAnsAmptuIt-', '-kUdgreSAs@zDAkIGEnirYtuIntRfIrAnm@tRzAvD@tkYnd-', '-YgIvmYkAnsEnt-', '-oY@mspikIGsEriAslirIplYdmantAle-AndmYApInyAnInDIskeshIzkwYtAzgUd@zDAkIGzYsApoz-hIzItnatloiz-', '-lAtAsrAndEnsEdclTriAndgresfAlilIftIGApDAlcGskRtsAvDErsIlpdrEsAz-DelYtlir@nAkrcsDAopAnspesbItwinDAlekAndDATIkAstkAvRtAvDApark-', '-Anf@kt-DAsWndAvmAd@mzAndDAkwinzk@rIjAzkUdbihRdInDAdIstAnsApanDAhardrYgrWndAvDArodz-falodbYDAmWntAnk@bAlIrz-', '-AnIswe-DAfEtAvDAholkcrt-wazAfEtclsofcrDAmIstIriAsAndh@pAtAnsAvDAfcrAst-fcrsRtAnliDAdIrInDAbrek-DAfEzAntanDAbr@nj-DAfaksAnItshol-wRclIsAnIG-', '-clAbWpthImwazAtAmAltAvbrYt-AndbrokAnkAlRsk@tRdImbrcdzpl@SAz-', '-DAmrAg@nsRh@dAkrEstAdhEdAvIrdEsAntdrimbl@k-AbrcdkalRAvlAstrAswYt-bl@kb@k-blEkAndwYtwIGz-wYtbEli-sYd-fYnlipEnsAldAnmbl@kAndlYt-AndAbrEstAvrICCEslantrEd-striktwIDbl@k-', '-hIzfitwRrEd-hIzlcGmErobik-wIDItscltuTtEjAzAndSarphUkstIp-wazbrYtrEd-', '-bAtSirhiwaz@tAtErAbAldIsAdv@nAj@zkAmpErdwIDAWlz-haksAndigAlz-hih@dnorIndIGfclz-', '-bAtsAdAnli-stritAndswIftAzAdYAvInkarmRAnt-hiSatdWnInuDAtcrntAndIsApIrdbIninDAsRfAs-', '-wAnsfErliAwIGhWEvRhiwiIlAnme@db@khRAlifcrhIzpRC-', '-InmAndIvsimdD@tAtrWtAvdIsYzwIlAfrIlisAbst@nCAlmil-', '-bAtsACwazhIzkiGn@zD@t-ivInwYlDAwYdfluksAvhIzIGgcrdduvIktAmwRsdIlstIkIGWtAvDAkcrzAvhIzbik-hIzfIrsrEdYzAvcrwAnsmcrApIrIGdWwRdInDADAtcrnt-AndsRCAvfrESpre-', '-IndIspErhihRoldhImsElftWnwRdtusun-', '-DAgrethakfWlodhRdlit-tuAtrivhIzprefrAmDAgrWnd-', '-DAk@ntgrWldscftli-bIktApDAprYzInhRjalzAndtradAdInDAbUSAztunAvWRAt-', '-Inf@kt-hih@djAstmInIStIt-DAl@sAvDAtrWltstelh@djAstb@nASwIDAsp@zAmdWnhIzstrendgat-wEnDAb@vAthakkanslYndAvhImAndswupt-', '-DAhckAlYtAdanDAdEdbr@nCAnds@tApret-moSAnmAs@zIfsRprYzd-', '-lYkhIzanhcrCAnAlItAlkAzAnDAtil-hituh@dfEltAfIrAvdETsmItAnAntuhIzhart-Andwazh@EdIGdEspRlifcrDArEfyujAsAmdark-ovRh@GIGb@Gk-dipfrIndtwIDAwidz-wRrDAdrEdfAlYh@vDAhakSUdnatdIsRndhIm-', '-Ahaks@tApanDAbrEnjAndwaCthIzkwcriswImIGbInifAsRfAs-', '-clmAstInstAnliuwasfcrstuDAtap-', '-stretweInDAhak-glYdAdfrAmIzpRCAndartAd@ftRhIm-', '-bAtAdIspOntInDAr@pAdItwazImpasAbAlfcrhImtustedWn-', '-bAtDIsfrikwAntRAvDAhYtsAvErfcrclhIzs@vAjv@lR-waztrAbAld@tDAlipIGwevzInDAtcsIGfomAndizm@ndr@pAdz-hidIdnatAndRst@ndDEm-', '-@zhifluhIzdWnwiCIGkACIGt@lAnzwEnath@pAyardAbAvDApyujAdItshEd-', '-wErDAweAsfcAnInstAnts@GktupekemklosR-bAtnatkwYtwIDIngr@spIGriC-', '-bAt@zdbIfcr-DAlipIGwevzAtDAbr@pItwRtumACfcrhIzpRsuR-AndyulAbAtAflAphIzweanwRdAnAklWdAvfAm-ordumDAhAGloAbAvhIzhEd-yEthEzAtetAdtustrYk-', '-DAhak-ImbItRdbYDAlcsAvhIzfRstkcri-@ndbIkAmh@zdagdInpRsut@zAwizAl-natubiSekAncfwErIvedAdcrdIsivd-', '-hih@dAlatAvlYnhWlt-AndDApleswaznAntufrifcrAlcGk@st-bAthiwazImpeSAntudraphIzfYzAgEnanDAspaktwRDAbIgfISwazspitIG-', '-DAl@sdrapflY@zDlUkwUdh@vIt-katjAst-InDAkcrnRAvDAhaks@GgRAlionbAnbik-hUpIGItsElfRmli-', '-AtDAsAdAnSarpstIGAvIt-DAgretbRdtRndhIzhEdAndnotAst-fcrDAfRstYmDAfISAmInst@ndIGanDAb@Gk-', '-DAdr@gApanhIzbikAndDAlYkCEktApanhIzwIGzwRAnIksplIkAbAlthEmAndApalIG-', '-InDAlidRpartAdfrAmDAlYn-', '-hiDewElkAnpIgyR@tDAgardAnpRrtizAvDAlEkt-huwRclezrEnitwAnkRjhImbYksEptIGfrisitsfcrhIzplek-@ktRm@nAndRznattuhIm-AndhirzAl@lAmtukAntrIbyAj-wITWtCard-tusAmpoziAmwEnDAprYsAvgafbclz-', '-AdCcrthibikAmz-ApromAntfIgyR-InwAndAvDAsYAti-AndIfhihIznatkErfAl-sAmAdiwIlseso-', '-bAtivInDAAnsIksEsAldramACAsth@zhIzmomAnts-', '-yurRplemAstbinatmiAliegUdplebAtYsAksEsfAlwAn-', '-frIGkliYk@nantclese-', '-bAtsApozyusEd-Y@mfandAvrYtIG-mYkipAlolisedmYlEtRzhomRgUdInAfrpAnC-', '-YvgatAlItAlYdiAfcrApleAbAtAmEnAnduwUmAnAndAnADRwUmAn-And-bAtpRh@psAbEtRtItDApanAsikRdfcrDAmomAnt-', '-EnihWwItDAjaliIksYtIGIndYk@nuDAbYlAGkarYt-', '-lImIryIcrfcrtEnmAntAts-AnyuS@lRnAdjAstwAtsteCk@ftIz-', '-AndYSUbigInwleScrdhamAlian-solAlUkli-', '-hIm-tubicrnatubi-', '-nWtnDAAndIktAvDIssoldAkwidIzplen-', '-Indid-yuwazliSAnminDAk@nRdAvh@lAnssolAlAkwit-AklAvRpleR-kUdAtusAmIkstEntIndAketDAholTRtilYnz-bYesYlAjwRtIGAvDAjab-bAt-@tDAsemtYmItwUdbiYdAltudAnYD@thiwUdmIsDAfYnRSedzAvDAdramACAstminIG-', '-wimadRnzhYvR-siDAAbsRtAtiAvIt-', '-IfItbIgr@njAd-fRst-D@tDATctsAvAsRdAnkErtRkSUdbinontuDAathAns-AndsEkAndbli-bAt-sAlIlAkwicrdDAh@pAtAvmIGkIGAlWd-IzInapAzISAntunmAnRAnstejtekbikt-h@dlASEltsAlokli-biAbUtAdwITWtd@mAnjtuDAple-', '-AndsowAn-tIligItDAEndwEnAbilimYtse-YyEs-crsAmTIGnankAmItAlAvD@tscrt-', '-DIswUdbiIniziwiAvdoIGIt-bAtwUdnatbi-DAbEstwem-fcrDAriDAnbEtIntIztunizitukclAtICAntuhItsElf-', '-AndDAold-b@dlimedpl@d-ItwazfrikwAnlinEsAsEriAtcAlwAnAvDAkErIktRztutekDAardiAnzIntuIzkampAnAns-', '-InDAmanRnwElkAnstrAktAdple-hisImplirIGzApAnIm@jAnErikAnfItRAtAndtElzAnmwAthiIzgoIGtudu-kUdEniTIGbimcrm@tRAl-', '-YwAnt-dAbAlnYn-plo-', '-dAbAlnYntuTriElzAncr-D@ndAbAlnatjEs-loIzD@tyuhRreSoph@mAspikIG-', '-kYste@tAmAndRIGAmWtDIsbIznAs-', '-tubiwRnatubiD@t@zDAkwESAn-wIDRtIznobAlRInDAmYndtusAfcRDAslIGzAndEroz-wAt-noh@mAtsbikIG-', '-yugemidAbAltfYvYmAndAbAlnYAn-AlotIz@tyuhRreSWkh@mAtspikIG-', '-tubi-crnatubiItD@tIzDAkwESAn-wEDRCIznoblR-', '-ItdIztulIthImlAt-IfD@th@pAntubiDinimAlycrkErIktR-Intulesmcldag-p@dfEltAnmAGgRztembErcrdEvREnAmAlIzmostAndkipIm@dDApart-AndgAnfYdInDIsEnmosACsaroz-hopscrsikrAthIstRi@zDAadiAtsh@zgatuno-', '-IntRhEmAt-wIDhIzfivRkbcrhWnd-', '-ledIlarkspRstRtsAdAnliIntRnswcrdhIm-', '-larkspRpbItmigInDIsmAnIGfcrDATRdtYm-', '-YwantugEtAwefrAm@tcl-swund-', '-IntRlcrdarDRflAfAnAz-', '-AndDEryuwarmp-yuwIlAvkcrsApriSetD@tDAAnfInjRsInsAzAz-natonlisevtYm-mAtclsomekDAmAnuvRIGvErimACmcrn@CRAl-', '-hWyumebiwAnrIGaryutubigInycrm@stRkis-', '-rIlapIzIntusYh@ndsflIvRAsAvDAunIG-', '-DAdAtRzDAsElfbrIj-tulcrEji-orEjiwAtdIdyuse-', '-DEn-lcrdtApAni-wYlwAtAbWtAkSAn-', '-DAkrWdAdrEscflipIGDAhIroAndhErAwIndAmunAnDAmInlAvbAstej-AndDEnyuk@nbigEn-', '-DEnIzDAtYmtuEndRduzAmyIlanIkstej-', '-AsetmilIzpapyAlRdbIkczAprutuDAadAnsAvDA@kRz-ivInwAnkcldCarlzhAltrid-croInErz-YrIlbibojAstlYkyuAnmin-', '-tiplizm@tyuz-AtlR-Imp@sAbli-', '-hostAsrIplesAzlAmp-AndInklYndz-ImptitipatovRtrefcrmomAnt-DEnhEnsAmekAppetAdbrWndInsYd-DAstisiIGDAdAntAlmAmwIDAtElAzgopAnDApRsRgAl-', '-riIntAbaTDRAndTrifUtmAn-humuvdDAtiTIGz-hosAstugEst-', '-AndnavAlzDAhIrovhIzcfAn-pUSChIzmilzAweAntestAd-bAtnoAstedZRrAwUduEniTIGsoAn@CRAl@zDIs-', '-tuwYDarmeed-AndyubrYdhIzkAmbodwIDAnErAvgretigRnAs-Indid-wAnkIlDAdInrIlYbIgEswUduklECholdAvDAfAtmAnAndse-h@fAmoldCAp-Yh@vAnIrlifInISt-bAtDA@ktRzbEtRskAlbAnIs-', '-bAtItIzDAsIgRr@twICCiflih@zbrckDAmanRdramAtuItsprEzAnstetAprRfEkSAn-', '-lcrjan-tegAatgoldsIkrEkesfrAmhIzlEfth@nd-ApRwIstkozpaA-', '-DAbolDAzlEjAsleCRnAmbRdTRdisIksmEmbRz-', '-DIswaz@tDAmarCAlEkSAn-etinTItifYv-', '-D@samRzImAgreSAnhWEvR-biIGmenlifrAmDAfristez-gretliCenjDArElAdIvstr@GksAvDAtupcrtiz-', '-fcrjEnRAlsRvAsDErfcr-rIkwYRIGnospESAl@fRt-DAnumarAkAlstreGTAvDAf@kSAnz-wazAbWtikAl-wYanEkstRcrdAnEriAkeSAnz-D@tuTWsAndcrdRATiInrIzRv-lYIGAlItAlfarDRb@kfronDAstetlYn-kUdItEnitYmizAlitRndDAskel-', '-DAfristetm@nh@donliDErkAnvIkSAnz-DErIntElAjAns-DErkRij-AndDAwcrlsApcrtAvDAncrT-DAkAnspIrAsi-h@dItsikrAtkampAneSAn-DAtErAtcriolfISAlz-DAlEjAsleCR-DAboDAslcz-DAkcrts-DAlAlISAcfAsRz-DAprEzAdAntAndDAarmi-', '-DAsAletfcrmAbAlAreAvAdv@nAjAz-slevRiwazpleIGlodAdYs-', '-kAmAnbYweAvnDAzRirIvRtWnz-hifElfRstAlAnbcrdRATiAndkAmpInAnSUpAnInfUlAnsAz-AndpRh@sh@vIGhIzIGklAneSAnzarAdimoldAdbYhIzwaSIGtAnInstrEkSAnz-hIzRliImprESAnzwRdIsYdAvliAndvRz-tuDAfristetkcz-', '-hIzrIsEpSAnspiCItwEskpcrdInwIChimenten-DAlAg@lAtiAvDAlEjAsleCR-AndhIstitRmAneSAntuInfcrsDErlcz-hilYtAdhIzproslebriatAtRz-', '-clDAtErAtcriAldIgnAntErizwRprEzAnt-EvAnhRS@nAndprIzYtAd-jankWhIn-DAsRveRjEnRAl-medDAprInsApAlspiC-AdIdnanslieSAnAvDA@vAlISAnAst-sAkcrtIG-D@tsAbikAluvmAnt-CivjAstAslUkafTIGAntbYDAkeSAnwIDApruvIGrImarks-', '-clDIsEnt-alankAmplYAnsclhEzAteSAn-clmIrsYlAnsivIn-wRInDAsrcGkholtWnz-lYklEvAnwRT-br@ndRd@z@bAlISAn@zAm-bIklErdtubihastIlAti-tuDApAblIkwElfEr-AndpeIStwIDproskrIpSAn-hRsAnAlvYlAns-IkspoZAn-AndfrikwAtlidET-', '-AvDAlEnCIGz-DAmabz-AndDAmRdRz-ItwUdbiImpansAbAl-IksEptInAvEriIkstEndAdwRk-tunatDAfriklAntAndAtreSAsditElz-', '-DAprEzAnC@ptRzk@nonlitACApanDAmcrseliAntmuvmAntsAvDAsovAlwcrdk@nzAz-wICh@pAli-crnats@GglAnEri-IfhWEvR-DAIndAvIjuAl-AndmcrYsAleAdkesAzAvblAdSId-hudbidIskrYd-DewUdSoAstartAlIG@gRgItAv-arbErAtiAnlcsAvlYfcrApInyAnsek-', '-sEvrAlhAdRdfristetm@npraplirIspandAdtuDAsAmAnz-', '-ItwazInf@ktDAbEswEpAnAvItsde-', '-DAlidRzADAkAnspIrAsibIkemdIstrAsfAlAvDErpWRtukrASDAtWn-', '-wAn@thIzmulISAjEnRAlzsAjAstAdD@t-DAgAvRnR-SUdrIkwYR-DAWtlcz@tlcrAnsAndElswEr-tusREndRDASarpsrYfAlz-AnADRrov@skIGyuntkclWtDAgAvRmAntrups-@tfcrtlEvAnwRT-', '-DAgEvAnRanhIzpartbIkAmIGdWtfAlAvDADAg@lAti-AvhImlOIGmAzRimAlESAtuInfcrsk@nzAzlcz-wazclsoigyRCusikyUrDAhElp-AfEnrAltrups-', '-SUrAvjonzh@dhIzpakAsclwezfUlAvrIts-ISUdInAzbIrAtAvpRsAkyuSAn-D@twazcfkAnb@fAld-bYnDASartwInsAndrEdiriscrsAzAvDAfristetpipAl-AndsAmtYmztIfYdWtrYt-', '-lItAlbYlItAlhWEvR-DAl@tRbIkemhImdAndbWndInDAmESAsAvDAvEriAstibYsAzAndprAsidIGz-wICDAtErAtcriAlAfISAlzIvavd-frAmDAbolgAslcls-', '-tuhImbErAsDIsd@mAjiIkspoZR-C@jAlAkantISyutArEdAgEnstDA@kskAvAnR-anYprIvAlAStCarjAvkAntEmpt-', '-DAEnsAtAtwaznatvYAlAnt-ncrivIndRm@nIknopasiwazsAmAnofRDREfRtmed-AndridRfIrIGpRslAlvYAlAnsInflEdIndIskYz-', '-bAtDAfEr-wazm@nAfYd-@zDekrWnIGpruf-D@tDAfristetmEn-wRInsREkSAnAsAndWtlcs-', '-frAmDizAgEn-sprEGbErAketAdAndfcrtAfYddElIGz-k@mpsAnskWpcrtiz-fYnAlYkamAnetIGInrovIGgRAlAvD@nz-h@fpartAsAnh@vprEtAjcri-', '-DErdIstIGkIfk@rIktRzhWEvRdIsple-wAnbrctAndAnfelIGdIfRAns-', '-DAfristetmEnklAGtuDErprEritWnzAndprErivinz-wIDclDeastAnAnsiAndkRIj-AvtrudiTEndRzAvDErhomzAndfYRsYdz-', '-DErAsumdk@rIktRCenjd-wIDErCenjIGhapRtEnAtizcrnAsEsAtiz-', '-InDASudIGAvSErATjonzAndlcrAnz-AndInDArAfyuzAlAvEkskAvAnRridR-tuAlWDAdEpidimarSAltur@sthIm-DedIskAvRdgrevAf@nsAzDAgEnstDACErACcriAlAndDunYtAdsteslcz-', '-fUtmWt-sAmRtAS@nAn-metwElv-etinfItisIks-', '-prYdAtpRsAnzhuh@dlisDAfristedhotEl-DenlebiscDAvEriAsAvTcrAtiztuprAzEntDAdIstrEkSAn-AvDErprapRti-', '-hEndezwRkAnsAmdInDiznAngoSieSAnz-bAtDAspIrAtAvDEnjAnsrIfyuztIGyild-', '-hisAmAnh@pAdAzAnsIdAsAnz-tujOnhIzpasi-hufalod-Abed-AndAsIstAdhIm-', '-hikAntInyudhIzprAtEndAdsRj-AndtugIv-kalRtihIzErAn-medtuAREst-', '-DAfristethotEl-AstonbIldIG-AndImEnSAzfItdipbYsEvAntifit-TristcrizhYAndh@nsAmlifRnISt-prIviAsliakyApYd-onlifcrlandIGrumz-anD@tdefcrDAfRstYmopAndItstebAlAkamAdeSAnztuDApablIk-AndprAvYdAdefridEnRAndanRAvDAIkeSAn-', '-@zhih@dpramAsthuprAtEktDAhotEl-DAriASUrdsIdAsAnsbIg@ntul@f@tDEranfIrz-', '-tuDErsaroDewRsunAndisivd-', '-DAmIlAtEfcrs-partlir@bAl-parliwcrgAnYzdh@dminwYlluvdIntuDAtWn-', '-hipl@nAtAtkAmpAnibIfcrDAhotElAndIm@ndAdAzsREndR-AvDAarmzbIlcGIGtuDAfristetmIlAtErikAmpAniz-', '-h@vf@nWRletRtRnIGAdEfIrtuclrImanstrAns-higevDApAprYAtRzAndtElfYvAklak-turImuvDErf@mAlizAndpRsAnAlprapRtifrAmDAfristetotEl-', '-@jAsAn-huh@vbInhR@GIGDAma-kl@ntAdhIztug@nstbIfcrDAbIldIG-AndtrenDEmApYd-', '-DAInmedzbIGrImud-@tDApOntAdWR-Ifyuk@nAnvclvzcRfYRdTtuDAstanwclz-', '-InDIsInsAdAnt-kantr@stIGDAkrietidAndD@thIzdrAkIvspIrtAvDAf@kSAnz-DAImAkAnedsAsYAtiAvm@sACusAz-fYnzIsmostaRbolAndtrYAmDAtvIndAkeSAn-', '-DAhoprRsidIGwAvsoCYldIS-DAmIzRbAlplat-sotr@nspErAnt-DAWtrejsokros-@ztubrIGdIsk@stuDAbEtRkl@sAvbcrdRraTiAnz-huwRwItnAsAzAndIgsEsRiz-', '-rIloketAdfUtnat-gAvRArabAnsAnbiIGanhIzweis-DAstimbotanwIChiwaztr@bAlIGstapt-@tlEksIGktAmAzRri-', '-InAfyudezAndcfAsRkem-wIDer@kwAzISAnfrAmgEDRRS@nAn-AndtUkDAprIzAnmRbYl@ndAwEstpcrt-Andh@ftRwRdzfrAmDErtuk@nzAsItiAlAvAnwcrT-', '-hIrilAzplesInDAkAsAtiAvk@ptAnmartAn-AvDAkIkApurenjRz-hupruvdAkYndjIlR-AnmAtEriAliAsIstAdInprAtEktIGhIm-frAmDAdenjRAsIntEnSAnzAvDAmam-wIC@tD@tYmhWdlEvAnwRT-AnRDArenAvtErR-', '-k@ptInmartAnsEd-YS@kivyuApIstAltElprAtEktycrsElf-IfwRskAmztuwRst-', '-InDARlimcrnIGAvDAnEkstemeCwEntinYn-AkampAniAvdrEgAnzwIDwAnEmptis@tAlkemdWnfrAmDAfcrt-AndwYlDAproslevRrIm@nstIlslEpt-DAprIsAnRAndhIzEskcrtwRanDErweAkrcstDAprEriztulAkamptAn-InDACarjAvcpAsRzAvDAyunYtAstesarmi-', '-DATronIGtuprIzAnfcrDIsEntRprYz-AnddItendsAmtYm-hiwaznat-dIskarIjd-bAtstIlkAntInyud-bYhIzkWntAnAntsAndprAtEkSAn-tuIGfyuzspIrAt-IntuDAdIstrAstrOlAsts-', '-AmAGDADRpRsAnzAvdIstIGkSAnhuyunYtIdDEmsElvztuhIm-wazlcrdnepiAvmRCAstAn-sAnAvDAfemAsInvEntRAvDAlAgRADAz-DApEsAntuhuDAtYtAlAv-Agretm@n-IzmcrjAstblidyu-DEntuEniADR-humhIzkAntri-EvRprAdust-', '-wYlDAfcrmR-fcrtold-D@tDAskAtISkAmAnAntRz-wRrsikrAtlifcrlIGAyuGyAnwIDAIGglISpalAmAnt-And-InkAlketAdDAnAsEsAtiAvprIvEntIGDEnmbYsAmvIgRAsAndAtekIG-Al@tR-stIlInsIstAd-D@tEvRisACAtEmptwUdprAsIpAtYtDEmIntumIZRztuICADRwYzDewRnat-pRh@psInDAklYm-', '-DAkIGzirzwRnWopAntumontrozhIzkWnsAlz-huprApozdnAnbAtDAboldAst-AndmostvErIG-AgriAblituDAdEsprAtstetAvDArOlkolzInskaptlAnAnd-', '-fYthAndAdmInmcr-huh@dbInlEvidbYDAkAmAnAntRz-wcrprAswetittuImbresDArOlkolz-AndwIdDIskAmbYndfcrshihesAnd-tuAt@k-lcrdElko-hulY@tpRTwID@narmiAvsIksTWzAndmEn-AsImbAldApanDAfRstnyuzAvDAYrISInveZAn-', '-drEdIGDIsupIriRpWRAvargcl-huh@vIGjOndhIzvEsAlztuAfcrslEvidYDApAblIk-wazAproCIG-wIDAkAnsIdRAbAlarmi-montrEz-hesAnncrTwRd-IncrdAturWzAgenDAmakiAvhAnpAliAndDAgcrdAnz-huh@vIGbIfcrhestIditekAnarmz-h@dbIGInstAntlisRprEstbYDAkAvAnAntRz-', '-mIsnobAlmAnzkartRDosEDAbretIdfApAnAskAlkarAj-AndkAndAkt-wazvErilofAmInAtEripraAs-AndaftRsAmskarmISAz-IndwICShiwazwRstAd-hihirAlWdmAntroztuIzskephIm-', '-bYkwIkmarCuz-TruDizInIksEsAbAlmWntAnz-b@t-jEnRAlfridhImsElf-frAmDIshupIriRfcrsAzAvDAkAvAnAntRz-', '-wIDDiz-AndsAmriInfcrsmAntsAvDAAToomEnAndmAktomAts-hunhih@drIkold-mantrozfElsAdnAliApanargYlzkAntri-AndlItlusApanIt-olDArejAvwcr-tErIGofDAk@tAl-bRnIGDAhWsAz-AndpUtIGDAInhEbAtAntstuDAscrd-', '-DIssAvErAtibYwICmAntrozsAlidhIzvIktRiz-wazDArIzAltAvprYvAtanDAmostAtigAnzDACiftAn-h@zmAC-@zAbzilfcrDApAblIkkcrlz-WRgYlkAlEktIGTriTWzAndmEnmarCtInkwEstAvDAEnimi-huh@drItRdwIDErplundR-Andhile@tInRlaki-sApozIGhImsElf-stIl@thAkAnsIdRAbAldIstAnsfrAmDEm-', '-YkwIk-AndAnIkspEktAdmarC-wAntrozhesAnd-tuInRlaki-AndprAzEntAdhImsElfIncrdRAvb@tAl-bIfcrDAsAprYzd-bAtnotAfrYtAndkAvAnAntRz-', '-hIzkandAk-AndprEzAnsAvmYnd-InDAsimRjAnts-ApIrdkAnspIkyuAs-', '-mAntroz-wik-InkEvAlRi-hiarlYndhIztrupsAvhcrswIDInfAntri-AndWftRpUtIGDAEnAmizhcrsturWt-sElwIDyunYtAdfcrsApanDErfUt-huwRIntYnikAptInpisAz-D@wIDAlcsAvDI-d@lAnt-ncrdgcrdAnanDApartAvDArOlAsts-', '-frAmDAsemmEn-nurEjAmAntsAndnyukAmpAnizwRfcrmd-dIfRAntcfAsRzApOntAd-AndDAholmInAtErifcrspUtIntusACh@nz-@zDAIndIpIndAnskUdrIlon-', '-bIsYdz-mEmbRzAvpalAmAnthuwRIsgludAd-mEniAlfAsRzAnwIlIGtusRvAndRDAnijEnRAlz-TruApDErkAmISAnz-AndAnwErAli-frsInAtetAdDAprAjIktIvpUtIGDAarmi-AndtRnliIntuDAhAndzAvD@tfEkSAn-', '-DEDAdIsAplAnAvDAfcrmRpanDAmEntRiarmiwaznatkAntImptAbAl-AmcrIgz@ktpl@n-wazIntrAdust-AndrIgRAsliEksAkyutAd-bYDiznukAmandRz-', '-v@lR-Indid-wazvErijEnRAlidIfyuzdAvIDAwAnparti@zwEl@zDADR-yirIGDIspIriAd-dIsAplAnclsowazAtendbYDAfcrsAzAvDApalAmAnt-bAtDApRfEkSAnAvDAmInAtEri-akt-InkAnsRsIGDAjEnRAlpl@nzAvEkSAn-AndDAapRekSAnzAvDAfild-simzstIlAnboTsYdztuh@vbiIGInAgretmIZRwAntIG-', '-hIstcriAnz@tlist-pRh@psfrAmDEronIgnRAnsAndInIkspIriAns-h@vnatrImarktEniTIGbAtuAhEdlcGInpICuAskAGdAkt-iCpartihariIGtuAb@tAl-wErv@lRAndfcrCAn-Sifli-dItRmAndDAsAksEs-', '-hipastTruhEnAli-sAndWldAnz-AndkemsonIrzAlAGdAn@zhWroanDAhIl-', '-DAskatISjEnRAlzAndkAmISAzAfEktAdgretsRprYzanDApIrAnsAvDAkIG-AndDoDepedhImoli-IkstIriRrIspEkt-dutuhIzdIgmAti-DeInstAntlisEtAgardApanhImAndRkAlRAvprAtEkSAn-AndmehImInri@lAtiAprIzAnR-', '-DeInfcrmd-IGglISpanAmAnt-AvDIsAnIkspEktAdInsAdAnt-AndASUrdbEnD@tDeh@dEntRdIntunoprYvAtstritiwIDAkIG-', '-crh@vhi-gIvRnAsEnidITt-', '-AndDAmEnAvIzrYlansAdDAmEnAvjudA-AndsEd-wih@vtEnpatsInkIG-Andwih@vAclsAbcrYtIndevIdDAni-wYDEn-dIjidIspYzAs-D@tWRdvYs-SUdnatbifRsth@d-InbrIGIGb@k-WRkIG-', '-AnADRpriCR-AvRrIproCIGhImtuhIzfeswIDhIzmIsgAvRnmAnt-crdAdDIsAmtubisA-', '-DAkIGzstUdAp-AndkoldfcrD@tsAm-wICbIgunzwIDizwRdz-', '-h@vnasilcrd-anmiYpre-fcrmEn-wUdmidivWR-', '-DAgUdneCRdcrdiAnzInpItiuvfclInm@jAsti-SodfcrwAnskrYtRdEfRAnstuDAkIG-DEntuDAmInAstR-AndsondAsom-wICDAfcrmRh@dkoldfcr-', '-DApatAmAnt-AndDAskatsletdEprApozAlzbIfcrDAkIG-', '-bIfcrDAsEtAlmAntAvtRnz-DA@dmInAstreSAnmAstbipAzEstIGtalibYDApatAmAnsAvboTkIGdAmz-AndhWInkAmp@tAbAlD@tskIGwIDInlAbrAtiAvDAkIG-IzizAliIm@jAnd-', '-DAIGglIS-ItIzEvAdAnt-h@dDenatbiIGprivisliASodAvrAsivIGDAkIG-wUdnEvRh@vpatAdwIDsokAnsIdRAlbAlAsAm-AndkwYlDewikAndDEmsElvz-bYDAsemEZR-h@vstrIGkTAndIpipAlwIDhumDemAstcftuwAnz-h@vsomAtEriAlAndIntrAst-tudIskAs-', '-IfEniStIlrItenrWGkanAgensthIm-InhIzprEzAntkAndISAn-DepastInsAnAns-wYlhzwElwISRzmcrjEnRAsDEnprutAnt-AkAmpAnithIzmarCwiTtIrz-wID@tlAmeSAnz-AndwIDprErzfcrhIzsefti-', '-hIzdET-InDIskAnjoCR-wazApAblIkmIsfcrCIG-', '-DAnWlAsAsAvnalAjwIlakyApY@sAntIliIndAvDATRtenTlEkSR-AndIz-DAmostdIfAkAltpart-AvWRholEntRprYz-', '-wAthIzkcldpRsEpSAn-dIfRsrAmpsEnseSAnbYDAf@ktD@tDAsInseSAnAlAndgritAns-brIGAph@bICAwAlAsoSiAts-ImAjAzAndIkspEkteSAnzAvDEryuZAwAlkcrAlAts-clAvwIC-RsAbjEktAfliIndIstIGgwISApAl-frAmDAsEnseSAn-', '-wEDRnatDhIsprInspAlIzl@bAltuIksEpSAnz-EvRiwAnwUdAgriD@tIth@zAbrcdmESRAvtriT-DoDAwRdIgz@ktlimYshimAnovRstetmAnt-AndItmYsimcrkREktuse-D@tY@dIz-ApraksAmAklik-rEpRzAntImprESAnz-', '-AndwAscrtAvEvAdAnsIz-lajIklipasAbAl-', '-DErIznolajAkAlImpasAbIlAtiAndDAhYpaTAsAz-D@tDAwroldsprIGAntubiIndfYvmInAtsAgo-Igz@ktli@zItDEnwaz-wIDApapyAleSAnD@t-rImEmbRd-AholiAnrIl-p@st-', '-clD@tY@mdurIGIztuyuzItslACkAltInAbIlAti-@zAhElpInDAInalAsAsAvwAtAkRz-wEnwirImEmbR-', '-DAbIhevyIrAstuAtEmps-tumekslYkalAjiAEkRdAvbIhevyR-h@ztutrAsthIzmEmbRiAndmekIG@tDArEkRd-', '-h@bAt-IzAkansEptImbavIGDAkRAnsAvsImAlRAvEns@tdIfRAtYmz-IfDAbIhevyRAstsIlzkamfAtAt-D@tDErIzsACAfAnamAnan@zh@bAt-D@tk@nonlibibIkczhitrAshIzmEmbRi-wEnIt@zSUrzhIm-D@tDErh@vbInADRtYmz-', '-bAtYdunatTIGksAC@nIvRAnts-hIzwRntAd-', '-WRkampAnAnscrl@kAvkampAtAnsInDA@kyRAsiAvAmEmRiEmAC-mAst-InfAndAmAntAlkesAzbibest-ApanAkErktRIstIkAvDAImAjItsElf-sEns-wIk@nath@vfokDAp@stbadAli-AndkAmpErAtwIDAprEzAntInmIC-', '-wisAmtYmzh@vImAjAzD@tarbYnominz-pAkyulyRlivek-wICyEt-widunatrAst-fcrIgz@mpAl-AndRDAEmfluAtsAvfAtig-wimesiAfr@nzfes-vIvAtliAndklIrli-bAt-hcrAblidIstcrtAd-', '-sAmImACAz-lYksAmsInseSAnz-fIlvErifAmIlyR-wYlADRzfIlstrenj-', '-fcrmIlyErAti@zAfIlIG-kepAbAlAvtAgris-', '-In@nImAjAvAwElnonfesfcrIgzEmpAl-sAmpartsmefIlmcrfAmIlyRvD@nADRz-wEnDIsh@pAndzwih@v-mcrbIlifInDA@kyRAsiAvDAfAmIlyRpartsD@nInD@tAvDAAnfRmIlyRparts-', '-YkAmnWtuDADRkErktRAstIkwIC-mImRiImAjAzmAsth@v-InADRtuAkWntfcraRnalAjAvDAp@st-', '-DemAsth@vsAmkErIktRAstIk-wICmEksAsrIgardDEm@zprIfRIGtu-mcrAlEs-rImot-pcrSAnzAvDAp@st-', '-In@kSAwAlf@ktDErard-d@lAs-vEriAsf@ktRzD@kAnkRIndgIvIGAsDAfIlIG-AvgretRcrlEsrImotnAsAndsAm-rImEmbRdIfEnt-', '-DErmebiAsbAsIfIkfIlIGwIC-kUdbIkcldDAfIlIGAvp@stsnAs-IspESliwErImidiAtmEmRi@zkAnsRnd-', '-DErIzAvkcrs-AdIfRAnsbItwintnoIGDAtEmpRAlrIleSAnAvArImEmbRdIfEnttuDAprEzAnt-And-noIGAvDAtYmhcrdR-AvturImAmbRdIvEnts-', '-ItwUdsimdD@t-onlir@DRrisAntAvEntskAnbiplest@tcl@kyRAli-YmidzAvfIlIGzgIvIGDErtImpRAlrIleSAn-tuDAprEzAnt-bAt-ItIzklIrD@tsACfIlIGzmAstpleInAsInCAlpart-IndDAprasAsAvdetIGg-rImEmbRIfEts-', '-Ifwih@drItendDAsAbjEktcr-@kt-InalAj-DAholprapAmAvmImbRiwUdh@vbInkAmpErAtIflisImpAl-', '-rImEmbRIGh@stubiAvprEzAntDAkRAns-AndsAmwerIzEmpAlIGcrletAdtu-wAtIzrImEmpRd-', '-sAmpOnsmEritekAn@zfIkstAnd-sAC@zEniTIriAvmEmbRimAstRYv@t-', '-IndDIskes-@zInmostADRz-wAtmedbitekAnAsRtAnAndAv@nsIzr@DRve-', '-DAfRstAvWRvegAbAt-IndIbAtApAldetA-hIzD@tDErIznalAjAvDAp@st-', '-wimat-prRvIZAnAli-DApRh@psDatkwYtkREktli-dIfYn-mEmRi-@zsD@twihAvnoIGAbWtDApWstwICh@zno@nAlcgAndWRnalAjAvDAfyuCR-sAC@dEfAnISAnwUd@tlisRvdhImarkDAprablAmwIDwICwiarkAnsRnd-DozsAmEkspEkteSAnzmedIsRv@tur@GkwIDmEmbRi@zrRgardz-ItmidiAsi-', '-DIsdIsIGkSAn@zvYtAl-TuDAndRst@ndIGAvmEmRi-bAtItIznatsoizituk@riWtInpr@ktAs-@zItIztudrctIndTIri-', '-Agr@nAfWndbYDAhElpAsutAbAlrEkRdz-mYtrIletuDAsvDAEnsAnAnsAvItsp@st-AndpipAlarnatsodIfRAnt-frAmgralAfElAns@zDelYktubIliv-', '-Yk@nsEdtuwRdnWoturImEmbRTIGzYnEvRrImEmbRdbIfcr-sAC@zwAtYh@dtuifcRbrEfAsDAsmcrnIG-Andek@nhardlibiholih@vIt-D@tAnebAlzmituduDIs-', '-DAf@kt-D@tAm@nk@nrIsYtApoAm-dAznatSoD@hirImEmbRzEnipriviAsAkeZAn-anwIChih@zhRsYdIt-crrEdIt-', '-AsImAnztubUks-mEnSAndAn@nRlirRlEkSR-dunatAC-nalIjmAmrit-D@t-clklosli-', '-DegIvlclzAkcrtIGtuwICEmAjAzAvp@sAkRtsAzkAmIntaRtmYndz-bAtdunatdIskAs-WRbIlif@tDizEmACAzwRfRtup@stAkRAnsAz-wIChIzwAnkansAtuz-nalAjmEmRi-', '-ItIzDIs-D@tIzAvEnCrAstuTyUriAvnalAj-', '-ItIzbYnominzclwezrIlYAbAl-clmostEvRibadih@z@tsAmtYmIkspIriAstDAwElnonAluSAnD@tclD@thIzh@pAnIGnW-h@pAndbIfcr@tsAmtYm-', '-wEnEvRDAsInsAvfAmIlyRrtiAkRzwITWtAdEfAmAntabjEkt-ItlizAstusRC-DAInvYRmAnt-AndtIlwirs@tAsfYD@twi@vfWnd@tDApropriAtabjEkt-wIC-lidzAstuDAjAjmAnt-DIs-IzfcrmIlyR-', '-DAs-nonalAj-@ztuDAp@st-IztubitRYvdfrAmDAfIlIGAvfAmAliErAtiT-Alon-', '-AfRDRstejIz-rEkAgnISAn-', '-rEkAgnISAnIndDIsEns-dIznatnAssRrliAnvalvmcrdD@tAh@vAtAv@AsosieSAn-DAkYndAvabjEktwirsiIG@tDAmomAnt-Iz-AsoshiedAdwIDAwRd-k@t-crwID@natAtcriImAjAvpRIGg-crwAtEvRADRkErAktRAstIk-wimeh@pAnturEkAknYzInDAk@pt-AvDAmomAnt-', '-wiarAvkcrsIndf@kt-ebAltujAjwEnwirAkAgnYzAnAbjEkt-D@twih@vsinAtbIfcr-bAtDIsjAjmAntIzsAmTIG-ovRAndAbAfrEknISAn-AndDIs-fRstsEns-AndmevEriprabApli-DAImpasAbAltu@nAmAlzD@tnEvRDAlAsh@vDAIkspIriAnsAvrEkAgnISAn-AndDIs-fRstsInsAvDAwRd-', '-DIsnalAjIz-mEmRiAndwAnsEns-DoInAnADRItIznat-', '-DErarhWEvR-sEfAlpOntsInwICsACInAkWntAvrEkAGnISAn-IzIn@tAkwAnt-tuDAgEnwIDItmYsimAfRstsYtmcrkREkt-tudIfYnrEkAgnISAn@z-Yh@vsinDIsbIfcr-DEn@z-DIsh@zIgzIstAdbIfcr-', '-nDAdEfAnISAnAvmYIkspIriAns-IzdIfAkAlt-brcdlispikIG-ItIzEvRiTIGD@thIzkAnEktAdwIDwAtY@mIkspIrinsIGnW-bYsRtAnlIGks-AvwIC-DAvEriAsfcrmzAvmEmRi-arAmAGDAmostImpcrtAnt-', '-vDAs-IfYrEkAGnYzDATIG-DAkeSAnAvItspriviAsIgzIstAnsAndvRCyuAvwICYrEkAgYzIt-fcrmz-partAv-mYIkspIriAns-nbYdEfAnISAn-DArEkAgnESAnwIlbiwAnAvDAmarIksbYwICmYIkspIriAnsIz-sIGgAldWt-frAmDArEstAvDAwRld-', '-Avkcrs-DAwRdz-DIs-h@zIgzIstAdbIfcr-arAvEriIn@tAkwACrEnsleSAnAvwAt-@kSAwAlih@pAndzwEnwifcrmAjAjmAntAvrEkAgnISAn-bAtD@tIzanAvOdApAl-wRdzarfremdtuIksprEsAlAvAlTct-wICIzbYnominzprImAtIv-And-arkwYtAndkepAbAlAvIksprEsIGsAC@nElAmEntRiAkRAns-@zrEkAgAnISAn-', '-YrImenDErAlonfcrmEniWRz-bAtYmAsIgnalAzD@tbIfcrAlEfDACemRzYh@dgr@jRlibrcmYsElftulUk@tDAm@tRAndAnADRlYt-', '-h@dAivRkrAswElRnatbIngUlUkIG-h@dj@kAndstIlAkalAj-h@dsRk@nitInclvRrImendInenlAn-h@dmIstRbanIt-AndDAbarkipRnatsAksidAdAndstaplimYkErAjanDAhIl-SiYh@vsAksidAdInArejifcrDAfWndDAparCRAvmYlfrEnd-', '-anArYDiYthomAndmYonrEzAbAns-YfWnd@tWrSAlarmwAskuldwIDAbrIlyAnkAmpAni-', '-@zYspok-YmedhIm-AgreSAs-bW-AndYTIkYSodhImbYmYmodAvAdrEs-D@tYdIdnatDErEnigrAj@sktumYIndAvIjuwAlsElf-', '-Yh@vkAmtuIcrScrzmIstRprEzAdAnt-wIDApRpAsAvsiIGhWTIGzarprAprEsIG-AndDIsdIsAnkcrRAvDAwRld-', '-wih@vRlItAlSrAgolzhirIzElswEr-AndclTIGzk@natbidAnbYrozwcr-', '-wiarkwYts@tAsfYdnWk@ptAndWtAl@ks-sEdmYwYf-', '-kwYts@tAsfYvsEdivA-', '-DAlediz-AnkAmplYAnsfwID@tscfnAsAvhar-wICIzDErkErIktRIstIk-cranwAnsYt-AndDAmEn-bAthumDAwRld-h@stulim@nIjdcRanDADR-', '-nodW-IndprcsAsAvtYm-DAledizwIlfalo-', '-DErm@stRzsEdmIsIznEvRbEnd-', '-YdIdnatmin-sEdk@ptAnbWtlYvz-DAtACApanpalUksAbjEks@tsACAmomAnt@zDIs-', '-mIsIznEvRbEnyumAsAndidbiprWtAvycrscn-', '-jakh@vAnst@ndIGInDAfcrkwcrnRDArumtckIGtAivA-AndwaznWridustusYlAnsbYhIzprezAz-', '-sRk@nIGtInovAlIzAvErifYnplYrsEvmYwYf-', '-Y-AndmYwYfAndsAnAndDAtukrEswElRz-AndTrirfcrADRzAgritudYmbcrDASIpt-anDAnEkst-', '-DIsYfEl-wazpetumi@zbIGprEzAdAntAvDArIpAblIk-AdY@ndEvRdtubihemYsElfwIDsACmIGgAldhumIlAtiAndIgyAti-@zmYtbifItDAkeZAn-bAtYkUdnatAtfilDAsAmTIGwazwantIGtuDAsAmplIsAtiAvmYwcdRnErilYf-', '-mYwYf-anDAspRDAmomAnt-m@tIStugIvDAjEmAnAvErigAdInR-', '-DIsSisEdwaztruhaspAtYlIG-A@tY@natSUrDYdInatAgriwIDEr-', '-DEnDErwRTrirfcrlidIGmEnAvDAkyunAtiwIDErwYvz-hcrfcrDAmostkcrtDAfaDRzAndmADRzAvDAyAGlediz-', '-oyEsAtj@k-AndanowEr-', '-bAtYmintuh@vmYInIGzbIfcrlcG-', '-AvwAtmIs@znEvRbEnh@dganTruAnprAvYdIGbRdzpistsAndfISAz-natutckAvtartsAndjElizfcrDAdInRAvD@tde-nomAnbAtmYsElfk@nh@dEniYdiA-bAtAmAstbiAmIdAdD@tSiA@kamplAShRt@sk-wID-TaosAksEs-', '-wis@twIDAcfRSRsAmlItAltYm@ftRdInR-AndDEnwEnASUr-', '-hWmACAvivAl-AvrilAkamplAStivAl-h@DErnatAkRtAmidcrIGDAl@sfyudez-', '-wIlkUtAdunWwICSAstlemYsElfdWnIntY-', '-AnDAdETAvwICYjrEmkUdnatAl@s-', '-wEnDIsk@pD@nSUdh@vtekAnhImsElfAndhIzvEsAlb@ktuIGglAn-YwUnrItYRtuAsmclfarm-wICYpAzEst@tDAfRDRz-sYdAvDAYlAnd-AndDErsAkluZAn-wAdYEnmYdiz-', '-j@kwUdbikAmivIzh@pihAzbAnd-AnwUdrim@nmIst-DAhRidutizAvDAigRwRld-', '-TIGkAvclDIs-YwEntAsli-', '-mIstRnEvRbEnd-bIg@nDAk@tAn-AndY@bzRvD@tAptuD@tmomAnt-hiAdjEnRAliAdrAsmiAs-prEzAnAnt-Dek@natbidD@nYdD@twih@vkAmhir-an@nAnplEzAnmISAn-', '-yu@vrisivdAswIDclD@tkRtAsiInh@sDAtWti-fcrwICRrkErIktRInIGlAn-st@ndsohY-', '-It@zAndutisEdY-', '-bAtycrpWRAzsosApIrituEniD@tYk@nv@ns-@zsAmekAshirfilD@tDErIznodIskresInyuldIGtuIt-', '-natAdWt-DAh@dyRrfcrsbInonlidAbAl-crtrAbAlaron-YSUdh@vfWnd@tmYdutituSrAgAlwIDy-', '-D@tIzclkwYtrumIstRnEvRbEn-sEdsRfRdm@ndobrWn-', '-Yk@nAfcrtusmYldbIkczY@m@sAlipErAlAsbIfcryu-bAtYdunatDAlEsfil-D@tInAm@tRAvwICDApragrRsAvAwRldAkAnsRnY-cr@DRwi-h@vbInpUktWnbYbrufcrs-', '-yuh@vkAmtuAsTrEnIGAs-wID@fsAludIstrAkSAn-', '-DErfcr-YfilmYsElfkwYtebAl-@zkprEzAdAntAvDIsripalAt-turIsivyuwIDAkRdAsidutuDAsRvAnsAvAfrEnAli@lY-', '-Yk@nAScrtyu-hih@znathivInAlWdmitusiDAtrIgR-sAnsYh@vbInanbcr-', '-DEn-sEdsRfRm@ndo-DErznATIGfcrR-bAtD@twimAstekyuwIDhIm-', '-DErkemApanmAsAmAnSatwEnYhRdDizwRdz-wICIksidAdeTIGwICYh@dyEtfEl-', '-yuhirwAtsRfRdm@nobrWndAsEdrIplYdk@ptAb@tAl@ks-', '-bAtwAnAzDAdElIkAnmISAn-k@st-', '-YwaztubitekAnAweIntEridtuEnlAn-crElswEr-crjrWndApanDAvOjm@tRnatwIC-', '-DEn-DArIpAmlUkApbrInyulA-waztubidIklErd@snanIgzIstAnt-AndDArEdISflYgwaztubiIgIzcltAd-AndAprItISgAvRAndstclD@nDAIgzEktAtAvCembRz-', '-himemikwYScrtsDErsEdk@ptAmbWtAl@ks-AnD@tYkAn-soyuzIt-@ztuh@fAblItRiycrtWmwIDIntumInAsAvmYrICRnanbcrg-', '-yuprApoztAkIdnatmihYsEd-', '-wElwIbikAmADyRgAn-crYtuk@natyu-', '-lutEnAntkrastriz-IzAvErigWAn-clfAsR-', '-mAnAvAsclwezrImezambcrdwYlDADRzanSUr-', '-wAtwRoldwYdInIkwAtisACAspiC@zD@tDAIskluzAsEtY-stIltRnImYsElftuDAk@ptAn-fcrDoYwUdh@vkrAstDEmboltbYmYwRdzh@d@pInpasAbAl-mYdIstlYksEnRdhItsElfansRfRm@ndo-', '-yuclWmiGtusAgjEsAvhi-bAtD@t@zAm@tRvApInyAn-', '-wRYtukAmplYwIDyucrdRzwIT@tIksprRsimYanApAnAn-YSUdsimtuh@vdAnsowIlIGlihir@ftR-', '-DAlEtRr@n@zfaloz-', '-sR-Yh@vAInkAm@ntuInfcrmycrEksAlAnsi-D@tyuh@db@tApOntAdgAvRnRAvDAkrWndkani-wICIzkcldbrItAnyulA-', '-DAprAkyUrlR-sRkAms@nsAzAvDAkaniarwIDInycrEksAlAnshiznaAj-', '-bAtInDErslEkSAnAvAkansAtuSAn-DAbrItAnyulAs-h@vanfcrCAnAliAlWdDEmsElfbAtwAndIlIbRtDAsEmbli-Andh@nds-h@zsfr@GDEprEzAntIfAkAltiz-', '-ItIzfWndAnanliAgnalAjwiknAs-AvDozhuSUvYdD@tpyIrdAvlYf-@twICmEnsistuwRk-', '-bAtAtIzsRmYz@tyuwIlfYndtIfAkAltlizInDAweAvycrEnCRIGWtwAnsApanycrgAvR-', '-DAjambrYthIzarmIDAwEpAnAvgritpWR-AgEst-wICItIzImpasApAlD@tDApipAlAvbrItAnyuloSUdprAvEl-', '-yuwIlk@riWtwIDyuwanRdRmEnAvDAncrncrTwEsbRnIGh@mrEjAmAnt-wICrIprWmAlisAfYs-fcrycranskyUrti-@zItIzTctD@tAvmIsRnEvRbEn-biwIDdrcG-DApipAlwIrivRizAlituDEroldh@vAtspAbobidiAns-', '-wEnyuIntEndD@nDAjanbrYtS@lstart-', '-tude-YSWdAn-', '-DAndYh@vnoAnrEdituhumYk@ngIvAvDAarkYzAvDAgAvRmnt-', '-YS@lbih@pinuteCartuDEmsEdsRfRnm@ndo-', '-Deh@vhcrs-mAstclbicTR-', '-crAvDAh@vAtsAvhWRpipAl-ItIzkwYtAmpasAbAl-', '-ycpWrRAzsAfISAnYsEd-', '-IfyuwIlgIvAsSycrpramAstumik@tDEm@tAl@kshir@tDIstYmtumaro-liwIzstrACApOntAndIleDAdIparCRAvDAjambretfcrtwntfcrWRz-', '-AndDIsplewazAdatRtu-AndcrRtukstr@kfcrmiApramAsD@tYwUdIpartAnpis-', '-DIswazwYtdIdDAmISCAvsofar@zDArAnIGAwewazkAnsRnd-', '-ItIzharlinEsAsEritusemcrAvDEmhir-', '-frAmDAm@nRInwICSiIksprEsthImsElfwIDhugcrIGturabRdhalAn-nom@nInDAholr@njAvhIzrEkAlEkSAnzwIlbilcGArImEmbRdAnhi-hIzInTromAntwYlAndRhalAndwIlhardliEvRbifcrgAAn-', '-AvDIzpcrti-@dwRdAbOAvsEvAntin-kadfcrTmACstEmpATi-hituwazklemdbYhalAn-', '-janwEslikamb@S-jEnikAbtelR-AndutamAs@twRdIskInR-', '-IfyuyurzDb@twAnAvDErIzlevz-DAkoSmAnt-wazkEptanDAkoCspakswAnkcldnYtwEnDewRWt@tAbo-AndtIlibIkemclmostfrozAntudET-InfEthigIdYInDAInfRmRifrAmDAfEnsAvDAfrcst-AbWtwAnwik@ftRwRdz-', '-DAdakAGuAtEndAdDAEnSRgriCRInDIskeswazsImplitEld@tSislIpt-AndfEldWnDAstErz@zSiwazkAmIGgWn-', '-AndWDAkesIzsEdjanwEsli-wazAlItAlgRlh@vgronhuwazwarSIGwIndozApstRrzwAnde-AndAnlAkAlifElAslibInDAwYndo-AndInDIspAzISAnwazfWndbWhRmIstRs-InArejdDAnmIstRzh@dhRAhEvisl@p-natfhRWtAvDAwIndo-AndSifEltuDApevmAnt-AndYdInAfyulWRzfrAmDAfEtsDErAv-', '-@zhiIzrotnATIGwazdanInDAleAvpAnSfAnt-', '-AndEvRnuAvfbAtwAnm@nhukUdWvRplizhIm-', '-yuwRkmivErihard-hiwantubibidIGmiclDAtYm-', '-SiwazAlarjhomliwUmAn-DewRkamAnwYpipAl-waznorEpAteSAnInDAkAmyInAti-', '-sEds@SAliIzwazjekAvzanvarnISt-dIskrIpSAnAvhIzm@stRAndmIstrAs-', '-@zhihIzejAndclsoDAneGAvhIzm@stR-jegAvstetmAntvErisAmwAtfrAmDA@vRtYzmAnt-', '-AvstartIG-YdItAnoDAwetukAm-', '-ItsamostbIandkAnjEkCR-', '-DIsri@lAtibIg@nztuIksplYnddarkpWRAndADRwRldlif@sAneSAnAvtwEniTWzAndligzAndRDAsifs-', '-fRst@zApErAsTctrokR-letR@zAsElAbrYAdcTRAndyctsmAn-hiwEntanfrikwAntfcrAjAz-tubrItAn-AmErAkA-DAmEdAtR@niAn-', '-nemobIltzAf@vilAsfyuCRAstIksEbRinDAnatAlAs-D@nkAndAksAnAndRwctRk@mpenAvf@njAnzAgEnsthIzImpIriAlAstAprEsR-', '-InalDAnavAlhEdAdIfAkAltsjAsteSAn-', '-ADRsAdAltizAkRInsYdijAbAsod-DAtEksCRzAspargAlIGwIDwItInfrAmeSAnAndInsYt-', '-hIzfAzAfAkeZAnzfcr@nopAndsisAbRin@dAsElfkAntenIGdYvisud-wRdEketzbIfcrDErtYm-yEt-madRntYknalAjibErzDAmWtrYAnfAntli-', '-ivInDAsApcrtIGk@stISrudlidrcn-pRf@nsRWAn@ksDAkAIrsYntIztgatIn@n@TAgAlkanflEnt-kclseDAkAmpolsAvklwEsAfYR-husAplYzhumcrIzt@glanzfcrvarnzf@stf@kts-DAharpunRtnEdl@ndAkriCRAvkanstAt@pAtYtz-m@n@zhuroIk@nAmAl-', '-bAtmACIdzDAdavAlzbrudIGpWRkAmsfrAmk@ptAnilo-', '-DIskAmpoSAnlidznemWIntuAglikantrAdIkSAnz-hiIzAfYtRfcrfridAm-yEtclhAbcrdhIzSIp-crImprIzAntDErfcrgUd-hiwRkstusYvlYvzbADhyumAnAnd@nAmAl-yEthihImsElfkrietsAholAklcst-hidItEstsImpIriAlIzAm-yEthilezpRsAnAlkwYAmtuDAsWTwol-', '-AndInDIsl@stEkSAnhifclzIntuDAklWsIksInAvprYd-', '-hiIzIswIfliplAnISt-', '-DAnatAlAznIrlipErISAzInDA@ntarktIkAndnimostIGksIntuYgroIGdIprESAn-', '-fcrmEniDEnDIsblUkhIzbInAscrsAvf@sAneSAn-SUrliwAnAvDAmostImpluEnSAlnabAlzEvRrItAn-AndInspReSAnfcrsACIksYAntIstAndIskAvRRz@zEnjAnIrsYmAnlYk-oSAnWtRfcRwIlyAmdIbi-palRC@vlRsRanAstS@kAltAn-', '-f@DAm-sIksfit-', '-grem-rAfliwAntwEnietAvAnWnts-', '-mIlAgr@m-rEfliwAntuwEnietTWzAnd-Av@nWnts-', '-lidR-rEftliwAnkwcrt-', '-metR-rAfliwAnycrdTriEnSAs-', '-mIlAmetRrAfliwAntuwEntifIfs-AvAn@nC-', '-C@ptRTri-@zm@stRwISAs-', '-TrisEkAnzbIfcrDARYvAlAvjebihabsAndzlEtR-YnomardremdAvCesIGDAyunAkcrnD@nAvplYnfcrDAncrTwIstp@sAj-', '-ivInsoYh@djusthItRndfrAm@narjiuwAsjUrAni-IgzcstAtAndb@dlinidIGArEst-', '-YwantIdnATIGmcrD@ntusiDYkAntriAgEn-mYfrEndz-mYmadAstkcrtRzbYDAbAt@lAkAlgcrdAnz-mYdIrlibIlAvAdkAlEkSAnz-', '-bAtnWnATIGkUdholdmib@k-', '-gcsewazmYm@ndsRvAnt-', '-fcrAmbrAbiSEldRzwIDsYndhIztsInWRlItliInAvRsbYDARbAt@nAkAlgardAnz-DAbO@tkAmtunoATIGrtu-', '-k@zAfYnwazEvRiTIGtuhIm-sohidunATIGWls-wElvRstIDATIriAvgwEsAfAkeSAn-hiwazpUrlivRstInDIspraCkAl@plAkeSAnAndYdWtD@thikUtElAspRmwelfrAmAbIlenwel-', '-AndyEtwAtAvfYngElAndlEd-', '-natwAnsDAhikamEntanDAl@GkTcrDAhardSIpsAvDAjEri-', '-nEvRdIdiAvjEktubAkAlIGAphIzsukesfcrEnikAntriwAtEvR-CYnancrDAkango-nanD@tRhWfcrcfItwaz-', '-hiwEnthir-DErAndEvRiwErAnpRfAktkAntEntmAnt-', '-plIsfcrgEtlifcrDIsAndRh@ndAdbleAvAdnIdIG@tYh@dtRndfcrAti-', '-hiwazAfAn@tIkanfcrm@lAtiAndhionliAdrEstmiInDATRdpRsAn-tuDApOntwRrdgathYRsAm-', '-DErwazgUdrizAntustapAndTIGk-ivInfcrDAwRldzmostInmoSAnlAsm@n-', '-kansiYkcldATcrdtYm-kanseApIrt-', '-dEdm@stRsAmAnmi-hisEdEntRIG-', '-p@k@zmACIntumYtraGk@zyuk@n-mYC@rbAlIGkIt-mYsidsASRrtsAndsaks-dontbaDAkWntInjAstsklizAtclIn-AndhRi-', '-wIldiolAgEnlYtR-wAts-', '-InIhWtwIlivInstrAkSAnztuSIpDAholmAn@jRitufr@ns-', '-yEswiar-sAtAnliYrIplYdAfesAvli-bAt@ftRlilekAditcR-', '-RrWntslYtlilEstRr@kD@tscl-', '-wIlivIGanDAepRh@mblIGkAn-', '-yusivYfrEndIts@nISAAvDAmanstR-DAnAtcriAsnarwYl-', '-widanowErwIltekAs-', '-bAtwRgoIGjAstDAsem-', '-wih@vAkAm@ndRhIzgemfcrEniTIG-', '-YlEvtInstroSAnzfcrSIpIGYkAntenRzAvstAft@nAmAlzAnddrYdpl@nstupUrAsfr@ns-', '-YopAndulcnAkrEdItsAfISAntukAvRdDAbAbRusA-Andkose@tmYhilz-AjAmptIntuAkErAj-', '-aRb@gAjwazInidiAtlik@lidtuDAdEkAvDAfrRgAt-YrAStAbcrd-', '-Y@sktfcrkAm@ndUrfElrAgAt-', '-wAnAvDAselRzlEdlituDA@ftRdEkwErYstUdInDAprEzAnsAvAsmartlUkIGafAsR-huIkstEndAdhIzh@ndtumi-', '-IntarsAn-wcklAbcrprAfEsRycrk@pAnhIzwetIGfcryu-', '-YwazwEls@tAsfadwIDmYk@bAnwICwazloketAdInDAstRnAndopAndIntuDAcfRsRzm@s-', '-wIlDikwYtkAftAbAlhirYtoldkansi-', '-AndsoIfYh@dbIndIlYdbYAkcrtRAv@nWRriivInlEs-DAfRItwUdh@vgcGwITWtmiAndYwUd@vmEstWtandAzanRTli-IkstrcdAnEriAndInkAnsivAbAlEkspAdISAn-huzCustcrimYtwElmitwIDsAmsk@ptAsIzAm-', '-DAwarvzAvbrUklAnAndEvRipartAvDnAycrdbcrdRIGDAistrIvRwRkrWdAdwIDkyUri@sAtisikRs-', '-dIpartIGfrAmvYvAndRdTWzAndTRodz-TritIrzbRstfcrTInsAksESAn-', '-TWzAnzAvh@kACIfswRwevIGAbAvDiztYtlip@ktm@sAz-helIGDAebri@mlIGkAnAndtIlItriCtDAwcrtRzAvDAhAdsAndrIvR@tDAtIpAvDAlcGprAnEnsAlAvD@tfcrmzAnAycrksIti-', '-DEnhirostWnstErzIntuDAkcryaR-SWtIGlWdlifcrhIzsoljRzAndTrEnIGtup@C-EvRibEnIn@zdImInyAnz@tDAselRmAnwaznatrik@pCRd-', '-kodhImb@stAmAmAn-And@zsunIzYvzh@dmYkafiAnotmIl-WwIltIkImtuDArumAvDAgretnYvAndp@CIn-', '-YwUdyunmYndAkAbAgavimYsElf-sEdkAmDo-Yh@h@dgAnsIdAbaksEtRzYzdIsmarnAn-IndAmcrRdifcrbrEkfAs-', '-bAtkatAndomednosAtut@mpt-noIGItwUdbiyuzlAs-', '-@zInIzDeEntRdDArumAvDAbretnYv-DAbulRugeviyEloAdIsAfOmAnt-', '-DArumAvDAgretnYfwazhYAndbIg-AndRWndItr@ndrozAtbEnCAzfcrDAspEktetRzDusItApYn-', '-AndwAnbles@tDAhEdAvDArum-wazArezdpl@tfcrmfcrDArOAlf@mAli-wIDElAgEntTrWnCErzfwIDAkIGAndkwin-AndsIksmalRbAtrICliApozthRCErzwIDIsnonezprEnsEzAz-', '-DEarfcrhRmYjAstimtednoAtEnSAntuEniwAn-hWnloAnpedEniAtEnSAntuhR-', '-rICtuolzAvblusdWnsglItRdApanDErkRzAnz-AndArOletizwErAfoli@zkcrjAs@zDAwErhatiAndovRbErIG-', '-marnIGdarolzhWbivIl@zwElizyulUk-', '-kAntroycRsElvzInmYdIrz-rIplYdDAbulRu-DAwRrzpUnISmAntYnohWduAmslUktan-EniwcndIsprEzAnRzAv-TaktusAvR-yuAsiAvvEriprItip@CIGmYrOAldctRz-', '-sRplozAtsAvbrend-', '-DAk@ntAnSUkhIzh@d-', '-bYyuzsIktAvD@tstAfRslItIGkrItuimEt-h@nakwazDIsbenot-rIplYdDAk@ptAn-p@ntIGhard@zhihEldf@stuwEnDAgotshcrnz-', '-DAYdiAvp@CIGk@mbIltuhAgotwazAv@sAliAmyuzIGtuhIm-AndAmcrhiTctAvIt-DAmcrhircrdwIDl@ftR-', '-DErucksAmTIGAlYkyuno-sIgjEstAdAk@ptAnAvDAgardzlUkIGfcrwAntuDADRdWtfAli-AndDEnEliDAsemsYzIthIzdEnAbAvdanhIzhanlEgz-DeboTgatDAsemstYAvwIskAz-AndDErboTADEm-abstAntAtIndYnjRz-soDecltumYkUdgUp@C-skl@ndAd', '-fYn-klUUriAz-', '-lYnEsth@dbInAkamplIStDAbuDRulindovRtuCYdtudIskAvRwYDAfrYroldAwe-simIGliAvItsanAkcrn-AndhiwazDAmcrkczclbIkczth@dnEvRdAnsACATIGbIfcr-', '-@tmanstAgotgevAlip-IzskevInAsctRzAndwIDbWdhEdrEStApanDAbulRu-', '-bIfcrEnigUdstaphIm-hibAtIthIzm@jAstisofyUriAsliD@tDAkIGscrdzfarIntubiEr-AndtAmbAvInAhipAlmAGDAbEnCAz-wErhilemanIGIngronIG-', '-dugotwcrlYkspIrAtwazrWzdbWDAsIksEskAlAt@p-', '-DEnDespEdIngrethestfcrDAdcr-AndDAgogevAfYnAlbAtDIsInDAroAvcrnAletizcldYdIGIntuDAkcrAtRInAnADRt@GgAl-wErAvanDeSritInAm@nRD@tErAfYdEvRiwEmADInsWndAvDArvOsAz-', '-Y@dAnoSAnItwazyumed@zsemifrAmDAnYf-', '-YdbUdAntSIvAmACbiIGvWnsAldYt-bAtwEnYluvsWmIGtuh@v-jAslcGgRdSIvRturIlimafilAnz-', '-kAmnd@tDAbIlrol-SisEd-foIGtAwcrdDAvEnCAz-', '-soDerwRkwYtwIlIGtuovedAcrdRzAvDErgRlkwinAndInAScrtYmDAbl@sAvCRmpAtsAndrolAvdrWmzAndkl@SIGAvsEmbAlztoldtrcAnk@tAnbIlD@tDAblub@nzAndIsAbAldbIfcrDAp@lAs-', '-DInDeclmartsWtAlItAlweIntuDAfIldzAndfWndD@tDAarmiAvpIGkizh@dclrEdifcrm-AndwazAtv@nsIGstEdAlitwcrdDEn-', '-@tDAhEdAvDApIGkizwRgEtgIsIzAl-AndbAtImbrYt-huh@dDApErAanhIzSoldR-AndDErwRsApcrtAdbYk@ptAnkcrli-Andk@tIntInt@nt-AndrozAliDAwIj-', '-wEnDAbluzg@nscdgEtkAsIzclDerezdAnADRgretSWt-fcrhiwazDAfevRAtAvDAsoljRzAndvEripapyAlRwIDclDApipAl-', '-sInsl@stTRzDeY-gIp-dIzIzAl-h@dbInAlcvAlbIlulAvDAblukAntri-bAtnWD@tyuarkaGkRdbYkwinCat-YsApozY@mkaGkRtuAndyuh@vnobIlul@tcl-', '-wEnhifEns-SisEdtRTli-', '-dotlErizhIzIldIr-ItlclkAmrYvrizsun-', '-nWDEn-lEtzIntRDIsItiAnEnjOdAgretfistItspiIGkUt-anyIrlistarmYsAlf-fcrDIskAmgrIGkIGdAmzIzhardwRk-', '-DEnSigevrozAlib@khRmYdtugren-T@GkIGDAkYndwICfcrclSih@dAnfcrDEm-', '-yuarmet-rIplYdDuselR-', '-DAwIlbizsaCAs@tAsp@kSAn-', '-DAdardzh@dAtErAlbolstrAgAlwIDAgotwICwazluzInDArum-AndstIlwAnAtufYt-bAtfYnAliDesEdIdDA@nAmAl-AndDEnDetUkDAbUlRuWtAvDAfrendhIztYdAn-AndbrctboTh@mAndDAgotbIfcrkwintrck-huwetAdDEmInDATronrumAvDAp@lAz-', '-Yolgl@dliduD@t-promAstAnumbuDAru-AndWlTidDAanRAbAlgodclDASevIGzAndlEDRIntInk@nzikAnit-bIsYzDAgr@s-', '-skyuzni-sEdSat-YnuglEt-tutElyuD@tycrnatDAbIlAruEnimcr-', '-DAfcrmRDoDRrIgrWnd-', '-hundatbiwIkAtEnimar-sYdDAoldbulru-WrAfAlcrm', '-@@zApravAtsItAsAnYS@lbiAmatAlAvdIpcrtmAnt-bUkozItwUdbidejRAztubiADRwYz-', '-wEnfRstDeEntRdD@tTAronrunDetrYdtubihIzhadiAndskcrfAl@zEvR-bAtDAgluzuwRAsEmbAlDErcl@ft@tDEmIndIrdDEm-fcrDErwaznatAsIGgAlpRzAnAnclDAblukAntrihilAvDApEnsEsAzDAlistlItAlbEt-', '-so-gEtgIsIzAlcrdRdDAk@tAntutekAlfYlAvsoljRz-And@zwcrtDArevIGbyutiztuDErnuhom-', '-D@tivnIG-trYgIvAgr@ndbclInDAp@lAs-tuwICDAmostImpcrtAnAvDApIGkizInDAbluzgEnzwRImbYdAd-', '-DAkAmbYnb@ndzAvbotDAkAntrizpledDAmyuzIkAndAfYnzsAbRwazsRvd-', '-brYdRD@nRlidanzmostbrIlyAndYarblonklIrb@nzAvkAlRTruDAskY-@tswcrAl-Andswip-Andmit-tubrekAnfondlYkremboDIlzApanAbAmAlzdAn-', '-gYdAdbYyu-hWwimYtstroldtAwcrdztdET-WRonlimyuzIk-wAnAnADRzbrET-TrugardAnzIntAmAntwIDhalihaks-rIsYlAntpapizbRnbItwinDAraks-bYpulzwErbRCIzbIntukamfAdansAbAvgrinwctRz-skAmdwIDAlIliplEns-', '-vEnAs-', '-InAzsAnsEdgloIGAvkrImsAnAndgond-SilYz-DAglcriAvDAwRld-DAbiCt-kIGz-g@lihuzsElzarfRldhuhIzhAnwIDt@pAstrizrIC-Andond-', '-DEpItiDWtwimAstkAm-Ingo-', '-wYlDAoldgoldAndDAmarbAlztez-fcrEvRglemiIzscft-sCrcGblez-kanInDARliivnIGglo-', '-DeplEzAntgregardAvmYsolwIDsEntAmAnAlsYbrIztrizAndflWRzIzfIld-D@tYmestrolAnmItAteSAn@tmiz-', '-ItIzmYharthAnInDAskY-AndnoklWdzEvRfletbItwinDAgretflWRzAndmYhartonhY-', '-ovRDAtr@klYndsItistritDAyAGm@n-DAgr@nIGm@n-p@s-', '-hom-hiselzD@tsimdtuwAndRIndrimTIlIkmEnoz-se-hIzDAzScrwErYst@ndDAonlifIldAvtrAGgAl-crarhihIdAndb@tRdWtDErbYwebsEndwEngAs@zhitEkovRAklESIGsiAvwAtRiEkAz-', '-oldd@nsIzarsImpAlfYd@tDErAyErnIG-bliCtubYtYm-', '-hih@dgatIntuhRkcrdyRrd-', '-TruDAbl@g-nYtren-hiseIGtuhRwIndobarz-', '-D@twazbAtroslIGAvtrIpIGpl@nsInDAdarkt-', '-SiwazAlonD@tnYt-', '-hih@dbrogAnIntuhRkwIrtiarnd-', '-tufedAwelYkmcrnIGbyutifrAmhRmcrtAlde-dWnbYDArIvR-AvAdan-hRscftvOsIzhRd-AndD@shRjEntAl@mAnteSAnfcllzlYkmcrnIGdu-', '-olwYf-AvDIsarsprIG-', '-wYfedzDAlotAsAvDAwctR-', '-wYfedDizCIldrAnAvDAspriG-', '-fTElIz-wYDAwctribo-AndlYkApartIGklwWd-wYkArAflEkSAnInAgAl@ts-wYkS@dozInDAwaCR-lYtdrimzAvInfAns-wYkAzsmYlApanItInfInsfes-', '-lYkDAdosfOs-wlYktr@nziAntde-lYkAmyuzIkInDAEr-a-', '-AndjEntAlslip-DAslipAvdET-AndjEntlihirDAvOsAvhIm-b@twckAtInDAgardAnInDAivmIGtYm-', '-DAlIliAvDAv@libriDIGInDAhAmpAlgr@s-@nsRdDAlAflimedAnsEd-Y@mAlwaCriwid-AndY@mvErismcl-InlAftAdtwElInlolivel-zsowik-DAgIldAdbAtRflYskIrs-pRCAzanmYhEd-yEtYImvIzAtAdfrAmhEvIn-AndhiD@tsmYlzancl-laksInDAfWnli-AndiCmcrnovRmi-sprEdzhIzhInd-seIG-rIjOsTWhAmbAlgr@s-DW-nubcrnglIliflWR-', '-DWjEntAlmedAvsYlAntv@lizAndAvmanAstbroks-fcrTW-S@lbiklodInDAlYt-AndfEd-wIDmcrnIGm@n-tIlsAmRz-hit-mEltsDibIslYtDAfWntAnzAndDAsprIG-tuflcrSInAtRnAlveAlz-De-wYSUdDElkAmplen-', '-wYSUdDAmIstRsAvDAvelzAvhar-AtRAsElY-', '-Sisist-AndsmYldIntIrz-D@ns@tdWnInhRsIlvRSrYIG-', '-wICDWdAst-sk@CR-anEvRiwIDAlbledAvgr@sD@tsprIGz-rIvYvzDAmuktkWl-Intemz-DAfYRbriDIGstid-', '-bAtDEl-IzlYkAvfIGtkwWt-kIndAlD@tDArYzIGsAn-Yv@nISfrAmYpRliTron-AndhuS@lfYndmYplis-', '-AndwYItsk@tRzItsbrYtyuti-tuDAhyumAtEr-', '-tusIndolItAlklWd-AnhAvRbIfcrDAYzAvfEl-', '-olItAlklWd-DAvRCAnsId-YCarCDitutElumi-wYDWkAmplinAsnW-wEnInwAnWRDWfetAlwe-DEnwiS@lsikbi-bAtnatfY-cfElIzlYktuDi-', '-Yp@sAwe-yEtYkAmflen-AndnowAnhirzmYvOs-', '-DAklWdD@nSod-hIzgoldInhEd-AndhIzbrYtfcrmAmRjd-', '-AndfIrsTWbIkczYfenIS-AndAnsinomcr-', '-ItIztu-tEnfclwYf-tIlAf-tupis-Andr@pSRz-holdli-AnsimdAsEndIG-wemYlYtwIGzApanbamiflWRz-AndkcrtDAfErYdu-tutekmituhRSYrnIGtEnt-DAwipIGvRjAn-trEmbAlIGnilzbIfcrDArIzAnsAn-', '-tIlwiRYzAlIGkt-AnAgoldInbeAnd-InEvRpart-bAtwck-yunYtIdbErIG-fudtuclWRtEndRflWR-z-', '-wIDnatAlon-ncrAvItsElf-firnatInYwIlkcl-DAwikwRmdfrAmItslolibEg-AndDWS@lthirItsvOs-', '-kAmfcrTwRm-AndDAsYlAntv@li-tuDYpInsAvkwin-', '-D@hElplAswRmRroz-Ins@tApanDAlIlizlif-AndDAbrYtklWdselold-tufYndhIzpartnRInDAvel-', '-imICAvwiknAs-arTWbAtAwRm-', '-YsiDewe-hElpwazDAnekAt-wibiIGAnAnTA@nsR-nAnduCErISti-wIDmADRzsmYlz-', '-AndsEz-DWmADRAvmYCIldrAn-Yh@vlAvdDi-AndYh@vgIvInDAkrWn-D@tnAGkAntekAlwe-', '-AndlemidWnInDYkoldbEtk-IndlivmYSYnIGglakt-', '-cr@nYAvgIs-AndgresAz-SWRIGfrutsInkOnAdgold-', '-wYAtAGImprEstwIDhAnikfrAmEvriwInd-', '-wY@nir-AwRlpul-fIrstudrakrieSAnzIn-', '-clwezsEdwITWtAwRd-', '-YsIdbEniTYlUks-@zCIldrAnduInDAnunsAn-wIDsolzDAtrEmbAlTruDErh@piYAblAdz-frAm@n-AnAvRd-yEtpranAkAlInwRdjO-', '-YdIdnatrcGmYsElfso-bAtYplestArcGanvi-', '-wEnkcldbIfcr-YdtoldhWhestAliYdraptmYflWRz-crbrekcffrAmAgevd-', '-S@lYGnEvRmIshomtck-AndblEsIG-AndDAkamAnkIs-DAtkAmztuiCIntRn-ncrkWntIdstrenj-wEnYlUkAp-tudrctanAnurenjAvwclzAndflcrz-AnADRhombInDIs-', '-AlEs-Yh@vgridsoY@mhartulAv-', '-opAnDYhardwYt-AndfoldwIDIn-DAwEtwIGzAvDYdAf-', '-gUdIdmin-tul@st-AlAvsEt-pEnjAlAsbItwinsaroInsaro-', '-ne-Yr@DRTruld-dIstrAstIGEvRilYt-D@tsimtugIlDAanwRd@f-IndfyIrtuovRlin-AfIGgRiv-', '-AndDoYh@vgronsRin-AndstrcGsInsDEd-YTIGkDetgadhIzwIld-AstIlrInuAbAlfIr-', '-olAv-otrcf-', '-AndlAv-bifalts-', '-Ifhi-tukipwAnoT-mAstluzwAnjO-bYhIzlYfs-starfcrtuld-', '-slotuwRldridIGz-kwIkwIDItz-olIst-wEnDAenjAlspik-', '-ArIGAv@mATAst-YkUdnatwErhir-plenRtumYsYt-DEnD@t-fRstkIs-', '-D@twazDAkrIsAmAvlAv-wIClAvzonkrWnd-wIDs@GktufYnswitnAs-dIdpRsid-DATRdApanmYlIts-wazfoldDAdWnInpRfIkt-pRpAl-ste-sInswEn-Indid-Yh@vbInkrWdIndsEd-mYlAv-mYon-', '-dIrAst-tiCmisotupcrWtkr@dAtud-@zDWdAst-glUd-', '-mAsAlmAnz-And-gYlRz-TrokRCAs-@tAsmYl-Andh@vnoruT-fcrEniwipIG-', '-bAtITWarknatsACAlAvR-mYdIlAvAd-', '-DWk@nstwet-prusaroAnsIknAs-tubrIGsclztutAC-AndTIGAdsunwEnADRzkrY-tulit-', '-YTIGkclhuh@vlAvdmiInDErharts-wIDT@GksAndlAv-frAmYnd-', '-o-tuSudmYsolvzfolminIGIntufyuCRhiIrz-D@tDeSUdwEndItAtRAts-AndsAlut-lAvD@tIndcrz-frAmlYfDAtdIsApIrz-', '-D@nY-lcGtrYdbYn@CRAliAldz-rRsivDAkAmfRtfEst-wYlbAtIG-@tDYsYtmYpIlgrAmst@f-gevWtgrinbliz-wIDmcrnIGduz-ImpRAl-', '-YlAvDAfrili-IzmEnstrYvfcrYt-YlAvDipycrdli-@zDetRndfrAmprez-', '-YlAvDiwID-DAp@SAnpUtuyus-InmYoldgriks-InwIDmYCYldhUdzfeT-', '-YlAvDi-wIDAlAvYsimdtulud-wIDmYlcstsens-YlAvDi-wIDAbrET-smYl-z-tIrz-AvholmYnAlYf-And-IfgardCuz-YS@lbAtlAvDibEtR-@ftRdET-']\n"
          ]
        }
      ]
    },
    {
      "cell_type": "code",
      "source": [
        "data_dir = f\"{root}/test-clean/random_submission.csv\"\n",
        "df = pd.read_csv(data_dir)\n",
        "df.label = results\n",
        "df.to_csv('submission4.csv', index=False)"
      ],
      "metadata": {
        "id": "dzOkNWwJJ_Xz"
      },
      "execution_count": 147,
      "outputs": []
    }
  ]
}